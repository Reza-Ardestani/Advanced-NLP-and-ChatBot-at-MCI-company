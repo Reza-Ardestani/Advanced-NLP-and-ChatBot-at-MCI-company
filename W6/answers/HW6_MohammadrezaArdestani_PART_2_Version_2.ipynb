{
  "cells": [
    {
      "cell_type": "code",
      "source": [
        "#  In production mode we just load the best model and don't train it\n",
        "# DEBUG_MODE = not(PRODUCTION_MODE)\n",
        "PRODUCTION_MODE = True"
      ],
      "metadata": {
        "id": "PPe-bGqzL_Zx"
      },
      "execution_count": 57,
      "outputs": []
    },
    {
      "cell_type": "code",
      "source": [
        "!gdown --id '11awJD3GUiGgUJLHXS-4OIO3buNwKaxja'"
      ],
      "metadata": {
        "colab": {
          "base_uri": "https://localhost:8080/"
        },
        "id": "Bt2EUHLqMG0N",
        "outputId": "ec9d1dbe-49a5-4f77-ee09-1e0bd0d9ed23"
      },
      "execution_count": 58,
      "outputs": [
        {
          "output_type": "stream",
          "name": "stdout",
          "text": [
            "Downloading...\n",
            "From: https://drive.google.com/uc?id=11awJD3GUiGgUJLHXS-4OIO3buNwKaxja\n",
            "To: /content/LSTM_trainable-010--0.262454.h5\n",
            "100% 14.7M/14.7M [00:00<00:00, 44.8MB/s]\n"
          ]
        }
      ]
    },
    {
      "cell_type": "markdown",
      "source": [
        "# Init"
      ],
      "metadata": {
        "id": "c5JIJd77lNc5"
      }
    },
    {
      "cell_type": "code",
      "source": [
        "# https://medium.com/swlh/how-to-design-seq2seq-chatbot-using-keras-framework-ae86d950e91d"
      ],
      "metadata": {
        "id": "0GOMOjhZZJIJ"
      },
      "execution_count": 2,
      "outputs": []
    },
    {
      "cell_type": "code",
      "source": [
        "import io\n",
        "import os\n",
        "import re\n",
        "import zipfile\n",
        "\n",
        "import numpy as np\n",
        "import requests\n",
        "import yaml\n",
        "from gensim.models import Word2Vec\n",
        "from keras import Input, Model\n",
        "from keras.activations import softmax\n",
        "from keras.layers import Embedding, LSTM, Dense\n",
        "from tensorflow.keras.optimizers import RMSprop\n",
        "from keras.preprocessing.sequence import pad_sequences\n",
        "from tensorflow.keras.utils import to_categorical\n",
        "from keras_preprocessing.text import Tokenizer\n",
        "\n",
        "from tensorflow.keras.callbacks import ModelCheckpoint\n",
        "import keras\n",
        "import matplotlib.pyplot as plt\n",
        "#!pip install IPython\n",
        "from IPython.display import clear_output as cls\n",
        "\n",
        "os.environ['CUDA_VISIBLE_DEVICES'] = '-1'"
      ],
      "metadata": {
        "id": "y1V2h8YYOEwR"
      },
      "execution_count": 3,
      "outputs": []
    },
    {
      "cell_type": "code",
      "source": [
        "from tensorflow.keras.initializers import Constant "
      ],
      "metadata": {
        "id": "4rh7Rovg5d8Y"
      },
      "execution_count": 40,
      "outputs": []
    },
    {
      "cell_type": "code",
      "source": [
        "!gdown --id 1DeItE4GAV1sF_39aYxAz9qijZFJpfVYE # train set"
      ],
      "metadata": {
        "colab": {
          "base_uri": "https://localhost:8080/"
        },
        "id": "8wajVKzGL7TV",
        "outputId": "b5d5bc83-b7fe-42d5-8e81-e8971d8facd9"
      },
      "execution_count": 4,
      "outputs": [
        {
          "output_type": "stream",
          "name": "stdout",
          "text": [
            "Downloading...\n",
            "From: https://drive.google.com/uc?id=1DeItE4GAV1sF_39aYxAz9qijZFJpfVYE\n",
            "To: /content/dialogues_train.txt\n",
            "100% 6.04M/6.04M [00:00<00:00, 27.5MB/s]\n"
          ]
        }
      ]
    },
    {
      "cell_type": "code",
      "source": [
        "!gdown --id 1zIyapuv4_EHhPPqj9EHXy9XyigOssNvA # test/holdout set"
      ],
      "metadata": {
        "colab": {
          "base_uri": "https://localhost:8080/"
        },
        "id": "JG6M77yPMBNt",
        "outputId": "1f9096b5-ab4b-427d-a7f0-90a6f84120e9"
      },
      "execution_count": 5,
      "outputs": [
        {
          "output_type": "stream",
          "name": "stdout",
          "text": [
            "Downloading...\n",
            "From: https://drive.google.com/uc?id=1zIyapuv4_EHhPPqj9EHXy9XyigOssNvA\n",
            "To: /content/dialogues_test.txt\n",
            "\r  0% 0.00/544k [00:00<?, ?B/s]\r 96% 524k/544k [00:00<00:00, 3.93MB/s]\r100% 544k/544k [00:00<00:00, 4.06MB/s]\n"
          ]
        }
      ]
    },
    {
      "cell_type": "code",
      "source": [
        "!gdown --id 1mGQGsFRV7cR4SuNddHSI5imYAJkgDjpo # val/dev"
      ],
      "metadata": {
        "colab": {
          "base_uri": "https://localhost:8080/"
        },
        "id": "STuGB_rKMETC",
        "outputId": "2838fd2e-5391-4cb3-8831-49f0635afcc3"
      },
      "execution_count": 6,
      "outputs": [
        {
          "output_type": "stream",
          "name": "stdout",
          "text": [
            "Downloading...\n",
            "From: https://drive.google.com/uc?id=1mGQGsFRV7cR4SuNddHSI5imYAJkgDjpo\n",
            "To: /content/dialogues_validation.txt\n",
            "\r  0% 0.00/558k [00:00<?, ?B/s]\r 94% 524k/558k [00:00<00:00, 4.12MB/s]\r100% 558k/558k [00:00<00:00, 4.36MB/s]\n"
          ]
        }
      ]
    },
    {
      "cell_type": "code",
      "source": [
        "def preprocess_sentence(sentence, max_len= 40):\n",
        "  sentence = sentence.lower().strip()\n",
        "  # creating a space between a word and the punctuation following it\n",
        "  # eg: \"he is a boy.\" => \"he is a boy .\"\n",
        "  sentence = re.sub(r\"([?.!,])\", r\" \\1 \", sentence)\n",
        "  sentence = re.sub(r'[\" \"]+', \" \", sentence)\n",
        "  # removing contractions\n",
        "  sentence = re.sub(r\"i'm\", \"i am\", sentence)\n",
        "  sentence = re.sub(r\"he's\", \"he is\", sentence)\n",
        "  sentence = re.sub(r\"she's\", \"she is\", sentence)\n",
        "  sentence = re.sub(r\"it's\", \"it is\", sentence)\n",
        "  sentence = re.sub(r\"that's\", \"that is\", sentence)\n",
        "  sentence = re.sub(r\"what's\", \"what is\", sentence)\n",
        "  sentence = re.sub(r\"where's\", \"where is\", sentence)\n",
        "  sentence = re.sub(r\"how's\", \"how is\", sentence)\n",
        "  sentence = re.sub(r\"\\'ll\", \" will\", sentence)\n",
        "  sentence = re.sub(r\"\\'ve\", \" have\", sentence)\n",
        "  sentence = re.sub(r\"\\'re\", \" are\", sentence)\n",
        "  sentence = re.sub(r\"\\'d\", \" would\", sentence)\n",
        "  sentence = re.sub(r\"\\'re\", \" are\", sentence)\n",
        "  sentence = re.sub(r\"won't\", \"will not\", sentence)\n",
        "  sentence = re.sub(r\"can't\", \"cannot\", sentence)\n",
        "  sentence = re.sub(r\"n't\", \" not\", sentence)\n",
        "  sentence = re.sub(r\"n'\", \"ng\", sentence)\n",
        "  sentence = re.sub(r\"'bout\", \"about\", sentence)\n",
        "  # replacing everything with space except (a-z, A-Z, \".\", \"?\", \"!\", \",\")\n",
        "  sentence = re.sub(r\"[^a-zA-Z?.!,]+\", \" \", sentence)\n",
        "  # remove extra spaces  \" hi     man  \" --> \" hi man \"\n",
        "  sentence = re.sub(' +', ' ', sentence)\n",
        "  sentence = sentence.strip()\n",
        "  sentence = ' '.join(sentence.split(' ')[:max_len])\n",
        "  return sentence\n",
        "\n",
        "def read_dataset(path):\n",
        "  text = []\n",
        "  with open(path, 'r') as f:\n",
        "    for line in f:\n",
        "      line = line.rstrip()\n",
        "      # print(line)\n",
        "      res = line.split('__eou__')\n",
        "\n",
        "      for i in range(0, len(res)-2):\n",
        "        sent_1 = preprocess_sentence(res[i])\n",
        "        sent_2 = preprocess_sentence(res[i+1])\n",
        "        text.append(sent_1)\n",
        "        text.append(\"<start> \" + sent_2 + \" <end>\")\n",
        "  \n",
        "  return text\n",
        "\n",
        "train_text = read_dataset('dialogues_train.txt')\n",
        "test_text = read_dataset('dialogues_test.txt')\n",
        "valid_text = read_dataset('dialogues_validation.txt')\n",
        "\n",
        "train_text = train_text[:10000]\n",
        "test_text = test_text[:10000]\n",
        "valid_text = valid_text[:10000]"
      ],
      "metadata": {
        "id": "_sCfOrg5Mvip"
      },
      "execution_count": 7,
      "outputs": []
    },
    {
      "cell_type": "code",
      "source": [
        "index = len(train_text)\n",
        "train_questions = [train_text[i] for i in range(0,index) if i % 2 == 0]\n",
        "train_answers = [train_text[i] for i in range(0,index) if i % 2 == 1]\n",
        "train_pairs = [(train, test) for train, test in zip(train_questions, train_answers)]\n",
        "\n",
        "index = len(valid_text)\n",
        "dev_questions = [valid_text[i] for i in range(0,index) if i % 2 == 0]\n",
        "dev_answers = [valid_text[i] for i in range(0,index) if i % 2 == 1]\n",
        "val_pairs = [(train, test) for train, test in zip(dev_questions, dev_answers)]"
      ],
      "metadata": {
        "id": "XzmUg-MHgFpW"
      },
      "execution_count": 8,
      "outputs": []
    },
    {
      "cell_type": "code",
      "source": [
        "len(train_answers) , len(dev_answers)"
      ],
      "metadata": {
        "colab": {
          "base_uri": "https://localhost:8080/"
        },
        "id": "0WxS3SsYgh9T",
        "outputId": "83cb55ea-adf3-4dc4-d965-ba85f158e0d3"
      },
      "execution_count": 9,
      "outputs": [
        {
          "output_type": "execute_result",
          "data": {
            "text/plain": [
              "(5000, 5000)"
            ]
          },
          "metadata": {},
          "execution_count": 9
        }
      ]
    },
    {
      "cell_type": "code",
      "source": [
        "train_questions[:5]"
      ],
      "metadata": {
        "colab": {
          "base_uri": "https://localhost:8080/"
        },
        "id": "dQBC9CFjMvLm",
        "outputId": "d7e1ea4e-5569-46f7-9b3a-dcbdd241bf11"
      },
      "execution_count": 10,
      "outputs": [
        {
          "output_type": "execute_result",
          "data": {
            "text/plain": [
              "['say , jim , how about going for a few beers after dinner ?',\n",
              " 'you know that is tempting but is really not good for our fitness .',\n",
              " 'what do you mean ? it will help us to relax .',\n",
              " 'do you really think so ? i do not . it will just make us fat and act silly . remember last time ?',\n",
              " 'i guess you are right . but what shall we do ? i do not feel like sitting at home .']"
            ]
          },
          "metadata": {},
          "execution_count": 10
        }
      ]
    },
    {
      "cell_type": "code",
      "source": [
        "train_answers[:5]"
      ],
      "metadata": {
        "colab": {
          "base_uri": "https://localhost:8080/"
        },
        "id": "HPM_cPjvOSav",
        "outputId": "9acb7808-99d7-48b0-87ba-138dae5dac1e"
      },
      "execution_count": 11,
      "outputs": [
        {
          "output_type": "execute_result",
          "data": {
            "text/plain": [
              "['<start> you know that is tempting but is really not good for our fitness . <end>',\n",
              " '<start> what do you mean ? it will help us to relax . <end>',\n",
              " '<start> do you really think so ? i do not . it will just make us fat and act silly . remember last time ? <end>',\n",
              " '<start> i guess you are right . but what shall we do ? i do not feel like sitting at home . <end>',\n",
              " '<start> i suggest a walk over to the gym where we can play singsong and meet some of our friends . <end>']"
            ]
          },
          "metadata": {},
          "execution_count": 11
        }
      ]
    },
    {
      "cell_type": "code",
      "source": [
        "gensim_data = train_questions + train_answers + dev_answers + dev_questions"
      ],
      "metadata": {
        "id": "d9Plgfnw0cdk"
      },
      "execution_count": 26,
      "outputs": []
    },
    {
      "cell_type": "markdown",
      "source": [
        "# Preparing data"
      ],
      "metadata": {
        "id": "rOpYaSm5AOnc"
      }
    },
    {
      "cell_type": "markdown",
      "source": [
        "# setting up Model"
      ],
      "metadata": {
        "id": "g8l5L3z-AR3Q"
      }
    },
    {
      "cell_type": "code",
      "source": [
        "target_regex = '\"#$%&()*+-/:;=@[\\]^_`{|}~\\t\\n\\'0123456789'\n",
        "tokenizer = Tokenizer(filters=target_regex)\n",
        "tokenizer.fit_on_texts(train_questions + train_answers)\n",
        "VOCAB_SIZE = len(tokenizer.word_index) + 1\n",
        "print('Vocabulary size : {}'.format(VOCAB_SIZE))"
      ],
      "metadata": {
        "id": "w8hObH9dBqXK",
        "outputId": "c8ac0b7e-2a5f-4a0f-db5b-4eb095fa7c87",
        "colab": {
          "base_uri": "https://localhost:8080/"
        }
      },
      "execution_count": 12,
      "outputs": [
        {
          "output_type": "stream",
          "name": "stdout",
          "text": [
            "Vocabulary size : 5032\n"
          ]
        }
      ]
    },
    {
      "cell_type": "code",
      "source": [
        "\n",
        "print(len(tokenizer.word_index),'\\n')\n",
        "i = -1\n",
        "for k,v in tokenizer.word_index.items():\n",
        "  i +=1\n",
        "  print(k,v)\n",
        "  if i > 9: break"
      ],
      "metadata": {
        "colab": {
          "base_uri": "https://localhost:8080/"
        },
        "id": "g6zEhAPBkvEP",
        "outputId": "7c8be11d-8acc-44ad-af45-8a9919753ec7"
      },
      "execution_count": 21,
      "outputs": [
        {
          "output_type": "stream",
          "name": "stdout",
          "text": [
            "5031 \n",
            "\n",
            ". 1\n",
            "i 2\n",
            ", 3\n",
            "<start> 4\n",
            "<end> 5\n",
            "you 6\n",
            "? 7\n",
            "the 8\n",
            "to 9\n",
            "a 10\n",
            "is 11\n"
          ]
        }
      ]
    },
    {
      "cell_type": "code",
      "source": [
        "# tokenizer.index_word\n",
        "\n",
        "\n",
        "# {1: '.',\n",
        "#  2: 'i',\n",
        "#  3: ',',\n",
        "#  4: '<start>',\n",
        "#  5: '<end>',\n",
        "#  6: 'you',\n",
        "#  7: '?',\n",
        "#  8: 'the',\n",
        "#  9: 'to',\n",
        "#  10: 'a',\n",
        "#  11: 'is',\n",
        "#  12: 'it',\n",
        "#  13: 'that',\n",
        "#  14: 'and',"
      ],
      "metadata": {
        "id": "XiroADv4zXs7"
      },
      "execution_count": 28,
      "outputs": []
    },
    {
      "cell_type": "code",
      "source": [
        "# Calculating W2V embedding wieghts \n",
        "from gensim.models.word2vec import Word2Vec\n",
        "from multiprocessing import cpu_count\n",
        "cores = cpu_count()\n",
        "\n",
        "embedding_dim = 200\n",
        "\n",
        "\n",
        "w2v = Word2Vec(\n",
        "    size = embedding_dim,\n",
        "    window = 10,\n",
        "    min_count = 1,\n",
        "    workers = cores,\n",
        "    sg = 1\n",
        ")\n",
        "\n",
        "\n",
        "# we don't pass the first elemnt, padding token. we set its embedding zero\n",
        "# watch out, build vocab gets list of iterable objects(like lists).\n",
        "w2v.build_vocab([list(tokenizer.word_index.keys())])\n",
        "\n",
        "w2v.train(\n",
        "    sentences = gensim_data,\n",
        "    total_examples = len(gensim_data),\n",
        "    epochs = w2v.epochs )\n",
        "\n"
      ],
      "metadata": {
        "colab": {
          "base_uri": "https://localhost:8080/"
        },
        "id": "e6bulqI8yalk",
        "outputId": "afa0d434-0fa1-4254-a90e-bb042a97a29f"
      },
      "execution_count": 29,
      "outputs": [
        {
          "output_type": "execute_result",
          "data": {
            "text/plain": [
              "(4597765, 6735165)"
            ]
          },
          "metadata": {},
          "execution_count": 29
        }
      ]
    },
    {
      "cell_type": "code",
      "source": [
        "len(w2v.wv.vocab.keys())"
      ],
      "metadata": {
        "colab": {
          "base_uri": "https://localhost:8080/"
        },
        "id": "uHLFqY_x18Mh",
        "outputId": "7324b681-d73b-41a8-a78a-8bfdd2d1696f"
      },
      "execution_count": 30,
      "outputs": [
        {
          "output_type": "execute_result",
          "data": {
            "text/plain": [
              "5031"
            ]
          },
          "metadata": {},
          "execution_count": 30
        }
      ]
    },
    {
      "cell_type": "code",
      "source": [
        "len()"
      ],
      "metadata": {
        "colab": {
          "base_uri": "https://localhost:8080/"
        },
        "id": "sf95Blyc3ZiE",
        "outputId": "2d6c8eca-d31b-4944-c261-b343d1acf471"
      },
      "execution_count": 37,
      "outputs": [
        {
          "output_type": "execute_result",
          "data": {
            "text/plain": [
              "5032"
            ]
          },
          "metadata": {},
          "execution_count": 37
        }
      ]
    },
    {
      "cell_type": "code",
      "source": [
        "def embedding_matrix_maker(voc_s, emb_s,w2v_model,vocab_list):\n",
        "  \"\"\"\n",
        "  note1: fist element of vocab list is '', which is our padding token\n",
        "  and should have a zero vector as its embedding \n",
        "  \"\"\"\n",
        "  weights = np.zeros((voc_s, emb_s))\n",
        "  for i in range(1,len(vocab_list)) :\n",
        "    weights[i] = w2v_model.wv[vocab_list[i]].reshape(1, -1)[0]\n",
        "    \n",
        "  return weights \n",
        "\n",
        "embed_weights = embedding_matrix_maker(VOCAB_SIZE,\n",
        "                                           embedding_dim,\n",
        "                                           w2v,\n",
        "                                           ['']+ list(tokenizer.word_index.keys()))\n",
        "\n"
      ],
      "metadata": {
        "id": "B0Y6hO082AUE"
      },
      "execution_count": 44,
      "outputs": []
    },
    {
      "cell_type": "code",
      "source": [
        "embed_weights.shape"
      ],
      "metadata": {
        "colab": {
          "base_uri": "https://localhost:8080/"
        },
        "id": "5oufbvCU3gYS",
        "outputId": "6f288b03-e4e2-4440-ecf5-89423442a57c"
      },
      "execution_count": 45,
      "outputs": [
        {
          "output_type": "execute_result",
          "data": {
            "text/plain": [
              "(5032, 200)"
            ]
          },
          "metadata": {},
          "execution_count": 45
        }
      ]
    },
    {
      "cell_type": "code",
      "source": [
        "max([len(x) for x in train_questions]) , [len(x) for x in train_questions].index(40)"
      ],
      "metadata": {
        "id": "-AbBhkMTEM28",
        "outputId": "e33f13b3-418d-4112-d879-5fe83cc20304",
        "colab": {
          "base_uri": "https://localhost:8080/"
        }
      },
      "execution_count": 32,
      "outputs": [
        {
          "output_type": "execute_result",
          "data": {
            "text/plain": [
              "(224, 70)"
            ]
          },
          "metadata": {},
          "execution_count": 32
        }
      ]
    },
    {
      "cell_type": "code",
      "source": [
        "max([len(x.split(' ')) for x in train_questions]) "
      ],
      "metadata": {
        "colab": {
          "base_uri": "https://localhost:8080/"
        },
        "id": "mvCSfHBTifd2",
        "outputId": "a0380287-b5df-4b1a-9a85-cc92310cda09"
      },
      "execution_count": 33,
      "outputs": [
        {
          "output_type": "execute_result",
          "data": {
            "text/plain": [
              "40"
            ]
          },
          "metadata": {},
          "execution_count": 33
        }
      ]
    },
    {
      "cell_type": "code",
      "source": [
        "tokenizer.word_index['<end>'],tokenizer.word_index['<start>'],tokenizer.word_index['.']"
      ],
      "metadata": {
        "colab": {
          "base_uri": "https://localhost:8080/"
        },
        "id": "wFNNaL6jg2_R",
        "outputId": "399d1442-9b72-4d41-e22a-da9266dcc54f"
      },
      "execution_count": 34,
      "outputs": [
        {
          "output_type": "execute_result",
          "data": {
            "text/plain": [
              "(5, 4, 1)"
            ]
          },
          "metadata": {},
          "execution_count": 34
        }
      ]
    },
    {
      "cell_type": "code",
      "source": [
        "##############################################################\n",
        "############################ MODEL TRAINING ##################\n",
        "##############################################################"
      ],
      "metadata": {
        "id": "GGE1zpc46pVJ"
      },
      "execution_count": null,
      "outputs": []
    },
    {
      "cell_type": "code",
      "source": [
        "tokenized_questions = tokenizer.texts_to_sequences(train_questions)\n",
        "tokenized_answers = tokenizer.texts_to_sequences(train_answers)\n",
        "decoder_input_data = []\n",
        "decoder_output_data = []\n",
        "\n",
        "for i in range(len(tokenized_answers)):\n",
        "    decoder_output_data.append(tokenized_answers[i][1:])\n",
        "    decoder_input_data.append(tokenized_answers[i][:-1])\n",
        "\n",
        "maxlen_questions = max([len(x) for x in tokenized_questions]) # 40\n",
        "maxlen_answers = max([len(x) for x in decoder_output_data]) # 40\n",
        "\n",
        "encoder_input_data = pad_sequences(tokenized_questions, maxlen=maxlen_questions,padding='post')\n",
        "decoder_input_data = pad_sequences(decoder_input_data, maxlen=maxlen_answers, padding='post')\n",
        "decoder_output_data = pad_sequences(decoder_output_data, maxlen=maxlen_answers, padding='post')\n",
        "\n",
        "print(encoder_input_data.shape)\n",
        "print(decoder_input_data.shape)\n",
        "print(decoder_output_data.shape)"
      ],
      "metadata": {
        "id": "xNMcRH9b9RlQ",
        "outputId": "c25b21db-3f1c-473a-fd4b-f44bdc56de8c",
        "colab": {
          "base_uri": "https://localhost:8080/"
        }
      },
      "execution_count": 35,
      "outputs": [
        {
          "output_type": "stream",
          "name": "stdout",
          "text": [
            "(5000, 40)\n",
            "(5000, 41)\n",
            "(5000, 41)\n"
          ]
        }
      ]
    },
    {
      "cell_type": "code",
      "source": [
        "encoder_input_data[0]"
      ],
      "metadata": {
        "colab": {
          "base_uri": "https://localhost:8080/"
        },
        "id": "EtwQ-ukf2D7M",
        "outputId": "6d12a9ff-6aee-4df3-c7db-c896098082d7"
      },
      "execution_count": 36,
      "outputs": [
        {
          "output_type": "execute_result",
          "data": {
            "text/plain": [
              "array([ 103,    3,  524,    3,   44,   39,   70,   23,   10,  176, 2445,\n",
              "        141,  248,    7,    0,    0,    0,    0,    0,    0,    0,    0,\n",
              "          0,    0,    0,    0,    0,    0,    0,    0,    0,    0,    0,\n",
              "          0,    0,    0,    0,    0,    0,    0], dtype=int32)"
            ]
          },
          "metadata": {},
          "execution_count": 36
        }
      ]
    },
    {
      "cell_type": "code",
      "source": [
        "dev_tokenized_questions = tokenizer.texts_to_sequences(dev_questions)\n",
        "dev_tokenized_answers = tokenizer.texts_to_sequences(dev_answers)\n",
        "dev_decoder_input_data = []\n",
        "dev_decoder_output_data = []\n",
        "\n",
        "for i in range(len(dev_tokenized_answers)):\n",
        "    dev_decoder_output_data.append(dev_tokenized_answers[i][1:])\n",
        "    dev_decoder_input_data.append(dev_tokenized_answers[i][:-1])\n",
        "\n",
        "# dev_maxlen_questions = max([len(x) for x in dev_tokenized_questions]) # 40\n",
        "# dev_maxlen_answers = max([len(x) for x in dev_decoder_output_data]) # 41\n",
        "\n",
        "dev_encoder_input_data = pad_sequences(dev_tokenized_questions, maxlen=maxlen_questions,padding='post')\n",
        "dev_decoder_input_data = pad_sequences(dev_decoder_input_data, maxlen=maxlen_answers, padding='post')\n",
        "dev_decoder_output_data = pad_sequences(dev_decoder_output_data, maxlen=maxlen_answers, padding='post')\n",
        "\n",
        "print(dev_encoder_input_data.shape)\n",
        "print(dev_decoder_input_data.shape)\n",
        "print(dev_decoder_output_data.shape)"
      ],
      "metadata": {
        "colab": {
          "base_uri": "https://localhost:8080/"
        },
        "id": "sxLY0Kx4vBaC",
        "outputId": "638dc221-d1cb-494b-920a-0e43599df8de"
      },
      "execution_count": 41,
      "outputs": [
        {
          "output_type": "stream",
          "name": "stdout",
          "text": [
            "(5000, 40)\n",
            "(5000, 41)\n",
            "(5000, 41)\n"
          ]
        }
      ]
    },
    {
      "cell_type": "code",
      "source": [
        "# dev_tokenized_questions = tokenizer.texts_to_sequences(dev_questions)\n",
        "# # maxlen_questions = max([len(x) for x in dev_tokenized_questions])\n",
        "# dev_encoder_input_data = pad_sequences(dev_tokenized_questions, maxlen=maxlen_questions, padding='post')\n",
        "\n",
        "# print(dev_encoder_input_data.shape)\n",
        "\n",
        "# dev_tokenized_answers = tokenizer.texts_to_sequences(dev_answers)\n",
        "# # maxlen_answers = max([len(x) for x in tokenized_answers])\n",
        "# dev_decoder_input_data = pad_sequences(dev_tokenized_answers,\n",
        "#                                    maxlen=maxlen_answers,\n",
        "#                                    padding='post')\n",
        "# print(dev_decoder_input_data.shape)\n",
        "\n",
        "# for i in range(len(dev_tokenized_answers)):\n",
        "#     dev_tokenized_answers[i] = dev_tokenized_answers[i][1:]\n",
        "\n",
        "# dev_padded_answers = pad_sequences(dev_tokenized_answers, maxlen=maxlen_answers, padding='post')\n",
        "# # decoder_output_data = to_categorical(padded_answers, VOCAB_SIZE)\n",
        "# dev_decoder_output_data = dev_decoder_input_data\n",
        "\n",
        "# print(dev_decoder_output_data.shape)"
      ],
      "metadata": {
        "id": "OZIgVAuTZv83"
      },
      "execution_count": null,
      "outputs": []
    },
    {
      "cell_type": "code",
      "source": [
        "class PlotLosses(keras.callbacks.Callback):\n",
        "\n",
        "  def on_train_begin(self,logs={}):\n",
        "    self.i = 0\n",
        "    self.x = []\n",
        "    self.losses= []\n",
        "    self.val_losses = []\n",
        "    self.fig = plt.figure()\n",
        "    self.logs = []\n",
        "\n",
        "    self.accuracy = []\n",
        "    self.val_accuracy = []\n",
        "\n",
        "  def on_epoch_end(self, epoch, logs={}):\n",
        "    self.logs.append(logs)\n",
        "    self.x.append(self.i)\n",
        "    self.losses.append(logs.get('loss'))\n",
        "    self.val_losses.append(logs.get('val_loss'))    \n",
        "    self.i +=1\n",
        "    self.accuracy.append(logs.get('accuracy'))\n",
        "    self.val_accuracy.append(logs.get('val_accuracy'))\n",
        "\n",
        "    cls(wait=True)\n",
        "    plt.plot(self.x, self.losses, label= 'loss')\n",
        "    plt.plot(self.x, self.val_losses, label= 'val_loss')\n",
        "    plt.legend()\n",
        "    plt.show()\n",
        "\n",
        "    plt.plot(self.x, self.accuracy, label= 'accuracy')\n",
        "    plt.plot(self.x, self.val_accuracy, label= 'val_accuracy')\n",
        "    plt.legend()\n",
        "    plt.show()"
      ],
      "metadata": {
        "id": "zW0WawJVyDiZ"
      },
      "execution_count": 42,
      "outputs": []
    },
    {
      "cell_type": "markdown",
      "source": [
        "# Trainable TRUE!"
      ],
      "metadata": {
        "id": "QqnbP0K53zc8"
      }
    },
    {
      "cell_type": "code",
      "source": [
        "\n",
        "enc_inputs = Input(shape=(None,))\n",
        "enc_embedding = Embedding(\n",
        "                      VOCAB_SIZE,\n",
        "                      200, mask_zero=True,    \n",
        "                      embeddings_initializer=Constant(embed_weights),\n",
        "                      trainable=True,)(enc_inputs)\n",
        "\n",
        "_, state_h, state_c = LSTM(200,\n",
        "                           return_state=True)(enc_embedding)\n",
        "enc_states = [state_h, state_c]\n",
        "\n",
        "dec_inputs = Input(shape=(None,))\n",
        "dec_embedding = Embedding(VOCAB_SIZE,\n",
        "                          200,\n",
        "                          mask_zero=True,\n",
        "                          embeddings_initializer=Constant(embed_weights),\n",
        "                          trainable=True,)(dec_inputs)\n",
        "dec_lstm = LSTM(200,\n",
        "                return_state=True,\n",
        "                return_sequences=True)\n",
        "dec_outputs, _, _ = dec_lstm(dec_embedding,\n",
        "                             initial_state=enc_states)\n",
        "dec_dense = Dense(VOCAB_SIZE,\n",
        "                  activation=softmax)\n",
        "output = dec_dense(dec_outputs)\n",
        "\n",
        "model = Model([enc_inputs, dec_inputs], output)\n"
      ],
      "metadata": {
        "id": "vRu38cn0PAqY"
      },
      "execution_count": 49,
      "outputs": []
    },
    {
      "cell_type": "code",
      "source": [
        "model.compile(optimizer=RMSprop(), loss='sparse_categorical_crossentropy',metrics=['accuracy'],)\n",
        "model.summary()"
      ],
      "metadata": {
        "id": "xs8B6C7SOh4Z",
        "colab": {
          "base_uri": "https://localhost:8080/"
        },
        "outputId": "4e160f10-1131-416a-ffa1-6e1879260a36"
      },
      "execution_count": 50,
      "outputs": [
        {
          "output_type": "stream",
          "name": "stdout",
          "text": [
            "Model: \"model_2\"\n",
            "__________________________________________________________________________________________________\n",
            " Layer (type)                   Output Shape         Param #     Connected to                     \n",
            "==================================================================================================\n",
            " input_5 (InputLayer)           [(None, None)]       0           []                               \n",
            "                                                                                                  \n",
            " input_6 (InputLayer)           [(None, None)]       0           []                               \n",
            "                                                                                                  \n",
            " embedding_4 (Embedding)        (None, None, 200)    1006400     ['input_5[0][0]']                \n",
            "                                                                                                  \n",
            " embedding_5 (Embedding)        (None, None, 200)    1006400     ['input_6[0][0]']                \n",
            "                                                                                                  \n",
            " lstm_4 (LSTM)                  [(None, 200),        320800      ['embedding_4[0][0]']            \n",
            "                                 (None, 200),                                                     \n",
            "                                 (None, 200)]                                                     \n",
            "                                                                                                  \n",
            " lstm_5 (LSTM)                  [(None, None, 200),  320800      ['embedding_5[0][0]',            \n",
            "                                 (None, 200),                     'lstm_4[0][1]',                 \n",
            "                                 (None, 200)]                     'lstm_4[0][2]']                 \n",
            "                                                                                                  \n",
            " dense_2 (Dense)                (None, None, 5032)   1011432     ['lstm_5[0][0]']                 \n",
            "                                                                                                  \n",
            "==================================================================================================\n",
            "Total params: 3,665,832\n",
            "Trainable params: 3,665,832\n",
            "Non-trainable params: 0\n",
            "__________________________________________________________________________________________________\n"
          ]
        }
      ]
    },
    {
      "cell_type": "code",
      "source": [
        "if not PRODUCTION_MODE:\n",
        "  plot_losses = PlotLosses()\n",
        "  checkpoint = ModelCheckpoint('LSTM_trainable-{epoch:03d}--{val_accuracy:03f}.h5',\n",
        "                             verbose=1, monitor='val_loss',save_best_only=True,\n",
        "                             save_weights_only=True, mode='min')\n",
        "  \n",
        "  model.fit([encoder_input_data, decoder_input_data],\n",
        "            decoder_output_data,\n",
        "            batch_size=50,\n",
        "            validation_data=([dev_encoder_input_data, dev_decoder_input_data],dev_decoder_output_data),\n",
        "            epochs=10,\n",
        "            callbacks= [checkpoint,plot_losses])\n"
      ],
      "metadata": {
        "id": "pfW5_NxBPUNj",
        "outputId": "c7cbc46d-3ac1-4c46-8a56-01c7213c7354",
        "colab": {
          "base_uri": "https://localhost:8080/",
          "height": 530
        }
      },
      "execution_count": 51,
      "outputs": [
        {
          "output_type": "display_data",
          "data": {
            "text/plain": [
              "<Figure size 432x288 with 1 Axes>"
            ],
            "image/png": "[encoded data removed]"
          },
          "metadata": {
            "needs_background": "light"
          }
        },
        {
          "output_type": "display_data",
          "data": {
            "text/plain": [
              "<Figure size 432x288 with 1 Axes>"
            ],
            "image/png": "[encoded data removed]"
          },
          "metadata": {
            "needs_background": "light"
          }
        },
        {
          "output_type": "stream",
          "name": "stdout",
          "text": [
            "\b\b\b\b\b\b\b\b\b\b\b\b\b\b\b\b\b\b\b\b\b\b\b\b\b\b\b\b\b\b\b\b\b\b\b\b\b\b\b\b\b\b\b\b\b\b\b\b\b\b\b\b\b\b\b\b\b\b\b\b\b\b\b\b\b\b\b\b\b\b\b\b\b\b\b\b\b\b\b\b\b\b\b\b\r100/100 [==============================] - 99s 989ms/step - loss: 1.4594 - accuracy: 0.2848 - val_loss: 1.5119 - val_accuracy: 0.2625\n"
          ]
        }
      ]
    },
    {
      "cell_type": "code",
      "source": [
        "# Epoch 8/10\n",
        "# 100/100 [==============================] - 94s 942ms/step - loss: 1.5267 - accuracy: 0.2694 - val_loss: 1.5300 - val_accuracy: 0.2574\n",
        "# Epoch 9/10\n",
        "# 100/100 [==============================] - 98s 1s/step - loss: 1.4923 - accuracy: 0.2762 - val_loss: 1.5163 - val_accuracy: 0.2607\n",
        "# Epoch 10/10\n",
        "# 100/100 [==============================] - 99s 989ms/step - loss: 1.4594 - accuracy: 0.2848 - val_loss: 1.5119 - val_accuracy: 0.2625"
      ],
      "metadata": {
        "id": "ww9sp25f_vhW"
      },
      "execution_count": null,
      "outputs": []
    },
    {
      "cell_type": "markdown",
      "source": [
        "# Trainable False!"
      ],
      "metadata": {
        "id": "E_iOLb5J35b2"
      }
    },
    {
      "cell_type": "code",
      "source": [
        "\n",
        "enc_inputs = Input(shape=(None,))\n",
        "enc_embedding = Embedding(\n",
        "                      VOCAB_SIZE,\n",
        "                      200, mask_zero=True,    \n",
        "                      embeddings_initializer=Constant(embed_weights),\n",
        "                      trainable=False,)(enc_inputs)\n",
        "\n",
        "_, state_h, state_c = LSTM(200,\n",
        "                           return_state=True)(enc_embedding)\n",
        "enc_states = [state_h, state_c]\n",
        "\n",
        "dec_inputs = Input(shape=(None,))\n",
        "dec_embedding = Embedding(VOCAB_SIZE,\n",
        "                          200,\n",
        "                          mask_zero=True,\n",
        "                          embeddings_initializer=Constant(embed_weights),\n",
        "                          trainable=False,)(dec_inputs)\n",
        "dec_lstm = LSTM(200,\n",
        "                return_state=True,\n",
        "                return_sequences=True)\n",
        "dec_outputs, _, _ = dec_lstm(dec_embedding,\n",
        "                             initial_state=enc_states)\n",
        "dec_dense = Dense(VOCAB_SIZE,\n",
        "                  activation=softmax)\n",
        "output = dec_dense(dec_outputs)\n",
        "\n",
        "model = Model([enc_inputs, dec_inputs], output)"
      ],
      "metadata": {
        "id": "S22vQRFt3-lJ"
      },
      "execution_count": 52,
      "outputs": []
    },
    {
      "cell_type": "code",
      "source": [
        "model.compile(optimizer=RMSprop(), loss='sparse_categorical_crossentropy',metrics=['accuracy'],)\n",
        "model.summary()"
      ],
      "metadata": {
        "colab": {
          "base_uri": "https://localhost:8080/"
        },
        "id": "87mdOuZ23-XI",
        "outputId": "b36eb73f-7843-46b8-beb0-cbdb426feaa7"
      },
      "execution_count": 53,
      "outputs": [
        {
          "output_type": "stream",
          "name": "stdout",
          "text": [
            "Model: \"model_3\"\n",
            "__________________________________________________________________________________________________\n",
            " Layer (type)                   Output Shape         Param #     Connected to                     \n",
            "==================================================================================================\n",
            " input_7 (InputLayer)           [(None, None)]       0           []                               \n",
            "                                                                                                  \n",
            " input_8 (InputLayer)           [(None, None)]       0           []                               \n",
            "                                                                                                  \n",
            " embedding_6 (Embedding)        (None, None, 200)    1006400     ['input_7[0][0]']                \n",
            "                                                                                                  \n",
            " embedding_7 (Embedding)        (None, None, 200)    1006400     ['input_8[0][0]']                \n",
            "                                                                                                  \n",
            " lstm_6 (LSTM)                  [(None, 200),        320800      ['embedding_6[0][0]']            \n",
            "                                 (None, 200),                                                     \n",
            "                                 (None, 200)]                                                     \n",
            "                                                                                                  \n",
            " lstm_7 (LSTM)                  [(None, None, 200),  320800      ['embedding_7[0][0]',            \n",
            "                                 (None, 200),                     'lstm_6[0][1]',                 \n",
            "                                 (None, 200)]                     'lstm_6[0][2]']                 \n",
            "                                                                                                  \n",
            " dense_3 (Dense)                (None, None, 5032)   1011432     ['lstm_7[0][0]']                 \n",
            "                                                                                                  \n",
            "==================================================================================================\n",
            "Total params: 3,665,832\n",
            "Trainable params: 1,653,032\n",
            "Non-trainable params: 2,012,800\n",
            "__________________________________________________________________________________________________\n"
          ]
        }
      ]
    },
    {
      "cell_type": "code",
      "source": [
        "if not PRODUCTION_MODE:\n",
        "  plot_losses = PlotLosses()\n",
        "  checkpoint = ModelCheckpoint('LSTM_non-trainable-{epoch:03d}--{val_accuracy:03f}.h5',\n",
        "                             verbose=1, monitor='val_loss',save_best_only=True,\n",
        "                             save_weights_only=True, mode='min')\n",
        "  \n",
        "  model.fit([encoder_input_data, decoder_input_data],\n",
        "            decoder_output_data,\n",
        "            batch_size=50,\n",
        "            validation_data=([dev_encoder_input_data, dev_decoder_input_data],dev_decoder_output_data),\n",
        "            epochs=10,\n",
        "            callbacks= [checkpoint,plot_losses])\n"
      ],
      "metadata": {
        "colab": {
          "base_uri": "https://localhost:8080/",
          "height": 533
        },
        "id": "OlwklHhB7_EJ",
        "outputId": "3bc1fe43-f4b5-46d2-a40a-f55f401e2157"
      },
      "execution_count": 54,
      "outputs": [
        {
          "output_type": "display_data",
          "data": {
            "text/plain": [
              "<Figure size 432x288 with 1 Axes>"
            ],
            "image/png": "[encoded data removed]"
          },
          "metadata": {
            "needs_background": "light"
          }
        },
        {
          "output_type": "display_data",
          "data": {
            "text/plain": [
              "<Figure size 432x288 with 1 Axes>"
            ],
            "image/png": "[encoded data removed]"
          },
          "metadata": {
            "needs_background": "light"
          }
        },
        {
          "output_type": "stream",
          "name": "stdout",
          "text": [
            "\b\b\b\b\b\b\b\b\b\b\b\b\b\b\b\b\b\b\b\b\b\b\b\b\b\b\b\b\b\b\b\b\b\b\b\b\b\b\b\b\b\b\b\b\b\b\b\b\b\b\b\b\b\b\b\b\b\b\b\b\b\b\b\b\b\b\b\b\b\b\b\b\b\b\b\b\b\b\b\b\b\b\b\b\r100/100 [==============================] - 91s 916ms/step - loss: 1.7812 - accuracy: 0.1856 - val_loss: 1.7108 - val_accuracy: 0.1881\n"
          ]
        }
      ]
    },
    {
      "cell_type": "code",
      "source": [
        "# 100/100 [==============================] - 88s 880ms/step - loss: 1.7923 - accuracy: 0.1851 - val_loss: 1.7155 - val_accuracy: 0.1854\n",
        "# Epoch 10/10\n",
        "# 100/100 [==============================] 91s 916ms/step - loss: 1.7812 - accuracy: 0.1856 - val_loss: 1.7108 - val_accuracy: 0.1881"
      ],
      "metadata": {
        "id": "957ChOTyD0BE"
      },
      "execution_count": null,
      "outputs": []
    },
    {
      "cell_type": "code",
      "source": [
        "# from google.colab import drive\n",
        "# drive.mount('/content/drive')"
      ],
      "metadata": {
        "colab": {
          "base_uri": "https://localhost:8080/"
        },
        "id": "s06LMRsSEFuj",
        "outputId": "0ecbacda-60f6-4058-f64b-8ace8b1e8739"
      },
      "execution_count": 55,
      "outputs": [
        {
          "output_type": "stream",
          "name": "stdout",
          "text": [
            "Mounted at /content/drive\n"
          ]
        }
      ]
    },
    {
      "cell_type": "code",
      "source": [
        "# %cp '/content/LSTM_trainable-010--0.262454.h5' '/content/drive/MyDrive/chatBot_momtazi/data/6'"
      ],
      "metadata": {
        "id": "kgln7k2OEFZA"
      },
      "execution_count": 56,
      "outputs": []
    },
    {
      "cell_type": "markdown",
      "source": [
        "# Trainable TURE or FALSE Comparison"
      ],
      "metadata": {
        "id": "P0UK03jV7abG"
      }
    },
    {
      "cell_type": "markdown",
      "source": [
        "\"Trianbale-TRUE\" outperforms \"Trainable-FALSE\" both in accuracy and val_loss. When we set \"True\" we are adopting \"end-to-end\" architecture which are proved to be better than \"pipe-line\" architecture. In pipe-line manner, we have different module and train them separately. They, however, might not work harmoniously. But when we trian the whole system as one module, we are free to adjust modules interfaces to reach higher overall accuracy.\n",
        "\n",
        "As to time-complexity, \"Trainable-FALSE\" runs faster since has fewer number of parameters. \n"
      ],
      "metadata": {
        "id": "17TXfTHw7knu"
      }
    },
    {
      "cell_type": "markdown",
      "source": [
        "."
      ],
      "metadata": {
        "id": "vHDI_u-q7kb7"
      }
    },
    {
      "cell_type": "markdown",
      "source": [
        "# Load the best LSTM Model!"
      ],
      "metadata": {
        "id": "yw9Q6veK7Vyn"
      }
    },
    {
      "cell_type": "code",
      "source": [
        "if PRODUCTION_MODE:\n",
        "  model.load_weights('/content/LSTM_trainable-010--0.262454.h5')"
      ],
      "metadata": {
        "id": "bYuzR8m_NVs_"
      },
      "execution_count": 59,
      "outputs": []
    },
    {
      "cell_type": "code",
      "source": [
        "# %cp '/content/LSTM_Seq2Seq_chatbot_without_history.h5' '/content/drive/MyDrive/chatBot_momtazi/data/6'\n"
      ],
      "metadata": {
        "id": "2zVqCjynIrok"
      },
      "execution_count": null,
      "outputs": []
    },
    {
      "cell_type": "markdown",
      "source": [
        "# Q4"
      ],
      "metadata": {
        "id": "PII2rh92O0v_"
      }
    },
    {
      "cell_type": "code",
      "source": [
        "def make_inference_models():\n",
        "    dec_state_input_h = Input(shape=(200,))\n",
        "    dec_state_input_c = Input(shape=(200,))\n",
        "    dec_states_inputs = [dec_state_input_h, dec_state_input_c]\n",
        "    dec_outputs, state_h, state_c = dec_lstm(dec_embedding,\n",
        "                                             initial_state=dec_states_inputs)\n",
        "    dec_states = [state_h, state_c]\n",
        "    dec_outputs = dec_dense(dec_outputs)\n",
        "    dec_model = Model(\n",
        "        inputs=[dec_inputs] + dec_states_inputs,\n",
        "        outputs=[dec_outputs] + dec_states)\n",
        "    print('Inference decoder:')\n",
        "    dec_model.summary()\n",
        "    print('Inference encoder:')\n",
        "    enc_model = Model(inputs=enc_inputs, outputs=enc_states)\n",
        "    enc_model.summary()\n",
        "    return enc_model, dec_model"
      ],
      "metadata": {
        "id": "LfxMS6FQg5-C"
      },
      "execution_count": 60,
      "outputs": []
    },
    {
      "cell_type": "code",
      "source": [
        "\n",
        "def str_to_tokens(sentence: str):\n",
        "    words = sentence.lower().split()\n",
        "    tokens_list = list()\n",
        "    for current_word in words:\n",
        "        result = tokenizer.word_index.get(current_word, '')\n",
        "        if result != '':\n",
        "            tokens_list.append(result)\n",
        "    return pad_sequences([tokens_list],\n",
        "                         maxlen=maxlen_questions,\n",
        "                         padding='post')\n"
      ],
      "metadata": {
        "id": "NBdJ1Sey9jz8"
      },
      "execution_count": 61,
      "outputs": []
    },
    {
      "cell_type": "code",
      "source": [
        "enc_model, dec_model = make_inference_models()"
      ],
      "metadata": {
        "colab": {
          "base_uri": "https://localhost:8080/"
        },
        "id": "Cvh2pfDd9t4E",
        "outputId": "d5f1f31f-cbbf-4587-9f2a-f47986dea687"
      },
      "execution_count": 62,
      "outputs": [
        {
          "output_type": "stream",
          "name": "stdout",
          "text": [
            "Inference decoder:\n",
            "Model: \"model_4\"\n",
            "__________________________________________________________________________________________________\n",
            " Layer (type)                   Output Shape         Param #     Connected to                     \n",
            "==================================================================================================\n",
            " input_8 (InputLayer)           [(None, None)]       0           []                               \n",
            "                                                                                                  \n",
            " embedding_7 (Embedding)        (None, None, 200)    1006400     ['input_8[0][0]']                \n",
            "                                                                                                  \n",
            " input_9 (InputLayer)           [(None, 200)]        0           []                               \n",
            "                                                                                                  \n",
            " input_10 (InputLayer)          [(None, 200)]        0           []                               \n",
            "                                                                                                  \n",
            " lstm_7 (LSTM)                  [(None, None, 200),  320800      ['embedding_7[0][0]',            \n",
            "                                 (None, 200),                     'input_9[0][0]',                \n",
            "                                 (None, 200)]                     'input_10[0][0]']               \n",
            "                                                                                                  \n",
            " dense_3 (Dense)                (None, None, 5032)   1011432     ['lstm_7[1][0]']                 \n",
            "                                                                                                  \n",
            "==================================================================================================\n",
            "Total params: 2,338,632\n",
            "Trainable params: 1,332,232\n",
            "Non-trainable params: 1,006,400\n",
            "__________________________________________________________________________________________________\n",
            "Inference encoder:\n",
            "Model: \"model_5\"\n",
            "_________________________________________________________________\n",
            " Layer (type)                Output Shape              Param #   \n",
            "=================================================================\n",
            " input_7 (InputLayer)        [(None, None)]            0         \n",
            "                                                                 \n",
            " embedding_6 (Embedding)     (None, None, 200)         1006400   \n",
            "                                                                 \n",
            " lstm_6 (LSTM)               [(None, 200),             320800    \n",
            "                              (None, 200),                       \n",
            "                              (None, 200)]                       \n",
            "                                                                 \n",
            "=================================================================\n",
            "Total params: 1,327,200\n",
            "Trainable params: 320,800\n",
            "Non-trainable params: 1,006,400\n",
            "_________________________________________________________________\n"
          ]
        }
      ]
    },
    {
      "cell_type": "code",
      "source": [
        "test_cases = [\n",
        "              'where have you been ?',\n",
        "              'what is your name ?',\n",
        "              'where are you from ?',\n",
        "              'what do you want to drink ?',\n",
        "]"
      ],
      "metadata": {
        "id": "N0LAQ3gwPlov"
      },
      "execution_count": 63,
      "outputs": []
    },
    {
      "cell_type": "code",
      "source": [
        "for s in test_cases:\n",
        "  inp = s\n",
        "  states_values = enc_model.predict(str_to_tokens(inp))\n",
        "  empty_target_seq = np.zeros((1, 1))\n",
        "  empty_target_seq[0, 0] = tokenizer.word_index['<start>']\n",
        "  stop_condition = False\n",
        "  decoded_translation = ''\n",
        "\n",
        "  while not stop_condition:\n",
        "      dec_outputs, h, c = dec_model.predict([empty_target_seq]\n",
        "                                            + states_values)\n",
        "      sampled_word_index = np.argmax(dec_outputs[0, -1, :])\n",
        "      sampled_word = None\n",
        "      for word, index in tokenizer.word_index.items():\n",
        "          if sampled_word_index == index:\n",
        "              if word != '<end>':\n",
        "                  decoded_translation += ' {}'.format(word)\n",
        "              sampled_word = word\n",
        "\n",
        "      if sampled_word == '<end>' \\\n",
        "              or len(decoded_translation.split()) \\\n",
        "              > maxlen_answers:\n",
        "          stop_condition = True\n",
        "\n",
        "      empty_target_seq = np.zeros((1, 1))\n",
        "      empty_target_seq[0, 0] = sampled_word_index\n",
        "      states_values = [h, c]\n",
        "\n",
        "  print(inp)\n",
        "  print(decoded_translation)\n",
        "  print('***************')"
      ],
      "metadata": {
        "id": "2tueLYjyPUJw",
        "colab": {
          "base_uri": "https://localhost:8080/"
        },
        "outputId": "bc3b2e2f-c12f-4094-b782-cbea10539c85"
      },
      "execution_count": null,
      "outputs": [
        {
          "output_type": "stream",
          "name": "stdout",
          "text": [
            "where have you been ?\n",
            " i am not sure .\n",
            "***************\n",
            "what is your name ?\n",
            " it is a little place , but i am not sure .\n",
            "***************\n",
            "where are you from ?\n",
            " i am not sure .\n",
            "***************\n",
            "what do you want to drink ?\n",
            " i am going to get a few times in the evening .\n",
            "***************\n"
          ]
        }
      ]
    },
    {
      "cell_type": "markdown",
      "source": [
        "# Question 5"
      ],
      "metadata": {
        "id": "IQsrVKnpQdeu"
      }
    },
    {
      "cell_type": "markdown",
      "source": [
        "I have already illustrated loss and accuracy for train and validation sets for both LSTM and Transformers.\n",
        "\n",
        "LSTM takes around 100 seconds per epoch while transformers takes around 250 seconds per epoch. While both are trained on the same lenght train set, transformer has 5 times more parameter than LSTM. So, Considering the number of parameters, transformers run faster. This lies in thier capability to utilize multiprocessing. In fact, transformers treat the input data as a set of tokens, unlike LSTM that treat inputs as sequences. So, LSTM cannot utilize multiprocssing and parrallalization and this makes them slow.\n",
        "\n",
        "In terms of accuracy, transformers with 31% accuracy outperform LSTM with 26%. This, in part, is on account of attention mechanism that transformers have.\n",
        "\n",
        "Regarding val_los, LSTM, with 1.51 val_loss, perform better than transformer. This might be due to too many parameters of transformers. Perhaps, I should have used fewer number of encoder-decoder blocks."
      ],
      "metadata": {
        "id": "9V6xqD4QQn7g"
      }
    },
    {
      "cell_type": "code",
      "source": [
        ""
      ],
      "metadata": {
        "id": "nOSmPkNoVf6f"
      },
      "execution_count": null,
      "outputs": []
    },
    {
      "cell_type": "code",
      "source": [
        ""
      ],
      "metadata": {
        "id": "WiNaR1dBQgCS"
      },
      "execution_count": null,
      "outputs": []
    }
  ],
  "metadata": {
    "kernelspec": {
      "display_name": "Python 3",
      "language": "python",
      "name": "python3"
    },
    "language_info": {
      "codemirror_mode": {
        "name": "ipython",
        "version": 3
      },
      "file_extension": ".py",
      "mimetype": "text/x-python",
      "name": "python",
      "nbconvert_exporter": "python",
      "pygments_lexer": "ipython3",
      "version": "3.5.5"
    },
    "colab": {
      "name": "HW6_MohammadrezaArdestani_PART_2_Version_2.ipynb",
      "provenance": [],
      "collapsed_sections": []
    }
  },
  "nbformat": 4,
  "nbformat_minor": 0
}