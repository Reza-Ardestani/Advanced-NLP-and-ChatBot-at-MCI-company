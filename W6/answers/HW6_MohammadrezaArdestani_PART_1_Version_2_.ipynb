{
  "nbformat": 4,
  "nbformat_minor": 0,
  "metadata": {
    "colab": {
      "name": "HW6_MohammadrezaArdestani_PART_1_Version_2_.ipynb",
      "provenance": [],
      "collapsed_sections": []
    },
    "kernelspec": {
      "display_name": "Python 3",
      "language": "python",
      "name": "python3"
    },
    "language_info": {
      "codemirror_mode": {
        "name": "ipython",
        "version": 3
      },
      "file_extension": ".py",
      "mimetype": "text/x-python",
      "name": "python",
      "nbconvert_exporter": "python",
      "pygments_lexer": "ipython3",
      "version": "3.7.0"
    },
    "accelerator": "GPU"
  },
  "cells": [
    {
      "cell_type": "code",
      "source": [
        "#  In production mode we just load the best model and don't train it\n",
        "# DEBUG_MODE = not(PRODUCTION_MODE)\n",
        "PRODUCTION_MODE = True"
      ],
      "metadata": {
        "id": "ZXzZSpaxsNQ8"
      },
      "execution_count": 1,
      "outputs": []
    },
    {
      "cell_type": "code",
      "source": [
        "# load the best transformer \n",
        "!gdown --id '1RQFMi-Nl4vbWyxzpmGB4k4kToyA5jzCh'"
      ],
      "metadata": {
        "id": "j_aq7Av7s1h8",
        "colab": {
          "base_uri": "https://localhost:8080/"
        },
        "outputId": "885b7780-e789-4954-eb85-b3799bff05eb"
      },
      "execution_count": 2,
      "outputs": [
        {
          "output_type": "stream",
          "name": "stdout",
          "text": [
            "Downloading...\n",
            "From: https://drive.google.com/uc?id=1RQFMi-Nl4vbWyxzpmGB4k4kToyA5jzCh\n",
            "To: /content/trans_seq2seq_trainable_TRUE-004--0.283362.h5\n",
            "100% 57.6M/57.6M [00:00<00:00, 163MB/s]\n"
          ]
        }
      ]
    },
    {
      "cell_type": "markdown",
      "metadata": {
        "id": "Hmfg1PQ9xTvu"
      },
      "source": [
        "## Setup"
      ]
    },
    {
      "cell_type": "code",
      "metadata": {
        "id": "K6MgRHMPxTvv"
      },
      "source": [
        "import pathlib\n",
        "import random\n",
        "import string\n",
        "import re\n",
        "import numpy as np\n",
        "import tensorflow as tf\n",
        "from tensorflow import keras\n",
        "from tensorflow.keras import layers\n",
        "from tensorflow.keras.layers import TextVectorization"
      ],
      "execution_count": 4,
      "outputs": []
    },
    {
      "cell_type": "markdown",
      "metadata": {
        "id": "2BinwcsqfM40"
      },
      "source": [
        "## Preparing the data"
      ]
    },
    {
      "cell_type": "code",
      "metadata": {
        "id": "808G4THdnm_6"
      },
      "source": [
        "import pandas as pd\n",
        "import re\n",
        "\n",
        "def preprocess_sentence(sentence, max_len= 40):\n",
        "  sentence = sentence.lower().strip()\n",
        "  # creating a space between a word and the punctuation following it\n",
        "  # eg: \"he is a boy.\" => \"he is a boy .\"\n",
        "  sentence = re.sub(r\"([?.!,])\", r\" \\1 \", sentence)\n",
        "  sentence = re.sub(r'[\" \"]+', \" \", sentence)\n",
        "  # removing contractions\n",
        "  sentence = re.sub(r\"i'm\", \"i am\", sentence)\n",
        "  sentence = re.sub(r\"he's\", \"he is\", sentence)\n",
        "  sentence = re.sub(r\"she's\", \"she is\", sentence)\n",
        "  sentence = re.sub(r\"it's\", \"it is\", sentence)\n",
        "  sentence = re.sub(r\"that's\", \"that is\", sentence)\n",
        "  sentence = re.sub(r\"what's\", \"what is\", sentence)\n",
        "  sentence = re.sub(r\"where's\", \"where is\", sentence)\n",
        "  sentence = re.sub(r\"how's\", \"how is\", sentence)\n",
        "  sentence = re.sub(r\"\\'ll\", \" will\", sentence)\n",
        "  sentence = re.sub(r\"\\'ve\", \" have\", sentence)\n",
        "  sentence = re.sub(r\"\\'re\", \" are\", sentence)\n",
        "  sentence = re.sub(r\"\\'d\", \" would\", sentence)\n",
        "  sentence = re.sub(r\"\\'re\", \" are\", sentence)\n",
        "  sentence = re.sub(r\"won't\", \"will not\", sentence)\n",
        "  sentence = re.sub(r\"can't\", \"cannot\", sentence)\n",
        "  sentence = re.sub(r\"n't\", \" not\", sentence)\n",
        "  sentence = re.sub(r\"n'\", \"ng\", sentence)\n",
        "  sentence = re.sub(r\"'bout\", \"about\", sentence)\n",
        "  # replacing everything with space except (a-z, A-Z, \".\", \"?\", \"!\", \",\")\n",
        "  sentence = re.sub(r\"[^a-zA-Z?.!,]+\", \" \", sentence)\n",
        "  # remove extra spaces  \" hi     man  \" --> \" hi man \"\n",
        "  sentence = re.sub(' +', ' ', sentence)\n",
        "  sentence = sentence.strip()\n",
        "  sentence = ' '.join(sentence.split(' ')[:max_len])\n",
        "  return sentence\n"
      ],
      "execution_count": 5,
      "outputs": []
    },
    {
      "cell_type": "code",
      "source": [
        "!gdown --id 1DeItE4GAV1sF_39aYxAz9qijZFJpfVYE # train set"
      ],
      "metadata": {
        "colab": {
          "base_uri": "https://localhost:8080/"
        },
        "id": "8Cq9wFxHruKs",
        "outputId": "00194694-049d-4f62-8fac-a1763851fe1c"
      },
      "execution_count": 6,
      "outputs": [
        {
          "output_type": "stream",
          "name": "stdout",
          "text": [
            "Downloading...\n",
            "From: https://drive.google.com/uc?id=1DeItE4GAV1sF_39aYxAz9qijZFJpfVYE\n",
            "To: /content/dialogues_train.txt\n",
            "\r  0% 0.00/6.04M [00:00<?, ?B/s]\r100% 6.04M/6.04M [00:00<00:00, 79.8MB/s]\n"
          ]
        }
      ]
    },
    {
      "cell_type": "code",
      "source": [
        "!gdown --id 1zIyapuv4_EHhPPqj9EHXy9XyigOssNvA # test/holdout set"
      ],
      "metadata": {
        "colab": {
          "base_uri": "https://localhost:8080/"
        },
        "id": "wHSySuNKrzmr",
        "outputId": "0d2f4277-8b82-4164-e377-603a5d323941"
      },
      "execution_count": 7,
      "outputs": [
        {
          "output_type": "stream",
          "name": "stdout",
          "text": [
            "Downloading...\n",
            "From: https://drive.google.com/uc?id=1zIyapuv4_EHhPPqj9EHXy9XyigOssNvA\n",
            "To: /content/dialogues_test.txt\n",
            "\r  0% 0.00/544k [00:00<?, ?B/s]\r100% 544k/544k [00:00<00:00, 133MB/s]\n"
          ]
        }
      ]
    },
    {
      "cell_type": "code",
      "source": [
        "!gdown --id 1mGQGsFRV7cR4SuNddHSI5imYAJkgDjpo # val/dev"
      ],
      "metadata": {
        "colab": {
          "base_uri": "https://localhost:8080/"
        },
        "id": "d8PW_fNzsdN-",
        "outputId": "9911b00f-3cd2-4bff-f00f-34ac46527431"
      },
      "execution_count": 8,
      "outputs": [
        {
          "output_type": "stream",
          "name": "stdout",
          "text": [
            "Downloading...\n",
            "From: https://drive.google.com/uc?id=1mGQGsFRV7cR4SuNddHSI5imYAJkgDjpo\n",
            "To: /content/dialogues_validation.txt\n",
            "\r  0% 0.00/558k [00:00<?, ?B/s]\r100% 558k/558k [00:00<00:00, 108MB/s]\n"
          ]
        }
      ]
    },
    {
      "cell_type": "code",
      "source": [
        "def read_dataset(path, max_records = 0):\n",
        "  text = []\n",
        "\n",
        "\n",
        "  with open(path, 'r') as f:\n",
        "    for line in f:\n",
        "      line = line.rstrip()\n",
        "      # print(line)\n",
        "      res = line.split('__eou__')\n",
        "\n",
        "      for i in range(0, len(res)-2):\n",
        "        sent_1 = preprocess_sentence(res[i], max_len= 40)\n",
        "        sent_2 = preprocess_sentence(res[i+1], max_len= 38)\n",
        "        text.append(sent_1)\n",
        "        text.append(\"[start] \" + sent_2 + \" [end]\")\n",
        "        if max_records > 0 and len(text) == max_records:\n",
        "          return text\n",
        "\n",
        "  return text\n"
      ],
      "metadata": {
        "id": "dx6k30gX_cxI"
      },
      "execution_count": 9,
      "outputs": []
    },
    {
      "cell_type": "code",
      "source": [
        "\n",
        "train_text = read_dataset('dialogues_train.txt' , max_records = 5000)\n",
        "test_text = read_dataset('dialogues_test.txt', max_records = 5000)\n",
        "valid_text = read_dataset('dialogues_validation.txt', max_records = 5000)"
      ],
      "metadata": {
        "id": "JkMagaNm4STg"
      },
      "execution_count": 10,
      "outputs": []
    },
    {
      "cell_type": "code",
      "metadata": {
        "id": "nGBzPjccvSa0"
      },
      "source": [
        "dataset = train_text + test_text + valid_text"
      ],
      "execution_count": 11,
      "outputs": []
    },
    {
      "cell_type": "code",
      "source": [
        "len(train_text)"
      ],
      "metadata": {
        "colab": {
          "base_uri": "https://localhost:8080/"
        },
        "id": "mVAQIxHu3vGi",
        "outputId": "f33f1f52-f94c-41f8-81b8-a6d8cab7b560"
      },
      "execution_count": 12,
      "outputs": [
        {
          "output_type": "execute_result",
          "data": {
            "text/plain": [
              "5000"
            ]
          },
          "metadata": {},
          "execution_count": 12
        }
      ]
    },
    {
      "cell_type": "code",
      "metadata": {
        "id": "3lYjtkqCwoE-"
      },
      "source": [
        "index = len(train_text)\n",
        "train_input = [train_text[i] for i in range(0,index) if i % 2 == 0]\n",
        "train_output = [train_text[i] for i in range(0,index) if i % 2 == 1]\n",
        "train_pairs = [(train, test) for train, test in zip(train_input, train_output)]"
      ],
      "execution_count": 13,
      "outputs": []
    },
    {
      "cell_type": "code",
      "source": [
        "next(zip(train_input, train_output)) "
      ],
      "metadata": {
        "colab": {
          "base_uri": "https://localhost:8080/"
        },
        "id": "lW3T9uov6ZK7",
        "outputId": "ef41ecc5-c0af-498a-96ce-09c35203ad2a"
      },
      "execution_count": 14,
      "outputs": [
        {
          "output_type": "execute_result",
          "data": {
            "text/plain": [
              "('say , jim , how about going for a few beers after dinner ?',\n",
              " '[start] you know that is tempting but is really not good for our fitness . [end]')"
            ]
          },
          "metadata": {},
          "execution_count": 14
        }
      ]
    },
    {
      "cell_type": "code",
      "source": [
        "max([len(x.split(' ')) for x in train_input]), max([len(x.split(' ')) for x in train_output])"
      ],
      "metadata": {
        "colab": {
          "base_uri": "https://localhost:8080/"
        },
        "id": "siEaNPIQ5jtZ",
        "outputId": "edd4f13f-765a-4838-d7b6-44731d2993b6"
      },
      "execution_count": 15,
      "outputs": [
        {
          "output_type": "execute_result",
          "data": {
            "text/plain": [
              "(40, 40)"
            ]
          },
          "metadata": {},
          "execution_count": 15
        }
      ]
    },
    {
      "cell_type": "code",
      "metadata": {
        "id": "Ve4nIJgixxU-"
      },
      "source": [
        "index = len(test_text)\n",
        "test_input = [test_text[i] for i in range(0,index) if i % 2 == 0]\n",
        "test_output = [test_text[i] for i in range(0,index) if i % 2 == 1]\n",
        "test_pairs = [(train, test) for train, test in zip(test_input, test_output)]"
      ],
      "execution_count": 16,
      "outputs": []
    },
    {
      "cell_type": "code",
      "metadata": {
        "id": "cbyqjVOOx3hi"
      },
      "source": [
        "index = len(valid_text)\n",
        "val_input = [valid_text[i] for i in range(0,index) if i % 2 == 0]\n",
        "val_output = [valid_text[i] for i in range(0,index) if i % 2 == 1]\n",
        "val_pairs = [(train, test) for train, test in zip(val_input, val_output)]"
      ],
      "execution_count": 17,
      "outputs": []
    },
    {
      "cell_type": "markdown",
      "metadata": {
        "id": "ECP_LoVmxTv2"
      },
      "source": [
        "## Vectorizing the text data\n",
        "\n",
        "We'll use a instance of the `TextVectorization` layer to vectorize the text\n",
        "data,\n",
        "that is to say, to turn the original strings into integer sequences\n",
        "where each integer represents the index of a word in a vocabulary.\n",
        "\n",
        "We use the default string standardization (strip punctuation characters)\n",
        "and splitting scheme (split on whitespace).\n",
        "\n"
      ]
    },
    {
      "cell_type": "code",
      "metadata": {
        "id": "7R3hoTFLxTv3"
      },
      "source": [
        "vocab_size = 6000\n",
        "sequence_length = 40\n",
        "batch_size = 64\n",
        "\n",
        "p = string.punctuation\n",
        "enc_strip = p.replace(\"?\",\n",
        "                      \"\").replace(\"!\", \"\").replace(\".\", \"\").replace(\",\", \"\")\n",
        "\n",
        "p = string.punctuation\n",
        "dec_strip = p.replace(\"[\", \"\").replace(\"]\",\n",
        "        \"\").replace(\"?\", \"\").replace(\"!\", \"\").replace(\".\", \"\").replace(\",\", \"\")\n",
        "\n",
        "def enc_custom_standardization(input_string):\n",
        "    lowercase = tf.strings.lower(input_string)\n",
        "    return tf.strings.regex_replace(lowercase, \"[%s]\" % re.escape(enc_strip), \"\")\n",
        "\n",
        "enc_vectorization = TextVectorization(\n",
        "    max_tokens=vocab_size, output_mode=\"int\", output_sequence_length=sequence_length,\n",
        "    standardize = enc_custom_standardization\n",
        ")\n",
        "\n",
        "\n",
        "\n",
        "def dec_custom_standardization(input_string):\n",
        "    lowercase = tf.strings.lower(input_string)\n",
        "    return tf.strings.regex_replace(lowercase, \"[%s]\" % re.escape(dec_strip), \"\")\n",
        "\n",
        "dec_vectorization = TextVectorization(\n",
        "    max_tokens=vocab_size, output_mode=\"int\", output_sequence_length=sequence_length+1,\n",
        "    standardize=dec_custom_standardization,\n",
        ")\n",
        "\n",
        "index = len(dataset)\n",
        "inp_texts = [dataset[i] for i in range(0,index) if i % 2 == 0]\n",
        "out_texts = [dataset[i] for i in range(0,index) if i % 2 == 1]\n",
        "\n",
        "\n",
        "enc_vectorization.adapt(inp_texts)\n",
        "dec_vectorization.adapt(out_texts)\n"
      ],
      "execution_count": 18,
      "outputs": []
    },
    {
      "cell_type": "code",
      "source": [
        "enc_vectorization.vocabulary_size(), len(enc_vectorization.get_vocabulary())"
      ],
      "metadata": {
        "colab": {
          "base_uri": "https://localhost:8080/"
        },
        "id": "aZtElsXX94sM",
        "outputId": "eacac484-54cd-4817-da6c-aea1f6516736"
      },
      "execution_count": 19,
      "outputs": [
        {
          "output_type": "execute_result",
          "data": {
            "text/plain": [
              "(6000, 6000)"
            ]
          },
          "metadata": {},
          "execution_count": 19
        }
      ]
    },
    {
      "cell_type": "code",
      "source": [
        "dec_vectorization.vocabulary_size(), len(dec_vectorization.get_vocabulary())"
      ],
      "metadata": {
        "colab": {
          "base_uri": "https://localhost:8080/"
        },
        "id": "X0YKqgG0CR68",
        "outputId": "4d075195-b4f0-4fcc-cb6e-b11e5a8c0838"
      },
      "execution_count": 20,
      "outputs": [
        {
          "output_type": "execute_result",
          "data": {
            "text/plain": [
              "(6000, 6000)"
            ]
          },
          "metadata": {},
          "execution_count": 20
        }
      ]
    },
    {
      "cell_type": "code",
      "source": [
        "enc_vectorization.get_vocabulary()[:10]"
      ],
      "metadata": {
        "colab": {
          "base_uri": "https://localhost:8080/"
        },
        "id": "eQj5zeWW-SMq",
        "outputId": "61060d2d-cbd7-4f06-89f0-1a2fc3a97439"
      },
      "execution_count": 21,
      "outputs": [
        {
          "output_type": "execute_result",
          "data": {
            "text/plain": [
              "['', '[UNK]', '.', ',', 'i', 'you', '?', 'the', 'to', 'a']"
            ]
          },
          "metadata": {},
          "execution_count": 21
        }
      ]
    },
    {
      "cell_type": "code",
      "source": [
        "# manipulate the dataset to suit our manually fixed vacab_size (=6000)\n",
        "# and our [UNK] token\n",
        "# In other words, we are going to replace all words out of our 6000 \n",
        "# defined vocab list and then feed this corpus to our model."
      ],
      "metadata": {
        "id": "WMteBHmApaUc"
      },
      "execution_count": 22,
      "outputs": []
    },
    {
      "cell_type": "code",
      "source": [
        "def modifier(list_of_sentences, vocab, vectorizer):\n",
        "  sentences = list_of_sentences.copy()\n",
        "  for i in range(len(sentences)):\n",
        "    token_ids = vectorizer(sentences[i]).numpy()\n",
        "    split = sentences[i].split(' ')\n",
        "    if len(token_ids) < len(split):\n",
        "      print('The string is empty')\n",
        "      print(i,sentences[i])\n",
        "      break\n",
        "    for j in range(len(split)):\n",
        "      split[j] = vocab[token_ids[j]]\n",
        "    \n",
        "    # len of split and non-pad tokens should be equal\n",
        "    if len(token_ids) > len(split) and token_ids[len(split)] !=0:\n",
        "      print(f'an error happened for {sentences[i]}')\n",
        "    sentences[i] = split\n",
        "\n",
        "  return sentences\n",
        "\n",
        "\n",
        "enc_vocab = enc_vectorization.get_vocabulary()\n",
        "dec_vocab = dec_vectorization.get_vocabulary()\n",
        "# modifiend and tokenized text\n",
        "modified_inp_texts = modifier(inp_texts,\n",
        "                              enc_vocab,\n",
        "                              enc_vectorization)\n",
        "modified_out_texts = modifier(out_texts,\n",
        "                              dec_vocab,\n",
        "                              dec_vectorization)"
      ],
      "metadata": {
        "id": "iwiMlgKMsGnR"
      },
      "execution_count": 23,
      "outputs": []
    },
    {
      "cell_type": "code",
      "source": [
        "# Calculating W2V embedding wieghts for both \n",
        "# encoder-embedding and decoder-embedding parts\n",
        "from gensim.models.word2vec import Word2Vec\n",
        "from multiprocessing import cpu_count\n",
        "cores = cpu_count()\n",
        "\n",
        "embedding_dim = 300\n",
        "\n",
        "\n",
        "enc_w2v = Word2Vec(\n",
        "    size = embedding_dim,\n",
        "    window = 10,\n",
        "    min_count = 1,\n",
        "    workers = cores,\n",
        "    sg = 1\n",
        ")\n",
        "\n",
        "dec_w2v = Word2Vec(\n",
        "    size = embedding_dim,\n",
        "    window = 10,\n",
        "    min_count = 1,\n",
        "    workers = cores,\n",
        "    sg = 1\n",
        ")\n",
        "\n",
        "# we don't pass the first elemnt, padding token. we set its embedding zero\n",
        "enc_w2v.build_vocab([enc_vectorization.get_vocabulary()[1:]])\n",
        "\n",
        "enc_w2v.train(\n",
        "    sentences = modified_inp_texts,\n",
        "    total_examples = len(modified_inp_texts),\n",
        "    epochs = enc_w2v.epochs )\n",
        "\n",
        "# we don't pass the first elemnt, padding token. we set its embedding zero\n",
        "dec_w2v.build_vocab([dec_vectorization.get_vocabulary()[1:]])\n",
        "\n",
        "dec_w2v.train(\n",
        "    sentences = modified_out_texts,\n",
        "    total_examples = len(modified_out_texts),\n",
        "    epochs = dec_w2v.epochs )"
      ],
      "metadata": {
        "colab": {
          "base_uri": "https://localhost:8080/"
        },
        "id": "rSsPf1BTg283",
        "outputId": "33f88a18-636a-457c-b621-cd361439f746"
      },
      "execution_count": 24,
      "outputs": [
        {
          "output_type": "execute_result",
          "data": {
            "text/plain": [
              "(596230, 596230)"
            ]
          },
          "metadata": {},
          "execution_count": 24
        }
      ]
    },
    {
      "cell_type": "code",
      "source": [
        "set(enc_vocab)- set(enc_w2v.wv.vocab.keys()) , set(enc_w2v.wv.vocab.keys()) - set(enc_vocab) \\\n",
        ", len(enc_vocab), len(enc_w2v.wv.vocab.keys())"
      ],
      "metadata": {
        "colab": {
          "base_uri": "https://localhost:8080/"
        },
        "id": "EdmEzm59-tOT",
        "outputId": "12e89aff-20d8-4cc3-c6c8-bf8592c76fe7"
      },
      "execution_count": 25,
      "outputs": [
        {
          "output_type": "execute_result",
          "data": {
            "text/plain": [
              "({''}, set(), 6000, 5999)"
            ]
          },
          "metadata": {},
          "execution_count": 25
        }
      ]
    },
    {
      "cell_type": "code",
      "source": [
        "set(dec_vocab)- set(dec_w2v.wv.vocab.keys()) , set(dec_w2v.wv.vocab.keys()) - set(dec_vocab) \\\n",
        ", len(dec_vocab), len(dec_w2v.wv.vocab.keys())"
      ],
      "metadata": {
        "colab": {
          "base_uri": "https://localhost:8080/"
        },
        "id": "F-_cR92TLIxQ",
        "outputId": "16f776c8-c344-4613-91d2-d639b97ff3c3"
      },
      "execution_count": 26,
      "outputs": [
        {
          "output_type": "execute_result",
          "data": {
            "text/plain": [
              "({''}, set(), 6000, 5999)"
            ]
          },
          "metadata": {},
          "execution_count": 26
        }
      ]
    },
    {
      "cell_type": "code",
      "source": [
        "tt = 'say , jim , how about going for a few beers after dinner ?'\n",
        "enc_vectorization(tt)"
      ],
      "metadata": {
        "colab": {
          "base_uri": "https://localhost:8080/"
        },
        "id": "PPSoHzKo9S_E",
        "outputId": "be456151-1c50-4624-e0b5-1301d20911cf"
      },
      "execution_count": 27,
      "outputs": [
        {
          "output_type": "execute_result",
          "data": {
            "text/plain": [
              "<tf.Tensor: shape=(40,), dtype=int64, numpy=\n",
              "array([ 138,    3,  648,    3,   37,   41,   80,   18,    9,  180, 2396,\n",
              "        164,  477,    6,    0,    0,    0,    0,    0,    0,    0,    0,\n",
              "          0,    0,    0,    0,    0,    0,    0,    0,    0,    0,    0,\n",
              "          0,    0,    0,    0,    0,    0,    0])>"
            ]
          },
          "metadata": {},
          "execution_count": 27
        }
      ]
    },
    {
      "cell_type": "code",
      "source": [
        "dec_w2v.wv['[UNK]'].reshape(1, -1)[0].shape"
      ],
      "metadata": {
        "colab": {
          "base_uri": "https://localhost:8080/"
        },
        "id": "6Vf54x8zQIM7",
        "outputId": "bb853c8c-80c7-414e-bd47-90dbae6469e9"
      },
      "execution_count": 28,
      "outputs": [
        {
          "output_type": "execute_result",
          "data": {
            "text/plain": [
              "(300,)"
            ]
          },
          "metadata": {},
          "execution_count": 28
        }
      ]
    },
    {
      "cell_type": "code",
      "source": [
        "def embedding_matrix_maker(voc_s, emb_s,w2v_model,vocab_list):\n",
        "  \"\"\"\n",
        "  note1: fist element of vocab list is '', which is our padding token\n",
        "  and should have a zero vector as its embedding \n",
        "  \"\"\"\n",
        "  weights = np.zeros((voc_s, emb_s))\n",
        "  for i in range(1,len(vocab_list)) :\n",
        "    weights[i] = w2v_model.wv[vocab_list[i]].reshape(1, -1)[0]\n",
        "    \n",
        "  return weights "
      ],
      "metadata": {
        "id": "m3zrqRGAXmFR"
      },
      "execution_count": 29,
      "outputs": []
    },
    {
      "cell_type": "code",
      "source": [
        "enc_embed_weights = embedding_matrix_maker(vocab_size,\n",
        "                                           embedding_dim,\n",
        "                                           enc_w2v,\n",
        "                                           enc_vocab)\n",
        "\n",
        "\n",
        "dec_embed_weights = embedding_matrix_maker(vocab_size,\n",
        "                                           embedding_dim,\n",
        "                                           dec_w2v,\n",
        "                                           dec_vocab)"
      ],
      "metadata": {
        "id": "U8dVIeC3Sq9Z"
      },
      "execution_count": 30,
      "outputs": []
    },
    {
      "cell_type": "markdown",
      "metadata": {
        "id": "sAWYLGK7RmNx"
      },
      "source": [
        "## Decoder input:\n"
      ]
    },
    {
      "cell_type": "markdown",
      "metadata": {
        "id": "1LwuKcgVxTv4"
      },
      "source": [
        "Next, we'll format our datasets.\n",
        "\n",
        "At each training step, the model will seek to predict target words N+1 (and beyond)\n",
        "using the source sentence and the target words 0 to N.\n",
        "\n",
        "As such, the training dataset will yield a tuple `(inputs, targets)`, where:\n",
        "\n",
        "- `inputs` is a dictionary with the keys `encoder_inputs` and `decoder_inputs`.\n",
        "`encoder_inputs` is the vectorized source sentence and `encoder_inputs` is the target sentence \"so far\",\n",
        "that is to say, the words 0 to N used to predict word N+1 (and beyond) in the target sentence.\n",
        "- `target` is the target sentence offset by one step:\n",
        "it provides the next words in the target sentence -- what the model will try to predict."
      ]
    },
    {
      "cell_type": "code",
      "metadata": {
        "id": "eptR75PKxTv5"
      },
      "source": [
        "def format_dataset(inp, out):\n",
        "    inp = enc_vectorization(inp)\n",
        "    out = dec_vectorization(out)\n",
        "    return ({\"encoder_inputs\": inp, \"decoder_inputs\": out[:, :-1],}, out[:, 1:])\n",
        "\n",
        "\n",
        "def make_dataset(pairs):\n",
        "    inp_texts, out_texts = zip(*pairs)\n",
        "    inp_texts = list(inp_texts)\n",
        "    out_texts = list(out_texts)\n",
        "    dataset = tf.data.Dataset.from_tensor_slices((inp_texts, out_texts))\n",
        "    dataset = dataset.batch(batch_size)\n",
        "    dataset = dataset.map(format_dataset)\n",
        "    return dataset.shuffle(2048).prefetch(16).cache()\n",
        "\n",
        "\n",
        "train_ds = make_dataset(train_pairs)\n",
        "val_ds = make_dataset(val_pairs)\n",
        "test_ds = make_dataset(test_pairs)"
      ],
      "execution_count": 31,
      "outputs": []
    },
    {
      "cell_type": "code",
      "metadata": {
        "colab": {
          "base_uri": "https://localhost:8080/"
        },
        "id": "VVAHSg4moi5r",
        "outputId": "1e9b5e3d-9ccb-4237-e22a-f23887268cef"
      },
      "source": [
        "type(train_ds)"
      ],
      "execution_count": 32,
      "outputs": [
        {
          "output_type": "execute_result",
          "data": {
            "text/plain": [
              "tensorflow.python.data.ops.dataset_ops.CacheDataset"
            ]
          },
          "metadata": {},
          "execution_count": 32
        }
      ]
    },
    {
      "cell_type": "markdown",
      "metadata": {
        "id": "eCjbgTwoxTv5"
      },
      "source": [
        "Let's take a quick look at the sequence shapes\n",
        "(we have batches of 64 pairs, and all sequences are 40 steps long):"
      ]
    },
    {
      "cell_type": "code",
      "metadata": {
        "id": "rEvogWfzxTv6",
        "colab": {
          "base_uri": "https://localhost:8080/"
        },
        "outputId": "e6ac8d1d-af76-4749-f6e2-e0e58a89ece4"
      },
      "source": [
        "for inputs, targets in train_ds.take(1):\n",
        "    print(f'inputs[\"encoder_inputs\"].shape: {inputs[\"encoder_inputs\"].shape}')\n",
        "    print(f'inputs[\"decoder_inputs\"].shape: {inputs[\"decoder_inputs\"].shape}')\n",
        "    \n",
        "    print(f\"targets.shape: {targets.shape}\")"
      ],
      "execution_count": 33,
      "outputs": [
        {
          "output_type": "stream",
          "name": "stdout",
          "text": [
            "inputs[\"encoder_inputs\"].shape: (64, 40)\n",
            "inputs[\"decoder_inputs\"].shape: (64, 40)\n",
            "targets.shape: (64, 40)\n"
          ]
        }
      ]
    },
    {
      "cell_type": "markdown",
      "metadata": {
        "id": "JpRVnfihxTv6"
      },
      "source": [
        "## Building the model\n",
        "\n",
        "\n"
      ]
    },
    {
      "cell_type": "code",
      "source": [
        "from tensorflow.keras.initializers import Constant \n",
        "from tensorflow.keras.layers import Embedding\n"
      ],
      "metadata": {
        "id": "gD8POb9fuf3Z"
      },
      "execution_count": 34,
      "outputs": []
    },
    {
      "cell_type": "code",
      "source": [
        "\n",
        "embedding_layer7 = Embedding(\n",
        "    vocab_size,\n",
        "    embedding_dim,\n",
        "    embeddings_initializer= Constant(enc_embed_weights),\n",
        "    trainable=False,\n",
        ")"
      ],
      "metadata": {
        "id": "km2yfRGxvs3W"
      },
      "execution_count": 35,
      "outputs": []
    },
    {
      "cell_type": "code",
      "source": [
        "enc_vectorization(\"[start]\")"
      ],
      "metadata": {
        "id": "JYkcCySIwbGw",
        "colab": {
          "base_uri": "https://localhost:8080/"
        },
        "outputId": "7a3df74a-1925-4722-f2d5-c49d2a42d94f"
      },
      "execution_count": 36,
      "outputs": [
        {
          "output_type": "execute_result",
          "data": {
            "text/plain": [
              "<tf.Tensor: shape=(40,), dtype=int64, numpy=\n",
              "array([289,   0,   0,   0,   0,   0,   0,   0,   0,   0,   0,   0,   0,\n",
              "         0,   0,   0,   0,   0,   0,   0,   0,   0,   0,   0,   0,   0,\n",
              "         0,   0,   0,   0,   0,   0,   0,   0,   0,   0,   0,   0,   0,\n",
              "         0])>"
            ]
          },
          "metadata": {},
          "execution_count": 36
        }
      ]
    },
    {
      "cell_type": "code",
      "source": [
        "embedding_layer7(enc_vectorization(\"[start]\"))[0] == enc_embed_weights[289]"
      ],
      "metadata": {
        "id": "GYUYOIuIwN2A",
        "colab": {
          "base_uri": "https://localhost:8080/"
        },
        "outputId": "de321f9a-105b-45ed-8642-56f465979aa8"
      },
      "execution_count": 37,
      "outputs": [
        {
          "output_type": "execute_result",
          "data": {
            "text/plain": [
              "<tf.Tensor: shape=(300,), dtype=bool, numpy=\n",
              "array([ True,  True,  True,  True,  True,  True,  True,  True,  True,\n",
              "        True,  True,  True,  True,  True,  True,  True,  True,  True,\n",
              "        True,  True,  True,  True,  True,  True,  True,  True,  True,\n",
              "        True,  True,  True,  True,  True,  True,  True,  True,  True,\n",
              "        True,  True,  True,  True,  True,  True,  True,  True,  True,\n",
              "        True,  True,  True,  True,  True,  True,  True,  True,  True,\n",
              "        True,  True,  True,  True,  True,  True,  True,  True,  True,\n",
              "        True,  True,  True,  True,  True,  True,  True,  True,  True,\n",
              "        True,  True,  True,  True,  True,  True,  True,  True,  True,\n",
              "        True,  True,  True,  True,  True,  True,  True,  True,  True,\n",
              "        True,  True,  True,  True,  True,  True,  True,  True,  True,\n",
              "        True,  True,  True,  True,  True,  True,  True,  True,  True,\n",
              "        True,  True,  True,  True,  True,  True,  True,  True,  True,\n",
              "        True,  True,  True,  True,  True,  True,  True,  True,  True,\n",
              "        True,  True,  True,  True,  True,  True,  True,  True,  True,\n",
              "        True,  True,  True,  True,  True,  True,  True,  True,  True,\n",
              "        True,  True,  True,  True,  True,  True,  True,  True,  True,\n",
              "        True,  True,  True,  True,  True,  True,  True,  True,  True,\n",
              "        True,  True,  True,  True,  True,  True,  True,  True,  True,\n",
              "        True,  True,  True,  True,  True,  True,  True,  True,  True,\n",
              "        True,  True,  True,  True,  True,  True,  True,  True,  True,\n",
              "        True,  True,  True,  True,  True,  True,  True,  True,  True,\n",
              "        True,  True,  True,  True,  True,  True,  True,  True,  True,\n",
              "        True,  True,  True,  True,  True,  True,  True,  True,  True,\n",
              "        True,  True,  True,  True,  True,  True,  True,  True,  True,\n",
              "        True,  True,  True,  True,  True,  True,  True,  True,  True,\n",
              "        True,  True,  True,  True,  True,  True,  True,  True,  True,\n",
              "        True,  True,  True,  True,  True,  True,  True,  True,  True,\n",
              "        True,  True,  True,  True,  True,  True,  True,  True,  True,\n",
              "        True,  True,  True,  True,  True,  True,  True,  True,  True,\n",
              "        True,  True,  True,  True,  True,  True,  True,  True,  True,\n",
              "        True,  True,  True,  True,  True,  True,  True,  True,  True,\n",
              "        True,  True,  True,  True,  True,  True,  True,  True,  True,\n",
              "        True,  True,  True])>"
            ]
          },
          "metadata": {},
          "execution_count": 37
        }
      ]
    },
    {
      "cell_type": "code",
      "metadata": {
        "id": "CGLP3RXctWu8"
      },
      "source": [
        "class TransformerEncoder(layers.Layer):\n",
        "    def __init__(self, embed_dim, dense_dim, num_heads, **kwargs):\n",
        "        super(TransformerEncoder, self).__init__(**kwargs)\n",
        "        self.embed_dim = embed_dim\n",
        "        self.dense_dim = dense_dim\n",
        "        self.num_heads = num_heads\n",
        "        self.attention = layers.MultiHeadAttention(\n",
        "            num_heads=num_heads, key_dim=embed_dim\n",
        "        )\n",
        "        self.dense_proj = keras.Sequential(\n",
        "            [layers.Dense(dense_dim, activation=\"relu\"), layers.Dense(embed_dim),]\n",
        "        )\n",
        "        self.layernorm_1 = layers.LayerNormalization()\n",
        "        self.layernorm_2 = layers.LayerNormalization()\n",
        "        self.supports_masking = True\n",
        "\n",
        "    def call(self, inputs, mask=None):\n",
        "        if mask is not None:\n",
        "            padding_mask = tf.cast(mask[:, tf.newaxis, tf.newaxis, :], dtype=\"int32\")\n",
        "        attention_output = self.attention(\n",
        "            query=inputs, value=inputs, key=inputs, attention_mask=padding_mask\n",
        "        )\n",
        "        proj_input = self.layernorm_1(inputs + attention_output)\n",
        "        proj_output = self.dense_proj(proj_input)\n",
        "        return self.layernorm_2(proj_input + proj_output)\n"
      ],
      "execution_count": 38,
      "outputs": []
    },
    {
      "cell_type": "code",
      "metadata": {
        "id": "D_kFlKPHxTv7"
      },
      "source": [
        "class PositionalEmbedding(layers.Layer):\n",
        "    def __init__(self, sequence_length, vocab_size, embed_dim,emb_weights = [],trainable_embed= False,**kwargs):\n",
        "        super(PositionalEmbedding, self).__init__(**kwargs)\n",
        "        if len(emb_weights):\n",
        "          # when embedding == [] \n",
        "          self.token_embeddings = layers.Embedding(\n",
        "              input_dim=vocab_size, output_dim=embed_dim,\n",
        "              trainable=trainable_embed,\n",
        "          )\n",
        "        else:\n",
        "          self.token_embeddings = layers.Embedding(\n",
        "              input_dim=vocab_size, output_dim=embed_dim,\n",
        "              embeddings_initializer= Constant(emb_weights),\n",
        "              trainable=trainable_embed,\n",
        "          )          \n",
        "\n",
        "        self.position_embeddings = layers.Embedding(\n",
        "            input_dim=sequence_length, output_dim=embed_dim\n",
        "        )\n",
        "        self.sequence_length = sequence_length\n",
        "        self.vocab_size = vocab_size\n",
        "        self.embed_dim = embed_dim\n",
        "\n",
        "    def call(self, inputs):\n",
        "        length = tf.shape(inputs)[-1]\n",
        "        positions = tf.range(start=0, limit=length, delta=1)\n",
        "        embedded_tokens = self.token_embeddings(inputs)\n",
        "        embedded_positions = self.position_embeddings(positions)\n",
        "        return embedded_tokens + embedded_positions\n",
        "\n",
        "    def compute_mask(self, inputs, mask=None):\n",
        "        return tf.math.not_equal(inputs, 0)\n",
        "\n",
        "\n"
      ],
      "execution_count": 39,
      "outputs": []
    },
    {
      "cell_type": "code",
      "metadata": {
        "id": "XPBKEDB1tbsV"
      },
      "source": [
        "class TransformerDecoder(layers.Layer):\n",
        "    def __init__(self, embed_dim, latent_dim, num_heads, **kwargs):\n",
        "        super(TransformerDecoder, self).__init__(**kwargs)\n",
        "        self.embed_dim = embed_dim\n",
        "        self.latent_dim = latent_dim\n",
        "        self.num_heads = num_heads\n",
        "        self.attention_1 = layers.MultiHeadAttention(\n",
        "            num_heads=num_heads, key_dim=embed_dim\n",
        "        )\n",
        "        self.attention_2 = layers.MultiHeadAttention(\n",
        "            num_heads=num_heads, key_dim=embed_dim\n",
        "        )\n",
        "        self.dense_proj = keras.Sequential(\n",
        "            [layers.Dense(latent_dim, activation=\"relu\"), layers.Dense(embed_dim),]\n",
        "        )\n",
        "        self.layernorm_1 = layers.LayerNormalization()\n",
        "        self.layernorm_2 = layers.LayerNormalization()\n",
        "        self.layernorm_3 = layers.LayerNormalization()\n",
        "        self.supports_masking = True\n",
        "\n",
        "    def call(self, inputs, encoder_outputs, mask=None):\n",
        "        causal_mask = self.get_causal_attention_mask(inputs)\n",
        "        if mask is not None:\n",
        "            padding_mask = tf.cast(mask[:, tf.newaxis, :], dtype=\"int32\")\n",
        "            padding_mask = tf.minimum(padding_mask, causal_mask)\n",
        "\n",
        "        attention_output_1 = self.attention_1(\n",
        "            query=inputs, value=inputs, key=inputs, attention_mask=causal_mask\n",
        "        )\n",
        "        out_1 = self.layernorm_1(inputs + attention_output_1)\n",
        "\n",
        "        attention_output_2 = self.attention_2(\n",
        "            query=out_1,\n",
        "            value=encoder_outputs,\n",
        "            key=encoder_outputs,\n",
        "            attention_mask=padding_mask,\n",
        "        )\n",
        "        out_2 = self.layernorm_2(out_1 + attention_output_2)\n",
        "\n",
        "        proj_output = self.dense_proj(out_2)\n",
        "        return self.layernorm_3(out_2 + proj_output)\n",
        "\n",
        "    def get_causal_attention_mask(self, inputs):\n",
        "        input_shape = tf.shape(inputs)\n",
        "        batch_size, sequence_length = input_shape[0], input_shape[1]\n",
        "        i = tf.range(sequence_length)[:, tf.newaxis]\n",
        "        j = tf.range(sequence_length)\n",
        "        mask = tf.cast(i >= j, dtype=\"int32\")\n",
        "        mask = tf.reshape(mask, (1, input_shape[1], input_shape[1]))\n",
        "        mult = tf.concat(\n",
        "            [tf.expand_dims(batch_size, -1), tf.constant([1, 1], dtype=tf.int32)],\n",
        "            axis=0,\n",
        "        )\n",
        "        return tf.tile(mask, mult)"
      ],
      "execution_count": 40,
      "outputs": []
    },
    {
      "cell_type": "code",
      "source": [
        "from tensorflow.keras.callbacks import ModelCheckpoint\n",
        "import keras\n",
        "import matplotlib.pyplot as plt\n",
        "#!pip install IPython\n",
        "from IPython.display import clear_output as cls\n",
        "\n",
        "class PlotLosses(keras.callbacks.Callback):\n",
        "\n",
        "  def on_train_begin(self,logs={}):\n",
        "    self.i = 0\n",
        "    self.x = []\n",
        "    self.losses= []\n",
        "    self.val_losses = []\n",
        "    self.fig = plt.figure()\n",
        "    self.logs = []\n",
        "\n",
        "    self.accuracy = []\n",
        "    self.val_accuracy = []\n",
        "\n",
        "  def on_epoch_end(self, epoch, logs={}):\n",
        "    self.logs.append(logs)\n",
        "    self.x.append(self.i)\n",
        "    self.losses.append(logs.get('loss'))\n",
        "    self.val_losses.append(logs.get('val_loss'))    \n",
        "    self.i +=1\n",
        "    self.accuracy.append(logs.get('accuracy'))\n",
        "    self.val_accuracy.append(logs.get('val_accuracy'))\n",
        "\n",
        "    cls(wait=True)\n",
        "    plt.plot(self.x, self.losses, label= 'loss')\n",
        "    plt.plot(self.x, self.val_losses, label= 'val_loss')\n",
        "    plt.legend()\n",
        "    plt.show()\n",
        "\n",
        "    plt.plot(self.x, self.accuracy, label= 'accuracy')\n",
        "    plt.plot(self.x, self.val_accuracy, label= 'val_accuracy')\n",
        "    plt.legend()\n",
        "    plt.show()\n",
        "\n"
      ],
      "metadata": {
        "id": "4tuXBRTDpfmx"
      },
      "execution_count": 41,
      "outputs": []
    },
    {
      "cell_type": "markdown",
      "metadata": {
        "id": "XMCqAj2XxTv8"
      },
      "source": [
        "Next, we assemble the end-to-end model."
      ]
    },
    {
      "cell_type": "markdown",
      "source": [
        "# trainable = TRUE"
      ],
      "metadata": {
        "id": "UWl_q_FUvuC3"
      }
    },
    {
      "cell_type": "code",
      "metadata": {
        "id": "rwo9Fr10xTv8",
        "colab": {
          "base_uri": "https://localhost:8080/"
        },
        "outputId": "f13fc4be-e293-4861-e560-1859b27641b0"
      },
      "source": [
        "embed_dim = embedding_dim\n",
        "latent_dim = 2048\n",
        "num_heads = 6\n",
        "\n",
        "encoder_inputs = keras.Input(shape=(None,), dtype=\"int64\", name=\"encoder_inputs\")\n",
        "x = PositionalEmbedding(sequence_length, vocab_size, embed_dim,emb_weights=enc_embed_weights,trainable_embed=True)(encoder_inputs)\n",
        "encoder_outputs = TransformerEncoder(embed_dim, latent_dim, num_heads)(x)\n",
        "encoder = keras.Model(encoder_inputs, encoder_outputs)\n",
        "\n",
        "decoder_inputs = keras.Input(shape=(None,), dtype=\"int64\", name=\"decoder_inputs\")\n",
        "encoded_seq_inputs = keras.Input(shape=(None, embed_dim), name=\"decoder_state_inputs\")\n",
        "x = PositionalEmbedding(sequence_length, vocab_size, embed_dim,emb_weights=dec_embed_weights,trainable_embed=True)(decoder_inputs)\n",
        "x = TransformerDecoder(embed_dim, latent_dim, num_heads)(x, encoded_seq_inputs)\n",
        "x = layers.Dropout(0.5)(x)\n",
        "decoder_outputs = layers.Dense(vocab_size, activation=\"softmax\")(x)\n",
        "decoder = keras.Model([decoder_inputs, encoded_seq_inputs], decoder_outputs)\n",
        "\n",
        "decoder_outputs = decoder([decoder_inputs, encoder_outputs])\n",
        "transformer = keras.Model(\n",
        "    [encoder_inputs, decoder_inputs], decoder_outputs, name=\"transformer\"\n",
        ")\n",
        "\n",
        "transformer.summary()"
      ],
      "execution_count": 42,
      "outputs": [
        {
          "output_type": "stream",
          "name": "stdout",
          "text": [
            "Model: \"transformer\"\n",
            "__________________________________________________________________________________________________\n",
            " Layer (type)                   Output Shape         Param #     Connected to                     \n",
            "==================================================================================================\n",
            " encoder_inputs (InputLayer)    [(None, None)]       0           []                               \n",
            "                                                                                                  \n",
            " positional_embedding (Position  (None, None, 300)   1812000     ['encoder_inputs[0][0]']         \n",
            " alEmbedding)                                                                                     \n",
            "                                                                                                  \n",
            " decoder_inputs (InputLayer)    [(None, None)]       0           []                               \n",
            "                                                                                                  \n",
            " transformer_encoder (Transform  (None, None, 300)   3398048     ['positional_embedding[0][0]']   \n",
            " erEncoder)                                                                                       \n",
            "                                                                                                  \n",
            " model_1 (Functional)           (None, None, 6000)   9182348     ['decoder_inputs[0][0]',         \n",
            "                                                                  'transformer_encoder[0][0]']    \n",
            "                                                                                                  \n",
            "==================================================================================================\n",
            "Total params: 14,392,396\n",
            "Trainable params: 14,392,396\n",
            "Non-trainable params: 0\n",
            "__________________________________________________________________________________________________\n"
          ]
        }
      ]
    },
    {
      "cell_type": "code",
      "metadata": {
        "id": "NPqL-g2UxTv-",
        "colab": {
          "base_uri": "https://localhost:8080/",
          "height": 548
        },
        "outputId": "0d66434f-cf39-4bfc-b4a2-3e1a6bef12ac"
      },
      "source": [
        "if not PRODUCTION_MODE:\n",
        "  epochs = 7 \n",
        "  plot_losses = PlotLosses()\n",
        "  checkpoint = ModelCheckpoint('/content/trans_seq2seq_trainable_TRUE-{epoch:03d}--{val_accuracy:03f}.h5',\n",
        "                              verbose=1, monitor='val_loss',save_best_only=True,\n",
        "                              save_weights_only=True, mode='min')\n",
        "\n",
        "  transformer.compile(\n",
        "      \"adam\", loss=\"sparse_categorical_crossentropy\", metrics=[\"accuracy\"])\n",
        "\n",
        "\n",
        "\n",
        "  transformer.fit(train_ds,\n",
        "                  epochs=epochs,\n",
        "                  validation_data=val_ds,\n",
        "                  callbacks= [checkpoint,plot_losses])"
      ],
      "execution_count": null,
      "outputs": [
        {
          "output_type": "display_data",
          "data": {
            "text/plain": [
              "<Figure size 432x288 with 1 Axes>"
            ],
            "image/png": "[encoded data removed]"
          },
          "metadata": {
            "needs_background": "light"
          }
        },
        {
          "output_type": "display_data",
          "data": {
            "text/plain": [
              "<Figure size 432x288 with 1 Axes>"
            ],
            "image/png": "[encoded data removed]"
          },
          "metadata": {
            "needs_background": "light"
          }
        },
        {
          "output_type": "stream",
          "name": "stdout",
          "text": [
            "\b\b\b\b\b\b\b\b\b\b\b\b\b\b\b\b\b\b\b\b\b\b\b\b\b\b\b\b\b\b\b\b\b\b\b\b\b\b\b\b\b\b\b\b\b\b\b\b\b\b\b\b\b\b\b\b\b\b\b\b\b\b\b\b\b\b\b\b\b\b\b\b\b\b\b\b\b\b\b\b\b\b\r40/40 [==============================] - 245s 6s/step - loss: 1.2496 - accuracy: 0.3893 - val_loss: 1.8590 - val_accuracy: 0.2817\n"
          ]
        },
        {
          "output_type": "execute_result",
          "data": {
            "text/plain": [
              "<keras.callbacks.History at 0x7f175a158dd0>"
            ]
          },
          "metadata": {},
          "execution_count": 100
        }
      ]
    },
    {
      "cell_type": "code",
      "source": [
        "\"\"\" 40/40 [==============================]\n",
        "- 245s 6s/step - \n",
        "loss: 1.2496 - accuracy: 0.3893 \n",
        "val_loss: 1.8590 - val_accuracy: 0.2817\n",
        "<keras.callbacks.History at 0x7f175a158dd0> \"\"\""
      ],
      "metadata": {
        "id": "LJhbZMpA6RHz"
      },
      "execution_count": null,
      "outputs": []
    },
    {
      "cell_type": "code",
      "source": [
        "%cp '/content/trans_seq2seq_trainable_TRUE-004--0.283362.h5' '/content/drive/MyDrive/chatBot_momtazi/data/6'"
      ],
      "metadata": {
        "id": "IRYgyAGq4qRX"
      },
      "execution_count": null,
      "outputs": []
    },
    {
      "cell_type": "markdown",
      "source": [
        "# Trainable = FALSE"
      ],
      "metadata": {
        "id": "bLSJ464hv62W"
      }
    },
    {
      "cell_type": "code",
      "source": [
        "embed_dim = embedding_dim\n",
        "latent_dim = 2048\n",
        "num_heads = 6\n",
        "\n",
        "encoder_inputs = keras.Input(shape=(None,), dtype=\"int64\", name=\"encoder_inputs\")\n",
        "x = PositionalEmbedding(sequence_length, vocab_size, embed_dim,emb_weights=enc_embed_weights,trainable_embed=False)(encoder_inputs)\n",
        "encoder_outputs = TransformerEncoder(embed_dim, latent_dim, num_heads)(x)\n",
        "encoder = keras.Model(encoder_inputs, encoder_outputs)\n",
        "\n",
        "decoder_inputs = keras.Input(shape=(None,), dtype=\"int64\", name=\"decoder_inputs\")\n",
        "encoded_seq_inputs = keras.Input(shape=(None, embed_dim), name=\"decoder_state_inputs\")\n",
        "x = PositionalEmbedding(sequence_length, vocab_size, embed_dim,emb_weights=dec_embed_weights,trainable_embed=False)(decoder_inputs)\n",
        "x = TransformerDecoder(embed_dim, latent_dim, num_heads)(x, encoded_seq_inputs)\n",
        "x = layers.Dropout(0.5)(x)\n",
        "decoder_outputs = layers.Dense(vocab_size, activation=\"softmax\")(x)\n",
        "decoder = keras.Model([decoder_inputs, encoded_seq_inputs], decoder_outputs)\n",
        "\n",
        "decoder_outputs = decoder([decoder_inputs, encoder_outputs])\n",
        "transformer = keras.Model(\n",
        "    [encoder_inputs, decoder_inputs], decoder_outputs, name=\"transformer\"\n",
        ")\n",
        "transformer.summary()"
      ],
      "metadata": {
        "colab": {
          "base_uri": "https://localhost:8080/"
        },
        "id": "LkWi24Qtv6iO",
        "outputId": "ca5570cf-194d-4bb5-d629-850e069318ee"
      },
      "execution_count": null,
      "outputs": [
        {
          "output_type": "stream",
          "name": "stdout",
          "text": [
            "Model: \"transformer\"\n",
            "__________________________________________________________________________________________________\n",
            " Layer (type)                   Output Shape         Param #     Connected to                     \n",
            "==================================================================================================\n",
            " encoder_inputs (InputLayer)    [(None, None)]       0           []                               \n",
            "                                                                                                  \n",
            " positional_embedding_9 (Positi  (None, None, 300)   1812000     ['encoder_inputs[0][0]']         \n",
            " onalEmbedding)                                                                                   \n",
            "                                                                                                  \n",
            " decoder_inputs (InputLayer)    [(None, None)]       0           []                               \n",
            "                                                                                                  \n",
            " transformer_encoder_4 (Transfo  (None, None, 300)   3398048     ['positional_embedding_9[0][0]'] \n",
            " rmerEncoder)                                                                                     \n",
            "                                                                                                  \n",
            " model_9 (Functional)           (None, None, 6000)   9182348     ['decoder_inputs[0][0]',         \n",
            "                                                                  'transformer_encoder_4[0][0]']  \n",
            "                                                                                                  \n",
            "==================================================================================================\n",
            "Total params: 14,392,396\n",
            "Trainable params: 10,792,396\n",
            "Non-trainable params: 3,600,000\n",
            "__________________________________________________________________________________________________\n"
          ]
        }
      ]
    },
    {
      "cell_type": "code",
      "source": [
        "if not PRODUCTION_MODE:\n",
        "  epochs = 7 \n",
        "  plot_losses = PlotLosses()\n",
        "  checkpoint = ModelCheckpoint('/content/trans_seq2seq_trainable_FALSE-{epoch:03d}--{val_accuracy:03f}.h5',\n",
        "                              verbose=1, monitor='val_loss',save_best_only=True,\n",
        "                              save_weights_only=True, mode='min')\n",
        "\n",
        "\n",
        "  transformer.compile(\n",
        "      \"adam\", loss=\"sparse_categorical_crossentropy\", metrics=[\"accuracy\"]\n",
        "  )\n",
        "  transformer.fit(train_ds,\n",
        "                  epochs=epochs,\n",
        "                  validation_data=val_ds,\n",
        "                  callbacks= [checkpoint,plot_losses])"
      ],
      "metadata": {
        "colab": {
          "base_uri": "https://localhost:8080/",
          "height": 530
        },
        "id": "vvN_Z4JlwOKe",
        "outputId": "ab80247e-fb34-4b7f-aa83-fe2be4fb58bc"
      },
      "execution_count": null,
      "outputs": [
        {
          "output_type": "display_data",
          "data": {
            "text/plain": [
              "<Figure size 432x288 with 1 Axes>"
            ],
            "image/png": "[encoded data removed]"
          },
          "metadata": {
            "needs_background": "light"
          }
        },
        {
          "output_type": "display_data",
          "data": {
            "text/plain": [
              "<Figure size 432x288 with 1 Axes>"
            ],
            "image/png": "[encoded data removed]"
          },
          "metadata": {
            "needs_background": "light"
          }
        },
        {
          "output_type": "stream",
          "name": "stdout",
          "text": [
            "\b\b\b\b\b\b\b\b\b\b\b\b\b\b\b\b\b\b\b\b\b\b\b\b\b\b\b\b\b\b\b\b\b\b\b\b\b\b\b\b\b\b\b\b\b\b\b\b\b\b\b\b\b\b\b\b\b\b\b\b\b\b\b\b\b\b\b\b\b\b\b\b\b\b\b\b\b\b\b\b\b\b\r40/40 [==============================] - 225s 6s/step - loss: 1.4465 - accuracy: 0.3109 - val_loss: 1.8575 - val_accuracy: 0.2804\n"
          ]
        }
      ]
    },
    {
      "cell_type": "code",
      "source": [
        "\"\"\"\n",
        "40/40\n",
        "225s 6s/step\n",
        "loss: 1.8090 - accuracy: 0.2625\n",
        "val_loss: 1.8965 - val_accuracy: 0.2697\n",
        "\n",
        "Epoch 4/7\n",
        "40/40 \n",
        "225s 6s/step \n",
        "loss: 1.7004\n",
        "accuracy: 0.2767\n",
        "val_loss: 1.8614\n",
        "val_accuracy: 0.2772\n",
        "\n",
        "\"\"\""
      ],
      "metadata": {
        "id": "I8RZ1RGUwaqZ"
      },
      "execution_count": null,
      "outputs": []
    },
    {
      "cell_type": "code",
      "source": [
        "%cp '/content/trans_seq2seq_trainable_FALSE-005--0.280659.h5' '/content/drive/MyDrive/chatBot_momtazi/data/6'"
      ],
      "metadata": {
        "id": "3_taOTTxBJRb"
      },
      "execution_count": null,
      "outputs": []
    },
    {
      "cell_type": "markdown",
      "source": [
        "# Trainable TRUE/FALSE Comparsion"
      ],
      "metadata": {
        "id": "gqkfJgdIwbND"
      }
    },
    {
      "cell_type": "markdown",
      "source": [
        "Regarding 'per epoch time': trainable=true takes 245s per epoch while trainable=false takes slightly less time, 225s per epoch.\n",
        "\n",
        "With respect to 'validation loss': trainable=true reaches 1.81 while trainable=false reaches 1.85. Hence, we should set trainable=true in our future experiments. \n",
        "\n",
        "'trainable=false', however, works better in terms of validation accuracy. But loss is more important than acc (ref: https://datascience.stackexchange.com/questions/37186/early-stopping-on-validation-loss-or-on-accuracy)"
      ],
      "metadata": {
        "id": "AZtlsgR2wjHz"
      }
    },
    {
      "cell_type": "markdown",
      "source": [
        "# Load the best model"
      ],
      "metadata": {
        "id": "rQUgBFGI3izB"
      }
    },
    {
      "cell_type": "code",
      "source": [
        "if PRODUCTION_MODE:\n",
        "  best_model_path = '/content/trans_seq2seq_trainable_TRUE-004--0.283362.h5'\n",
        "  transformer.load_weights(best_model_path)"
      ],
      "metadata": {
        "id": "OTSYbr463lU8"
      },
      "execution_count": 43,
      "outputs": []
    },
    {
      "cell_type": "markdown",
      "metadata": {
        "id": "WtA5kRnDxTv_"
      },
      "source": [
        "# Question 2\n",
        "\n",
        "Finally, let's demonstrate how to reply to a conversation.\n",
        "We simply feed into the model the vectorized input sentence\n",
        "as well as the target token `\"[start]\"`, then we repeatedly generated the next token, until\n",
        "we hit the token `\"[end]\"`."
      ]
    },
    {
      "cell_type": "code",
      "metadata": {
        "id": "Lq7E2YvqxTv_"
      },
      "source": [
        "out_vocab = dec_vectorization.get_vocabulary()\n",
        "out_index_lookup = dict(zip(range(len(out_vocab)), out_vocab))\n",
        "max_decoded_sentence_length = 20\n",
        "\n",
        "\n",
        "def decode_sequence(input_sentence):\n",
        "    tokenized_input_sentence = enc_vectorization([input_sentence])\n",
        "    decoded_sentence = \"[start]\"\n",
        "    for i in range(max_decoded_sentence_length):\n",
        "        tokenized_target_sentence = dec_vectorization([decoded_sentence])[:, :-1]\n",
        "        predictions = transformer([tokenized_input_sentence, tokenized_target_sentence])\n",
        "\n",
        "        sampled_token_index = np.argmax(predictions[0, i, :])\n",
        "        sampled_token = out_index_lookup[sampled_token_index]\n",
        "        decoded_sentence += \" \" + sampled_token\n",
        "\n",
        "        if sampled_token == \"[end]\":\n",
        "          break\n",
        "    return decoded_sentence\n"
      ],
      "execution_count": 44,
      "outputs": []
    },
    {
      "cell_type": "code",
      "metadata": {
        "id": "Nd0-DzM5Fj_1",
        "colab": {
          "base_uri": "https://localhost:8080/"
        },
        "outputId": "d3ec49df-c5d3-478a-91f7-affa49c1a6e1"
      },
      "source": [
        "for i in range(5):\n",
        "  user_txt = input(\"enter your text:\")\n",
        "  translated = decode_sequence(user_txt)\n",
        "  print(user_txt)\n",
        "  print(translated)\n",
        "  print('***************')\n"
      ],
      "execution_count": 45,
      "outputs": [
        {
          "output_type": "stream",
          "name": "stdout",
          "text": [
            "enter your text:what do you do for your weekend ?\n",
            "what do you do for your weekend ?\n",
            "[start] i am very much . [end]\n",
            "***************\n",
            "enter your text:sir you look so silly \n",
            "sir you look so silly \n",
            "[start] i am very much . [end]\n",
            "***************\n",
            "enter your text:I am going to visit my friends now\n",
            "I am going to visit my friends now\n",
            "[start] i am not sure . [end]\n",
            "***************\n",
            "enter your text:how about you asking me a question . ask me the most difficult question that you know\n",
            "how about you asking me a question . ask me the most difficult question that you know\n",
            "[start] i am very much . [end]\n",
            "***************\n",
            "enter your text:so it seems you are always not sure\n",
            "so it seems you are always not sure\n",
            "[start] i am very much . [end]\n",
            "***************\n"
          ]
        }
      ]
    }
  ]
}