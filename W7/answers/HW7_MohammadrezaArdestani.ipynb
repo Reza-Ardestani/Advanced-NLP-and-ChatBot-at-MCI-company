{
  "nbformat": 4,
  "nbformat_minor": 0,
  "metadata": {
    "colab": {
      "name": "HW7_MohammadrezaArdestani.ipynb",
      "provenance": [],
      "collapsed_sections": [
        "udcFfEwZLvWd",
        "kJik9282ODh0",
        "FT4RUnPUctOq",
        "znkjIx32cymH",
        "Y8xOtTpsc51n"
      ]
    },
    "kernelspec": {
      "name": "python3",
      "display_name": "Python 3"
    },
    "language_info": {
      "name": "python"
    },
    "accelerator": "GPU",
    "widgets": {
      "application/vnd.jupyter.widget-state+json": {
        "cf6dad032ec047b69ef0178aaadc1935": {
          "model_module": "@jupyter-widgets/controls",
          "model_name": "HBoxModel",
          "model_module_version": "1.5.0",
          "state": {
            "_dom_classes": [],
            "_model_module": "@jupyter-widgets/controls",
            "_model_module_version": "1.5.0",
            "_model_name": "HBoxModel",
            "_view_count": null,
            "_view_module": "@jupyter-widgets/controls",
            "_view_module_version": "1.5.0",
            "_view_name": "HBoxView",
            "box_style": "",
            "children": [
              "IPY_MODEL_9f0f6511f1ab4219a7fabb7ab4b6ccce",
              "IPY_MODEL_eb028d789144469796e78df8f338b336",
              "IPY_MODEL_b3051bd4f41a469da5d4dee840843c43"
            ],
            "layout": "IPY_MODEL_6a6f1e9d378f48eebf5c9fe320422734"
          }
        },
        "9f0f6511f1ab4219a7fabb7ab4b6ccce": {
          "model_module": "@jupyter-widgets/controls",
          "model_name": "HTMLModel",
          "model_module_version": "1.5.0",
          "state": {
            "_dom_classes": [],
            "_model_module": "@jupyter-widgets/controls",
            "_model_module_version": "1.5.0",
            "_model_name": "HTMLModel",
            "_view_count": null,
            "_view_module": "@jupyter-widgets/controls",
            "_view_module_version": "1.5.0",
            "_view_name": "HTMLView",
            "description": "",
            "description_tooltip": null,
            "layout": "IPY_MODEL_a485886595e34f1dbe0db8a45835a4e6",
            "placeholder": "​",
            "style": "IPY_MODEL_dd4c555314234e82be745e9d67f7d6b6",
            "value": "Downloading: 100%"
          }
        },
        "eb028d789144469796e78df8f338b336": {
          "model_module": "@jupyter-widgets/controls",
          "model_name": "FloatProgressModel",
          "model_module_version": "1.5.0",
          "state": {
            "_dom_classes": [],
            "_model_module": "@jupyter-widgets/controls",
            "_model_module_version": "1.5.0",
            "_model_name": "FloatProgressModel",
            "_view_count": null,
            "_view_module": "@jupyter-widgets/controls",
            "_view_module_version": "1.5.0",
            "_view_name": "ProgressView",
            "bar_style": "success",
            "description": "",
            "description_tooltip": null,
            "layout": "IPY_MODEL_04b013680bd841058e03dcde187793d9",
            "max": 231508,
            "min": 0,
            "orientation": "horizontal",
            "style": "IPY_MODEL_35e41df348f14f8aa23ba7e724f01610",
            "value": 231508
          }
        },
        "b3051bd4f41a469da5d4dee840843c43": {
          "model_module": "@jupyter-widgets/controls",
          "model_name": "HTMLModel",
          "model_module_version": "1.5.0",
          "state": {
            "_dom_classes": [],
            "_model_module": "@jupyter-widgets/controls",
            "_model_module_version": "1.5.0",
            "_model_name": "HTMLModel",
            "_view_count": null,
            "_view_module": "@jupyter-widgets/controls",
            "_view_module_version": "1.5.0",
            "_view_name": "HTMLView",
            "description": "",
            "description_tooltip": null,
            "layout": "IPY_MODEL_19216cca02fd4ad78f3a64983304af82",
            "placeholder": "​",
            "style": "IPY_MODEL_ae6cf258c5ed4c13bf2b1ef48b11111d",
            "value": " 226k/226k [00:00&lt;00:00, 293kB/s]"
          }
        },
        "6a6f1e9d378f48eebf5c9fe320422734": {
          "model_module": "@jupyter-widgets/base",
          "model_name": "LayoutModel",
          "model_module_version": "1.2.0",
          "state": {
            "_model_module": "@jupyter-widgets/base",
            "_model_module_version": "1.2.0",
            "_model_name": "LayoutModel",
            "_view_count": null,
            "_view_module": "@jupyter-widgets/base",
            "_view_module_version": "1.2.0",
            "_view_name": "LayoutView",
            "align_content": null,
            "align_items": null,
            "align_self": null,
            "border": null,
            "bottom": null,
            "display": null,
            "flex": null,
            "flex_flow": null,
            "grid_area": null,
            "grid_auto_columns": null,
            "grid_auto_flow": null,
            "grid_auto_rows": null,
            "grid_column": null,
            "grid_gap": null,
            "grid_row": null,
            "grid_template_areas": null,
            "grid_template_columns": null,
            "grid_template_rows": null,
            "height": null,
            "justify_content": null,
            "justify_items": null,
            "left": null,
            "margin": null,
            "max_height": null,
            "max_width": null,
            "min_height": null,
            "min_width": null,
            "object_fit": null,
            "object_position": null,
            "order": null,
            "overflow": null,
            "overflow_x": null,
            "overflow_y": null,
            "padding": null,
            "right": null,
            "top": null,
            "visibility": null,
            "width": null
          }
        },
        "a485886595e34f1dbe0db8a45835a4e6": {
          "model_module": "@jupyter-widgets/base",
          "model_name": "LayoutModel",
          "model_module_version": "1.2.0",
          "state": {
            "_model_module": "@jupyter-widgets/base",
            "_model_module_version": "1.2.0",
            "_model_name": "LayoutModel",
            "_view_count": null,
            "_view_module": "@jupyter-widgets/base",
            "_view_module_version": "1.2.0",
            "_view_name": "LayoutView",
            "align_content": null,
            "align_items": null,
            "align_self": null,
            "border": null,
            "bottom": null,
            "display": null,
            "flex": null,
            "flex_flow": null,
            "grid_area": null,
            "grid_auto_columns": null,
            "grid_auto_flow": null,
            "grid_auto_rows": null,
            "grid_column": null,
            "grid_gap": null,
            "grid_row": null,
            "grid_template_areas": null,
            "grid_template_columns": null,
            "grid_template_rows": null,
            "height": null,
            "justify_content": null,
            "justify_items": null,
            "left": null,
            "margin": null,
            "max_height": null,
            "max_width": null,
            "min_height": null,
            "min_width": null,
            "object_fit": null,
            "object_position": null,
            "order": null,
            "overflow": null,
            "overflow_x": null,
            "overflow_y": null,
            "padding": null,
            "right": null,
            "top": null,
            "visibility": null,
            "width": null
          }
        },
        "dd4c555314234e82be745e9d67f7d6b6": {
          "model_module": "@jupyter-widgets/controls",
          "model_name": "DescriptionStyleModel",
          "model_module_version": "1.5.0",
          "state": {
            "_model_module": "@jupyter-widgets/controls",
            "_model_module_version": "1.5.0",
            "_model_name": "DescriptionStyleModel",
            "_view_count": null,
            "_view_module": "@jupyter-widgets/base",
            "_view_module_version": "1.2.0",
            "_view_name": "StyleView",
            "description_width": ""
          }
        },
        "04b013680bd841058e03dcde187793d9": {
          "model_module": "@jupyter-widgets/base",
          "model_name": "LayoutModel",
          "model_module_version": "1.2.0",
          "state": {
            "_model_module": "@jupyter-widgets/base",
            "_model_module_version": "1.2.0",
            "_model_name": "LayoutModel",
            "_view_count": null,
            "_view_module": "@jupyter-widgets/base",
            "_view_module_version": "1.2.0",
            "_view_name": "LayoutView",
            "align_content": null,
            "align_items": null,
            "align_self": null,
            "border": null,
            "bottom": null,
            "display": null,
            "flex": null,
            "flex_flow": null,
            "grid_area": null,
            "grid_auto_columns": null,
            "grid_auto_flow": null,
            "grid_auto_rows": null,
            "grid_column": null,
            "grid_gap": null,
            "grid_row": null,
            "grid_template_areas": null,
            "grid_template_columns": null,
            "grid_template_rows": null,
            "height": null,
            "justify_content": null,
            "justify_items": null,
            "left": null,
            "margin": null,
            "max_height": null,
            "max_width": null,
            "min_height": null,
            "min_width": null,
            "object_fit": null,
            "object_position": null,
            "order": null,
            "overflow": null,
            "overflow_x": null,
            "overflow_y": null,
            "padding": null,
            "right": null,
            "top": null,
            "visibility": null,
            "width": null
          }
        },
        "35e41df348f14f8aa23ba7e724f01610": {
          "model_module": "@jupyter-widgets/controls",
          "model_name": "ProgressStyleModel",
          "model_module_version": "1.5.0",
          "state": {
            "_model_module": "@jupyter-widgets/controls",
            "_model_module_version": "1.5.0",
            "_model_name": "ProgressStyleModel",
            "_view_count": null,
            "_view_module": "@jupyter-widgets/base",
            "_view_module_version": "1.2.0",
            "_view_name": "StyleView",
            "bar_color": null,
            "description_width": ""
          }
        },
        "19216cca02fd4ad78f3a64983304af82": {
          "model_module": "@jupyter-widgets/base",
          "model_name": "LayoutModel",
          "model_module_version": "1.2.0",
          "state": {
            "_model_module": "@jupyter-widgets/base",
            "_model_module_version": "1.2.0",
            "_model_name": "LayoutModel",
            "_view_count": null,
            "_view_module": "@jupyter-widgets/base",
            "_view_module_version": "1.2.0",
            "_view_name": "LayoutView",
            "align_content": null,
            "align_items": null,
            "align_self": null,
            "border": null,
            "bottom": null,
            "display": null,
            "flex": null,
            "flex_flow": null,
            "grid_area": null,
            "grid_auto_columns": null,
            "grid_auto_flow": null,
            "grid_auto_rows": null,
            "grid_column": null,
            "grid_gap": null,
            "grid_row": null,
            "grid_template_areas": null,
            "grid_template_columns": null,
            "grid_template_rows": null,
            "height": null,
            "justify_content": null,
            "justify_items": null,
            "left": null,
            "margin": null,
            "max_height": null,
            "max_width": null,
            "min_height": null,
            "min_width": null,
            "object_fit": null,
            "object_position": null,
            "order": null,
            "overflow": null,
            "overflow_x": null,
            "overflow_y": null,
            "padding": null,
            "right": null,
            "top": null,
            "visibility": null,
            "width": null
          }
        },
        "ae6cf258c5ed4c13bf2b1ef48b11111d": {
          "model_module": "@jupyter-widgets/controls",
          "model_name": "DescriptionStyleModel",
          "model_module_version": "1.5.0",
          "state": {
            "_model_module": "@jupyter-widgets/controls",
            "_model_module_version": "1.5.0",
            "_model_name": "DescriptionStyleModel",
            "_view_count": null,
            "_view_module": "@jupyter-widgets/base",
            "_view_module_version": "1.2.0",
            "_view_name": "StyleView",
            "description_width": ""
          }
        },
        "58cadab139fc4e1e87ef9189534a228e": {
          "model_module": "@jupyter-widgets/controls",
          "model_name": "HBoxModel",
          "model_module_version": "1.5.0",
          "state": {
            "_dom_classes": [],
            "_model_module": "@jupyter-widgets/controls",
            "_model_module_version": "1.5.0",
            "_model_name": "HBoxModel",
            "_view_count": null,
            "_view_module": "@jupyter-widgets/controls",
            "_view_module_version": "1.5.0",
            "_view_name": "HBoxView",
            "box_style": "",
            "children": [
              "IPY_MODEL_c1ecaad9fd444a218d6468a16186734f",
              "IPY_MODEL_de483ba3212c44aaa5550372c1d65769",
              "IPY_MODEL_c0e83dc5f5b64cd4bedf8e19777131e1"
            ],
            "layout": "IPY_MODEL_aac698dd11aa48729b09ed0555d3a507"
          }
        },
        "c1ecaad9fd444a218d6468a16186734f": {
          "model_module": "@jupyter-widgets/controls",
          "model_name": "HTMLModel",
          "model_module_version": "1.5.0",
          "state": {
            "_dom_classes": [],
            "_model_module": "@jupyter-widgets/controls",
            "_model_module_version": "1.5.0",
            "_model_name": "HTMLModel",
            "_view_count": null,
            "_view_module": "@jupyter-widgets/controls",
            "_view_module_version": "1.5.0",
            "_view_name": "HTMLView",
            "description": "",
            "description_tooltip": null,
            "layout": "IPY_MODEL_5b0bc94b1d734d6c80e0c5dc6c23a995",
            "placeholder": "​",
            "style": "IPY_MODEL_b2eb1ec89e0844c0a91ed3de86f2af6c",
            "value": "Downloading: 100%"
          }
        },
        "de483ba3212c44aaa5550372c1d65769": {
          "model_module": "@jupyter-widgets/controls",
          "model_name": "FloatProgressModel",
          "model_module_version": "1.5.0",
          "state": {
            "_dom_classes": [],
            "_model_module": "@jupyter-widgets/controls",
            "_model_module_version": "1.5.0",
            "_model_name": "FloatProgressModel",
            "_view_count": null,
            "_view_module": "@jupyter-widgets/controls",
            "_view_module_version": "1.5.0",
            "_view_name": "ProgressView",
            "bar_style": "success",
            "description": "",
            "description_tooltip": null,
            "layout": "IPY_MODEL_923adc1803c943e9864f2dd0ad68cf5b",
            "max": 28,
            "min": 0,
            "orientation": "horizontal",
            "style": "IPY_MODEL_f8087cc81abe4d7f997e377fbf512ae4",
            "value": 28
          }
        },
        "c0e83dc5f5b64cd4bedf8e19777131e1": {
          "model_module": "@jupyter-widgets/controls",
          "model_name": "HTMLModel",
          "model_module_version": "1.5.0",
          "state": {
            "_dom_classes": [],
            "_model_module": "@jupyter-widgets/controls",
            "_model_module_version": "1.5.0",
            "_model_name": "HTMLModel",
            "_view_count": null,
            "_view_module": "@jupyter-widgets/controls",
            "_view_module_version": "1.5.0",
            "_view_name": "HTMLView",
            "description": "",
            "description_tooltip": null,
            "layout": "IPY_MODEL_1c737880c58f43eaa597aeb941e15020",
            "placeholder": "​",
            "style": "IPY_MODEL_6e0fa198050f4ff28ebb6ccd1194028f",
            "value": " 28.0/28.0 [00:00&lt;00:00, 661B/s]"
          }
        },
        "aac698dd11aa48729b09ed0555d3a507": {
          "model_module": "@jupyter-widgets/base",
          "model_name": "LayoutModel",
          "model_module_version": "1.2.0",
          "state": {
            "_model_module": "@jupyter-widgets/base",
            "_model_module_version": "1.2.0",
            "_model_name": "LayoutModel",
            "_view_count": null,
            "_view_module": "@jupyter-widgets/base",
            "_view_module_version": "1.2.0",
            "_view_name": "LayoutView",
            "align_content": null,
            "align_items": null,
            "align_self": null,
            "border": null,
            "bottom": null,
            "display": null,
            "flex": null,
            "flex_flow": null,
            "grid_area": null,
            "grid_auto_columns": null,
            "grid_auto_flow": null,
            "grid_auto_rows": null,
            "grid_column": null,
            "grid_gap": null,
            "grid_row": null,
            "grid_template_areas": null,
            "grid_template_columns": null,
            "grid_template_rows": null,
            "height": null,
            "justify_content": null,
            "justify_items": null,
            "left": null,
            "margin": null,
            "max_height": null,
            "max_width": null,
            "min_height": null,
            "min_width": null,
            "object_fit": null,
            "object_position": null,
            "order": null,
            "overflow": null,
            "overflow_x": null,
            "overflow_y": null,
            "padding": null,
            "right": null,
            "top": null,
            "visibility": null,
            "width": null
          }
        },
        "5b0bc94b1d734d6c80e0c5dc6c23a995": {
          "model_module": "@jupyter-widgets/base",
          "model_name": "LayoutModel",
          "model_module_version": "1.2.0",
          "state": {
            "_model_module": "@jupyter-widgets/base",
            "_model_module_version": "1.2.0",
            "_model_name": "LayoutModel",
            "_view_count": null,
            "_view_module": "@jupyter-widgets/base",
            "_view_module_version": "1.2.0",
            "_view_name": "LayoutView",
            "align_content": null,
            "align_items": null,
            "align_self": null,
            "border": null,
            "bottom": null,
            "display": null,
            "flex": null,
            "flex_flow": null,
            "grid_area": null,
            "grid_auto_columns": null,
            "grid_auto_flow": null,
            "grid_auto_rows": null,
            "grid_column": null,
            "grid_gap": null,
            "grid_row": null,
            "grid_template_areas": null,
            "grid_template_columns": null,
            "grid_template_rows": null,
            "height": null,
            "justify_content": null,
            "justify_items": null,
            "left": null,
            "margin": null,
            "max_height": null,
            "max_width": null,
            "min_height": null,
            "min_width": null,
            "object_fit": null,
            "object_position": null,
            "order": null,
            "overflow": null,
            "overflow_x": null,
            "overflow_y": null,
            "padding": null,
            "right": null,
            "top": null,
            "visibility": null,
            "width": null
          }
        },
        "b2eb1ec89e0844c0a91ed3de86f2af6c": {
          "model_module": "@jupyter-widgets/controls",
          "model_name": "DescriptionStyleModel",
          "model_module_version": "1.5.0",
          "state": {
            "_model_module": "@jupyter-widgets/controls",
            "_model_module_version": "1.5.0",
            "_model_name": "DescriptionStyleModel",
            "_view_count": null,
            "_view_module": "@jupyter-widgets/base",
            "_view_module_version": "1.2.0",
            "_view_name": "StyleView",
            "description_width": ""
          }
        },
        "923adc1803c943e9864f2dd0ad68cf5b": {
          "model_module": "@jupyter-widgets/base",
          "model_name": "LayoutModel",
          "model_module_version": "1.2.0",
          "state": {
            "_model_module": "@jupyter-widgets/base",
            "_model_module_version": "1.2.0",
            "_model_name": "LayoutModel",
            "_view_count": null,
            "_view_module": "@jupyter-widgets/base",
            "_view_module_version": "1.2.0",
            "_view_name": "LayoutView",
            "align_content": null,
            "align_items": null,
            "align_self": null,
            "border": null,
            "bottom": null,
            "display": null,
            "flex": null,
            "flex_flow": null,
            "grid_area": null,
            "grid_auto_columns": null,
            "grid_auto_flow": null,
            "grid_auto_rows": null,
            "grid_column": null,
            "grid_gap": null,
            "grid_row": null,
            "grid_template_areas": null,
            "grid_template_columns": null,
            "grid_template_rows": null,
            "height": null,
            "justify_content": null,
            "justify_items": null,
            "left": null,
            "margin": null,
            "max_height": null,
            "max_width": null,
            "min_height": null,
            "min_width": null,
            "object_fit": null,
            "object_position": null,
            "order": null,
            "overflow": null,
            "overflow_x": null,
            "overflow_y": null,
            "padding": null,
            "right": null,
            "top": null,
            "visibility": null,
            "width": null
          }
        },
        "f8087cc81abe4d7f997e377fbf512ae4": {
          "model_module": "@jupyter-widgets/controls",
          "model_name": "ProgressStyleModel",
          "model_module_version": "1.5.0",
          "state": {
            "_model_module": "@jupyter-widgets/controls",
            "_model_module_version": "1.5.0",
            "_model_name": "ProgressStyleModel",
            "_view_count": null,
            "_view_module": "@jupyter-widgets/base",
            "_view_module_version": "1.2.0",
            "_view_name": "StyleView",
            "bar_color": null,
            "description_width": ""
          }
        },
        "1c737880c58f43eaa597aeb941e15020": {
          "model_module": "@jupyter-widgets/base",
          "model_name": "LayoutModel",
          "model_module_version": "1.2.0",
          "state": {
            "_model_module": "@jupyter-widgets/base",
            "_model_module_version": "1.2.0",
            "_model_name": "LayoutModel",
            "_view_count": null,
            "_view_module": "@jupyter-widgets/base",
            "_view_module_version": "1.2.0",
            "_view_name": "LayoutView",
            "align_content": null,
            "align_items": null,
            "align_self": null,
            "border": null,
            "bottom": null,
            "display": null,
            "flex": null,
            "flex_flow": null,
            "grid_area": null,
            "grid_auto_columns": null,
            "grid_auto_flow": null,
            "grid_auto_rows": null,
            "grid_column": null,
            "grid_gap": null,
            "grid_row": null,
            "grid_template_areas": null,
            "grid_template_columns": null,
            "grid_template_rows": null,
            "height": null,
            "justify_content": null,
            "justify_items": null,
            "left": null,
            "margin": null,
            "max_height": null,
            "max_width": null,
            "min_height": null,
            "min_width": null,
            "object_fit": null,
            "object_position": null,
            "order": null,
            "overflow": null,
            "overflow_x": null,
            "overflow_y": null,
            "padding": null,
            "right": null,
            "top": null,
            "visibility": null,
            "width": null
          }
        },
        "6e0fa198050f4ff28ebb6ccd1194028f": {
          "model_module": "@jupyter-widgets/controls",
          "model_name": "DescriptionStyleModel",
          "model_module_version": "1.5.0",
          "state": {
            "_model_module": "@jupyter-widgets/controls",
            "_model_module_version": "1.5.0",
            "_model_name": "DescriptionStyleModel",
            "_view_count": null,
            "_view_module": "@jupyter-widgets/base",
            "_view_module_version": "1.2.0",
            "_view_name": "StyleView",
            "description_width": ""
          }
        },
        "2880f0e183c04b299a8b3189f91f28eb": {
          "model_module": "@jupyter-widgets/controls",
          "model_name": "HBoxModel",
          "model_module_version": "1.5.0",
          "state": {
            "_dom_classes": [],
            "_model_module": "@jupyter-widgets/controls",
            "_model_module_version": "1.5.0",
            "_model_name": "HBoxModel",
            "_view_count": null,
            "_view_module": "@jupyter-widgets/controls",
            "_view_module_version": "1.5.0",
            "_view_name": "HBoxView",
            "box_style": "",
            "children": [
              "IPY_MODEL_f5024dca544241e6bae97f4052c341e1",
              "IPY_MODEL_3d29c354c0eb4b0185fa019cad3fd31b",
              "IPY_MODEL_d23c5b22e95146d88e98fe5313d440d0"
            ],
            "layout": "IPY_MODEL_53c0bcef866941469c1178839625f4b4"
          }
        },
        "f5024dca544241e6bae97f4052c341e1": {
          "model_module": "@jupyter-widgets/controls",
          "model_name": "HTMLModel",
          "model_module_version": "1.5.0",
          "state": {
            "_dom_classes": [],
            "_model_module": "@jupyter-widgets/controls",
            "_model_module_version": "1.5.0",
            "_model_name": "HTMLModel",
            "_view_count": null,
            "_view_module": "@jupyter-widgets/controls",
            "_view_module_version": "1.5.0",
            "_view_name": "HTMLView",
            "description": "",
            "description_tooltip": null,
            "layout": "IPY_MODEL_741df1a33b7445a3aba2a9cff4b85b8e",
            "placeholder": "​",
            "style": "IPY_MODEL_a4db2f374a2a4702a26a5cf5ca2cbf71",
            "value": "Downloading: 100%"
          }
        },
        "3d29c354c0eb4b0185fa019cad3fd31b": {
          "model_module": "@jupyter-widgets/controls",
          "model_name": "FloatProgressModel",
          "model_module_version": "1.5.0",
          "state": {
            "_dom_classes": [],
            "_model_module": "@jupyter-widgets/controls",
            "_model_module_version": "1.5.0",
            "_model_name": "FloatProgressModel",
            "_view_count": null,
            "_view_module": "@jupyter-widgets/controls",
            "_view_module_version": "1.5.0",
            "_view_name": "ProgressView",
            "bar_style": "success",
            "description": "",
            "description_tooltip": null,
            "layout": "IPY_MODEL_95667ad481484b54b7c42ef440f21f6a",
            "max": 570,
            "min": 0,
            "orientation": "horizontal",
            "style": "IPY_MODEL_92b0920808044811add5fa4c101a3f80",
            "value": 570
          }
        },
        "d23c5b22e95146d88e98fe5313d440d0": {
          "model_module": "@jupyter-widgets/controls",
          "model_name": "HTMLModel",
          "model_module_version": "1.5.0",
          "state": {
            "_dom_classes": [],
            "_model_module": "@jupyter-widgets/controls",
            "_model_module_version": "1.5.0",
            "_model_name": "HTMLModel",
            "_view_count": null,
            "_view_module": "@jupyter-widgets/controls",
            "_view_module_version": "1.5.0",
            "_view_name": "HTMLView",
            "description": "",
            "description_tooltip": null,
            "layout": "IPY_MODEL_4866a25f017a4c26894f5e96076a0699",
            "placeholder": "​",
            "style": "IPY_MODEL_c168425ca0c34b229030fe864c6e4cb1",
            "value": " 570/570 [00:00&lt;00:00, 15.1kB/s]"
          }
        },
        "53c0bcef866941469c1178839625f4b4": {
          "model_module": "@jupyter-widgets/base",
          "model_name": "LayoutModel",
          "model_module_version": "1.2.0",
          "state": {
            "_model_module": "@jupyter-widgets/base",
            "_model_module_version": "1.2.0",
            "_model_name": "LayoutModel",
            "_view_count": null,
            "_view_module": "@jupyter-widgets/base",
            "_view_module_version": "1.2.0",
            "_view_name": "LayoutView",
            "align_content": null,
            "align_items": null,
            "align_self": null,
            "border": null,
            "bottom": null,
            "display": null,
            "flex": null,
            "flex_flow": null,
            "grid_area": null,
            "grid_auto_columns": null,
            "grid_auto_flow": null,
            "grid_auto_rows": null,
            "grid_column": null,
            "grid_gap": null,
            "grid_row": null,
            "grid_template_areas": null,
            "grid_template_columns": null,
            "grid_template_rows": null,
            "height": null,
            "justify_content": null,
            "justify_items": null,
            "left": null,
            "margin": null,
            "max_height": null,
            "max_width": null,
            "min_height": null,
            "min_width": null,
            "object_fit": null,
            "object_position": null,
            "order": null,
            "overflow": null,
            "overflow_x": null,
            "overflow_y": null,
            "padding": null,
            "right": null,
            "top": null,
            "visibility": null,
            "width": null
          }
        },
        "741df1a33b7445a3aba2a9cff4b85b8e": {
          "model_module": "@jupyter-widgets/base",
          "model_name": "LayoutModel",
          "model_module_version": "1.2.0",
          "state": {
            "_model_module": "@jupyter-widgets/base",
            "_model_module_version": "1.2.0",
            "_model_name": "LayoutModel",
            "_view_count": null,
            "_view_module": "@jupyter-widgets/base",
            "_view_module_version": "1.2.0",
            "_view_name": "LayoutView",
            "align_content": null,
            "align_items": null,
            "align_self": null,
            "border": null,
            "bottom": null,
            "display": null,
            "flex": null,
            "flex_flow": null,
            "grid_area": null,
            "grid_auto_columns": null,
            "grid_auto_flow": null,
            "grid_auto_rows": null,
            "grid_column": null,
            "grid_gap": null,
            "grid_row": null,
            "grid_template_areas": null,
            "grid_template_columns": null,
            "grid_template_rows": null,
            "height": null,
            "justify_content": null,
            "justify_items": null,
            "left": null,
            "margin": null,
            "max_height": null,
            "max_width": null,
            "min_height": null,
            "min_width": null,
            "object_fit": null,
            "object_position": null,
            "order": null,
            "overflow": null,
            "overflow_x": null,
            "overflow_y": null,
            "padding": null,
            "right": null,
            "top": null,
            "visibility": null,
            "width": null
          }
        },
        "a4db2f374a2a4702a26a5cf5ca2cbf71": {
          "model_module": "@jupyter-widgets/controls",
          "model_name": "DescriptionStyleModel",
          "model_module_version": "1.5.0",
          "state": {
            "_model_module": "@jupyter-widgets/controls",
            "_model_module_version": "1.5.0",
            "_model_name": "DescriptionStyleModel",
            "_view_count": null,
            "_view_module": "@jupyter-widgets/base",
            "_view_module_version": "1.2.0",
            "_view_name": "StyleView",
            "description_width": ""
          }
        },
        "95667ad481484b54b7c42ef440f21f6a": {
          "model_module": "@jupyter-widgets/base",
          "model_name": "LayoutModel",
          "model_module_version": "1.2.0",
          "state": {
            "_model_module": "@jupyter-widgets/base",
            "_model_module_version": "1.2.0",
            "_model_name": "LayoutModel",
            "_view_count": null,
            "_view_module": "@jupyter-widgets/base",
            "_view_module_version": "1.2.0",
            "_view_name": "LayoutView",
            "align_content": null,
            "align_items": null,
            "align_self": null,
            "border": null,
            "bottom": null,
            "display": null,
            "flex": null,
            "flex_flow": null,
            "grid_area": null,
            "grid_auto_columns": null,
            "grid_auto_flow": null,
            "grid_auto_rows": null,
            "grid_column": null,
            "grid_gap": null,
            "grid_row": null,
            "grid_template_areas": null,
            "grid_template_columns": null,
            "grid_template_rows": null,
            "height": null,
            "justify_content": null,
            "justify_items": null,
            "left": null,
            "margin": null,
            "max_height": null,
            "max_width": null,
            "min_height": null,
            "min_width": null,
            "object_fit": null,
            "object_position": null,
            "order": null,
            "overflow": null,
            "overflow_x": null,
            "overflow_y": null,
            "padding": null,
            "right": null,
            "top": null,
            "visibility": null,
            "width": null
          }
        },
        "92b0920808044811add5fa4c101a3f80": {
          "model_module": "@jupyter-widgets/controls",
          "model_name": "ProgressStyleModel",
          "model_module_version": "1.5.0",
          "state": {
            "_model_module": "@jupyter-widgets/controls",
            "_model_module_version": "1.5.0",
            "_model_name": "ProgressStyleModel",
            "_view_count": null,
            "_view_module": "@jupyter-widgets/base",
            "_view_module_version": "1.2.0",
            "_view_name": "StyleView",
            "bar_color": null,
            "description_width": ""
          }
        },
        "4866a25f017a4c26894f5e96076a0699": {
          "model_module": "@jupyter-widgets/base",
          "model_name": "LayoutModel",
          "model_module_version": "1.2.0",
          "state": {
            "_model_module": "@jupyter-widgets/base",
            "_model_module_version": "1.2.0",
            "_model_name": "LayoutModel",
            "_view_count": null,
            "_view_module": "@jupyter-widgets/base",
            "_view_module_version": "1.2.0",
            "_view_name": "LayoutView",
            "align_content": null,
            "align_items": null,
            "align_self": null,
            "border": null,
            "bottom": null,
            "display": null,
            "flex": null,
            "flex_flow": null,
            "grid_area": null,
            "grid_auto_columns": null,
            "grid_auto_flow": null,
            "grid_auto_rows": null,
            "grid_column": null,
            "grid_gap": null,
            "grid_row": null,
            "grid_template_areas": null,
            "grid_template_columns": null,
            "grid_template_rows": null,
            "height": null,
            "justify_content": null,
            "justify_items": null,
            "left": null,
            "margin": null,
            "max_height": null,
            "max_width": null,
            "min_height": null,
            "min_width": null,
            "object_fit": null,
            "object_position": null,
            "order": null,
            "overflow": null,
            "overflow_x": null,
            "overflow_y": null,
            "padding": null,
            "right": null,
            "top": null,
            "visibility": null,
            "width": null
          }
        },
        "c168425ca0c34b229030fe864c6e4cb1": {
          "model_module": "@jupyter-widgets/controls",
          "model_name": "DescriptionStyleModel",
          "model_module_version": "1.5.0",
          "state": {
            "_model_module": "@jupyter-widgets/controls",
            "_model_module_version": "1.5.0",
            "_model_name": "DescriptionStyleModel",
            "_view_count": null,
            "_view_module": "@jupyter-widgets/base",
            "_view_module_version": "1.2.0",
            "_view_name": "StyleView",
            "description_width": ""
          }
        },
        "4d6645ebe0594d7da7f8c7d383c8cd06": {
          "model_module": "@jupyter-widgets/controls",
          "model_name": "HBoxModel",
          "model_module_version": "1.5.0",
          "state": {
            "_dom_classes": [],
            "_model_module": "@jupyter-widgets/controls",
            "_model_module_version": "1.5.0",
            "_model_name": "HBoxModel",
            "_view_count": null,
            "_view_module": "@jupyter-widgets/controls",
            "_view_module_version": "1.5.0",
            "_view_name": "HBoxView",
            "box_style": "",
            "children": [
              "IPY_MODEL_8ce6add9ce14455c9c177abeb9ca4e8b",
              "IPY_MODEL_f47a18c0130f4345ae8114d90daf4afd",
              "IPY_MODEL_8feac8c4983a413e90ba6395f3cd830e"
            ],
            "layout": "IPY_MODEL_d8139a291fcb4f03a82385d4f8153d08"
          }
        },
        "8ce6add9ce14455c9c177abeb9ca4e8b": {
          "model_module": "@jupyter-widgets/controls",
          "model_name": "HTMLModel",
          "model_module_version": "1.5.0",
          "state": {
            "_dom_classes": [],
            "_model_module": "@jupyter-widgets/controls",
            "_model_module_version": "1.5.0",
            "_model_name": "HTMLModel",
            "_view_count": null,
            "_view_module": "@jupyter-widgets/controls",
            "_view_module_version": "1.5.0",
            "_view_name": "HTMLView",
            "description": "",
            "description_tooltip": null,
            "layout": "IPY_MODEL_a1527c1cfcb0482a80e48deaf12518cf",
            "placeholder": "​",
            "style": "IPY_MODEL_7936904e0fea481b9c67d1f65b92ef37",
            "value": "Downloading: 100%"
          }
        },
        "f47a18c0130f4345ae8114d90daf4afd": {
          "model_module": "@jupyter-widgets/controls",
          "model_name": "FloatProgressModel",
          "model_module_version": "1.5.0",
          "state": {
            "_dom_classes": [],
            "_model_module": "@jupyter-widgets/controls",
            "_model_module_version": "1.5.0",
            "_model_name": "FloatProgressModel",
            "_view_count": null,
            "_view_module": "@jupyter-widgets/controls",
            "_view_module_version": "1.5.0",
            "_view_name": "ProgressView",
            "bar_style": "success",
            "description": "",
            "description_tooltip": null,
            "layout": "IPY_MODEL_d395109b2fc84d8e9a312b2e3faa083b",
            "max": 536063208,
            "min": 0,
            "orientation": "horizontal",
            "style": "IPY_MODEL_ec7199e6bb7443a18c0b19514f7a6be1",
            "value": 536063208
          }
        },
        "8feac8c4983a413e90ba6395f3cd830e": {
          "model_module": "@jupyter-widgets/controls",
          "model_name": "HTMLModel",
          "model_module_version": "1.5.0",
          "state": {
            "_dom_classes": [],
            "_model_module": "@jupyter-widgets/controls",
            "_model_module_version": "1.5.0",
            "_model_name": "HTMLModel",
            "_view_count": null,
            "_view_module": "@jupyter-widgets/controls",
            "_view_module_version": "1.5.0",
            "_view_name": "HTMLView",
            "description": "",
            "description_tooltip": null,
            "layout": "IPY_MODEL_0b41121ce2e3463e946ef3929eaf2c3f",
            "placeholder": "​",
            "style": "IPY_MODEL_5d016eadf189485783a774d2ac91e4c3",
            "value": " 511M/511M [00:36&lt;00:00, 13.2MB/s]"
          }
        },
        "d8139a291fcb4f03a82385d4f8153d08": {
          "model_module": "@jupyter-widgets/base",
          "model_name": "LayoutModel",
          "model_module_version": "1.2.0",
          "state": {
            "_model_module": "@jupyter-widgets/base",
            "_model_module_version": "1.2.0",
            "_model_name": "LayoutModel",
            "_view_count": null,
            "_view_module": "@jupyter-widgets/base",
            "_view_module_version": "1.2.0",
            "_view_name": "LayoutView",
            "align_content": null,
            "align_items": null,
            "align_self": null,
            "border": null,
            "bottom": null,
            "display": null,
            "flex": null,
            "flex_flow": null,
            "grid_area": null,
            "grid_auto_columns": null,
            "grid_auto_flow": null,
            "grid_auto_rows": null,
            "grid_column": null,
            "grid_gap": null,
            "grid_row": null,
            "grid_template_areas": null,
            "grid_template_columns": null,
            "grid_template_rows": null,
            "height": null,
            "justify_content": null,
            "justify_items": null,
            "left": null,
            "margin": null,
            "max_height": null,
            "max_width": null,
            "min_height": null,
            "min_width": null,
            "object_fit": null,
            "object_position": null,
            "order": null,
            "overflow": null,
            "overflow_x": null,
            "overflow_y": null,
            "padding": null,
            "right": null,
            "top": null,
            "visibility": null,
            "width": null
          }
        },
        "a1527c1cfcb0482a80e48deaf12518cf": {
          "model_module": "@jupyter-widgets/base",
          "model_name": "LayoutModel",
          "model_module_version": "1.2.0",
          "state": {
            "_model_module": "@jupyter-widgets/base",
            "_model_module_version": "1.2.0",
            "_model_name": "LayoutModel",
            "_view_count": null,
            "_view_module": "@jupyter-widgets/base",
            "_view_module_version": "1.2.0",
            "_view_name": "LayoutView",
            "align_content": null,
            "align_items": null,
            "align_self": null,
            "border": null,
            "bottom": null,
            "display": null,
            "flex": null,
            "flex_flow": null,
            "grid_area": null,
            "grid_auto_columns": null,
            "grid_auto_flow": null,
            "grid_auto_rows": null,
            "grid_column": null,
            "grid_gap": null,
            "grid_row": null,
            "grid_template_areas": null,
            "grid_template_columns": null,
            "grid_template_rows": null,
            "height": null,
            "justify_content": null,
            "justify_items": null,
            "left": null,
            "margin": null,
            "max_height": null,
            "max_width": null,
            "min_height": null,
            "min_width": null,
            "object_fit": null,
            "object_position": null,
            "order": null,
            "overflow": null,
            "overflow_x": null,
            "overflow_y": null,
            "padding": null,
            "right": null,
            "top": null,
            "visibility": null,
            "width": null
          }
        },
        "7936904e0fea481b9c67d1f65b92ef37": {
          "model_module": "@jupyter-widgets/controls",
          "model_name": "DescriptionStyleModel",
          "model_module_version": "1.5.0",
          "state": {
            "_model_module": "@jupyter-widgets/controls",
            "_model_module_version": "1.5.0",
            "_model_name": "DescriptionStyleModel",
            "_view_count": null,
            "_view_module": "@jupyter-widgets/base",
            "_view_module_version": "1.2.0",
            "_view_name": "StyleView",
            "description_width": ""
          }
        },
        "d395109b2fc84d8e9a312b2e3faa083b": {
          "model_module": "@jupyter-widgets/base",
          "model_name": "LayoutModel",
          "model_module_version": "1.2.0",
          "state": {
            "_model_module": "@jupyter-widgets/base",
            "_model_module_version": "1.2.0",
            "_model_name": "LayoutModel",
            "_view_count": null,
            "_view_module": "@jupyter-widgets/base",
            "_view_module_version": "1.2.0",
            "_view_name": "LayoutView",
            "align_content": null,
            "align_items": null,
            "align_self": null,
            "border": null,
            "bottom": null,
            "display": null,
            "flex": null,
            "flex_flow": null,
            "grid_area": null,
            "grid_auto_columns": null,
            "grid_auto_flow": null,
            "grid_auto_rows": null,
            "grid_column": null,
            "grid_gap": null,
            "grid_row": null,
            "grid_template_areas": null,
            "grid_template_columns": null,
            "grid_template_rows": null,
            "height": null,
            "justify_content": null,
            "justify_items": null,
            "left": null,
            "margin": null,
            "max_height": null,
            "max_width": null,
            "min_height": null,
            "min_width": null,
            "object_fit": null,
            "object_position": null,
            "order": null,
            "overflow": null,
            "overflow_x": null,
            "overflow_y": null,
            "padding": null,
            "right": null,
            "top": null,
            "visibility": null,
            "width": null
          }
        },
        "ec7199e6bb7443a18c0b19514f7a6be1": {
          "model_module": "@jupyter-widgets/controls",
          "model_name": "ProgressStyleModel",
          "model_module_version": "1.5.0",
          "state": {
            "_model_module": "@jupyter-widgets/controls",
            "_model_module_version": "1.5.0",
            "_model_name": "ProgressStyleModel",
            "_view_count": null,
            "_view_module": "@jupyter-widgets/base",
            "_view_module_version": "1.2.0",
            "_view_name": "StyleView",
            "bar_color": null,
            "description_width": ""
          }
        },
        "0b41121ce2e3463e946ef3929eaf2c3f": {
          "model_module": "@jupyter-widgets/base",
          "model_name": "LayoutModel",
          "model_module_version": "1.2.0",
          "state": {
            "_model_module": "@jupyter-widgets/base",
            "_model_module_version": "1.2.0",
            "_model_name": "LayoutModel",
            "_view_count": null,
            "_view_module": "@jupyter-widgets/base",
            "_view_module_version": "1.2.0",
            "_view_name": "LayoutView",
            "align_content": null,
            "align_items": null,
            "align_self": null,
            "border": null,
            "bottom": null,
            "display": null,
            "flex": null,
            "flex_flow": null,
            "grid_area": null,
            "grid_auto_columns": null,
            "grid_auto_flow": null,
            "grid_auto_rows": null,
            "grid_column": null,
            "grid_gap": null,
            "grid_row": null,
            "grid_template_areas": null,
            "grid_template_columns": null,
            "grid_template_rows": null,
            "height": null,
            "justify_content": null,
            "justify_items": null,
            "left": null,
            "margin": null,
            "max_height": null,
            "max_width": null,
            "min_height": null,
            "min_width": null,
            "object_fit": null,
            "object_position": null,
            "order": null,
            "overflow": null,
            "overflow_x": null,
            "overflow_y": null,
            "padding": null,
            "right": null,
            "top": null,
            "visibility": null,
            "width": null
          }
        },
        "5d016eadf189485783a774d2ac91e4c3": {
          "model_module": "@jupyter-widgets/controls",
          "model_name": "DescriptionStyleModel",
          "model_module_version": "1.5.0",
          "state": {
            "_model_module": "@jupyter-widgets/controls",
            "_model_module_version": "1.5.0",
            "_model_name": "DescriptionStyleModel",
            "_view_count": null,
            "_view_module": "@jupyter-widgets/base",
            "_view_module_version": "1.2.0",
            "_view_name": "StyleView",
            "description_width": ""
          }
        }
      }
    }
  },
  "cells": [
    {
      "cell_type": "code",
      "source": [
        "# Ref:\n",
        "# https://medium.com/@drcjudelhi/bert-fine-tuning-on-quora-question-pairs-b48277787285\n",
        "# https://github.com/google-research/bert\n",
        "# https://www.youtube.com/watch?v=hOCDJyZ6quA\n",
        "# https://stackoverflow.com/questions/16476924/how-to-iterate-over-rows-in-a-dataframe-in-pandas\n",
        "# https://iq.opengenus.org/sentence-semantic-similarity-bert/\n",
        "# https://github.com/codebasics/deep-learning-keras-tf-tutorial/blob/master/47_BERT_text_classification/BERT_email_classification-handle-imbalance.ipynb\n"
      ],
      "metadata": {
        "id": "12SWrI4hdvUz"
      },
      "execution_count": null,
      "outputs": []
    },
    {
      "cell_type": "markdown",
      "source": [
        "# Function / Class"
      ],
      "metadata": {
        "id": "udcFfEwZLvWd"
      }
    },
    {
      "cell_type": "code",
      "source": [
        "import pandas as pd\n",
        "import re\n",
        "\n",
        "def clean(sentence, max_len= 40):\n",
        "  sentence = sentence.lower().strip()\n",
        "  # creating a space between a word and the punctuation following it\n",
        "  # eg: \"he is a boy.\" => \"he is a boy .\"\n",
        "  sentence = re.sub(r\"([?.!,])\", r\" \\1 \", sentence)\n",
        "  sentence = re.sub(r'[\" \"]+', \" \", sentence)\n",
        "  # removing contractions\n",
        "  sentence = re.sub(r\"i'm\", \"i am\", sentence)\n",
        "  sentence = re.sub(r\"he's\", \"he is\", sentence)\n",
        "  sentence = re.sub(r\"she's\", \"she is\", sentence)\n",
        "  sentence = re.sub(r\"it's\", \"it is\", sentence)\n",
        "  sentence = re.sub(r\"that's\", \"that is\", sentence)\n",
        "  sentence = re.sub(r\"what's\", \"what is\", sentence)\n",
        "  sentence = re.sub(r\"where's\", \"where is\", sentence)\n",
        "  sentence = re.sub(r\"how's\", \"how is\", sentence)\n",
        "  sentence = re.sub(r\"\\'ll\", \" will\", sentence)\n",
        "  sentence = re.sub(r\"\\'ve\", \" have\", sentence)\n",
        "  sentence = re.sub(r\"\\'re\", \" are\", sentence)\n",
        "  sentence = re.sub(r\"\\'d\", \" would\", sentence)\n",
        "  sentence = re.sub(r\"\\'re\", \" are\", sentence)\n",
        "  sentence = re.sub(r\"won't\", \"will not\", sentence)\n",
        "  sentence = re.sub(r\"can't\", \"cannot\", sentence)\n",
        "  sentence = re.sub(r\"n't\", \" not\", sentence)\n",
        "  sentence = re.sub(r\"n'\", \"ng\", sentence)\n",
        "  sentence = re.sub(r\"'bout\", \"about\", sentence)\n",
        "  # replacing everything with space except (a-z, A-Z, \".\", \"?\", \"!\", \",\")\n",
        "  sentence = re.sub(r\"[^a-zA-Z?.!,]+\", \" \", sentence)\n",
        "  # remove extra spaces  \" hi     man  \" --> \" hi man \"\n",
        "  sentence = re.sub(' +', ' ', sentence)\n",
        "  sentence = sentence.strip()\n",
        "  sentence = ' '.join(sentence.split(' ')[:max_len])\n",
        "  return sentence\n",
        "\n"
      ],
      "metadata": {
        "id": "l5GuNeA9z3Lq"
      },
      "execution_count": null,
      "outputs": []
    },
    {
      "cell_type": "code",
      "source": [
        "%%capture\n",
        "!gdown --id '1-Cd08MsOZkrKC9T9-3HkYMCgO3V2OeBX' # train.csv"
      ],
      "metadata": {
        "id": "VY9JWfGsMG8_"
      },
      "execution_count": null,
      "outputs": []
    },
    {
      "cell_type": "code",
      "execution_count": null,
      "metadata": {
        "id": "IzujLgcALbyO"
      },
      "outputs": [],
      "source": [
        "%%capture\n",
        "!gdown --id '1-9IZqER_mDaxvYX8sLpIPVuVcyMnDwjO' # valid.csv"
      ]
    },
    {
      "cell_type": "code",
      "source": [
        "%%capture\n",
        "!gdown --id '1-PZh0IZWpcNdruG4CUWCVgvrvH9pP_Qo' # test.csv"
      ],
      "metadata": {
        "id": "Ce8AZy2dMjWp"
      },
      "execution_count": null,
      "outputs": []
    },
    {
      "cell_type": "code",
      "source": [
        "%%capture\n",
        "!gdown --id '1-RITueazPHbY7D25AeUld4J0FneDY1DH' # SearchSpace.txt"
      ],
      "metadata": {
        "id": "f7SKmLNoMkR2"
      },
      "execution_count": null,
      "outputs": []
    },
    {
      "cell_type": "code",
      "source": [
        "# %%capture\n",
        "# !gdown --id '16XEt9yBjigJp39q17GPxPJRCe2ThyTW0' #SMSSpamCollection.txt \n",
        "# needed for test purpose"
      ],
      "metadata": {
        "id": "A5MXuJl31yVo"
      },
      "execution_count": null,
      "outputs": []
    },
    {
      "cell_type": "code",
      "source": [
        "import pandas as pd\n",
        "train_df = pd.read_csv('train.csv')\n",
        "dev_df = pd.read_csv('valid.csv')\n",
        "holdout_df = pd.read_csv('test.csv')\n",
        "search_space = []\n",
        "with open('SearchSpace.txt') as f:\n",
        "    search_space = [clean(line) for line in f]\n"
      ],
      "metadata": {
        "id": "ZA4lz17BMkOV"
      },
      "execution_count": null,
      "outputs": []
    },
    {
      "cell_type": "code",
      "source": [
        "train_df.shape, dev_df.shape, holdout_df.shape"
      ],
      "metadata": {
        "colab": {
          "base_uri": "https://localhost:8080/"
        },
        "id": "HupOspoCR74q",
        "outputId": "e6f703c2-9064-4505-d670-c83762dd0f69"
      },
      "execution_count": null,
      "outputs": [
        {
          "output_type": "execute_result",
          "data": {
            "text/plain": [
              "((152104, 3), (14138, 3), (13480, 3))"
            ]
          },
          "metadata": {},
          "execution_count": 12
        }
      ]
    },
    {
      "cell_type": "code",
      "source": [
        "train_df.head(2)"
      ],
      "metadata": {
        "colab": {
          "base_uri": "https://localhost:8080/"
        },
        "id": "TomHCfIt5T0y",
        "outputId": "fe001d4d-f8d7-46ba-c677-654a6104f9f3"
      },
      "execution_count": null,
      "outputs": [
        {
          "output_type": "execute_result",
          "data": {
            "text/plain": [
              "                                               Input  \\\n",
              "0       I'd like to start by talking about prices .    \n",
              "1   Why ? Isn't it obvious ? First you impose way...   \n",
              "\n",
              "                                              Output  Label  \n",
              "0   I'd be glad to answer any questions you may h...      1  \n",
              "1   I'm very sorry for that , but I sent you seve...      1  "
            ],
            "text/html": [
              "\n",
              "  <div id=\"df-a53ec067-527a-463e-8e3d-47dc076ee56c\">\n",
              "    <div class=\"colab-df-container\">\n",
              "      <div>\n",
              "<style scoped>\n",
              "    .dataframe tbody tr th:only-of-type {\n",
              "        vertical-align: middle;\n",
              "    }\n",
              "\n",
              "    .dataframe tbody tr th {\n",
              "        vertical-align: top;\n",
              "    }\n",
              "\n",
              "    .dataframe thead th {\n",
              "        text-align: right;\n",
              "    }\n",
              "</style>\n",
              "<table border=\"1\" class=\"dataframe\">\n",
              "  <thead>\n",
              "    <tr style=\"text-align: right;\">\n",
              "      <th></th>\n",
              "      <th>Input</th>\n",
              "      <th>Output</th>\n",
              "      <th>Label</th>\n",
              "    </tr>\n",
              "  </thead>\n",
              "  <tbody>\n",
              "    <tr>\n",
              "      <th>0</th>\n",
              "      <td>I'd like to start by talking about prices .</td>\n",
              "      <td>I'd be glad to answer any questions you may h...</td>\n",
              "      <td>1</td>\n",
              "    </tr>\n",
              "    <tr>\n",
              "      <th>1</th>\n",
              "      <td>Why ? Isn't it obvious ? First you impose way...</td>\n",
              "      <td>I'm very sorry for that , but I sent you seve...</td>\n",
              "      <td>1</td>\n",
              "    </tr>\n",
              "  </tbody>\n",
              "</table>\n",
              "</div>\n",
              "      <button class=\"colab-df-convert\" onclick=\"convertToInteractive('df-a53ec067-527a-463e-8e3d-47dc076ee56c')\"\n",
              "              title=\"Convert this dataframe to an interactive table.\"\n",
              "              style=\"display:none;\">\n",
              "        \n",
              "  <svg xmlns=\"http://www.w3.org/2000/svg\" height=\"24px\"viewBox=\"0 0 24 24\"\n",
              "       width=\"24px\">\n",
              "    <path d=\"M0 0h24v24H0V0z\" fill=\"none\"/>\n",
              "    <path d=\"M18.56 5.44l.94 2.06.94-2.06 2.06-.94-2.06-.94-.94-2.06-.94 2.06-2.06.94zm-11 1L8.5 8.5l.94-2.06 2.06-.94-2.06-.94L8.5 2.5l-.94 2.06-2.06.94zm10 10l.94 2.06.94-2.06 2.06-.94-2.06-.94-.94-2.06-.94 2.06-2.06.94z\"/><path d=\"M17.41 7.96l-1.37-1.37c-.4-.4-.92-.59-1.43-.59-.52 0-1.04.2-1.43.59L10.3 9.45l-7.72 7.72c-.78.78-.78 2.05 0 2.83L4 21.41c.39.39.9.59 1.41.59.51 0 1.02-.2 1.41-.59l7.78-7.78 2.81-2.81c.8-.78.8-2.07 0-2.86zM5.41 20L4 18.59l7.72-7.72 1.47 1.35L5.41 20z\"/>\n",
              "  </svg>\n",
              "      </button>\n",
              "      \n",
              "  <style>\n",
              "    .colab-df-container {\n",
              "      display:flex;\n",
              "      flex-wrap:wrap;\n",
              "      gap: 12px;\n",
              "    }\n",
              "\n",
              "    .colab-df-convert {\n",
              "      background-color: #E8F0FE;\n",
              "      border: none;\n",
              "      border-radius: 50%;\n",
              "      cursor: pointer;\n",
              "      display: none;\n",
              "      fill: #1967D2;\n",
              "      height: 32px;\n",
              "      padding: 0 0 0 0;\n",
              "      width: 32px;\n",
              "    }\n",
              "\n",
              "    .colab-df-convert:hover {\n",
              "      background-color: #E2EBFA;\n",
              "      box-shadow: 0px 1px 2px rgba(60, 64, 67, 0.3), 0px 1px 3px 1px rgba(60, 64, 67, 0.15);\n",
              "      fill: #174EA6;\n",
              "    }\n",
              "\n",
              "    [theme=dark] .colab-df-convert {\n",
              "      background-color: #3B4455;\n",
              "      fill: #D2E3FC;\n",
              "    }\n",
              "\n",
              "    [theme=dark] .colab-df-convert:hover {\n",
              "      background-color: #434B5C;\n",
              "      box-shadow: 0px 1px 3px 1px rgba(0, 0, 0, 0.15);\n",
              "      filter: drop-shadow(0px 1px 2px rgba(0, 0, 0, 0.3));\n",
              "      fill: #FFFFFF;\n",
              "    }\n",
              "  </style>\n",
              "\n",
              "      <script>\n",
              "        const buttonEl =\n",
              "          document.querySelector('#df-a53ec067-527a-463e-8e3d-47dc076ee56c button.colab-df-convert');\n",
              "        buttonEl.style.display =\n",
              "          google.colab.kernel.accessAllowed ? 'block' : 'none';\n",
              "\n",
              "        async function convertToInteractive(key) {\n",
              "          const element = document.querySelector('#df-a53ec067-527a-463e-8e3d-47dc076ee56c');\n",
              "          const dataTable =\n",
              "            await google.colab.kernel.invokeFunction('convertToInteractive',\n",
              "                                                     [key], {});\n",
              "          if (!dataTable) return;\n",
              "\n",
              "          const docLinkHtml = 'Like what you see? Visit the ' +\n",
              "            '<a target=\"_blank\" href=https://colab.research.google.com/notebooks/data_table.ipynb>data table notebook</a>'\n",
              "            + ' to learn more about interactive tables.';\n",
              "          element.innerHTML = '';\n",
              "          dataTable['output_type'] = 'display_data';\n",
              "          await google.colab.output.renderOutput(dataTable, element);\n",
              "          const docLink = document.createElement('div');\n",
              "          docLink.innerHTML = docLinkHtml;\n",
              "          element.appendChild(docLink);\n",
              "        }\n",
              "      </script>\n",
              "    </div>\n",
              "  </div>\n",
              "  "
            ]
          },
          "metadata": {},
          "execution_count": 13
        }
      ]
    },
    {
      "cell_type": "code",
      "source": [
        "holdout_df.head(2)"
      ],
      "metadata": {
        "colab": {
          "base_uri": "https://localhost:8080/"
        },
        "id": "tt6Zi2G0bKCi",
        "outputId": "d0dd9233-4b76-42e1-f192-d278e8737379"
      },
      "execution_count": null,
      "outputs": [
        {
          "output_type": "execute_result",
          "data": {
            "text/plain": [
              "                                      Input  \\\n",
              "0   I know . I wonder what's keeping him .    \n",
              "1               I think my arm is broken .    \n",
              "\n",
              "                                              Output  Label  \n",
              "0   Here are your keys . I ’ ll send my sister to...      0  \n",
              "1   Sorry about your arm , but it serves you righ...      1  "
            ],
            "text/html": [
              "\n",
              "  <div id=\"df-214bcc80-b537-44e5-9ddf-8d125ea64446\">\n",
              "    <div class=\"colab-df-container\">\n",
              "      <div>\n",
              "<style scoped>\n",
              "    .dataframe tbody tr th:only-of-type {\n",
              "        vertical-align: middle;\n",
              "    }\n",
              "\n",
              "    .dataframe tbody tr th {\n",
              "        vertical-align: top;\n",
              "    }\n",
              "\n",
              "    .dataframe thead th {\n",
              "        text-align: right;\n",
              "    }\n",
              "</style>\n",
              "<table border=\"1\" class=\"dataframe\">\n",
              "  <thead>\n",
              "    <tr style=\"text-align: right;\">\n",
              "      <th></th>\n",
              "      <th>Input</th>\n",
              "      <th>Output</th>\n",
              "      <th>Label</th>\n",
              "    </tr>\n",
              "  </thead>\n",
              "  <tbody>\n",
              "    <tr>\n",
              "      <th>0</th>\n",
              "      <td>I know . I wonder what's keeping him .</td>\n",
              "      <td>Here are your keys . I ’ ll send my sister to...</td>\n",
              "      <td>0</td>\n",
              "    </tr>\n",
              "    <tr>\n",
              "      <th>1</th>\n",
              "      <td>I think my arm is broken .</td>\n",
              "      <td>Sorry about your arm , but it serves you righ...</td>\n",
              "      <td>1</td>\n",
              "    </tr>\n",
              "  </tbody>\n",
              "</table>\n",
              "</div>\n",
              "      <button class=\"colab-df-convert\" onclick=\"convertToInteractive('df-214bcc80-b537-44e5-9ddf-8d125ea64446')\"\n",
              "              title=\"Convert this dataframe to an interactive table.\"\n",
              "              style=\"display:none;\">\n",
              "        \n",
              "  <svg xmlns=\"http://www.w3.org/2000/svg\" height=\"24px\"viewBox=\"0 0 24 24\"\n",
              "       width=\"24px\">\n",
              "    <path d=\"M0 0h24v24H0V0z\" fill=\"none\"/>\n",
              "    <path d=\"M18.56 5.44l.94 2.06.94-2.06 2.06-.94-2.06-.94-.94-2.06-.94 2.06-2.06.94zm-11 1L8.5 8.5l.94-2.06 2.06-.94-2.06-.94L8.5 2.5l-.94 2.06-2.06.94zm10 10l.94 2.06.94-2.06 2.06-.94-2.06-.94-.94-2.06-.94 2.06-2.06.94z\"/><path d=\"M17.41 7.96l-1.37-1.37c-.4-.4-.92-.59-1.43-.59-.52 0-1.04.2-1.43.59L10.3 9.45l-7.72 7.72c-.78.78-.78 2.05 0 2.83L4 21.41c.39.39.9.59 1.41.59.51 0 1.02-.2 1.41-.59l7.78-7.78 2.81-2.81c.8-.78.8-2.07 0-2.86zM5.41 20L4 18.59l7.72-7.72 1.47 1.35L5.41 20z\"/>\n",
              "  </svg>\n",
              "      </button>\n",
              "      \n",
              "  <style>\n",
              "    .colab-df-container {\n",
              "      display:flex;\n",
              "      flex-wrap:wrap;\n",
              "      gap: 12px;\n",
              "    }\n",
              "\n",
              "    .colab-df-convert {\n",
              "      background-color: #E8F0FE;\n",
              "      border: none;\n",
              "      border-radius: 50%;\n",
              "      cursor: pointer;\n",
              "      display: none;\n",
              "      fill: #1967D2;\n",
              "      height: 32px;\n",
              "      padding: 0 0 0 0;\n",
              "      width: 32px;\n",
              "    }\n",
              "\n",
              "    .colab-df-convert:hover {\n",
              "      background-color: #E2EBFA;\n",
              "      box-shadow: 0px 1px 2px rgba(60, 64, 67, 0.3), 0px 1px 3px 1px rgba(60, 64, 67, 0.15);\n",
              "      fill: #174EA6;\n",
              "    }\n",
              "\n",
              "    [theme=dark] .colab-df-convert {\n",
              "      background-color: #3B4455;\n",
              "      fill: #D2E3FC;\n",
              "    }\n",
              "\n",
              "    [theme=dark] .colab-df-convert:hover {\n",
              "      background-color: #434B5C;\n",
              "      box-shadow: 0px 1px 3px 1px rgba(0, 0, 0, 0.15);\n",
              "      filter: drop-shadow(0px 1px 2px rgba(0, 0, 0, 0.3));\n",
              "      fill: #FFFFFF;\n",
              "    }\n",
              "  </style>\n",
              "\n",
              "      <script>\n",
              "        const buttonEl =\n",
              "          document.querySelector('#df-214bcc80-b537-44e5-9ddf-8d125ea64446 button.colab-df-convert');\n",
              "        buttonEl.style.display =\n",
              "          google.colab.kernel.accessAllowed ? 'block' : 'none';\n",
              "\n",
              "        async function convertToInteractive(key) {\n",
              "          const element = document.querySelector('#df-214bcc80-b537-44e5-9ddf-8d125ea64446');\n",
              "          const dataTable =\n",
              "            await google.colab.kernel.invokeFunction('convertToInteractive',\n",
              "                                                     [key], {});\n",
              "          if (!dataTable) return;\n",
              "\n",
              "          const docLinkHtml = 'Like what you see? Visit the ' +\n",
              "            '<a target=\"_blank\" href=https://colab.research.google.com/notebooks/data_table.ipynb>data table notebook</a>'\n",
              "            + ' to learn more about interactive tables.';\n",
              "          element.innerHTML = '';\n",
              "          dataTable['output_type'] = 'display_data';\n",
              "          await google.colab.output.renderOutput(dataTable, element);\n",
              "          const docLink = document.createElement('div');\n",
              "          docLink.innerHTML = docLinkHtml;\n",
              "          element.appendChild(docLink);\n",
              "        }\n",
              "      </script>\n",
              "    </div>\n",
              "  </div>\n",
              "  "
            ]
          },
          "metadata": {},
          "execution_count": 14
        }
      ]
    },
    {
      "cell_type": "code",
      "source": [
        "# train_df.iloc[152099][\"Input\"] \\\n",
        "# , train_df.iloc[152099][\"Output\"] \\\n",
        "# , train_df.iloc[152099][\"Label\"]\n",
        "\n",
        "# ('Hello , sir . Can I help you ? ',\n",
        "#  \" that'd be great ! I know he'd appreciate your help . \",\n",
        "#  0)\n",
        "\n",
        "# # Corollary => Dataset is utterly noisy!\n",
        "\n",
        "# train_df['Label'].mean(),dev_df['Label'].mean(),holdout_df['Label'].mean()\n",
        "# >> (0.5, 0.5, 0.5)\n",
        "# # Corrolary -> all datasets are balanced"
      ],
      "metadata": {
        "id": "u7pXqxj344DG"
      },
      "execution_count": null,
      "outputs": []
    },
    {
      "cell_type": "code",
      "source": [
        "# train_df.keys()\n",
        "# >> Index(['Input', 'Output', 'Label'], dtype='object')\n"
      ],
      "metadata": {
        "id": "Uufzjn2NMjTQ"
      },
      "execution_count": null,
      "outputs": []
    },
    {
      "cell_type": "markdown",
      "source": [
        "# Question 1"
      ],
      "metadata": {
        "id": "kJik9282ODh0"
      }
    },
    {
      "cell_type": "code",
      "source": [
        "%%capture\n",
        "!pip install transformers"
      ],
      "metadata": {
        "id": "Ugap-8y1zOXJ"
      },
      "execution_count": null,
      "outputs": []
    },
    {
      "cell_type": "code",
      "source": [
        "from transformers.utils.dummy_pt_objects import BartForCausalLM\n",
        "t_questions = []\n",
        "t_answers = []\n",
        "t_labels = []\n",
        "\n",
        "max_records = 10000000000\n",
        "i = 0\n",
        "for index, row in train_df.iterrows():\n",
        "    i += 1\n",
        "    t_questions.append(clean(row['Input']))\n",
        "    t_answers.append(clean(row['Output']))\n",
        "    t_labels.append(row['Label'])\n",
        "    if i == max_records: \n",
        "      i = 0\n",
        "      break\n",
        "    \n",
        "\n",
        "d_questions = []\n",
        "d_answers = []\n",
        "d_labels = []\n",
        "\n",
        "for index, row in dev_df.iterrows():\n",
        "    i += 1\n",
        "    d_questions.append(clean(row['Input']))\n",
        "    d_answers.append(clean(row['Output']))\n",
        "    d_labels.append(row['Label'])\n",
        "    if i == max_records: \n",
        "      i = 0\n",
        "      break\n",
        "\n",
        "h_questions = []\n",
        "h_answers = []\n",
        "h_labels = []\n",
        "\n",
        "for index, row in holdout_df.iterrows():\n",
        "    i +=1\n",
        "    h_questions.append(clean(row['Input']))\n",
        "    h_answers.append(clean(row['Output']))\n",
        "    h_labels.append(row['Label'])\n",
        "    if i == max_records: \n",
        "      i = 0\n",
        "      break\n",
        "\n",
        "for i in range(len(search_space)):\n",
        "  search_space[i] = clean(search_space[i])\n"
      ],
      "metadata": {
        "id": "jzIWJZUp3kHw"
      },
      "execution_count": null,
      "outputs": []
    },
    {
      "cell_type": "code",
      "source": [
        "search_space[:5]"
      ],
      "metadata": {
        "colab": {
          "base_uri": "https://localhost:8080/"
        },
        "id": "0w91vIGv8MXa",
        "outputId": "aa83b261-5fec-4afd-99a6-11cc9081e02d"
      },
      "execution_count": null,
      "outputs": [
        {
          "output_type": "execute_result",
          "data": {
            "text/plain": [
              "['yes . it was sunny and warm yesterday but the wind is really blowing hard now .',\n",
              " 'did you like them ? you could take the last one home with you .',\n",
              " 'nowadays , they offer so many services , you hardly know which one to choose . take mailing for example . do you send something first class or second class or do you use ems ?',\n",
              " 'thank you . i have got quite clear idea of it .',\n",
              " 'definitely . that is why many cross cultural marriages end in divorce .']"
            ]
          },
          "metadata": {},
          "execution_count": 19
        }
      ]
    },
    {
      "cell_type": "code",
      "source": [
        "t_questions[0], t_answers[0], t_labels[0] , len(t_questions) \\\n",
        ",len(d_questions) , len(h_questions)"
      ],
      "metadata": {
        "colab": {
          "base_uri": "https://localhost:8080/"
        },
        "id": "_p7OnGl42yjQ",
        "outputId": "4029c713-48f2-4c01-a97b-63c3a80d8abb"
      },
      "execution_count": null,
      "outputs": [
        {
          "output_type": "execute_result",
          "data": {
            "text/plain": [
              "('i would like to start by talking about prices .',\n",
              " 'i would be glad to answer any questions you may have .',\n",
              " 1,\n",
              " 152104,\n",
              " 14138,\n",
              " 13480)"
            ]
          },
          "metadata": {},
          "execution_count": 20
        }
      ]
    },
    {
      "cell_type": "code",
      "source": [
        "max([len(x.split(\" \")) for x in t_questions]) \\\n",
        ", max([len(x.split(\" \")) for x in d_questions]) \\\n",
        ", max([len(x.split(\" \")) for x in h_questions]) "
      ],
      "metadata": {
        "colab": {
          "base_uri": "https://localhost:8080/"
        },
        "id": "bWn_f4HI93hk",
        "outputId": "532143da-f799-4099-a87a-48f35e27a37c"
      },
      "execution_count": null,
      "outputs": [
        {
          "output_type": "execute_result",
          "data": {
            "text/plain": [
              "(40, 40, 40)"
            ]
          },
          "metadata": {},
          "execution_count": 21
        }
      ]
    },
    {
      "cell_type": "code",
      "source": [
        "from tensorflow.keras.utils import to_categorical\n",
        "\n",
        "t_labels = to_categorical(t_labels)\n",
        "d_labels = to_categorical(d_labels)\n",
        "h_labels = to_categorical(h_labels)"
      ],
      "metadata": {
        "id": "uLrMkU7_86ww"
      },
      "execution_count": null,
      "outputs": []
    },
    {
      "cell_type": "code",
      "source": [
        "type(t_labels)"
      ],
      "metadata": {
        "colab": {
          "base_uri": "https://localhost:8080/"
        },
        "id": "FVbT2WMcOFV8",
        "outputId": "6b717798-af80-4ca6-e457-1c50a0c1f8ee"
      },
      "execution_count": null,
      "outputs": [
        {
          "output_type": "execute_result",
          "data": {
            "text/plain": [
              "numpy.ndarray"
            ]
          },
          "metadata": {},
          "execution_count": 23
        }
      ]
    },
    {
      "cell_type": "code",
      "source": [
        "from transformers import BertTokenizer\n",
        "import numpy as np\n",
        "bert_tokenizer = BertTokenizer.from_pretrained('bert-base-uncased')"
      ],
      "metadata": {
        "colab": {
          "base_uri": "https://localhost:8080/",
          "referenced_widgets": [
            "cf6dad032ec047b69ef0178aaadc1935",
            "9f0f6511f1ab4219a7fabb7ab4b6ccce",
            "eb028d789144469796e78df8f338b336",
            "b3051bd4f41a469da5d4dee840843c43",
            "6a6f1e9d378f48eebf5c9fe320422734",
            "a485886595e34f1dbe0db8a45835a4e6",
            "dd4c555314234e82be745e9d67f7d6b6",
            "04b013680bd841058e03dcde187793d9",
            "35e41df348f14f8aa23ba7e724f01610",
            "19216cca02fd4ad78f3a64983304af82",
            "ae6cf258c5ed4c13bf2b1ef48b11111d",
            "58cadab139fc4e1e87ef9189534a228e",
            "c1ecaad9fd444a218d6468a16186734f",
            "de483ba3212c44aaa5550372c1d65769",
            "c0e83dc5f5b64cd4bedf8e19777131e1",
            "aac698dd11aa48729b09ed0555d3a507",
            "5b0bc94b1d734d6c80e0c5dc6c23a995",
            "b2eb1ec89e0844c0a91ed3de86f2af6c",
            "923adc1803c943e9864f2dd0ad68cf5b",
            "f8087cc81abe4d7f997e377fbf512ae4",
            "1c737880c58f43eaa597aeb941e15020",
            "6e0fa198050f4ff28ebb6ccd1194028f",
            "2880f0e183c04b299a8b3189f91f28eb",
            "f5024dca544241e6bae97f4052c341e1",
            "3d29c354c0eb4b0185fa019cad3fd31b",
            "d23c5b22e95146d88e98fe5313d440d0",
            "53c0bcef866941469c1178839625f4b4",
            "741df1a33b7445a3aba2a9cff4b85b8e",
            "a4db2f374a2a4702a26a5cf5ca2cbf71",
            "95667ad481484b54b7c42ef440f21f6a",
            "92b0920808044811add5fa4c101a3f80",
            "4866a25f017a4c26894f5e96076a0699",
            "c168425ca0c34b229030fe864c6e4cb1"
          ]
        },
        "id": "J7BMU6Vq_8Kq",
        "outputId": "ef67405f-961c-4f5d-db2e-2b82cf0ec13f"
      },
      "execution_count": null,
      "outputs": [
        {
          "output_type": "display_data",
          "data": {
            "text/plain": [
              "Downloading:   0%|          | 0.00/226k [00:00<?, ?B/s]"
            ],
            "application/vnd.jupyter.widget-view+json": {
              "version_major": 2,
              "version_minor": 0,
              "model_id": "cf6dad032ec047b69ef0178aaadc1935"
            }
          },
          "metadata": {}
        },
        {
          "output_type": "display_data",
          "data": {
            "text/plain": [
              "Downloading:   0%|          | 0.00/28.0 [00:00<?, ?B/s]"
            ],
            "application/vnd.jupyter.widget-view+json": {
              "version_major": 2,
              "version_minor": 0,
              "model_id": "58cadab139fc4e1e87ef9189534a228e"
            }
          },
          "metadata": {}
        },
        {
          "output_type": "display_data",
          "data": {
            "text/plain": [
              "Downloading:   0%|          | 0.00/570 [00:00<?, ?B/s]"
            ],
            "application/vnd.jupyter.widget-view+json": {
              "version_major": 2,
              "version_minor": 0,
              "model_id": "2880f0e183c04b299a8b3189f91f28eb"
            }
          },
          "metadata": {}
        }
      ]
    },
    {
      "cell_type": "markdown",
      "source": [
        "# TOkenizing t,d,h"
      ],
      "metadata": {
        "id": "FT4RUnPUctOq"
      }
    },
    {
      "cell_type": "code",
      "source": [
        "t_input_ids=[]\n",
        "t_attention_masks=[]\n",
        "\n",
        "for i in range(len(t_questions)):\n",
        "    bert_inp = bert_tokenizer.encode_plus(t_questions[i],t_answers[i],\n",
        "                                        add_special_tokens = True,\n",
        "                                        max_length =100,\n",
        "                                        pad_to_max_length = True, \n",
        "                                        return_attention_mask = True)\n",
        "    \n",
        "    t_input_ids.append(bert_inp['input_ids'])\n",
        "    t_attention_masks.append(bert_inp['attention_mask'])\n",
        "\n",
        "t_input_ids = np.asarray(t_input_ids)\n",
        "t_attention_masks = np.array(t_attention_masks)\n",
        "# t_labels = np.array(t_labels)"
      ],
      "metadata": {
        "id": "OvqZhQSDyZsK"
      },
      "execution_count": null,
      "outputs": []
    },
    {
      "cell_type": "code",
      "source": [
        "d_input_ids=[]\n",
        "d_attention_masks=[]\n",
        "\n",
        "for i in range(len(d_questions)):\n",
        "    bert_inp = bert_tokenizer.encode_plus(d_questions[i],d_answers[i],\n",
        "                                        add_special_tokens = True,\n",
        "                                        max_length =100,\n",
        "                                        pad_to_max_length = True, \n",
        "                                        return_attention_mask = True)\n",
        "    \n",
        "    d_input_ids.append(bert_inp['input_ids'])\n",
        "    d_attention_masks.append(bert_inp['attention_mask'])\n",
        "\n",
        "d_input_ids = np.asarray(d_input_ids)\n",
        "d_attention_masks = np.array(d_attention_masks)\n",
        "# t_labels = np.array(t_labels)"
      ],
      "metadata": {
        "colab": {
          "base_uri": "https://localhost:8080/"
        },
        "id": "XxzEtyliL3kp",
        "outputId": "dc075114-ab3b-46f1-97a3-cef79a677b58"
      },
      "execution_count": null,
      "outputs": [
        {
          "output_type": "stream",
          "name": "stderr",
          "text": [
            "/usr/local/lib/python3.7/dist-packages/transformers/tokenization_utils_base.py:2269: FutureWarning: The `pad_to_max_length` argument is deprecated and will be removed in a future version, use `padding=True` or `padding='longest'` to pad to the longest sequence in the batch, or use `padding='max_length'` to pad to a max length. In this case, you can give a specific length with `max_length` (e.g. `max_length=45`) or leave max_length to None to pad to the maximal input size of the model (e.g. 512 for Bert).\n",
            "  FutureWarning,\n"
          ]
        }
      ]
    },
    {
      "cell_type": "code",
      "source": [
        "  h_input_ids=[]\n",
        "  h_attention_masks=[]\n",
        "\n",
        "  for i in range(len(h_questions)):\n",
        "      bert_inp = bert_tokenizer.encode_plus(h_questions[i],h_answers[i],\n",
        "                                          add_special_tokens = True,\n",
        "                                          max_length =100,\n",
        "                                          pad_to_max_length = True, \n",
        "                                          return_attention_mask = True)\n",
        "      \n",
        "      h_input_ids.append(bert_inp['input_ids'])\n",
        "      h_attention_masks.append(bert_inp['attention_mask'])\n",
        "\n",
        "  h_input_ids = np.asarray(h_input_ids)\n",
        "  h_attention_masks = np.array(h_attention_masks)\n",
        "# t_labels = np.array(t_labels)"
      ],
      "metadata": {
        "colab": {
          "base_uri": "https://localhost:8080/"
        },
        "id": "bphisgi0X2Z5",
        "outputId": "c812a0a3-636a-436f-c8f9-7b2a748d9279"
      },
      "execution_count": null,
      "outputs": [
        {
          "output_type": "stream",
          "name": "stderr",
          "text": [
            "/usr/local/lib/python3.7/dist-packages/transformers/tokenization_utils_base.py:2269: FutureWarning: The `pad_to_max_length` argument is deprecated and will be removed in a future version, use `padding=True` or `padding='longest'` to pad to the longest sequence in the batch, or use `padding='max_length'` to pad to a max length. In this case, you can give a specific length with `max_length` (e.g. `max_length=45`) or leave max_length to None to pad to the maximal input size of the model (e.g. 512 for Bert).\n",
            "  FutureWarning,\n"
          ]
        }
      ]
    },
    {
      "cell_type": "markdown",
      "source": [
        "# Defining the model"
      ],
      "metadata": {
        "id": "znkjIx32cymH"
      }
    },
    {
      "cell_type": "code",
      "source": [
        "import tensorflow as tf\n",
        "from transformers import TFBertModel, TFBertForPreTraining"
      ],
      "metadata": {
        "id": "Vj5HMQ7hBLqU"
      },
      "execution_count": null,
      "outputs": []
    },
    {
      "cell_type": "code",
      "source": [
        "from tensorflow.keras.callbacks import ModelCheckpoint\n",
        "import keras\n",
        "import matplotlib.pyplot as plt\n",
        "#!pip install IPython\n",
        "from IPython.display import clear_output as cls\n",
        "\n",
        "class PlotLosses(keras.callbacks.Callback):\n",
        "\n",
        "  def on_train_begin(self,logs={}):\n",
        "    self.i = 0\n",
        "    self.x = []\n",
        "    self.losses= []\n",
        "    self.val_losses = []\n",
        "    self.fig = plt.figure()\n",
        "    self.logs = []\n",
        "\n",
        "    self.accuracy = []\n",
        "    self.val_accuracy = []\n",
        "\n",
        "  def on_epoch_end(self, epoch, logs={}):\n",
        "    self.logs.append(logs)\n",
        "    self.x.append(self.i)\n",
        "    self.losses.append(logs.get('loss'))\n",
        "    self.val_losses.append(logs.get('val_loss'))    \n",
        "    self.i +=1\n",
        "    self.accuracy.append(logs.get('accuracy'))\n",
        "    self.val_accuracy.append(logs.get('val_accuracy'))\n",
        "\n",
        "    cls(wait=True)\n",
        "    plt.plot(self.x, self.losses, label= 'loss')\n",
        "    plt.plot(self.x, self.val_losses, label= 'val_loss')\n",
        "    plt.legend()\n",
        "    plt.show()\n",
        "\n",
        "    plt.plot(self.x, self.accuracy, label= 'accuracy')\n",
        "    plt.plot(self.x, self.val_accuracy, label= 'val_accuracy')\n",
        "    plt.legend()\n",
        "    plt.show()\n",
        "\n"
      ],
      "metadata": {
        "id": "rFIggtEMVTBu"
      },
      "execution_count": null,
      "outputs": []
    },
    {
      "cell_type": "code",
      "source": [
        "  plot_losses = PlotLosses()\n",
        "\n",
        "  # save my model based on \"val_accuracy\" ! \n",
        "  # mode='max' !\n",
        "\n",
        "  checkpoint = ModelCheckpoint('/kickass_bert-{epoch:03d}--{val_accuracy:03f}.h5',\n",
        "                              verbose=1, monitor='val_accuracy',save_best_only=True,\n",
        "                              save_weights_only=True, mode='max')\n"
      ],
      "metadata": {
        "id": "a6LbBU6QVyP_"
      },
      "execution_count": null,
      "outputs": []
    },
    {
      "cell_type": "code",
      "source": [
        "SEQ_LEN = 100\n",
        "\n",
        "bert = TFBertModel.from_pretrained('bert-base-uncased')\n",
        "\n",
        "input_ids = tf.keras.layers.Input(shape=(SEQ_LEN,), name='input_ids', dtype='int32')\n",
        "mask = tf.keras.layers.Input(shape=(SEQ_LEN,), name='attention_mask', dtype='int32')\n",
        "\n",
        "embeddings = bert(input_ids, attention_mask=mask)[1]\n",
        "# X = tf.keras.layers.Lambda(lambda x: tf.keras.backend.mean(x, axis=1))(embeddings)\n",
        "X = embeddings\n",
        "y = tf.keras.layers.Dense(2, activation='softmax', name='outputs')(X)\n",
        "\n",
        "bert_model = tf.keras.Model(inputs=[input_ids, mask], outputs=y)\n",
        "\n",
        "optimizer = tf.keras.optimizers.Adam(learning_rate=2e-5,epsilon=1e-08)\n",
        "\n",
        "bert_model.compile(optimizer=optimizer,\n",
        "              loss='binary_crossentropy',\n",
        "              metrics=['accuracy'])\n",
        "\n",
        "bert_model.summary()"
      ],
      "metadata": {
        "colab": {
          "base_uri": "https://localhost:8080/",
          "referenced_widgets": [
            "4d6645ebe0594d7da7f8c7d383c8cd06",
            "8ce6add9ce14455c9c177abeb9ca4e8b",
            "f47a18c0130f4345ae8114d90daf4afd",
            "8feac8c4983a413e90ba6395f3cd830e",
            "d8139a291fcb4f03a82385d4f8153d08",
            "a1527c1cfcb0482a80e48deaf12518cf",
            "7936904e0fea481b9c67d1f65b92ef37",
            "d395109b2fc84d8e9a312b2e3faa083b",
            "ec7199e6bb7443a18c0b19514f7a6be1",
            "0b41121ce2e3463e946ef3929eaf2c3f",
            "5d016eadf189485783a774d2ac91e4c3"
          ]
        },
        "id": "2XF-MWGlBLnN",
        "outputId": "c4cb6514-ea98-4757-aa19-4dcef2d28a84"
      },
      "execution_count": null,
      "outputs": [
        {
          "output_type": "display_data",
          "data": {
            "text/plain": [
              "Downloading:   0%|          | 0.00/511M [00:00<?, ?B/s]"
            ],
            "application/vnd.jupyter.widget-view+json": {
              "version_major": 2,
              "version_minor": 0,
              "model_id": "4d6645ebe0594d7da7f8c7d383c8cd06"
            }
          },
          "metadata": {}
        },
        {
          "output_type": "stream",
          "name": "stderr",
          "text": [
            "Some layers from the model checkpoint at bert-base-uncased were not used when initializing TFBertModel: ['mlm___cls', 'nsp___cls']\n",
            "- This IS expected if you are initializing TFBertModel from the checkpoint of a model trained on another task or with another architecture (e.g. initializing a BertForSequenceClassification model from a BertForPreTraining model).\n",
            "- This IS NOT expected if you are initializing TFBertModel from the checkpoint of a model that you expect to be exactly identical (initializing a BertForSequenceClassification model from a BertForSequenceClassification model).\n",
            "All the layers of TFBertModel were initialized from the model checkpoint at bert-base-uncased.\n",
            "If your task is similar to the task the model of the checkpoint was trained on, you can already use TFBertModel for predictions without further training.\n"
          ]
        },
        {
          "output_type": "stream",
          "name": "stdout",
          "text": [
            "Model: \"model\"\n",
            "__________________________________________________________________________________________________\n",
            " Layer (type)                   Output Shape         Param #     Connected to                     \n",
            "==================================================================================================\n",
            " input_ids (InputLayer)         [(None, 100)]        0           []                               \n",
            "                                                                                                  \n",
            " attention_mask (InputLayer)    [(None, 100)]        0           []                               \n",
            "                                                                                                  \n",
            " tf_bert_model (TFBertModel)    TFBaseModelOutputWi  109482240   ['input_ids[0][0]',              \n",
            "                                thPoolingAndCrossAt               'attention_mask[0][0]']         \n",
            "                                tentions(last_hidde                                               \n",
            "                                n_state=(None, 100,                                               \n",
            "                                 768),                                                            \n",
            "                                 pooler_output=(Non                                               \n",
            "                                e, 768),                                                          \n",
            "                                 past_key_values=No                                               \n",
            "                                ne, hidden_states=N                                               \n",
            "                                one, attentions=Non                                               \n",
            "                                e, cross_attentions                                               \n",
            "                                =None)                                                            \n",
            "                                                                                                  \n",
            " outputs (Dense)                (None, 2)            1538        ['tf_bert_model[0][1]']          \n",
            "                                                                                                  \n",
            "==================================================================================================\n",
            "Total params: 109,483,778\n",
            "Trainable params: 109,483,778\n",
            "Non-trainable params: 0\n",
            "__________________________________________________________________________________________________\n"
          ]
        }
      ]
    },
    {
      "cell_type": "markdown",
      "source": [
        "# Training the model"
      ],
      "metadata": {
        "id": "Y8xOtTpsc51n"
      }
    },
    {
      "cell_type": "code",
      "source": [
        "history = bert_model.fit([t_input_ids, t_attention_masks], t_labels,\n",
        "                       batch_size = 32,\n",
        "                       epochs = 2,\n",
        "                       validation_data = ([d_input_ids, d_attention_masks],d_labels),\n",
        "                       callbacks= [checkpoint,plot_losses])\n"
      ],
      "metadata": {
        "colab": {
          "base_uri": "https://localhost:8080/",
          "height": 550
        },
        "id": "1f3Xuk26LA_l",
        "outputId": "2f08489a-f62d-4a41-9423-43ad4f7822f7"
      },
      "execution_count": null,
      "outputs": [
        {
          "output_type": "display_data",
          "data": {
            "text/plain": [
              "<Figure size 432x288 with 1 Axes>"
            ],
            "image/png": "[encoded data removed]"
          },
          "metadata": {
            "needs_background": "light"
          }
        },
        {
          "output_type": "display_data",
          "data": {
            "text/plain": [
              "<Figure size 432x288 with 1 Axes>"
            ],
            "image/png": "[encoded data removed]"
          },
          "metadata": {
            "needs_background": "light"
          }
        },
        {
          "output_type": "stream",
          "name": "stdout",
          "text": [
            "\b\b\b\b\b\b\b\b\b\b\b\b\b\b\b\b\b\b\b\b\b\b\b\b\b\b\b\b\b\b\b\b\b\b\b\b\b\b\b\b\b\b\b\b\b\b\b\b\b\b\b\b\b\b\b\b\b\b\b\b\b\b\b\b\b\b\b\b\b\b\b\b\b\b\b\b\b\b\b\b\b\b\b\b\b\b\r4754/4754 [==============================] - 3100s 652ms/step - loss: 0.1902 - accuracy: 0.9226 - val_loss: 0.2703 - val_accuracy: 0.8902\n"
          ]
        }
      ]
    },
    {
      "cell_type": "code",
      "source": [
        "# # save my model:\n",
        "# %cp 'kickass_bert--epoch--2--val_accuracy--0.8902.h5' '/content/drive/MyDrive/chatBot_momtazi/data/7'"
      ],
      "metadata": {
        "id": "FprFh3bDihHT"
      },
      "execution_count": null,
      "outputs": []
    },
    {
      "cell_type": "markdown",
      "source": [
        "# Load the best model"
      ],
      "metadata": {
        "id": "LFIKis8ic9uX"
      }
    },
    {
      "cell_type": "code",
      "source": [
        "!pip install --upgrade --no-cache-dir gdown\n"
      ],
      "metadata": {
        "colab": {
          "base_uri": "https://localhost:8080/"
        },
        "id": "XULr67jN5EoA",
        "outputId": "d3b2fbbd-28c9-4787-b645-30d5a54ed72e"
      },
      "execution_count": null,
      "outputs": [
        {
          "output_type": "stream",
          "name": "stdout",
          "text": [
            "Requirement already satisfied: gdown in /usr/local/lib/python3.7/dist-packages (4.2.2)\n",
            "Collecting gdown\n",
            "  Downloading gdown-4.4.0.tar.gz (14 kB)\n",
            "  Installing build dependencies ... \u001b[?25l\u001b[?25hdone\n",
            "  Getting requirements to build wheel ... \u001b[?25l\u001b[?25hdone\n",
            "    Preparing wheel metadata ... \u001b[?25l\u001b[?25hdone\n",
            "Requirement already satisfied: six in /usr/local/lib/python3.7/dist-packages (from gdown) (1.15.0)\n",
            "Requirement already satisfied: beautifulsoup4 in /usr/local/lib/python3.7/dist-packages (from gdown) (4.6.3)\n",
            "Requirement already satisfied: filelock in /usr/local/lib/python3.7/dist-packages (from gdown) (3.6.0)\n",
            "Requirement already satisfied: requests[socks] in /usr/local/lib/python3.7/dist-packages (from gdown) (2.23.0)\n",
            "Requirement already satisfied: tqdm in /usr/local/lib/python3.7/dist-packages (from gdown) (4.63.0)\n",
            "Requirement already satisfied: certifi>=2017.4.17 in /usr/local/lib/python3.7/dist-packages (from requests[socks]->gdown) (2021.10.8)\n",
            "Requirement already satisfied: idna<3,>=2.5 in /usr/local/lib/python3.7/dist-packages (from requests[socks]->gdown) (2.10)\n",
            "Requirement already satisfied: chardet<4,>=3.0.2 in /usr/local/lib/python3.7/dist-packages (from requests[socks]->gdown) (3.0.4)\n",
            "Requirement already satisfied: urllib3!=1.25.0,!=1.25.1,<1.26,>=1.21.1 in /usr/local/lib/python3.7/dist-packages (from requests[socks]->gdown) (1.24.3)\n",
            "Requirement already satisfied: PySocks!=1.5.7,>=1.5.6 in /usr/local/lib/python3.7/dist-packages (from requests[socks]->gdown) (1.7.1)\n",
            "Building wheels for collected packages: gdown\n",
            "  Building wheel for gdown (PEP 517) ... \u001b[?25l\u001b[?25hdone\n",
            "  Created wheel for gdown: filename=gdown-4.4.0-py3-none-any.whl size=14774 sha256=afb6df1a1452c9af9d7066dc511a22060e6344e11c1be2106f7cfcfe1f0d854d\n",
            "  Stored in directory: /tmp/pip-ephem-wheel-cache-ks_d4nkm/wheels/fb/c3/0e/c4d8ff8bfcb0461afff199471449f642179b74968c15b7a69c\n",
            "Successfully built gdown\n",
            "Installing collected packages: gdown\n",
            "  Attempting uninstall: gdown\n",
            "    Found existing installation: gdown 4.2.2\n",
            "    Uninstalling gdown-4.2.2:\n",
            "      Successfully uninstalled gdown-4.2.2\n",
            "Successfully installed gdown-4.4.0\n"
          ]
        }
      ]
    },
    {
      "cell_type": "code",
      "source": [
        "!gdown --id '1UhnmswkdAyJkwEOpica6ybigMiC5p0xV'"
      ],
      "metadata": {
        "colab": {
          "base_uri": "https://localhost:8080/"
        },
        "id": "Hm8RfOgW345s",
        "outputId": "79fe95da-78ae-4c39-9c7f-9509f08ecdf9"
      },
      "execution_count": null,
      "outputs": [
        {
          "output_type": "stream",
          "name": "stdout",
          "text": [
            "/usr/local/lib/python3.7/dist-packages/gdown/cli.py:131: FutureWarning: Option `--id` was deprecated in version 4.3.1 and will be removed in 5.0. You don't need to pass it anymore to use a file ID.\n",
            "  category=FutureWarning,\n",
            "Downloading...\n",
            "From: https://drive.google.com/uc?id=1UhnmswkdAyJkwEOpica6ybigMiC5p0xV\n",
            "To: /content/kickass_bert--epoch--2--val_accuracy--0.8902.h5\n",
            "100% 438M/438M [00:03<00:00, 111MB/s]\n"
          ]
        }
      ]
    },
    {
      "cell_type": "code",
      "source": [
        "# load the best model:\n",
        "best_model_path = 'kickass_bert--epoch--2--val_accuracy--0.8902.h5'\n",
        "bert_model.load_weights(best_model_path)"
      ],
      "metadata": {
        "id": "-QLvhf3ElGdV"
      },
      "execution_count": null,
      "outputs": []
    },
    {
      "cell_type": "code",
      "source": [
        "# bert_model.evaluate([h_input_ids, h_attention_masks], h_labels)"
      ],
      "metadata": {
        "id": "TJNDPtJPYXjx"
      },
      "execution_count": null,
      "outputs": []
    },
    {
      "cell_type": "markdown",
      "source": [
        "# Evaluate"
      ],
      "metadata": {
        "id": "Dt4piLLcdCBu"
      }
    },
    {
      "cell_type": "code",
      "source": [
        "h_predict = bert_model.predict([h_input_ids, h_attention_masks])"
      ],
      "metadata": {
        "id": "ClhyW8gZZ4nG"
      },
      "execution_count": null,
      "outputs": []
    },
    {
      "cell_type": "code",
      "source": [
        "h_predict[:5]"
      ],
      "metadata": {
        "colab": {
          "base_uri": "https://localhost:8080/"
        },
        "id": "L5e9dTaTaicN",
        "outputId": "b1bbd6c7-1936-472f-9932-7ca353876209"
      },
      "execution_count": null,
      "outputs": [
        {
          "output_type": "execute_result",
          "data": {
            "text/plain": [
              "array([[9.9998534e-01, 1.4659347e-05],\n",
              "       [3.9361034e-06, 9.9999607e-01],\n",
              "       [1.5254888e-05, 9.9998474e-01],\n",
              "       [5.4819500e-01, 4.5180497e-01],\n",
              "       [3.0249057e-04, 9.9969757e-01]], dtype=float32)"
            ]
          },
          "metadata": {},
          "execution_count": 34
        }
      ]
    },
    {
      "cell_type": "code",
      "source": [
        "import math"
      ],
      "metadata": {
        "id": "j9NxzssEef-T"
      },
      "execution_count": null,
      "outputs": []
    },
    {
      "cell_type": "code",
      "source": [
        "y_predicted = [round(x[1]) for x in h_predict]\n",
        "y_test = [round(x[1]) for x in h_labels]\n",
        "# y_predicted\n"
      ],
      "metadata": {
        "id": "xfO6Epy3eXpi"
      },
      "execution_count": null,
      "outputs": []
    },
    {
      "cell_type": "code",
      "source": [
        "y_predicted[:5]"
      ],
      "metadata": {
        "colab": {
          "base_uri": "https://localhost:8080/"
        },
        "id": "692M9FFRfWr7",
        "outputId": "855fbb50-1223-4ba2-cd5d-e3b7d2dd9997"
      },
      "execution_count": null,
      "outputs": [
        {
          "output_type": "execute_result",
          "data": {
            "text/plain": [
              "[0, 1, 1, 0, 1]"
            ]
          },
          "metadata": {},
          "execution_count": 37
        }
      ]
    },
    {
      "cell_type": "code",
      "source": [
        "h_labels[:5]"
      ],
      "metadata": {
        "colab": {
          "base_uri": "https://localhost:8080/"
        },
        "id": "v12JWAd3fXsC",
        "outputId": "11b295fe-d373-4c7c-a72b-67ac789762a3"
      },
      "execution_count": null,
      "outputs": [
        {
          "output_type": "execute_result",
          "data": {
            "text/plain": [
              "array([[1., 0.],\n",
              "       [0., 1.],\n",
              "       [0., 1.],\n",
              "       [0., 1.],\n",
              "       [0., 1.]], dtype=float32)"
            ]
          },
          "metadata": {},
          "execution_count": 38
        }
      ]
    },
    {
      "cell_type": "code",
      "source": [
        "from sklearn.metrics import confusion_matrix, classification_report\n",
        "\n",
        "cm = confusion_matrix(y_test, y_predicted)\n",
        "cm "
      ],
      "metadata": {
        "colab": {
          "base_uri": "https://localhost:8080/"
        },
        "id": "rqQXr-1XfCS0",
        "outputId": "ffce9bea-5e0c-40f4-8bd4-2e9b03904226"
      },
      "execution_count": null,
      "outputs": [
        {
          "output_type": "execute_result",
          "data": {
            "text/plain": [
              "array([[5862,  878],\n",
              "       [ 539, 6201]])"
            ]
          },
          "metadata": {},
          "execution_count": 39
        }
      ]
    },
    {
      "cell_type": "code",
      "source": [
        "from matplotlib import pyplot as plt\n",
        "import seaborn as sn\n",
        "sn.heatmap(cm, annot=True, fmt='d')\n",
        "plt.xlabel('Predicted')\n",
        "plt.ylabel('Truth')"
      ],
      "metadata": {
        "colab": {
          "base_uri": "https://localhost:8080/",
          "height": 296
        },
        "id": "cbcKD7JAfm5l",
        "outputId": "6e192e09-4c48-4d09-c1de-3d55b22210d6"
      },
      "execution_count": null,
      "outputs": [
        {
          "output_type": "execute_result",
          "data": {
            "text/plain": [
              "Text(33.0, 0.5, 'Truth')"
            ]
          },
          "metadata": {},
          "execution_count": 40
        },
        {
          "output_type": "display_data",
          "data": {
            "text/plain": [
              "<Figure size 432x288 with 2 Axes>"
            ],
            "image/png": "[encoded data removed]"
          },
          "metadata": {
            "needs_background": "light"
          }
        }
      ]
    },
    {
      "cell_type": "code",
      "source": [
        "print(classification_report(y_test, y_predicted))\n"
      ],
      "metadata": {
        "colab": {
          "base_uri": "https://localhost:8080/"
        },
        "id": "kd8gl4bQfmyV",
        "outputId": "4fdf7536-d8a3-4d38-8aaa-41800eabe05e"
      },
      "execution_count": null,
      "outputs": [
        {
          "output_type": "stream",
          "name": "stdout",
          "text": [
            "              precision    recall  f1-score   support\n",
            "\n",
            "           0       0.92      0.87      0.89      6740\n",
            "           1       0.88      0.92      0.90      6740\n",
            "\n",
            "    accuracy                           0.89     13480\n",
            "   macro avg       0.90      0.89      0.89     13480\n",
            "weighted avg       0.90      0.89      0.89     13480\n",
            "\n"
          ]
        }
      ]
    },
    {
      "cell_type": "code",
      "source": [
        "# Based on trial and error, I chose the threashold to be 0.5 and \n",
        "# I used one dence layer "
      ],
      "metadata": {
        "id": "n_OxDxNifxNf"
      },
      "execution_count": null,
      "outputs": []
    },
    {
      "cell_type": "markdown",
      "source": [
        "# Q2"
      ],
      "metadata": {
        "id": "OZQOLEAWgyTJ"
      }
    },
    {
      "cell_type": "code",
      "source": [
        "q2_que = [\n",
        "          'enter your text:what do you do for your weekend ?',\n",
        "          'sir you look so silly',\n",
        "          'I am going to visit my friends now',\n",
        "          'how about you asking me a question . ask me the most difficult question that you know',\n",
        "          'so it seems you are always not sure',\n",
        "]\n",
        "\n",
        "q2_ans = [\n",
        "          'i am very much .',\n",
        "          'i am very much .',\n",
        "          'i am not sure .',\n",
        "          'i am very much .',\n",
        "          'i am very much .',       \n",
        "]\n"
      ],
      "metadata": {
        "id": "V_2Jrcp5L3ZW"
      },
      "execution_count": null,
      "outputs": []
    },
    {
      "cell_type": "code",
      "source": [
        "def question2handler():\n",
        "  q2_input_ids=[]\n",
        "  q2_attention_masks=[]\n",
        "\n",
        "  for i in range(len(q2_que)):\n",
        "      bert_inp = bert_tokenizer.encode_plus(q2_que[i],q2_ans[i],\n",
        "                                          add_special_tokens = True,\n",
        "                                          max_length =100,\n",
        "                                          pad_to_max_length = True, \n",
        "                                          return_attention_mask = True)\n",
        "      \n",
        "      q2_input_ids.append(bert_inp['input_ids'])\n",
        "      q2_attention_masks.append(bert_inp['attention_mask'])\n",
        "\n",
        "  q2_input_ids = np.asarray(q2_input_ids)\n",
        "  q2_attention_masks = np.array(q2_attention_masks)  \n",
        "\n",
        "  q2_predict = bert_model.predict([q2_input_ids, q2_attention_masks])\n",
        "\n",
        "  print('\\n\\n')\n",
        "  for i in range(len(q2_ans)):\n",
        "    print(q2_que[i],'\\n',q2_ans[i])\n",
        "    status = \"IsNext.\" if q2_predict[i][1] >0.5 else \"NotNext.\"\n",
        "    print(status,'\\n\\n')\n"
      ],
      "metadata": {
        "id": "saJTXJclyy1L"
      },
      "execution_count": null,
      "outputs": []
    },
    {
      "cell_type": "code",
      "source": [
        "question2handler()"
      ],
      "metadata": {
        "colab": {
          "base_uri": "https://localhost:8080/"
        },
        "id": "Bqn-HKzQ0f2b",
        "outputId": "6a9eeb35-d6bf-4a2f-e963-14a7e8086365"
      },
      "execution_count": null,
      "outputs": [
        {
          "output_type": "stream",
          "name": "stderr",
          "text": [
            "/usr/local/lib/python3.7/dist-packages/transformers/tokenization_utils_base.py:2269: FutureWarning: The `pad_to_max_length` argument is deprecated and will be removed in a future version, use `padding=True` or `padding='longest'` to pad to the longest sequence in the batch, or use `padding='max_length'` to pad to a max length. In this case, you can give a specific length with `max_length` (e.g. `max_length=45`) or leave max_length to None to pad to the maximal input size of the model (e.g. 512 for Bert).\n",
            "  FutureWarning,\n"
          ]
        },
        {
          "output_type": "stream",
          "name": "stdout",
          "text": [
            "\n",
            "\n",
            "\n",
            "enter your text:what do you do for your weekend ? \n",
            " i am very much .\n",
            "NotNext. \n",
            "\n",
            "\n",
            "sir you look so silly \n",
            " i am very much .\n",
            "IsNext. \n",
            "\n",
            "\n",
            "I am going to visit my friends now \n",
            " i am not sure .\n",
            "NotNext. \n",
            "\n",
            "\n",
            "how about you asking me a question . ask me the most difficult question that you know \n",
            " i am very much .\n",
            "NotNext. \n",
            "\n",
            "\n",
            "so it seems you are always not sure \n",
            " i am very much .\n",
            "IsNext. \n",
            "\n",
            "\n"
          ]
        }
      ]
    },
    {
      "cell_type": "markdown",
      "source": [
        "Further Analysis!\n",
        "\n",
        "**All in all, Bert is doing pretty good.**\n",
        "\n",
        "1. Bert has correctly predicted the first pair. The first pair is obviously irrelevent.\n",
        "2. Bert has correctly predicted the second pair. The second pair's sentences are grammatically and semantically related.\n",
        "3. Bert has correctly predicted the third pair. They are not semantically relevent.\n",
        "4. Bert has correctly predicted the fourth pair. They are not semantically relevent.\n",
        "5. Bert has correctly predicted the fifth pair. They are relevent, yet not totally grammatically inline.\n",
        "\n"
      ],
      "metadata": {
        "id": "x4CS2aNR07IF"
      }
    },
    {
      "cell_type": "markdown",
      "source": [
        "# Q3"
      ],
      "metadata": {
        "id": "Zv4OerTPjtAW"
      }
    },
    {
      "cell_type": "code",
      "source": [
        "q3_que = [\n",
        "          \"how are you?\",\n",
        "          \"what do you want to eat?\",\n",
        "          \"what is your favorite color?\",\n",
        "          \"what is your favorite color?\",\n",
        "          \"Where have you been?\",\n",
        "          \"Do you consider yourself a good mother?\",\n",
        "          \"I have two nice sisters.\",\n",
        "]\n",
        "\n",
        "q3_ans = [\n",
        "          \"Well, I love going to the cinema.\",\n",
        "          \"I want to drink coffee.\",\n",
        "          \"study.\",\n",
        "          \"pink.\",\n",
        "          \"i lived in England when i was at the conference . i always wanted to go out dancing.\",\n",
        "          \"Yes , I am a very good mother and successful career woman.\",\n",
        "          \"Is he very understanding and supportive?\",\n",
        "          \n",
        "]"
      ],
      "metadata": {
        "id": "BQB4H7Ewju4b"
      },
      "execution_count": null,
      "outputs": []
    },
    {
      "cell_type": "code",
      "source": [
        "def question3handler():\n",
        "  q3_input_ids=[]\n",
        "  q3_attention_masks=[]\n",
        "\n",
        "  for i in range(len(q3_que)):\n",
        "      bert_inp = bert_tokenizer.encode_plus(q3_que[i],q3_ans[i],\n",
        "                                          add_special_tokens = True,\n",
        "                                          max_length =100,\n",
        "                                          pad_to_max_length = True, \n",
        "                                          return_attention_mask = True)\n",
        "      \n",
        "      q3_input_ids.append(bert_inp['input_ids'])\n",
        "      q3_attention_masks.append(bert_inp['attention_mask'])\n",
        "\n",
        "  q3_input_ids = np.asarray(q3_input_ids)\n",
        "  q3_attention_masks = np.array(q3_attention_masks)  \n",
        "\n",
        "  q3_predict = bert_model.predict([q3_input_ids, q3_attention_masks])\n",
        "  print('\\n\\n')\n",
        "  for i in range(len(q3_ans)):\n",
        "    print(q3_que[i],'\\n',q3_ans[i])\n",
        "    status = \"IsNext.\" if q3_predict[i][1] >0.5 else \"NotNext.\"\n",
        "    print(status,'\\n\\n')"
      ],
      "metadata": {
        "id": "7f-4MN6kslhD"
      },
      "execution_count": null,
      "outputs": []
    },
    {
      "cell_type": "code",
      "source": [
        "question3handler()"
      ],
      "metadata": {
        "colab": {
          "base_uri": "https://localhost:8080/"
        },
        "id": "EDLxiYhY2GPz",
        "outputId": "fdc7ff6c-7973-4a6c-ca3a-16ff12a5e456"
      },
      "execution_count": null,
      "outputs": [
        {
          "output_type": "stream",
          "name": "stderr",
          "text": [
            "/usr/local/lib/python3.7/dist-packages/transformers/tokenization_utils_base.py:2269: FutureWarning: The `pad_to_max_length` argument is deprecated and will be removed in a future version, use `padding=True` or `padding='longest'` to pad to the longest sequence in the batch, or use `padding='max_length'` to pad to a max length. In this case, you can give a specific length with `max_length` (e.g. `max_length=45`) or leave max_length to None to pad to the maximal input size of the model (e.g. 512 for Bert).\n",
            "  FutureWarning,\n"
          ]
        },
        {
          "output_type": "stream",
          "name": "stdout",
          "text": [
            "\n",
            "\n",
            "\n",
            "how are you? \n",
            " Well, I love going to the cinema.\n",
            "NotNext. \n",
            "\n",
            "\n",
            "what do you want to eat? \n",
            " I want to drink coffee.\n",
            "IsNext. \n",
            "\n",
            "\n",
            "what is your favorite color? \n",
            " study.\n",
            "NotNext. \n",
            "\n",
            "\n",
            "what is your favorite color? \n",
            " pink.\n",
            "IsNext. \n",
            "\n",
            "\n",
            "Where have you been? \n",
            " i lived in England when i was at the conference . i always wanted to go out dancing.\n",
            "IsNext. \n",
            "\n",
            "\n",
            "Do you consider yourself a good mother? \n",
            " Yes , I am a very good mother and successful career woman.\n",
            "IsNext. \n",
            "\n",
            "\n",
            "I have two nice sisters. \n",
            " Is he very understanding and supportive?\n",
            "NotNext. \n",
            "\n",
            "\n"
          ]
        }
      ]
    },
    {
      "cell_type": "markdown",
      "source": [
        "Further Analysis!\n",
        "\n",
        "**All in all, Bert is doing pretty good.**\n",
        "\n",
        "1. Bert has correctly predicted the first pair.\n",
        "2. Bert has almost correctly predicted the second pair. We can use both 'eat' and 'drink' for soup or some foods, but I am pretty sure that we can't use 'eat' for 'coffee'; so, the model has a booboo here.\n",
        "3. Bert has correctly predicted the third pair.\n",
        "4. Bert has correctly predicted the fourth pair. \n",
        "5. Bert has correctly predicted the fifth pair. The first part is relevent but the second part is not GENERALLY germane to any conversation. So, This case could also be \"NotNext\" in my opinion.\n",
        "6. Bert has correctly predicted the sixth pair.\n",
        "7. Bert has correctly predicted the seventh pair.\n",
        "\n"
      ],
      "metadata": {
        "id": "kqmu9SjPIcUO"
      }
    },
    {
      "cell_type": "markdown",
      "source": [
        "# Q4"
      ],
      "metadata": {
        "id": "XvkQtT2-jvsz"
      }
    },
    {
      "cell_type": "code",
      "source": [
        "def question4handler(inp):\n",
        "  q4_input_ids=[]\n",
        "  q4_attention_masks=[]\n",
        "\n",
        "  for i in range(len(search_space)):\n",
        "      bert_inp = bert_tokenizer.encode_plus(inp,search_space[i],\n",
        "                                          add_special_tokens = True,\n",
        "                                          max_length =100,\n",
        "                                          pad_to_max_length = True, \n",
        "                                          return_attention_mask = True)\n",
        "      \n",
        "      q4_input_ids.append(bert_inp['input_ids'])\n",
        "      q4_attention_masks.append(bert_inp['attention_mask'])\n",
        "\n",
        "  q4_input_ids = np.asarray(q4_input_ids)\n",
        "  q4_attention_masks = np.array(q4_attention_masks)  \n",
        "\n",
        "  q4_predict = bert_model.predict([q4_input_ids, q4_attention_masks])\n",
        "  maximum_sigmoid_score = q4_predict[:,1].max()\n",
        "  max_num_index = np.where(q4_predict[:,1] == maximum_sigmoid_score)[0][0]\n",
        "  print('\\n\\n')\n",
        "  print(inp,'\\nThe best reply:',search_space[max_num_index])\n",
        "  print(maximum_sigmoid_score,'\\n\\n')"
      ],
      "metadata": {
        "id": "LNbgun-TjxcJ"
      },
      "execution_count": null,
      "outputs": []
    },
    {
      "cell_type": "code",
      "source": [
        "question4handler(q3_que[0])"
      ],
      "metadata": {
        "colab": {
          "base_uri": "https://localhost:8080/"
        },
        "id": "M4e58qyWEvOH",
        "outputId": "2a4a1e20-5aaa-4ea5-a3ed-66671da4fc5a"
      },
      "execution_count": null,
      "outputs": [
        {
          "output_type": "stream",
          "name": "stderr",
          "text": [
            "/usr/local/lib/python3.7/dist-packages/transformers/tokenization_utils_base.py:2269: FutureWarning: The `pad_to_max_length` argument is deprecated and will be removed in a future version, use `padding=True` or `padding='longest'` to pad to the longest sequence in the batch, or use `padding='max_length'` to pad to a max length. In this case, you can give a specific length with `max_length` (e.g. `max_length=45`) or leave max_length to None to pad to the maximal input size of the model (e.g. 512 for Bert).\n",
            "  FutureWarning,\n"
          ]
        },
        {
          "output_type": "stream",
          "name": "stdout",
          "text": [
            "\n",
            "\n",
            "\n",
            "how are you? \n",
            "The best reply: pretty good . i ve just had my new poems published .\n",
            "0.9999956 \n",
            "\n",
            "\n"
          ]
        }
      ]
    },
    {
      "cell_type": "code",
      "source": [
        "question4handler(q3_que[1])"
      ],
      "metadata": {
        "colab": {
          "base_uri": "https://localhost:8080/"
        },
        "id": "qainyyCvdVAy",
        "outputId": "65be3e30-9a45-49aa-ac02-bbf290f3671f"
      },
      "execution_count": null,
      "outputs": [
        {
          "output_type": "stream",
          "name": "stderr",
          "text": [
            "/usr/local/lib/python3.7/dist-packages/transformers/tokenization_utils_base.py:2269: FutureWarning: The `pad_to_max_length` argument is deprecated and will be removed in a future version, use `padding=True` or `padding='longest'` to pad to the longest sequence in the batch, or use `padding='max_length'` to pad to a max length. In this case, you can give a specific length with `max_length` (e.g. `max_length=45`) or leave max_length to None to pad to the maximal input size of the model (e.g. 512 for Bert).\n",
            "  FutureWarning,\n"
          ]
        },
        {
          "output_type": "stream",
          "name": "stdout",
          "text": [
            "\n",
            "\n",
            "\n",
            "what do you want to eat? \n",
            "The best reply: i would like to eat a bowl of dumplings .\n",
            "0.999998 \n",
            "\n",
            "\n"
          ]
        }
      ]
    },
    {
      "cell_type": "code",
      "source": [
        "question4handler(q3_que[2])"
      ],
      "metadata": {
        "colab": {
          "base_uri": "https://localhost:8080/"
        },
        "id": "R5xUix5ijWuo",
        "outputId": "000ab08b-e00b-472c-e36b-786da1e9c28f"
      },
      "execution_count": null,
      "outputs": [
        {
          "output_type": "stream",
          "name": "stderr",
          "text": [
            "/usr/local/lib/python3.7/dist-packages/transformers/tokenization_utils_base.py:2269: FutureWarning: The `pad_to_max_length` argument is deprecated and will be removed in a future version, use `padding=True` or `padding='longest'` to pad to the longest sequence in the batch, or use `padding='max_length'` to pad to a max length. In this case, you can give a specific length with `max_length` (e.g. `max_length=45`) or leave max_length to None to pad to the maximal input size of the model (e.g. 512 for Bert).\n",
            "  FutureWarning,\n"
          ]
        },
        {
          "output_type": "stream",
          "name": "stdout",
          "text": [
            "\n",
            "\n",
            "\n",
            "what is your favorite color? \n",
            "The best reply: black is not my favorite colour .\n",
            "0.9999995 \n",
            "\n",
            "\n"
          ]
        }
      ]
    },
    {
      "cell_type": "code",
      "source": [
        "question4handler(q3_que[3])"
      ],
      "metadata": {
        "colab": {
          "base_uri": "https://localhost:8080/"
        },
        "id": "D7zI-bTEjWqZ",
        "outputId": "c48a8dd6-2a20-4430-b815-85292e6a170b"
      },
      "execution_count": null,
      "outputs": [
        {
          "output_type": "stream",
          "name": "stderr",
          "text": [
            "/usr/local/lib/python3.7/dist-packages/transformers/tokenization_utils_base.py:2269: FutureWarning: The `pad_to_max_length` argument is deprecated and will be removed in a future version, use `padding=True` or `padding='longest'` to pad to the longest sequence in the batch, or use `padding='max_length'` to pad to a max length. In this case, you can give a specific length with `max_length` (e.g. `max_length=45`) or leave max_length to None to pad to the maximal input size of the model (e.g. 512 for Bert).\n",
            "  FutureWarning,\n"
          ]
        },
        {
          "output_type": "stream",
          "name": "stdout",
          "text": [
            "\n",
            "\n",
            "\n",
            "what is your favorite color? \n",
            "The best reply: black is not my favorite colour .\n",
            "0.9999995 \n",
            "\n",
            "\n"
          ]
        }
      ]
    },
    {
      "cell_type": "code",
      "source": [
        "question4handler(q3_que[4])"
      ],
      "metadata": {
        "colab": {
          "base_uri": "https://localhost:8080/"
        },
        "id": "TTfVBUkWjVvq",
        "outputId": "9297673b-ed0e-4c42-8785-87d6f7d608f0"
      },
      "execution_count": null,
      "outputs": [
        {
          "output_type": "stream",
          "name": "stderr",
          "text": [
            "/usr/local/lib/python3.7/dist-packages/transformers/tokenization_utils_base.py:2269: FutureWarning: The `pad_to_max_length` argument is deprecated and will be removed in a future version, use `padding=True` or `padding='longest'` to pad to the longest sequence in the batch, or use `padding='max_length'` to pad to a max length. In this case, you can give a specific length with `max_length` (e.g. `max_length=45`) or leave max_length to None to pad to the maximal input size of the model (e.g. 512 for Bert).\n",
            "  FutureWarning,\n"
          ]
        },
        {
          "output_type": "stream",
          "name": "stdout",
          "text": [
            "\n",
            "\n",
            "\n",
            "Where have you been? \n",
            "The best reply: at school , in china . this is my first time to be out of my own country .\n",
            "0.99999833 \n",
            "\n",
            "\n"
          ]
        }
      ]
    },
    {
      "cell_type": "code",
      "source": [
        "question4handler(q3_que[5])"
      ],
      "metadata": {
        "colab": {
          "base_uri": "https://localhost:8080/"
        },
        "id": "5klnCwzajVrZ",
        "outputId": "065f34af-2cb7-48a3-ca6b-7c3bd7a0c0ad"
      },
      "execution_count": null,
      "outputs": [
        {
          "output_type": "stream",
          "name": "stderr",
          "text": [
            "/usr/local/lib/python3.7/dist-packages/transformers/tokenization_utils_base.py:2269: FutureWarning: The `pad_to_max_length` argument is deprecated and will be removed in a future version, use `padding=True` or `padding='longest'` to pad to the longest sequence in the batch, or use `padding='max_length'` to pad to a max length. In this case, you can give a specific length with `max_length` (e.g. `max_length=45`) or leave max_length to None to pad to the maximal input size of the model (e.g. 512 for Bert).\n",
            "  FutureWarning,\n"
          ]
        },
        {
          "output_type": "stream",
          "name": "stdout",
          "text": [
            "\n",
            "\n",
            "\n",
            "Do you consider yourself a good mother? \n",
            "The best reply: not particularly . i like a girl to be good .\n",
            "0.99999356 \n",
            "\n",
            "\n"
          ]
        }
      ]
    },
    {
      "cell_type": "code",
      "source": [
        "question4handler(q3_que[6])"
      ],
      "metadata": {
        "colab": {
          "base_uri": "https://localhost:8080/"
        },
        "id": "ScjHfASSjVnZ",
        "outputId": "94b973f6-ca72-4f9a-bb3e-f56ebb6d9d65"
      },
      "execution_count": null,
      "outputs": [
        {
          "output_type": "stream",
          "name": "stderr",
          "text": [
            "/usr/local/lib/python3.7/dist-packages/transformers/tokenization_utils_base.py:2269: FutureWarning: The `pad_to_max_length` argument is deprecated and will be removed in a future version, use `padding=True` or `padding='longest'` to pad to the longest sequence in the batch, or use `padding='max_length'` to pad to a max length. In this case, you can give a specific length with `max_length` (e.g. `max_length=45`) or leave max_length to None to pad to the maximal input size of the model (e.g. 512 for Bert).\n",
            "  FutureWarning,\n"
          ]
        },
        {
          "output_type": "stream",
          "name": "stdout",
          "text": [
            "\n",
            "\n",
            "\n",
            "I have two nice sisters. \n",
            "The best reply: interesting . it must be great having a twin sister . are you best friends , too ?\n",
            "0.99999917 \n",
            "\n",
            "\n"
          ]
        }
      ]
    },
    {
      "cell_type": "code",
      "source": [
        ""
      ],
      "metadata": {
        "id": "-sKOwWqjqlQU"
      },
      "execution_count": null,
      "outputs": []
    },
    {
      "cell_type": "markdown",
      "source": [
        "Further Analysis!\n",
        "\n",
        "**All in all, Bert is doing pretty good. There are some slips, however. To fairly evaluate this model, we should manually explore the search space to see whether there are any better answers where the model has failed, case 3,4, and 6.**\n",
        "\n",
        "1. Bert has correctly retrieved an answer. \n",
        "2. Bert has correctly retrieved an answer.\n",
        "3. Bert has NOT correctly retrieved an answer. It seems that the model cannot understand negations.\n",
        "4. Bert has NOT correctly retrieved an answer. It seems that the model cannot understand negations.\n",
        "5. Bert has correctly retrieved an answer. \n",
        "6. Bert has NOT correctly retrieved an answer. Although the fist part of the answers is relevent, the second part is not logically connected to the question.\n",
        "7. Bert has correctly retrieved an answer.\n"
      ],
      "metadata": {
        "id": "eM5K3N0TI0ra"
      }
    }
  ]
}