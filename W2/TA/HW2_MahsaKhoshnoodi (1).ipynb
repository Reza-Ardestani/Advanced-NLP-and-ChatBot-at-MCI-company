{
 "cells": [
  {
   "cell_type": "code",
   "execution_count": 2,
   "metadata": {
    "colab": {
     "base_uri": "https://localhost:8080/"
    },
    "id": "aFp8caUmP8R1",
    "outputId": "0b270a4e-ac4d-4833-8ed5-47b4fe186b33"
   },
   "outputs": [
    {
     "name": "stdout",
     "output_type": "stream",
     "text": [
      "Mounted at /content/drive\n",
      "Downloading...\n",
      "From: https://drive.google.com/uc?id=1qCVYpb67RuzUbyrJ3w-ohtCf-tzZKTal\n",
      "To: /content/train.txt\n",
      "100% 9.87M/9.87M [00:00<00:00, 240MB/s]\n",
      "Downloading...\n",
      "From: https://drive.google.com/uc?id=1dW5SkCYIFbXmNe3xKv4EhrLPDPlXyIDy\n",
      "To: /content/test.txt\n",
      "100% 5.80k/5.80k [00:00<00:00, 11.0MB/s]\n",
      "108\n",
      "188364\n"
     ]
    }
   ],
   "source": [
    "from google.colab import drive\n",
    "drive.mount('/content/drive')\n",
    "\n",
    "!gdown --id 1qCVYpb67RuzUbyrJ3w-ohtCf-tzZKTal\n",
    "!gdown --id 1dW5SkCYIFbXmNe3xKv4EhrLPDPlXyIDy\n",
    "\n",
    "def read_file(input_file_address):\n",
    "    lines = []\n",
    "    with open (input_file_address , 'r', encoding=\"UTF-8\") as f :\n",
    "        for line in f.readlines():\n",
    "            if (len(line.split(' ')) > 3):\n",
    "                lines.append(line)\n",
    "    return lines\n",
    "\n",
    "train_set = read_file('/content/train.txt')\n",
    "test_set = read_file('/content/test.txt')\n",
    "\n",
    "print(len(test_set))\n",
    "print(len(train_set))\n"
   ]
  },
  {
   "cell_type": "markdown",
   "metadata": {
    "id": "XiPMLdVARZBJ"
   },
   "source": [
    "# Q1\n"
   ]
  },
  {
   "cell_type": "code",
   "execution_count": null,
   "metadata": {
    "colab": {
     "base_uri": "https://localhost:8080/"
    },
    "id": "6il9BlUNSaMT",
    "outputId": "24c5dbba-aff5-4716-f428-e7e147d182c2"
   },
   "outputs": [
    {
     "name": "stdout",
     "output_type": "stream",
     "text": [
      "چون مشک سیه بود مرا هر دو چشم\n",
      "چون مشک سیه بود مرا هر دو چشم من\n",
      "----------------\n",
      "گر خورد سوگند هم آن را\n",
      "----------------\n",
      "زانک نفس آشفته تر گردد از آن\n",
      "----------------\n",
      "ازین زشت تر در جهان رنگ و\n",
      "----------------\n",
      "دوست در خانه و ما گرد و\n",
      "دوست در خانه و ما گرد و از\n",
      "----------------\n",
      "شب‬‫ است‬ ‫و‬ ‫شمع‬ ‫و‬ ‫شراب‬ و از\n",
      "----------------\n"
     ]
    }
   ],
   "source": [
    "# The added number shows the number of guesses for each sentences\n",
    "test_dataset = [\n",
    "                \"2 چون مشک سیه بود مرا هر دو\",\n",
    "                \"1 گر خورد سوگند هم آن\",\n",
    "                \"1 زانک نفس آشفته تر گردد از\",\n",
    "                \"1 ازین زشت تر در جهان رنگ\",\n",
    "                \"2 دوست در خانه و ما گرد\",\n",
    "                \"1 شب‬‫ است‬ ‫و‬ ‫شمع‬ ‫و‬ ‫شراب‬ و\"\n",
    "                ]\n",
    "\n",
    "#Calculate count of unigrams\n",
    "def calculate_unigram(input_file_address):\n",
    "\n",
    "    unigrams_dict = {}\n",
    "    lines = read_file(input_file_address)\n",
    "    for line in lines:\n",
    "        line  = ' '.join(line.split())\n",
    "        words = [word.strip() for word in line.split(' ')]\n",
    "        for word in words:\n",
    "            if word in unigrams_dict.keys():\n",
    "                unigrams_dict[word] += 1\n",
    "            else:\n",
    "                unigrams_dict[word] = 1\n",
    "    return dict(sorted(unigrams_dict.items(),\n",
    "                       key=lambda item: item[1], reverse=True))\n",
    "\n",
    "unigrams = calculate_unigram('/content/train.txt')\n",
    "\n",
    "#Calculate count of bigrams\n",
    "def calculate_bigram(input_file_address):\n",
    "\n",
    "\n",
    "    bigrams_dict = {}\n",
    "    lines = read_file(input_file_address)\n",
    "\n",
    "    for line in lines:\n",
    "        line  = ' '.join(line.split())\n",
    "        words = [word.strip() for word in line.split(' ')]\n",
    "        for i in range(len(words) - 1):\n",
    "            bigram = (words[i],words[i + 1])\n",
    "            if bigram in bigrams_dict.keys():\n",
    "                bigrams_dict[bigram] += 1\n",
    "            else:\n",
    "                bigrams_dict[bigram] = 1\n",
    "    return dict(sorted(bigrams_dict.items(),\n",
    "                       key=lambda item: item[1], reverse=True))\n",
    "    \n",
    "bigrams = calculate_bigram('/content/train.txt')\n",
    "\n",
    "mu = 0.01\n",
    "p_background = 1/len(unigrams.items())\n",
    "\n",
    "def complete_sentence(test_set: list):\n",
    "    for sentence in test_set:\n",
    "        new_dict = {}\n",
    "        sentence = ' '.join(sentence.split())\n",
    "        words = [word.strip() for word in sentence.split(' ')]\n",
    "        number_of_guess = words[0]\n",
    "        \n",
    "        words = words[1:len(words)]\n",
    "        \n",
    "        for i in range(int(number_of_guess)):\n",
    "            \n",
    "            for key, value in bigrams.items():\n",
    "                if key[0].strip() == words[len(words)-1].strip():\n",
    "\n",
    "                    #bigram probability based on drichlet prior model\n",
    "                    new_dict[key] = value + (mu * p_background)/unigrams.get(key[0]) + mu\n",
    "\n",
    "            sorted_list = list(sorted(new_dict.items(), \n",
    "                                      key=lambda item: item[1], reverse=True))\n",
    "            \n",
    "            print(' '.join(words) + ' ' + sorted_list[0][0][1])\n",
    "\n",
    "            #Add the word with the most probability to the sentence\n",
    "            words = words + [sorted_list[0][0][1]]\n",
    "        print('----------------')\n",
    "\n",
    "complete_sentence(test_dataset)\n",
    "\n"
   ]
  },
  {
   "cell_type": "markdown",
   "metadata": {
    "id": "Uhzf1ZlHRaOh"
   },
   "source": [
    "# Q2"
   ]
  },
  {
   "cell_type": "code",
   "execution_count": null,
   "metadata": {
    "colab": {
     "base_uri": "https://localhost:8080/"
    },
    "id": "I2Lpj7RIdtQd",
    "outputId": "79db150e-cdb6-4c07-eabe-2b852d5a1e01"
   },
   "outputs": [
    {
     "name": "stdout",
     "output_type": "stream",
     "text": [
      "Number of words in test set : 872\n",
      "Number of sentences in test set : 108\n",
      "perplexity of model is : 2626.1926199715494\n"
     ]
    }
   ],
   "source": [
    "import math \n",
    "\n",
    "def bigram_prob_drichlet_prior(test_set: list):\n",
    "\n",
    "    # the probability of all sentences in test dataset\n",
    "    total_probability = 0\n",
    "\n",
    "    # the number of all words with frequencies in train dataset\n",
    "    all_freq = sum(unigrams.values())\n",
    "\n",
    "    #N in perplexity formula (number of words in test dataset)\n",
    "    number_of_words = 0\n",
    "    \n",
    "    # parameter of model\n",
    "    mu = 0.01\n",
    "\n",
    "    # V vocabulary size of model (unique words in train dataset)\n",
    "    vocalbulary_size = len(unigrams.items())\n",
    "    \n",
    "    # background probability for drichlet prior model\n",
    "    p_background = 1/vocalbulary_size\n",
    "    \n",
    "    sentence_size = 0\n",
    "    \n",
    "    for sentence in test_set:\n",
    "        sentence = ' '.join(sentence.split())\n",
    "        words = [word.strip() for word in sentence.split(' ')]\n",
    "        number_of_words = number_of_words + len(words) + 1\n",
    "        sentence_size = sentence_size + 1\n",
    "        \n",
    "        # probability of first word\n",
    "        sentence_probability = unigrams.get(words[0])/all_freq\n",
    "        for i in range(len(words)-1):\n",
    "            word = words[i]\n",
    "            bigram = (words[i], words[i+1])\n",
    "\n",
    "            if bigram not in bigrams.keys():\n",
    "                bigram_count= 0\n",
    "            else:\n",
    "                bigram_count = bigrams.get(bigram)\n",
    "            \n",
    "            if word not in unigrams.keys():\n",
    "                unigram_count = 0\n",
    "            else:\n",
    "                unigram_count = unigrams.get(word)\n",
    "\n",
    "            # used logarithm base 2 for calculating sum of probability\n",
    "            sentence_probability = sentence_probability + math.log2(((bigram_count + (mu * p_background)))/(unigram_count + mu))\n",
    "        \n",
    "        total_probability = total_probability + sentence_probability\n",
    "\n",
    "    perplexity = math.pow(2, -1*(total_probability/number_of_words))\n",
    "    print(f'Number of words in test set : {number_of_words}')\n",
    "    print(f'Number of sentences in test set : {sentence_size}')\n",
    "    return perplexity\n",
    "\n",
    "perplexity = bigram_prob_drichlet_prior(test_set)\n",
    "print(f'perplexity of model is : {perplexity}')"
   ]
  },
  {
   "cell_type": "markdown",
   "metadata": {
    "id": "GZF1A0ToRsGs"
   },
   "source": [
    "# Q3"
   ]
  },
  {
   "cell_type": "code",
   "execution_count": 3,
   "metadata": {
    "colab": {
     "base_uri": "https://localhost:8080/"
    },
    "id": "ERvtavKrFU7h",
    "outputId": "4c8e072b-cc46-4d1a-c2a9-983b481da6bf"
   },
   "outputs": [
    {
     "name": "stdout",
     "output_type": "stream",
     "text": [
      "Total Sequences: 930464\n"
     ]
    }
   ],
   "source": [
    "# Extract sequences of 3-grams from corpus\n",
    "\n",
    "# count of given words to predict the next word\n",
    "window_size = 2\n",
    "\n",
    "# length of sequence or n-gram\n",
    "seq_length = window_size + 1\n",
    "\n",
    "# store the n-grams in sequences list\n",
    "sequences = list()\n",
    "\n",
    "# extract a sentence of each 'seq_length' consecutive words from given sentences.\n",
    "for sentence in train_set:\n",
    "     line  = ' '.join(sentence.split())\n",
    "     words = [word.strip() for word in line.split(' ')]\n",
    "     for i in range(seq_length, len(words) + 1):\n",
    "         seq = words[i-seq_length:i]\n",
    "         line = ' '.join(seq)\n",
    "         sequences.append(line)\n",
    "\n",
    "print('Total Sequences: %d' % len(sequences))"
   ]
  },
  {
   "cell_type": "code",
   "execution_count": 4,
   "metadata": {
    "id": "960MSh4TISvx"
   },
   "outputs": [],
   "source": [
    "from keras.preprocessing.text import Tokenizer\n",
    "# create the tokenizer and fit it on the input text\n",
    "tokenizer = Tokenizer()\n",
    "tokenizer.fit_on_texts(sequences)\n",
    "\n",
    "# tokenize the sequences into encoded numbers\n",
    "sequences = tokenizer.texts_to_sequences(sequences)\n",
    "vocab_size = len(tokenizer.word_index) + 1\n"
   ]
  },
  {
   "cell_type": "code",
   "execution_count": 5,
   "metadata": {
    "id": "H1yaB8JNI9kP"
   },
   "outputs": [],
   "source": [
    "import numpy as np\n",
    "from numpy import array\n",
    "from sklearn.model_selection import train_test_split\n",
    "\n",
    "sequences = array(sequences)\n",
    "\n",
    "# split the sequence of N-grams into input (x) and output (y)\n",
    "X, y = sequences[:,:-1], sequences[:,-1]\n",
    "\n",
    "X_train, X_validation, y_train, y_validation = train_test_split(X, y, test_size=0.04, random_state=42)\n"
   ]
  },
  {
   "cell_type": "code",
   "execution_count": 6,
   "metadata": {
    "id": "WEUdKTAeVIWT"
   },
   "outputs": [],
   "source": [
    "# The PlotLosses function, plots the validation and training loss function during the\n",
    "#  training to give an insight of training the model\n",
    "import keras\n",
    "from matplotlib import pyplot as plt\n",
    "from IPython.display import clear_output\n",
    "\n",
    "class PlotLosses(keras.callbacks.Callback):\n",
    "  \n",
    "    def on_train_begin(self, logs={}):\n",
    "        self.i = 0\n",
    "        self.x = []\n",
    "        self.losses = []\n",
    "        self.val_losses = []\n",
    "        \n",
    "        self.fig = plt.figure()\n",
    "        \n",
    "        self.logs = []\n",
    "\n",
    "    def on_epoch_end(self, epoch, logs={}):\n",
    "        \n",
    "        self.logs.append(logs)\n",
    "        self.x.append(self.i)\n",
    "        self.losses.append(logs.get('loss'))\n",
    "        self.val_losses.append(logs.get('val_loss'))\n",
    "        self.i += 1\n",
    "        \n",
    "        clear_output(wait=True)\n",
    "        plt.plot(self.x, self.losses, label=\"loss\")\n",
    "        plt.plot(self.x, self.val_losses, label=\"val_loss\")\n",
    "        plt.legend()\n",
    "        plt.show();\n",
    "        \n",
    "plot_losses = PlotLosses()"
   ]
  },
  {
   "cell_type": "code",
   "execution_count": 7,
   "metadata": {
    "id": "YXRA7fZpcDAn"
   },
   "outputs": [],
   "source": [
    "import tensorflow as tf\n",
    "import math\n",
    "\n",
    "#Generator class \n",
    "class CustomDataGen(tf.keras.utils.Sequence):\n",
    "    \n",
    "    def __init__(self, x_set, y_set, batch_size):\n",
    "        self.x, self.y = x_set, y_set\n",
    "        self.batch_size = batch_size\n",
    "\n",
    "    def __len__(self):\n",
    "        return math.ceil(len(self.x) / self.batch_size)\n",
    "\n",
    "    def __getitem__(self, idx):\n",
    "        batch_x = self.x[idx * self.batch_size:(idx + 1) * self.batch_size]\n",
    "        batch_y = self.y[idx * self.batch_size:(idx + 1) * self.batch_size]\n",
    "\n",
    "        return np.array(batch_x), np.array(batch_y)\n",
    "\n",
    "batch_size = 1000\n",
    "train_generator = CustomDataGen(X_train, y_train, batch_size)\n",
    "validation_generator = CustomDataGen(X_validation, y_validation, batch_size)\n"
   ]
  },
  {
   "cell_type": "code",
   "execution_count": 8,
   "metadata": {
    "colab": {
     "base_uri": "https://localhost:8080/",
     "height": 300
    },
    "id": "sOD2JOo6Cq1a",
    "outputId": "83ac265c-b404-457d-9616-962ccd93243b"
   },
   "outputs": [
    {
     "data": {
      "image/png": "[encoded data removed]",
      "text/plain": [
       "<Figure size 432x288 with 1 Axes>"
      ]
     },
     "metadata": {
      "needs_background": "light"
     },
     "output_type": "display_data"
    },
    {
     "name": "stdout",
     "output_type": "stream",
     "text": [
      "\b\b\b\b\b\b\b\b\b\b\b\b\b\b\b\b\b\b\b\b\b\b\b\b\b\b\b\b\b\b\b\b\b\b\b\b\b\b\b\b\b\b\b\b\b\b\b\b\b\b\b\b\b\b\b\b\b\b\b\b\b\b\b\b\b\b\b\b\b\b\b\b\b\b\b\b\b\b\b\b\b\b\b\b\r",
      "893/893 [==============================] - 622s 696ms/step - loss: 6.3618 - accuracy: 0.1034 - val_loss: 7.1035 - val_accuracy: 0.0898\n"
     ]
    },
    {
     "data": {
      "text/plain": [
       "<keras.callbacks.History at 0x7f5364f2fa90>"
      ]
     },
     "execution_count": 8,
     "metadata": {},
     "output_type": "execute_result"
    }
   ],
   "source": [
    "\n",
    "# Load dependencies\n",
    "import numpy as np\n",
    "import tensorflow as tf\n",
    "from keras.callbacks import ModelCheckpoint\n",
    "from keras.models import Sequential\n",
    "from keras.layers import Dense\n",
    "from keras.layers import Embedding\n",
    "from keras.layers import Flatten\n",
    "\n",
    "# define model\n",
    "model = Sequential()\n",
    "model.add(Embedding(vocab_size, 50, input_length=window_size, name ='Embedding-layer'))\n",
    "model.add(Flatten())\n",
    "model.add(Dense(int(vocab_size/10), activation='relu', name='hidden-layer'))\n",
    "model.add(Dense(vocab_size, activation='softmax', name='output-layer'))\n",
    "\n",
    "# print summary of model's structure:\n",
    "print(model.summary())\n",
    "\n",
    "\n",
    "\n",
    "EPOCHS = 3\n",
    "checkpoint_filepath = \"/content/drive/MyDrive/models/model1.h5\"\n",
    "model_checkpoint_callback = tf.keras.callbacks.ModelCheckpoint(\n",
    "    filepath=checkpoint_filepath,\n",
    "    save_weights_only=True,\n",
    "    monitor='val_accuracy',\n",
    "    mode='max',\n",
    "    save_best_only=True)\n",
    "\n",
    "\n",
    "# compile the model\n",
    "model.compile(loss=tf.keras.losses.sparse_categorical_crossentropy, optimizer='adam', metrics=['accuracy'])\n",
    "\n",
    "# train the model\n",
    "model.fit(train_generator, \n",
    "          batch_size=batch_size, \n",
    "          epochs=EPOCHS, \n",
    "          steps_per_epoch=X_train.shape[0]/batch_size,\n",
    "          validation_data=validation_generator,\n",
    "          callbacks=[model_checkpoint_callback, plot_losses])"
   ]
  },
  {
   "cell_type": "markdown",
   "metadata": {
    "id": "V6NxYs_yPCvw"
   },
   "source": [
    "This model was overfitted, but because of the lack of resources I couldn't tune the model and train it again. So the predicted words for next part are also not good enough."
   ]
  },
  {
   "cell_type": "code",
   "execution_count": 10,
   "metadata": {
    "colab": {
     "base_uri": "https://localhost:8080/"
    },
    "id": "QUSzjuUgSZqs",
    "outputId": "1502add3-1e63-4443-ca88-6edf13df4d0a"
   },
   "outputs": [
    {
     "name": "stdout",
     "output_type": "stream",
     "text": [
      "هر دو  : جهان\n",
      "هم آن  : را\n",
      "گردد از  : آن\n",
      "جهان رنگ  : و\n",
      "ما گرد  : و\n",
      "‫شراب‬ و  : در\n"
     ]
    }
   ],
   "source": [
    "#predicting the next word for these sentences\n",
    "\n",
    "test_dataset = [\n",
    "                \"چون مشک سیه بود مرا هر دو \",\n",
    "                \"گر خورد سوگند هم آن\",\n",
    "                \"زانک نفس آشفته تر گردد از\",\n",
    "                \"ازین زشت تر در جهان رنگ\",\n",
    "                \"دوست در خانه و ما گرد\",\n",
    "                \"شب‬‫ است‬ ‫و‬ ‫شمع‬ ‫و‬ ‫شراب‬ و\"\n",
    "                ]\n",
    "\n",
    "\n",
    "sequences = list()\n",
    "\n",
    "for sentence in test_dataset:\n",
    "     line  = ' '.join(sentence.split())\n",
    "     words = [word.strip() for word in line.split(' ')]\n",
    "     seq = words[len(words)-2:len(words)]\n",
    "     line = ' '.join(seq)\n",
    "     sequences.append(line)\n",
    "\n",
    "tokenizer.fit_on_texts(sequences)\n",
    "sequences = tokenizer.texts_to_sequences(sequences)\n",
    "\n",
    "sequences = array(sequences)\n",
    "X = sequences[:,:]\n",
    "\n",
    "# The model weights (that are considered the best) are loaded into the model.\n",
    "best_model_path = '/content/drive/MyDrive/models/model1.h5'\n",
    "model.load_weights(best_model_path)\n",
    "\n",
    "predicted = model.predict(X)\n",
    "\n",
    "# given the ID of word returns its corresponding word\n",
    "def convert_ID_to_word(ID):   \n",
    "  for word, index in tokenizer.word_index.items():\n",
    "    if (index == ID).any() :\n",
    "      return word\n",
    "  return \n",
    "\n",
    "# given the input sentence as an array of word Ids, returns the string of sentence\n",
    "def get_sentence_from_IDs(x):\n",
    "  sent = ''\n",
    "  for elem in x:\n",
    "    sent+= convert_ID_to_word(elem) + ' '\n",
    "  return sent\n",
    "\n",
    "# print the test data with prediction of model\n",
    "for i in range(X.shape[0]):\n",
    "    print( get_sentence_from_IDs(X[i]) +' : '+convert_ID_to_word(np.argmax(predicted[i])))\n"
   ]
  }
 ],
 "metadata": {
  "accelerator": "GPU",
  "colab": {
   "collapsed_sections": [],
   "name": "HW2-MahsaKhoshnoodi.ipynb",
   "provenance": []
  },
  "kernelspec": {
   "display_name": "Python 3 (ipykernel)",
   "language": "python",
   "name": "python3"
  },
  "language_info": {
   "codemirror_mode": {
    "name": "ipython",
    "version": 3
   },
   "file_extension": ".py",
   "mimetype": "text/x-python",
   "name": "python",
   "nbconvert_exporter": "python",
   "pygments_lexer": "ipython3",
   "version": "3.9.5"
  }
 },
 "nbformat": 4,
 "nbformat_minor": 1
}
