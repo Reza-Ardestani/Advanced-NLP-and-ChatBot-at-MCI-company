{
  "nbformat": 4,
  "nbformat_minor": 0,
  "metadata": {
    "colab": {
      "name": "HW2_MohammadrezaArdestani.ipynb",
      "provenance": [],
      "collapsed_sections": []
    },
    "kernelspec": {
      "name": "python3",
      "display_name": "Python 3"
    },
    "language_info": {
      "name": "python"
    },
    "accelerator": "GPU"
  },
  "cells": [
    {
      "cell_type": "markdown",
      "source": [
        "# Functions"
      ],
      "metadata": {
        "id": "OQ1eY8ftjYOS"
      }
    },
    {
      "cell_type": "code",
      "source": [
        "import pandas as pd \n",
        "import numpy as np\n",
        "import matplotlib.pyplot as plt"
      ],
      "metadata": {
        "id": "b-a8prDRkLbw"
      },
      "execution_count": 5,
      "outputs": []
    },
    {
      "cell_type": "code",
      "source": [
        "def is_there_unk(test_corpus, ref_freq_dict):\n",
        "  # reference_frequency is a dictionary that contains our vocabulary\n",
        "  # test_corpus is a testset we want to check whether it has unknown word\n",
        "  # test_corpus is a list of list of words\n",
        "  at_least_one_unk =[word for sublist in test_corpus for word in sublist if word not in ref_freq_dict]\n",
        "  if  at_least_one_unk:\n",
        "    return True\n",
        "  return False\n",
        "def remove_rare(corpus, freq, num, min_sentence_len):\n",
        "  #corpus is a list of list of rare_tokens\n",
        "  # freq is the frequency of all trainset words\n",
        "  remove_ids = []\n",
        "  for i in range(len(corpus)):\n",
        "    tmp = []\n",
        "    tmp = [w for w in corpus[i] if freq[w] > num]\n",
        "    corpus[i] = tmp\n",
        "    if len(tmp) < min_sentence_len:\n",
        "      remove_ids.append(i)\n",
        "  for id in sorted(remove_ids, reverse=True):\n",
        "    #you need to delete them in reverse order so that you don't \n",
        "    # throw off the subsequent indexes.\n",
        "    del corpus[id]\n",
        "  # we don't return anything since inputs are received by address\n",
        "\n",
        "def find_freq(input,num = 1):\n",
        "  # input is a list of list of tokens\n",
        "  from collections import Counter\n",
        "  # Flatten a 2D list in an elegent, yet not very efficient, way\n",
        "  flat_list = [item for sublist in input for item in sublist]\n",
        "  # compute global word frequency\n",
        "  c = Counter(flat_list)\n",
        "  # return frequency dict\n",
        "  return c\n",
        "\n",
        "def preprocessing(input, is_list = False, remove_punc = True):\n",
        "  #remove_rare: remove low frequency words\n",
        "  import re\n",
        "  from string import punctuation\n",
        "  if is_list:\n",
        "    sentences = []\n",
        "    for sent in input:\n",
        "      if remove_punc:\n",
        "        sent = re.sub(f'[{punctuation}؟،٪×÷»«]+', '', sent)\n",
        "      res = sent.strip().split()\n",
        "      if len(res)>3:\n",
        "        sentences.append(res)\n",
        "    return sentences\n",
        "\n",
        "  if remove_punc:\n",
        "    input = re.sub(f'[{punctuation}؟،٪×÷»«]+', '', input) \n",
        "  res = input.strip().split()\n",
        "  return res if len(res)>3 else -1\n",
        "\n",
        "def load_data(address, process = False):\n",
        "    # return a list of unpreprocessed strings\n",
        "    file = open(address, 'r',encoding=\"utf-8\")\n",
        "    sentences = []\n",
        "    if process:\n",
        "      while True:\n",
        "        line =  preprocessing(file.readline())\n",
        "        if not line == -1:\n",
        "          sentences.append(line)\n",
        "        if not line:\n",
        "          break\n",
        "      file.close()\n",
        "      return sentences\n",
        "\n",
        "    while True:\n",
        "      line = file.readline()\n",
        "      sentences.append(line)\n",
        "      if not line:\n",
        "        break\n",
        "    file.close()\n",
        "    return sentences"
      ],
      "metadata": {
        "id": "qnXgSPmQkUto"
      },
      "execution_count": 6,
      "outputs": []
    },
    {
      "cell_type": "code",
      "source": [
        "def accum_ngram(corp , n_gram = 5):\n",
        "    \n",
        "    # Python dictionary has dynamic hashing and can access each key's value in O(1) time.\n",
        "    # It, however, needs O(n) space to store n strings. \"Trie\" is an attempt to reduce \n",
        "    # this space complexity\n",
        "    \n",
        "    # accumulated n-grams \n",
        "    # by accumulated I mean we compute all n-grams from 1 up to n\n",
        "    # Result will be stored and returned as a trie, implemented with python dictionary\n",
        "    \n",
        "    n_grams = {}\n",
        "    n_grams['#'] = 0 \n",
        "    for stc in corp:\n",
        "        n = len(stc)\n",
        "        n_grams['#'] += n # update total words count\n",
        "        for token_idx in range(n):\n",
        "            dict_ptr = n_grams\n",
        "            for next_token_idx in range(token_idx,n):\n",
        "                if next_token_idx - token_idx >= n_gram:\n",
        "                    break\n",
        "                #print(f'token_idx:{token_idx}, next_token_idx:{next_token_idx},the word:{stc[next_token_idx]}')\n",
        "                if not stc[next_token_idx] in dict_ptr:\n",
        "                    dict_ptr[stc[next_token_idx]] = {'#':0}\n",
        "                    \n",
        "                dict_ptr[stc[next_token_idx]]['#'] = dict_ptr[stc[next_token_idx]]['#'] + 1\n",
        "                dict_ptr = dict_ptr[stc[next_token_idx]]\n",
        "                \n",
        "            \n",
        "    return n_grams"
      ],
      "metadata": {
        "id": "BVrkADL2jd2h"
      },
      "execution_count": 7,
      "outputs": []
    },
    {
      "cell_type": "code",
      "source": [
        "# Here (in $$$ tagged line) I am using encouraged EAFP style\n",
        "# https://docs.python.org/3.6/glossary.html#term-eafp\n",
        "# https://stackoverflow.com/questions/1835756/using-try-vs-if-in-python\n",
        "\n",
        "def count_finder(sentence, n_grams_dict, j, i,mu,k):\n",
        "    # find both numerator and denominator \n",
        "    numerat ,denominat= k,mu\n",
        "    ptr_dict = n_grams_dict\n",
        "    flag = 1\n",
        "    for id in range(j,i):\n",
        "      # $$$\n",
        "      try: \n",
        "        ptr_dict = ptr_dict[sentence[id]]\n",
        "      except:\n",
        "        # if we didn't have a key = sentence[id] in our tire\n",
        "        # it means we don't have both numerator and denominator n_grams \n",
        "        flag = 0\n",
        "        break\n",
        "\n",
        "    if flag:\n",
        "      denominat += ptr_dict['#']\n",
        "\n",
        "    # Even if we have the n-gram associated with denominator\n",
        "    # chances are that we don't have n-gram associated with numerator\n",
        "    # since numerator's n-gram is longer that denominator's\n",
        "    # following try-except statement is to check this\n",
        "    try:\n",
        "      tmp = ptr_dict[sentence[i]]['#']\n",
        "      numerat += tmp\n",
        "    except:\n",
        "      pass\n",
        "\n",
        "    return numerat ,denominat\n",
        "\n",
        "def occurance_drichlet_probability(sentence, n_grams_dict, n_gram, mu,Pbg):\n",
        "  # n_gram: numeber of previous words each conditional probability depends on\n",
        "  # sentence: list of tokens\n",
        "\n",
        "  # mu = k * v , Pbg= 1/v\n",
        "  k = mu* Pbg\n",
        "  \n",
        "  # logic for finding uni-grams is slightly different than other grams\n",
        "  # that's why we are handling uni-gram seperately\n",
        "  if n_gram ==1:\n",
        "      prob = 1\n",
        "      for token in sentence:\n",
        "          prob *= (n_grams_dict[token]['#']+k)\n",
        "      prob *= (1/((n_grams_dict['#']+mu)**len(sentence)))\n",
        "      return prob\n",
        "\n",
        "  # here we handle x-grams: x>=2    \n",
        "  # handeling the first fraction separately\n",
        "  # # put the following line into try except, later :) \n",
        "  # prob = (n_grams_dict[sentence[0]]['#']+k)/(n_grams_dict['#']+mu) \n",
        "  first_num = 0\n",
        "  first_deno = 0\n",
        "  try:\n",
        "    prob = (n_grams_dict[sentence[0]]['#']+k)/(n_grams_dict['#']+mu)\n",
        "  except:\n",
        "    prob = k/mu\n",
        "\n",
        "  \n",
        "  for i in range(1,len(sentence)):\n",
        "      j = i - (n_gram -1) if (i-n_gram>=0) else 0\n",
        "      numerator, denominator =count_finder(sentence,n_grams_dict,j,i,mu,k)\n",
        "      prob *= (numerator/denominator)\n",
        "      \n",
        "  return prob"
      ],
      "metadata": {
        "id": "a3Jp4Gzvs6gV"
      },
      "execution_count": 8,
      "outputs": []
    },
    {
      "cell_type": "code",
      "source": [
        "def dfs(ptr_dict, current_str, remained_depth, counts_ls, terms_ls):\n",
        "    if remained_depth == 1:\n",
        "        keys = list(ptr_dict.keys())\n",
        "        keys.pop(0) # first key is '#'\n",
        "        for key in keys:\n",
        "            s = current_str + ' ' + key # we gotta remove first ' '\n",
        "            terms_ls.append(s[1:])\n",
        "            counts_ls.append(ptr_dict[key]['#'])\n",
        "    else:\n",
        "        keys = list(ptr_dict.keys())\n",
        "        keys.pop(0)\n",
        "        for key in keys:\n",
        "            dfs(ptr_dict= ptr_dict[key],current_str = current_str+' '+key,\n",
        "                remained_depth =remained_depth-1,counts_ls = counts_ls, terms_ls=terms_ls)\n",
        "        "
      ],
      "metadata": {
        "id": "ayOfEJFGs6dd"
      },
      "execution_count": 9,
      "outputs": []
    },
    {
      "cell_type": "code",
      "source": [
        "# Visualize different n_grams with tables\n",
        "\n",
        "def visual(n_grams_dict, n_gram ):\n",
        "    # n_gram dicts contains all n grams in a trie data structure\n",
        "    # we convert trie structure into pandas df\n",
        "    import pandas as pd\n",
        "    counts = []\n",
        "    terms = []\n",
        "    dfs(n_grams_dict, current_str = '', remained_depth = n_gram,\n",
        "            counts_ls = counts, terms_ls = terms)\n",
        "    \n",
        "    # tabularizing\n",
        "    n  = sum(counts)\n",
        "    size = len(terms)\n",
        "    df = pd.DataFrame({'terms':terms})\n",
        "    df['counts'] = counts\n",
        "    df.sort_values(by=['counts'], inplace=True, ascending=False,ignore_index=True)\n",
        "    df['freq'] = df['counts'].apply(lambda x: x/n)\n",
        "    df['freq_index'] = df['freq'] * [i for i in range(1,size+1)]\n",
        "    return df\n",
        "    \n",
        "    \n",
        "            "
      ],
      "metadata": {
        "id": "ouUHzhQTs6XD"
      },
      "execution_count": 10,
      "outputs": []
    },
    {
      "cell_type": "code",
      "source": [
        "def tokensIDs_to_words(tokens_ids, look_up_dict):\n",
        "  n = len(tokens_ids) ; found = 0\n",
        "  words = ['' for _ in range(n)]\n",
        "  for word, index in look_up_dict.items():\n",
        "    i = -1\n",
        "    for token_id in tokens_ids:\n",
        "      i +=1\n",
        "      if token_id == index:\n",
        "        words[i] = word\n",
        "        found = found+1\n",
        "        if found ==n:\n",
        "          return words"
      ],
      "metadata": {
        "id": "4I-ChC0Ru7Fg"
      },
      "execution_count": 11,
      "outputs": []
    },
    {
      "cell_type": "markdown",
      "source": [
        "# Driver code"
      ],
      "metadata": {
        "id": "tOeE9jQzjgAn"
      }
    },
    {
      "cell_type": "markdown",
      "source": [
        "## Loading/Exploring/Preprocessing data "
      ],
      "metadata": {
        "id": "oX4HkGjhjy3v"
      }
    },
    {
      "cell_type": "code",
      "source": [
        "two_blank_sent = ['چون مشک سیه بود مرا هر دو',\n",
        "                   \"دوست در خانه و ما گرد\",]\n",
        "\n",
        "one_blank_sent= [ \"شب است و شمع و شراب و\",\n",
        "                 \"ازین زشت تر در جهان رنگ\",\n",
        "                 \"زانک نفس آشفته تر گردد از\",\n",
        "                 \"گر خورد سوگند هم آن\"]\n",
        "\n",
        "\n"
      ],
      "metadata": {
        "id": "BXlfEQnxLDx-"
      },
      "execution_count": 12,
      "outputs": []
    },
    {
      "cell_type": "code",
      "source": [
        "# downloading data\n",
        "!gdown --id 1qCVYpb67RuzUbyrJ3w-ohtCf-tzZKTal\n",
        "!gdown --id 1dW5SkCYIFbXmNe3xKv4EhrLPDPlXyIDy"
      ],
      "metadata": {
        "colab": {
          "base_uri": "https://localhost:8080/"
        },
        "id": "nQaFCFHpjxfx",
        "outputId": "e099486c-e109-4281-9305-8037ee2fe71d"
      },
      "execution_count": 13,
      "outputs": [
        {
          "output_type": "stream",
          "name": "stdout",
          "text": [
            "Downloading...\n",
            "From: https://drive.google.com/uc?id=1qCVYpb67RuzUbyrJ3w-ohtCf-tzZKTal\n",
            "To: /content/train.txt\n",
            "100% 9.87M/9.87M [00:00<00:00, 57.3MB/s]\n",
            "Downloading...\n",
            "From: https://drive.google.com/uc?id=1dW5SkCYIFbXmNe3xKv4EhrLPDPlXyIDy\n",
            "To: /content/test.txt\n",
            "100% 5.80k/5.80k [00:00<00:00, 9.65MB/s]\n"
          ]
        }
      ]
    },
    {
      "cell_type": "code",
      "source": [
        "train = load_data('/content/train.txt')\n",
        "test = load_data('/content/test.txt')"
      ],
      "metadata": {
        "id": "k_CwYRrmjiKI"
      },
      "execution_count": 14,
      "outputs": []
    },
    {
      "cell_type": "code",
      "source": [
        "# 2. Exploring\n",
        "import pandas as pd \n",
        "\n",
        "train_df = pd.DataFrame({'lines':train})\n",
        "test_df = pd.DataFrame({'lines':test})\n",
        "\n",
        "train_df['len'] = train_df['lines'].apply(lambda x :len(x))\n",
        "train_df['white_space_divide_by_len'] = train_df['lines'].apply(lambda x : (x.count('\\n') + x.count(' ') + x.count('\\t')) / len(x) if len(x)>0 else 0 )\n",
        "\n",
        "test_df['len'] = test_df['lines'].apply(lambda x :len(x))\n",
        "test_df['white_space_divide_by_len'] = test_df['lines'].apply(lambda x : (x.count('\\n') + x.count(' ') + x.count('\\t')) / len(x) if len(x)>0 else 0 )"
      ],
      "metadata": {
        "id": "5NNheqPjkg1B"
      },
      "execution_count": 15,
      "outputs": []
    },
    {
      "cell_type": "code",
      "source": [
        "train_df.sample(20)"
      ],
      "metadata": {
        "colab": {
          "base_uri": "https://localhost:8080/",
          "height": 676
        },
        "id": "X5BQFww-lJst",
        "outputId": "340fedeb-585e-4592-84fd-2189ba3a9cb6"
      },
      "execution_count": 16,
      "outputs": [
        {
          "output_type": "execute_result",
          "data": {
            "text/html": [
              "\n",
              "  <div id=\"df-0e2550ae-4e2e-4a69-8341-533129826583\">\n",
              "    <div class=\"colab-df-container\">\n",
              "      <div>\n",
              "<style scoped>\n",
              "    .dataframe tbody tr th:only-of-type {\n",
              "        vertical-align: middle;\n",
              "    }\n",
              "\n",
              "    .dataframe tbody tr th {\n",
              "        vertical-align: top;\n",
              "    }\n",
              "\n",
              "    .dataframe thead th {\n",
              "        text-align: right;\n",
              "    }\n",
              "</style>\n",
              "<table border=\"1\" class=\"dataframe\">\n",
              "  <thead>\n",
              "    <tr style=\"text-align: right;\">\n",
              "      <th></th>\n",
              "      <th>lines</th>\n",
              "      <th>len</th>\n",
              "      <th>white_space_divide_by_len</th>\n",
              "    </tr>\n",
              "  </thead>\n",
              "  <tbody>\n",
              "    <tr>\n",
              "      <th>147901</th>\n",
              "      <td>همان  که دام همی ساخت بسته گشت به  دام\\n</td>\n",
              "      <td>39</td>\n",
              "      <td>0.282051</td>\n",
              "    </tr>\n",
              "    <tr>\n",
              "      <th>98909</th>\n",
              "      <td>در چنبر فتراک توگردون بود آونگ\\n</td>\n",
              "      <td>31</td>\n",
              "      <td>0.193548</td>\n",
              "    </tr>\n",
              "    <tr>\n",
              "      <th>57308</th>\n",
              "      <td>ز سهم خدنگ او چو بیرون جهد ز زه\\n</td>\n",
              "      <td>32</td>\n",
              "      <td>0.281250</td>\n",
              "    </tr>\n",
              "    <tr>\n",
              "      <th>129789</th>\n",
              "      <td>خان و مانش همه براندازد\\n</td>\n",
              "      <td>24</td>\n",
              "      <td>0.208333</td>\n",
              "    </tr>\n",
              "    <tr>\n",
              "      <th>79758</th>\n",
              "      <td>بادیه بی آب و چشمه دور و هواگرم\\n</td>\n",
              "      <td>32</td>\n",
              "      <td>0.250000</td>\n",
              "    </tr>\n",
              "    <tr>\n",
              "      <th>141045</th>\n",
              "      <td>مرا بویی ست آخر آن فرستم\\n</td>\n",
              "      <td>25</td>\n",
              "      <td>0.240000</td>\n",
              "    </tr>\n",
              "    <tr>\n",
              "      <th>38543</th>\n",
              "      <td>هست تشریف ولیعهد شه مالک رقاب\\n</td>\n",
              "      <td>30</td>\n",
              "      <td>0.200000</td>\n",
              "    </tr>\n",
              "    <tr>\n",
              "      <th>92055</th>\n",
              "      <td>چولی قزکی به دست طفلان\\n</td>\n",
              "      <td>23</td>\n",
              "      <td>0.217391</td>\n",
              "    </tr>\n",
              "    <tr>\n",
              "      <th>102770</th>\n",
              "      <td>وین زورق گردان ابدالدهر بپا نیست\\n</td>\n",
              "      <td>33</td>\n",
              "      <td>0.181818</td>\n",
              "    </tr>\n",
              "    <tr>\n",
              "      <th>141923</th>\n",
              "      <td>ز آیینه دین کردگاری\\n</td>\n",
              "      <td>20</td>\n",
              "      <td>0.200000</td>\n",
              "    </tr>\n",
              "    <tr>\n",
              "      <th>185388</th>\n",
              "      <td>عنبر از چنبر زلفت چو خرد یافته ام\\n</td>\n",
              "      <td>34</td>\n",
              "      <td>0.235294</td>\n",
              "    </tr>\n",
              "    <tr>\n",
              "      <th>47725</th>\n",
              "      <td>کاش کیکاووس پر کن زان سهیل شامیان\\n</td>\n",
              "      <td>34</td>\n",
              "      <td>0.205882</td>\n",
              "    </tr>\n",
              "    <tr>\n",
              "      <th>185941</th>\n",
              "      <td>وانکه ار ظالم است نیک بد است\\n</td>\n",
              "      <td>30</td>\n",
              "      <td>0.266667</td>\n",
              "    </tr>\n",
              "    <tr>\n",
              "      <th>138259</th>\n",
              "      <td>کس نداند که چند باشد راه\\n</td>\n",
              "      <td>25</td>\n",
              "      <td>0.240000</td>\n",
              "    </tr>\n",
              "    <tr>\n",
              "      <th>129806</th>\n",
              "      <td>مدح تو بیشتر آمد ز سخن\\n</td>\n",
              "      <td>23</td>\n",
              "      <td>0.260870</td>\n",
              "    </tr>\n",
              "    <tr>\n",
              "      <th>160037</th>\n",
              "      <td>جام می هستی شیخست ای فلیو\\n</td>\n",
              "      <td>26</td>\n",
              "      <td>0.230769</td>\n",
              "    </tr>\n",
              "    <tr>\n",
              "      <th>40066</th>\n",
              "      <td>در عهد چون تویی نه عجب باشد ار ز قدر\\n</td>\n",
              "      <td>37</td>\n",
              "      <td>0.270270</td>\n",
              "    </tr>\n",
              "    <tr>\n",
              "      <th>175994</th>\n",
              "      <td>ز هر چه گردون تاثیر کرد و ایزد خواست\\n</td>\n",
              "      <td>37</td>\n",
              "      <td>0.243243</td>\n",
              "    </tr>\n",
              "    <tr>\n",
              "      <th>58757</th>\n",
              "      <td>امشب همه آنست که من می خواهم\\n</td>\n",
              "      <td>29</td>\n",
              "      <td>0.241379</td>\n",
              "    </tr>\n",
              "    <tr>\n",
              "      <th>178348</th>\n",
              "      <td>به زصد عمره است و در عمره است خیرکردگار\\n</td>\n",
              "      <td>40</td>\n",
              "      <td>0.225000</td>\n",
              "    </tr>\n",
              "  </tbody>\n",
              "</table>\n",
              "</div>\n",
              "      <button class=\"colab-df-convert\" onclick=\"convertToInteractive('df-0e2550ae-4e2e-4a69-8341-533129826583')\"\n",
              "              title=\"Convert this dataframe to an interactive table.\"\n",
              "              style=\"display:none;\">\n",
              "        \n",
              "  <svg xmlns=\"http://www.w3.org/2000/svg\" height=\"24px\"viewBox=\"0 0 24 24\"\n",
              "       width=\"24px\">\n",
              "    <path d=\"M0 0h24v24H0V0z\" fill=\"none\"/>\n",
              "    <path d=\"M18.56 5.44l.94 2.06.94-2.06 2.06-.94-2.06-.94-.94-2.06-.94 2.06-2.06.94zm-11 1L8.5 8.5l.94-2.06 2.06-.94-2.06-.94L8.5 2.5l-.94 2.06-2.06.94zm10 10l.94 2.06.94-2.06 2.06-.94-2.06-.94-.94-2.06-.94 2.06-2.06.94z\"/><path d=\"M17.41 7.96l-1.37-1.37c-.4-.4-.92-.59-1.43-.59-.52 0-1.04.2-1.43.59L10.3 9.45l-7.72 7.72c-.78.78-.78 2.05 0 2.83L4 21.41c.39.39.9.59 1.41.59.51 0 1.02-.2 1.41-.59l7.78-7.78 2.81-2.81c.8-.78.8-2.07 0-2.86zM5.41 20L4 18.59l7.72-7.72 1.47 1.35L5.41 20z\"/>\n",
              "  </svg>\n",
              "      </button>\n",
              "      \n",
              "  <style>\n",
              "    .colab-df-container {\n",
              "      display:flex;\n",
              "      flex-wrap:wrap;\n",
              "      gap: 12px;\n",
              "    }\n",
              "\n",
              "    .colab-df-convert {\n",
              "      background-color: #E8F0FE;\n",
              "      border: none;\n",
              "      border-radius: 50%;\n",
              "      cursor: pointer;\n",
              "      display: none;\n",
              "      fill: #1967D2;\n",
              "      height: 32px;\n",
              "      padding: 0 0 0 0;\n",
              "      width: 32px;\n",
              "    }\n",
              "\n",
              "    .colab-df-convert:hover {\n",
              "      background-color: #E2EBFA;\n",
              "      box-shadow: 0px 1px 2px rgba(60, 64, 67, 0.3), 0px 1px 3px 1px rgba(60, 64, 67, 0.15);\n",
              "      fill: #174EA6;\n",
              "    }\n",
              "\n",
              "    [theme=dark] .colab-df-convert {\n",
              "      background-color: #3B4455;\n",
              "      fill: #D2E3FC;\n",
              "    }\n",
              "\n",
              "    [theme=dark] .colab-df-convert:hover {\n",
              "      background-color: #434B5C;\n",
              "      box-shadow: 0px 1px 3px 1px rgba(0, 0, 0, 0.15);\n",
              "      filter: drop-shadow(0px 1px 2px rgba(0, 0, 0, 0.3));\n",
              "      fill: #FFFFFF;\n",
              "    }\n",
              "  </style>\n",
              "\n",
              "      <script>\n",
              "        const buttonEl =\n",
              "          document.querySelector('#df-0e2550ae-4e2e-4a69-8341-533129826583 button.colab-df-convert');\n",
              "        buttonEl.style.display =\n",
              "          google.colab.kernel.accessAllowed ? 'block' : 'none';\n",
              "\n",
              "        async function convertToInteractive(key) {\n",
              "          const element = document.querySelector('#df-0e2550ae-4e2e-4a69-8341-533129826583');\n",
              "          const dataTable =\n",
              "            await google.colab.kernel.invokeFunction('convertToInteractive',\n",
              "                                                     [key], {});\n",
              "          if (!dataTable) return;\n",
              "\n",
              "          const docLinkHtml = 'Like what you see? Visit the ' +\n",
              "            '<a target=\"_blank\" href=https://colab.research.google.com/notebooks/data_table.ipynb>data table notebook</a>'\n",
              "            + ' to learn more about interactive tables.';\n",
              "          element.innerHTML = '';\n",
              "          dataTable['output_type'] = 'display_data';\n",
              "          await google.colab.output.renderOutput(dataTable, element);\n",
              "          const docLink = document.createElement('div');\n",
              "          docLink.innerHTML = docLinkHtml;\n",
              "          element.appendChild(docLink);\n",
              "        }\n",
              "      </script>\n",
              "    </div>\n",
              "  </div>\n",
              "  "
            ],
            "text/plain": [
              "                                            lines  ...  white_space_divide_by_len\n",
              "147901   همان  که دام همی ساخت بسته گشت به  دام\\n  ...                   0.282051\n",
              "98909            در چنبر فتراک توگردون بود آونگ\\n  ...                   0.193548\n",
              "57308           ز سهم خدنگ او چو بیرون جهد ز زه\\n  ...                   0.281250\n",
              "129789                  خان و مانش همه براندازد\\n  ...                   0.208333\n",
              "79758           بادیه بی آب و چشمه دور و هواگرم\\n  ...                   0.250000\n",
              "141045                 مرا بویی ست آخر آن فرستم\\n  ...                   0.240000\n",
              "38543             هست تشریف ولیعهد شه مالک رقاب\\n  ...                   0.200000\n",
              "92055                    چولی قزکی به دست طفلان\\n  ...                   0.217391\n",
              "102770         وین زورق گردان ابدالدهر بپا نیست\\n  ...                   0.181818\n",
              "141923                      ز آیینه دین کردگاری\\n  ...                   0.200000\n",
              "185388        عنبر از چنبر زلفت چو خرد یافته ام\\n  ...                   0.235294\n",
              "47725         کاش کیکاووس پر کن زان سهیل شامیان\\n  ...                   0.205882\n",
              "185941             وانکه ار ظالم است نیک بد است\\n  ...                   0.266667\n",
              "138259                 کس نداند که چند باشد راه\\n  ...                   0.240000\n",
              "129806                   مدح تو بیشتر آمد ز سخن\\n  ...                   0.260870\n",
              "160037                جام می هستی شیخست ای فلیو\\n  ...                   0.230769\n",
              "40066      در عهد چون تویی نه عجب باشد ار ز قدر\\n  ...                   0.270270\n",
              "175994     ز هر چه گردون تاثیر کرد و ایزد خواست\\n  ...                   0.243243\n",
              "58757              امشب همه آنست که من می خواهم\\n  ...                   0.241379\n",
              "178348  به زصد عمره است و در عمره است خیرکردگار\\n  ...                   0.225000\n",
              "\n",
              "[20 rows x 3 columns]"
            ]
          },
          "metadata": {},
          "execution_count": 16
        }
      ]
    },
    {
      "cell_type": "code",
      "source": [
        "test_df.sample(20)"
      ],
      "metadata": {
        "colab": {
          "base_uri": "https://localhost:8080/",
          "height": 676
        },
        "id": "3yXLm6pOlXWl",
        "outputId": "753237d4-ed7d-4e26-ac37-ffb8cf347c2b"
      },
      "execution_count": 17,
      "outputs": [
        {
          "output_type": "execute_result",
          "data": {
            "text/html": [
              "\n",
              "  <div id=\"df-436b03da-f9b0-4ffb-a386-35b1175a40cf\">\n",
              "    <div class=\"colab-df-container\">\n",
              "      <div>\n",
              "<style scoped>\n",
              "    .dataframe tbody tr th:only-of-type {\n",
              "        vertical-align: middle;\n",
              "    }\n",
              "\n",
              "    .dataframe tbody tr th {\n",
              "        vertical-align: top;\n",
              "    }\n",
              "\n",
              "    .dataframe thead th {\n",
              "        text-align: right;\n",
              "    }\n",
              "</style>\n",
              "<table border=\"1\" class=\"dataframe\">\n",
              "  <thead>\n",
              "    <tr style=\"text-align: right;\">\n",
              "      <th></th>\n",
              "      <th>lines</th>\n",
              "      <th>len</th>\n",
              "      <th>white_space_divide_by_len</th>\n",
              "    </tr>\n",
              "  </thead>\n",
              "  <tbody>\n",
              "    <tr>\n",
              "      <th>92</th>\n",
              "      <td>تا ببینی روی آن مردم کشان چون زعفران\\n</td>\n",
              "      <td>37</td>\n",
              "      <td>0.216216</td>\n",
              "    </tr>\n",
              "    <tr>\n",
              "      <th>49</th>\n",
              "      <td>جز حق همه گدا و حزینند و رو ترش\\n</td>\n",
              "      <td>32</td>\n",
              "      <td>0.281250</td>\n",
              "    </tr>\n",
              "    <tr>\n",
              "      <th>81</th>\n",
              "      <td>که درس فضل و شرافت  بدین لیام دهد\\n</td>\n",
              "      <td>34</td>\n",
              "      <td>0.264706</td>\n",
              "    </tr>\n",
              "    <tr>\n",
              "      <th>76</th>\n",
              "      <td>خسرو اگر از درد بنالد چه توان گفت\\n</td>\n",
              "      <td>34</td>\n",
              "      <td>0.235294</td>\n",
              "    </tr>\n",
              "    <tr>\n",
              "      <th>26</th>\n",
              "      <td>گفته اسم جمله اشیا\\n</td>\n",
              "      <td>20</td>\n",
              "      <td>0.250000</td>\n",
              "    </tr>\n",
              "    <tr>\n",
              "      <th>74</th>\n",
              "      <td>زودا زوداکه عدل منظره بالا زند\\n</td>\n",
              "      <td>31</td>\n",
              "      <td>0.193548</td>\n",
              "    </tr>\n",
              "    <tr>\n",
              "      <th>12</th>\n",
              "      <td>ناگه آمد ندا که مجرم را\\n</td>\n",
              "      <td>24</td>\n",
              "      <td>0.250000</td>\n",
              "    </tr>\n",
              "    <tr>\n",
              "      <th>31</th>\n",
              "      <td>گشته عقل همه امینان دزد\\n</td>\n",
              "      <td>24</td>\n",
              "      <td>0.208333</td>\n",
              "    </tr>\n",
              "    <tr>\n",
              "      <th>61</th>\n",
              "      <td>که از خاکش پس از آن زنده برآید سترنگ\\n</td>\n",
              "      <td>37</td>\n",
              "      <td>0.243243</td>\n",
              "    </tr>\n",
              "    <tr>\n",
              "      <th>106</th>\n",
              "      <td>خفته به زیر خاک نه لابل که گشته خاک\\n</td>\n",
              "      <td>36</td>\n",
              "      <td>0.250000</td>\n",
              "    </tr>\n",
              "    <tr>\n",
              "      <th>7</th>\n",
              "      <td>زیباتر از تو در همه عالم نگار نیست\\n</td>\n",
              "      <td>35</td>\n",
              "      <td>0.228571</td>\n",
              "    </tr>\n",
              "    <tr>\n",
              "      <th>53</th>\n",
              "      <td>در خرابی مقام گنج بود\\n</td>\n",
              "      <td>22</td>\n",
              "      <td>0.227273</td>\n",
              "    </tr>\n",
              "    <tr>\n",
              "      <th>101</th>\n",
              "      <td>بگو به مجلس شورا چرا معارف را\\n</td>\n",
              "      <td>30</td>\n",
              "      <td>0.233333</td>\n",
              "    </tr>\n",
              "    <tr>\n",
              "      <th>29</th>\n",
              "      <td>گفت چون از جد و بندم وز جدال\\n</td>\n",
              "      <td>29</td>\n",
              "      <td>0.275862</td>\n",
              "    </tr>\n",
              "    <tr>\n",
              "      <th>24</th>\n",
              "      <td>طاقت صبر طاق شد بر سر راه او روم\\n</td>\n",
              "      <td>33</td>\n",
              "      <td>0.272727</td>\n",
              "    </tr>\n",
              "    <tr>\n",
              "      <th>46</th>\n",
              "      <td>از ملوک باستان حاصل نشد در صد سفر\\n</td>\n",
              "      <td>34</td>\n",
              "      <td>0.235294</td>\n",
              "    </tr>\n",
              "    <tr>\n",
              "      <th>82</th>\n",
              "      <td>نه در آید به ذات او تغییر\\n</td>\n",
              "      <td>27</td>\n",
              "      <td>0.296296</td>\n",
              "    </tr>\n",
              "    <tr>\n",
              "      <th>107</th>\n",
              "      <td>از خاکشان تو کرده بسی ظرف خوردنی</td>\n",
              "      <td>32</td>\n",
              "      <td>0.187500</td>\n",
              "    </tr>\n",
              "    <tr>\n",
              "      <th>59</th>\n",
              "      <td>که هدهد تو گهی جانب سبا نگذشت\\n</td>\n",
              "      <td>30</td>\n",
              "      <td>0.233333</td>\n",
              "    </tr>\n",
              "    <tr>\n",
              "      <th>47</th>\n",
              "      <td>خسروان را گر ز وصف و شرح آن باید نشان\\n</td>\n",
              "      <td>38</td>\n",
              "      <td>0.263158</td>\n",
              "    </tr>\n",
              "  </tbody>\n",
              "</table>\n",
              "</div>\n",
              "      <button class=\"colab-df-convert\" onclick=\"convertToInteractive('df-436b03da-f9b0-4ffb-a386-35b1175a40cf')\"\n",
              "              title=\"Convert this dataframe to an interactive table.\"\n",
              "              style=\"display:none;\">\n",
              "        \n",
              "  <svg xmlns=\"http://www.w3.org/2000/svg\" height=\"24px\"viewBox=\"0 0 24 24\"\n",
              "       width=\"24px\">\n",
              "    <path d=\"M0 0h24v24H0V0z\" fill=\"none\"/>\n",
              "    <path d=\"M18.56 5.44l.94 2.06.94-2.06 2.06-.94-2.06-.94-.94-2.06-.94 2.06-2.06.94zm-11 1L8.5 8.5l.94-2.06 2.06-.94-2.06-.94L8.5 2.5l-.94 2.06-2.06.94zm10 10l.94 2.06.94-2.06 2.06-.94-2.06-.94-.94-2.06-.94 2.06-2.06.94z\"/><path d=\"M17.41 7.96l-1.37-1.37c-.4-.4-.92-.59-1.43-.59-.52 0-1.04.2-1.43.59L10.3 9.45l-7.72 7.72c-.78.78-.78 2.05 0 2.83L4 21.41c.39.39.9.59 1.41.59.51 0 1.02-.2 1.41-.59l7.78-7.78 2.81-2.81c.8-.78.8-2.07 0-2.86zM5.41 20L4 18.59l7.72-7.72 1.47 1.35L5.41 20z\"/>\n",
              "  </svg>\n",
              "      </button>\n",
              "      \n",
              "  <style>\n",
              "    .colab-df-container {\n",
              "      display:flex;\n",
              "      flex-wrap:wrap;\n",
              "      gap: 12px;\n",
              "    }\n",
              "\n",
              "    .colab-df-convert {\n",
              "      background-color: #E8F0FE;\n",
              "      border: none;\n",
              "      border-radius: 50%;\n",
              "      cursor: pointer;\n",
              "      display: none;\n",
              "      fill: #1967D2;\n",
              "      height: 32px;\n",
              "      padding: 0 0 0 0;\n",
              "      width: 32px;\n",
              "    }\n",
              "\n",
              "    .colab-df-convert:hover {\n",
              "      background-color: #E2EBFA;\n",
              "      box-shadow: 0px 1px 2px rgba(60, 64, 67, 0.3), 0px 1px 3px 1px rgba(60, 64, 67, 0.15);\n",
              "      fill: #174EA6;\n",
              "    }\n",
              "\n",
              "    [theme=dark] .colab-df-convert {\n",
              "      background-color: #3B4455;\n",
              "      fill: #D2E3FC;\n",
              "    }\n",
              "\n",
              "    [theme=dark] .colab-df-convert:hover {\n",
              "      background-color: #434B5C;\n",
              "      box-shadow: 0px 1px 3px 1px rgba(0, 0, 0, 0.15);\n",
              "      filter: drop-shadow(0px 1px 2px rgba(0, 0, 0, 0.3));\n",
              "      fill: #FFFFFF;\n",
              "    }\n",
              "  </style>\n",
              "\n",
              "      <script>\n",
              "        const buttonEl =\n",
              "          document.querySelector('#df-436b03da-f9b0-4ffb-a386-35b1175a40cf button.colab-df-convert');\n",
              "        buttonEl.style.display =\n",
              "          google.colab.kernel.accessAllowed ? 'block' : 'none';\n",
              "\n",
              "        async function convertToInteractive(key) {\n",
              "          const element = document.querySelector('#df-436b03da-f9b0-4ffb-a386-35b1175a40cf');\n",
              "          const dataTable =\n",
              "            await google.colab.kernel.invokeFunction('convertToInteractive',\n",
              "                                                     [key], {});\n",
              "          if (!dataTable) return;\n",
              "\n",
              "          const docLinkHtml = 'Like what you see? Visit the ' +\n",
              "            '<a target=\"_blank\" href=https://colab.research.google.com/notebooks/data_table.ipynb>data table notebook</a>'\n",
              "            + ' to learn more about interactive tables.';\n",
              "          element.innerHTML = '';\n",
              "          dataTable['output_type'] = 'display_data';\n",
              "          await google.colab.output.renderOutput(dataTable, element);\n",
              "          const docLink = document.createElement('div');\n",
              "          docLink.innerHTML = docLinkHtml;\n",
              "          element.appendChild(docLink);\n",
              "        }\n",
              "      </script>\n",
              "    </div>\n",
              "  </div>\n",
              "  "
            ],
            "text/plain": [
              "                                       lines  len  white_space_divide_by_len\n",
              "92    تا ببینی روی آن مردم کشان چون زعفران\\n   37                   0.216216\n",
              "49         جز حق همه گدا و حزینند و رو ترش\\n   32                   0.281250\n",
              "81       که درس فضل و شرافت  بدین لیام دهد\\n   34                   0.264706\n",
              "76       خسرو اگر از درد بنالد چه توان گفت\\n   34                   0.235294\n",
              "26                      گفته اسم جمله اشیا\\n   20                   0.250000\n",
              "74          زودا زوداکه عدل منظره بالا زند\\n   31                   0.193548\n",
              "12                 ناگه آمد ندا که مجرم را\\n   24                   0.250000\n",
              "31                 گشته عقل همه امینان دزد\\n   24                   0.208333\n",
              "61    که از خاکش پس از آن زنده برآید سترنگ\\n   37                   0.243243\n",
              "106    خفته به زیر خاک نه لابل که گشته خاک\\n   36                   0.250000\n",
              "7       زیباتر از تو در همه عالم نگار نیست\\n   35                   0.228571\n",
              "53                   در خرابی مقام گنج بود\\n   22                   0.227273\n",
              "101          بگو به مجلس شورا چرا معارف را\\n   30                   0.233333\n",
              "29            گفت چون از جد و بندم وز جدال\\n   29                   0.275862\n",
              "24        طاقت صبر طاق شد بر سر راه او روم\\n   33                   0.272727\n",
              "46       از ملوک باستان حاصل نشد در صد سفر\\n   34                   0.235294\n",
              "82               نه در آید به ذات او تغییر\\n   27                   0.296296\n",
              "107         از خاکشان تو کرده بسی ظرف خوردنی   32                   0.187500\n",
              "59           که هدهد تو گهی جانب سبا نگذشت\\n   30                   0.233333\n",
              "47   خسروان را گر ز وصف و شرح آن باید نشان\\n   38                   0.263158"
            ]
          },
          "metadata": {},
          "execution_count": 17
        }
      ]
    },
    {
      "cell_type": "code",
      "source": [
        "# Preprocessing data\n",
        "processed_train = preprocessing(train, is_list = True, remove_punc= True)\n",
        "processed_test = preprocessing(test, is_list =True, remove_punc= True)"
      ],
      "metadata": {
        "id": "Y81ixlOnlsIc"
      },
      "execution_count": 18,
      "outputs": []
    },
    {
      "cell_type": "code",
      "source": [
        "processed_removed_train = processed_train.copy()\n",
        "processed_removed_test = processed_test.copy()\n",
        "freq_dict = find_freq(processed_train)\n",
        "#we'll implement a 3-gram Neural Nets model,hence; set min_sentence_len =3\n",
        "remove_rare(processed_removed_train,freq_dict,num = 1,min_sentence_len =3)\n",
        "remove_rare(processed_removed_test,freq_dict,num = 1,min_sentence_len = 3)"
      ],
      "metadata": {
        "id": "oQ-U4Gk5Z8lb"
      },
      "execution_count": 19,
      "outputs": []
    },
    {
      "cell_type": "code",
      "source": [
        "print(f'Train-> Sentences:{len(processed_train)}, Unique words:{len(freq_dict)}, Sum of word freq:{sum(freq_dict.values())}')\n",
        "print(f'Test-> Sentences:{len(processed_test)}')"
      ],
      "metadata": {
        "colab": {
          "base_uri": "https://localhost:8080/"
        },
        "id": "RCPALCazhSLF",
        "outputId": "e571a147-68d5-4661-bcd6-fc9db7608867"
      },
      "execution_count": 20,
      "outputs": [
        {
          "output_type": "stream",
          "name": "stdout",
          "text": [
            "Train-> Sentences:188340, Unique words:56352, Sum of word freq:1307121\n",
            "Test-> Sentences:108\n"
          ]
        }
      ]
    },
    {
      "cell_type": "code",
      "source": [
        "print(f'Is there unknown word in test set after preprocessings and removings: {is_there_unk(processed_removed_test,freq_dict)}')"
      ],
      "metadata": {
        "colab": {
          "base_uri": "https://localhost:8080/"
        },
        "id": "1A3OJ4h3NXRJ",
        "outputId": "cfa89cf8-a6f2-4434-8396-c40e82dc5b8d"
      },
      "execution_count": 21,
      "outputs": [
        {
          "output_type": "stream",
          "name": "stdout",
          "text": [
            "Is there unknown word in test set after preprocessings and removings: False\n"
          ]
        }
      ]
    },
    {
      "cell_type": "markdown",
      "source": [
        "## Generating n-grams by trie and pandas.df\n",
        "\n",
        "Generating accumulated n-grams and specific n-grams (for a specific numeber, like 3) for both train and test datasets and for both only-preprocesed and preprocessed_and_removed_rare versions"
      ],
      "metadata": {
        "id": "kKCsav1QeLHf"
      }
    },
    {
      "cell_type": "markdown",
      "source": [
        "### generating for train"
      ],
      "metadata": {
        "id": "Rd4YYGz1fCP7"
      }
    },
    {
      "cell_type": "code",
      "source": [
        "accum_3_gram_p_train = accum_ngram(processed_train, n_gram = 3)\n",
        "accum_3_gram_pr_train = accum_ngram(processed_removed_train, n_gram = 3)"
      ],
      "metadata": {
        "id": "AA-RVVuofBnr"
      },
      "execution_count": 22,
      "outputs": []
    },
    {
      "cell_type": "code",
      "source": [
        "accum_3_gram_p_train['#']"
      ],
      "metadata": {
        "colab": {
          "base_uri": "https://localhost:8080/"
        },
        "id": "__4ACL-lgvKj",
        "outputId": "05210947-4864-462a-97c7-ba5902e24038"
      },
      "execution_count": 23,
      "outputs": [
        {
          "output_type": "execute_result",
          "data": {
            "text/plain": [
              "1307121"
            ]
          },
          "metadata": {},
          "execution_count": 23
        }
      ]
    },
    {
      "cell_type": "code",
      "source": [
        "p_train_tri_grams_df = visual(n_grams_dict=accum_3_gram_p_train,n_gram=3)  \n",
        "p_train_tri_grams_df.head(10)"
      ],
      "metadata": {
        "colab": {
          "base_uri": "https://localhost:8080/",
          "height": 363
        },
        "id": "iOpOo5d2lBIG",
        "outputId": "4772d4cf-bf33-4252-aa24-f5041686e70f"
      },
      "execution_count": 24,
      "outputs": [
        {
          "output_type": "execute_result",
          "data": {
            "text/html": [
              "\n",
              "  <div id=\"df-87e05b0d-cff7-4160-83f3-5a55e93c6fcb\">\n",
              "    <div class=\"colab-df-container\">\n",
              "      <div>\n",
              "<style scoped>\n",
              "    .dataframe tbody tr th:only-of-type {\n",
              "        vertical-align: middle;\n",
              "    }\n",
              "\n",
              "    .dataframe tbody tr th {\n",
              "        vertical-align: top;\n",
              "    }\n",
              "\n",
              "    .dataframe thead th {\n",
              "        text-align: right;\n",
              "    }\n",
              "</style>\n",
              "<table border=\"1\" class=\"dataframe\">\n",
              "  <thead>\n",
              "    <tr style=\"text-align: right;\">\n",
              "      <th></th>\n",
              "      <th>terms</th>\n",
              "      <th>counts</th>\n",
              "      <th>freq</th>\n",
              "      <th>freq_index</th>\n",
              "    </tr>\n",
              "  </thead>\n",
              "  <tbody>\n",
              "    <tr>\n",
              "      <th>0</th>\n",
              "      <td>روز و شب</td>\n",
              "      <td>205</td>\n",
              "      <td>0.000220</td>\n",
              "      <td>0.000220</td>\n",
              "    </tr>\n",
              "    <tr>\n",
              "      <th>1</th>\n",
              "      <td>جان و دل</td>\n",
              "      <td>159</td>\n",
              "      <td>0.000171</td>\n",
              "      <td>0.000342</td>\n",
              "    </tr>\n",
              "    <tr>\n",
              "      <th>2</th>\n",
              "      <td>دل و جان</td>\n",
              "      <td>155</td>\n",
              "      <td>0.000167</td>\n",
              "      <td>0.000500</td>\n",
              "    </tr>\n",
              "    <tr>\n",
              "      <th>3</th>\n",
              "      <td>شب و روز</td>\n",
              "      <td>132</td>\n",
              "      <td>0.000142</td>\n",
              "      <td>0.000567</td>\n",
              "    </tr>\n",
              "    <tr>\n",
              "      <th>4</th>\n",
              "      <td>آتش و آب</td>\n",
              "      <td>125</td>\n",
              "      <td>0.000134</td>\n",
              "      <td>0.000672</td>\n",
              "    </tr>\n",
              "    <tr>\n",
              "      <th>5</th>\n",
              "      <td>بعد از آن</td>\n",
              "      <td>91</td>\n",
              "      <td>0.000098</td>\n",
              "      <td>0.000587</td>\n",
              "    </tr>\n",
              "    <tr>\n",
              "      <th>6</th>\n",
              "      <td>آن را که</td>\n",
              "      <td>88</td>\n",
              "      <td>0.000095</td>\n",
              "      <td>0.000662</td>\n",
              "    </tr>\n",
              "    <tr>\n",
              "      <th>7</th>\n",
              "      <td>آن کس که</td>\n",
              "      <td>87</td>\n",
              "      <td>0.000094</td>\n",
              "      <td>0.000748</td>\n",
              "    </tr>\n",
              "    <tr>\n",
              "      <th>8</th>\n",
              "      <td>نیک و بد</td>\n",
              "      <td>85</td>\n",
              "      <td>0.000091</td>\n",
              "      <td>0.000822</td>\n",
              "    </tr>\n",
              "    <tr>\n",
              "      <th>9</th>\n",
              "      <td>او را به</td>\n",
              "      <td>82</td>\n",
              "      <td>0.000088</td>\n",
              "      <td>0.000881</td>\n",
              "    </tr>\n",
              "  </tbody>\n",
              "</table>\n",
              "</div>\n",
              "      <button class=\"colab-df-convert\" onclick=\"convertToInteractive('df-87e05b0d-cff7-4160-83f3-5a55e93c6fcb')\"\n",
              "              title=\"Convert this dataframe to an interactive table.\"\n",
              "              style=\"display:none;\">\n",
              "        \n",
              "  <svg xmlns=\"http://www.w3.org/2000/svg\" height=\"24px\"viewBox=\"0 0 24 24\"\n",
              "       width=\"24px\">\n",
              "    <path d=\"M0 0h24v24H0V0z\" fill=\"none\"/>\n",
              "    <path d=\"M18.56 5.44l.94 2.06.94-2.06 2.06-.94-2.06-.94-.94-2.06-.94 2.06-2.06.94zm-11 1L8.5 8.5l.94-2.06 2.06-.94-2.06-.94L8.5 2.5l-.94 2.06-2.06.94zm10 10l.94 2.06.94-2.06 2.06-.94-2.06-.94-.94-2.06-.94 2.06-2.06.94z\"/><path d=\"M17.41 7.96l-1.37-1.37c-.4-.4-.92-.59-1.43-.59-.52 0-1.04.2-1.43.59L10.3 9.45l-7.72 7.72c-.78.78-.78 2.05 0 2.83L4 21.41c.39.39.9.59 1.41.59.51 0 1.02-.2 1.41-.59l7.78-7.78 2.81-2.81c.8-.78.8-2.07 0-2.86zM5.41 20L4 18.59l7.72-7.72 1.47 1.35L5.41 20z\"/>\n",
              "  </svg>\n",
              "      </button>\n",
              "      \n",
              "  <style>\n",
              "    .colab-df-container {\n",
              "      display:flex;\n",
              "      flex-wrap:wrap;\n",
              "      gap: 12px;\n",
              "    }\n",
              "\n",
              "    .colab-df-convert {\n",
              "      background-color: #E8F0FE;\n",
              "      border: none;\n",
              "      border-radius: 50%;\n",
              "      cursor: pointer;\n",
              "      display: none;\n",
              "      fill: #1967D2;\n",
              "      height: 32px;\n",
              "      padding: 0 0 0 0;\n",
              "      width: 32px;\n",
              "    }\n",
              "\n",
              "    .colab-df-convert:hover {\n",
              "      background-color: #E2EBFA;\n",
              "      box-shadow: 0px 1px 2px rgba(60, 64, 67, 0.3), 0px 1px 3px 1px rgba(60, 64, 67, 0.15);\n",
              "      fill: #174EA6;\n",
              "    }\n",
              "\n",
              "    [theme=dark] .colab-df-convert {\n",
              "      background-color: #3B4455;\n",
              "      fill: #D2E3FC;\n",
              "    }\n",
              "\n",
              "    [theme=dark] .colab-df-convert:hover {\n",
              "      background-color: #434B5C;\n",
              "      box-shadow: 0px 1px 3px 1px rgba(0, 0, 0, 0.15);\n",
              "      filter: drop-shadow(0px 1px 2px rgba(0, 0, 0, 0.3));\n",
              "      fill: #FFFFFF;\n",
              "    }\n",
              "  </style>\n",
              "\n",
              "      <script>\n",
              "        const buttonEl =\n",
              "          document.querySelector('#df-87e05b0d-cff7-4160-83f3-5a55e93c6fcb button.colab-df-convert');\n",
              "        buttonEl.style.display =\n",
              "          google.colab.kernel.accessAllowed ? 'block' : 'none';\n",
              "\n",
              "        async function convertToInteractive(key) {\n",
              "          const element = document.querySelector('#df-87e05b0d-cff7-4160-83f3-5a55e93c6fcb');\n",
              "          const dataTable =\n",
              "            await google.colab.kernel.invokeFunction('convertToInteractive',\n",
              "                                                     [key], {});\n",
              "          if (!dataTable) return;\n",
              "\n",
              "          const docLinkHtml = 'Like what you see? Visit the ' +\n",
              "            '<a target=\"_blank\" href=https://colab.research.google.com/notebooks/data_table.ipynb>data table notebook</a>'\n",
              "            + ' to learn more about interactive tables.';\n",
              "          element.innerHTML = '';\n",
              "          dataTable['output_type'] = 'display_data';\n",
              "          await google.colab.output.renderOutput(dataTable, element);\n",
              "          const docLink = document.createElement('div');\n",
              "          docLink.innerHTML = docLinkHtml;\n",
              "          element.appendChild(docLink);\n",
              "        }\n",
              "      </script>\n",
              "    </div>\n",
              "  </div>\n",
              "  "
            ],
            "text/plain": [
              "       terms  counts      freq  freq_index\n",
              "0   روز و شب     205  0.000220    0.000220\n",
              "1   جان و دل     159  0.000171    0.000342\n",
              "2   دل و جان     155  0.000167    0.000500\n",
              "3   شب و روز     132  0.000142    0.000567\n",
              "4   آتش و آب     125  0.000134    0.000672\n",
              "5  بعد از آن      91  0.000098    0.000587\n",
              "6   آن را که      88  0.000095    0.000662\n",
              "7   آن کس که      87  0.000094    0.000748\n",
              "8   نیک و بد      85  0.000091    0.000822\n",
              "9   او را به      82  0.000088    0.000881"
            ]
          },
          "metadata": {},
          "execution_count": 24
        }
      ]
    },
    {
      "cell_type": "code",
      "source": [
        "pr_train_tri_grams_df = visual(n_grams_dict=accum_3_gram_pr_train,n_gram=3)  \n",
        "pr_train_tri_grams_df.head(10)"
      ],
      "metadata": {
        "colab": {
          "base_uri": "https://localhost:8080/",
          "height": 363
        },
        "id": "goUrPGaWiuvP",
        "outputId": "dde5ebab-f838-4a1d-90ca-7cd80c4da76c"
      },
      "execution_count": 25,
      "outputs": [
        {
          "output_type": "execute_result",
          "data": {
            "text/html": [
              "\n",
              "  <div id=\"df-dbb788f6-a478-4edb-b3eb-7e6bd2e978f9\">\n",
              "    <div class=\"colab-df-container\">\n",
              "      <div>\n",
              "<style scoped>\n",
              "    .dataframe tbody tr th:only-of-type {\n",
              "        vertical-align: middle;\n",
              "    }\n",
              "\n",
              "    .dataframe tbody tr th {\n",
              "        vertical-align: top;\n",
              "    }\n",
              "\n",
              "    .dataframe thead th {\n",
              "        text-align: right;\n",
              "    }\n",
              "</style>\n",
              "<table border=\"1\" class=\"dataframe\">\n",
              "  <thead>\n",
              "    <tr style=\"text-align: right;\">\n",
              "      <th></th>\n",
              "      <th>terms</th>\n",
              "      <th>counts</th>\n",
              "      <th>freq</th>\n",
              "      <th>freq_index</th>\n",
              "    </tr>\n",
              "  </thead>\n",
              "  <tbody>\n",
              "    <tr>\n",
              "      <th>0</th>\n",
              "      <td>روز و شب</td>\n",
              "      <td>205</td>\n",
              "      <td>0.000227</td>\n",
              "      <td>0.000227</td>\n",
              "    </tr>\n",
              "    <tr>\n",
              "      <th>1</th>\n",
              "      <td>جان و دل</td>\n",
              "      <td>159</td>\n",
              "      <td>0.000176</td>\n",
              "      <td>0.000353</td>\n",
              "    </tr>\n",
              "    <tr>\n",
              "      <th>2</th>\n",
              "      <td>دل و جان</td>\n",
              "      <td>156</td>\n",
              "      <td>0.000173</td>\n",
              "      <td>0.000519</td>\n",
              "    </tr>\n",
              "    <tr>\n",
              "      <th>3</th>\n",
              "      <td>شب و روز</td>\n",
              "      <td>132</td>\n",
              "      <td>0.000146</td>\n",
              "      <td>0.000585</td>\n",
              "    </tr>\n",
              "    <tr>\n",
              "      <th>4</th>\n",
              "      <td>آتش و آب</td>\n",
              "      <td>125</td>\n",
              "      <td>0.000139</td>\n",
              "      <td>0.000693</td>\n",
              "    </tr>\n",
              "    <tr>\n",
              "      <th>5</th>\n",
              "      <td>بعد از آن</td>\n",
              "      <td>91</td>\n",
              "      <td>0.000101</td>\n",
              "      <td>0.000605</td>\n",
              "    </tr>\n",
              "    <tr>\n",
              "      <th>6</th>\n",
              "      <td>آن را که</td>\n",
              "      <td>89</td>\n",
              "      <td>0.000099</td>\n",
              "      <td>0.000691</td>\n",
              "    </tr>\n",
              "    <tr>\n",
              "      <th>7</th>\n",
              "      <td>آن کس که</td>\n",
              "      <td>87</td>\n",
              "      <td>0.000096</td>\n",
              "      <td>0.000772</td>\n",
              "    </tr>\n",
              "    <tr>\n",
              "      <th>8</th>\n",
              "      <td>نیک و بد</td>\n",
              "      <td>85</td>\n",
              "      <td>0.000094</td>\n",
              "      <td>0.000848</td>\n",
              "    </tr>\n",
              "    <tr>\n",
              "      <th>9</th>\n",
              "      <td>او را به</td>\n",
              "      <td>83</td>\n",
              "      <td>0.000092</td>\n",
              "      <td>0.000920</td>\n",
              "    </tr>\n",
              "  </tbody>\n",
              "</table>\n",
              "</div>\n",
              "      <button class=\"colab-df-convert\" onclick=\"convertToInteractive('df-dbb788f6-a478-4edb-b3eb-7e6bd2e978f9')\"\n",
              "              title=\"Convert this dataframe to an interactive table.\"\n",
              "              style=\"display:none;\">\n",
              "        \n",
              "  <svg xmlns=\"http://www.w3.org/2000/svg\" height=\"24px\"viewBox=\"0 0 24 24\"\n",
              "       width=\"24px\">\n",
              "    <path d=\"M0 0h24v24H0V0z\" fill=\"none\"/>\n",
              "    <path d=\"M18.56 5.44l.94 2.06.94-2.06 2.06-.94-2.06-.94-.94-2.06-.94 2.06-2.06.94zm-11 1L8.5 8.5l.94-2.06 2.06-.94-2.06-.94L8.5 2.5l-.94 2.06-2.06.94zm10 10l.94 2.06.94-2.06 2.06-.94-2.06-.94-.94-2.06-.94 2.06-2.06.94z\"/><path d=\"M17.41 7.96l-1.37-1.37c-.4-.4-.92-.59-1.43-.59-.52 0-1.04.2-1.43.59L10.3 9.45l-7.72 7.72c-.78.78-.78 2.05 0 2.83L4 21.41c.39.39.9.59 1.41.59.51 0 1.02-.2 1.41-.59l7.78-7.78 2.81-2.81c.8-.78.8-2.07 0-2.86zM5.41 20L4 18.59l7.72-7.72 1.47 1.35L5.41 20z\"/>\n",
              "  </svg>\n",
              "      </button>\n",
              "      \n",
              "  <style>\n",
              "    .colab-df-container {\n",
              "      display:flex;\n",
              "      flex-wrap:wrap;\n",
              "      gap: 12px;\n",
              "    }\n",
              "\n",
              "    .colab-df-convert {\n",
              "      background-color: #E8F0FE;\n",
              "      border: none;\n",
              "      border-radius: 50%;\n",
              "      cursor: pointer;\n",
              "      display: none;\n",
              "      fill: #1967D2;\n",
              "      height: 32px;\n",
              "      padding: 0 0 0 0;\n",
              "      width: 32px;\n",
              "    }\n",
              "\n",
              "    .colab-df-convert:hover {\n",
              "      background-color: #E2EBFA;\n",
              "      box-shadow: 0px 1px 2px rgba(60, 64, 67, 0.3), 0px 1px 3px 1px rgba(60, 64, 67, 0.15);\n",
              "      fill: #174EA6;\n",
              "    }\n",
              "\n",
              "    [theme=dark] .colab-df-convert {\n",
              "      background-color: #3B4455;\n",
              "      fill: #D2E3FC;\n",
              "    }\n",
              "\n",
              "    [theme=dark] .colab-df-convert:hover {\n",
              "      background-color: #434B5C;\n",
              "      box-shadow: 0px 1px 3px 1px rgba(0, 0, 0, 0.15);\n",
              "      filter: drop-shadow(0px 1px 2px rgba(0, 0, 0, 0.3));\n",
              "      fill: #FFFFFF;\n",
              "    }\n",
              "  </style>\n",
              "\n",
              "      <script>\n",
              "        const buttonEl =\n",
              "          document.querySelector('#df-dbb788f6-a478-4edb-b3eb-7e6bd2e978f9 button.colab-df-convert');\n",
              "        buttonEl.style.display =\n",
              "          google.colab.kernel.accessAllowed ? 'block' : 'none';\n",
              "\n",
              "        async function convertToInteractive(key) {\n",
              "          const element = document.querySelector('#df-dbb788f6-a478-4edb-b3eb-7e6bd2e978f9');\n",
              "          const dataTable =\n",
              "            await google.colab.kernel.invokeFunction('convertToInteractive',\n",
              "                                                     [key], {});\n",
              "          if (!dataTable) return;\n",
              "\n",
              "          const docLinkHtml = 'Like what you see? Visit the ' +\n",
              "            '<a target=\"_blank\" href=https://colab.research.google.com/notebooks/data_table.ipynb>data table notebook</a>'\n",
              "            + ' to learn more about interactive tables.';\n",
              "          element.innerHTML = '';\n",
              "          dataTable['output_type'] = 'display_data';\n",
              "          await google.colab.output.renderOutput(dataTable, element);\n",
              "          const docLink = document.createElement('div');\n",
              "          docLink.innerHTML = docLinkHtml;\n",
              "          element.appendChild(docLink);\n",
              "        }\n",
              "      </script>\n",
              "    </div>\n",
              "  </div>\n",
              "  "
            ],
            "text/plain": [
              "       terms  counts      freq  freq_index\n",
              "0   روز و شب     205  0.000227    0.000227\n",
              "1   جان و دل     159  0.000176    0.000353\n",
              "2   دل و جان     156  0.000173    0.000519\n",
              "3   شب و روز     132  0.000146    0.000585\n",
              "4   آتش و آب     125  0.000139    0.000693\n",
              "5  بعد از آن      91  0.000101    0.000605\n",
              "6   آن را که      89  0.000099    0.000691\n",
              "7   آن کس که      87  0.000096    0.000772\n",
              "8   نیک و بد      85  0.000094    0.000848\n",
              "9   او را به      83  0.000092    0.000920"
            ]
          },
          "metadata": {},
          "execution_count": 25
        }
      ]
    },
    {
      "cell_type": "markdown",
      "source": [
        "### generating for test"
      ],
      "metadata": {
        "id": "W06Ha4Z9fGLV"
      }
    },
    {
      "cell_type": "code",
      "source": [
        "accum_3_gram_pr_test = accum_ngram(processed_removed_test, n_gram = 3)"
      ],
      "metadata": {
        "id": "DnQ8gSoAdPiu"
      },
      "execution_count": 26,
      "outputs": []
    },
    {
      "cell_type": "code",
      "source": [
        "accum_3_gram_pr_test['#']"
      ],
      "metadata": {
        "colab": {
          "base_uri": "https://localhost:8080/"
        },
        "id": "fNikcBqWjW4O",
        "outputId": "a157afd5-4cce-4bb3-c507-9139bd9bc2f1"
      },
      "execution_count": 27,
      "outputs": [
        {
          "output_type": "execute_result",
          "data": {
            "text/plain": [
              "746"
            ]
          },
          "metadata": {},
          "execution_count": 27
        }
      ]
    },
    {
      "cell_type": "code",
      "source": [
        "\n",
        "pr_test_tri_grams_df = visual(n_grams_dict = accum_3_gram_pr_test, n_gram=3)  \n",
        "pr_test_tri_grams_df.head(10)"
      ],
      "metadata": {
        "colab": {
          "base_uri": "https://localhost:8080/",
          "height": 363
        },
        "id": "qeEWMiT7jUDE",
        "outputId": "257638bf-d13c-4be5-d1f0-54c408e33b8a"
      },
      "execution_count": 28,
      "outputs": [
        {
          "output_type": "execute_result",
          "data": {
            "text/html": [
              "\n",
              "  <div id=\"df-5cae7630-27fd-47c2-accc-75db344a0963\">\n",
              "    <div class=\"colab-df-container\">\n",
              "      <div>\n",
              "<style scoped>\n",
              "    .dataframe tbody tr th:only-of-type {\n",
              "        vertical-align: middle;\n",
              "    }\n",
              "\n",
              "    .dataframe tbody tr th {\n",
              "        vertical-align: top;\n",
              "    }\n",
              "\n",
              "    .dataframe thead th {\n",
              "        text-align: right;\n",
              "    }\n",
              "</style>\n",
              "<table border=\"1\" class=\"dataframe\">\n",
              "  <thead>\n",
              "    <tr style=\"text-align: right;\">\n",
              "      <th></th>\n",
              "      <th>terms</th>\n",
              "      <th>counts</th>\n",
              "      <th>freq</th>\n",
              "      <th>freq_index</th>\n",
              "    </tr>\n",
              "  </thead>\n",
              "  <tbody>\n",
              "    <tr>\n",
              "      <th>0</th>\n",
              "      <td>در همه عالم</td>\n",
              "      <td>2</td>\n",
              "      <td>0.003774</td>\n",
              "      <td>0.003774</td>\n",
              "    </tr>\n",
              "    <tr>\n",
              "      <th>1</th>\n",
              "      <td>تو در همه</td>\n",
              "      <td>2</td>\n",
              "      <td>0.003774</td>\n",
              "      <td>0.007547</td>\n",
              "    </tr>\n",
              "    <tr>\n",
              "      <th>2</th>\n",
              "      <td>از تو در</td>\n",
              "      <td>2</td>\n",
              "      <td>0.003774</td>\n",
              "      <td>0.011321</td>\n",
              "    </tr>\n",
              "    <tr>\n",
              "      <th>3</th>\n",
              "      <td>من که هر</td>\n",
              "      <td>1</td>\n",
              "      <td>0.001887</td>\n",
              "      <td>0.007547</td>\n",
              "    </tr>\n",
              "    <tr>\n",
              "      <th>4</th>\n",
              "      <td>بگسلد منزل کند</td>\n",
              "      <td>1</td>\n",
              "      <td>0.001887</td>\n",
              "      <td>0.009434</td>\n",
              "    </tr>\n",
              "    <tr>\n",
              "      <th>5</th>\n",
              "      <td>پرستش باد پیش</td>\n",
              "      <td>1</td>\n",
              "      <td>0.001887</td>\n",
              "      <td>0.011321</td>\n",
              "    </tr>\n",
              "    <tr>\n",
              "      <th>6</th>\n",
              "      <td>باد پیش تو</td>\n",
              "      <td>1</td>\n",
              "      <td>0.001887</td>\n",
              "      <td>0.013208</td>\n",
              "    </tr>\n",
              "    <tr>\n",
              "      <th>7</th>\n",
              "      <td>باد لطفش بوزد</td>\n",
              "      <td>1</td>\n",
              "      <td>0.001887</td>\n",
              "      <td>0.015094</td>\n",
              "    </tr>\n",
              "    <tr>\n",
              "      <th>8</th>\n",
              "      <td>پیش تو همه</td>\n",
              "      <td>1</td>\n",
              "      <td>0.001887</td>\n",
              "      <td>0.016981</td>\n",
              "    </tr>\n",
              "    <tr>\n",
              "      <th>9</th>\n",
              "      <td>پیش رخ از</td>\n",
              "      <td>1</td>\n",
              "      <td>0.001887</td>\n",
              "      <td>0.018868</td>\n",
              "    </tr>\n",
              "  </tbody>\n",
              "</table>\n",
              "</div>\n",
              "      <button class=\"colab-df-convert\" onclick=\"convertToInteractive('df-5cae7630-27fd-47c2-accc-75db344a0963')\"\n",
              "              title=\"Convert this dataframe to an interactive table.\"\n",
              "              style=\"display:none;\">\n",
              "        \n",
              "  <svg xmlns=\"http://www.w3.org/2000/svg\" height=\"24px\"viewBox=\"0 0 24 24\"\n",
              "       width=\"24px\">\n",
              "    <path d=\"M0 0h24v24H0V0z\" fill=\"none\"/>\n",
              "    <path d=\"M18.56 5.44l.94 2.06.94-2.06 2.06-.94-2.06-.94-.94-2.06-.94 2.06-2.06.94zm-11 1L8.5 8.5l.94-2.06 2.06-.94-2.06-.94L8.5 2.5l-.94 2.06-2.06.94zm10 10l.94 2.06.94-2.06 2.06-.94-2.06-.94-.94-2.06-.94 2.06-2.06.94z\"/><path d=\"M17.41 7.96l-1.37-1.37c-.4-.4-.92-.59-1.43-.59-.52 0-1.04.2-1.43.59L10.3 9.45l-7.72 7.72c-.78.78-.78 2.05 0 2.83L4 21.41c.39.39.9.59 1.41.59.51 0 1.02-.2 1.41-.59l7.78-7.78 2.81-2.81c.8-.78.8-2.07 0-2.86zM5.41 20L4 18.59l7.72-7.72 1.47 1.35L5.41 20z\"/>\n",
              "  </svg>\n",
              "      </button>\n",
              "      \n",
              "  <style>\n",
              "    .colab-df-container {\n",
              "      display:flex;\n",
              "      flex-wrap:wrap;\n",
              "      gap: 12px;\n",
              "    }\n",
              "\n",
              "    .colab-df-convert {\n",
              "      background-color: #E8F0FE;\n",
              "      border: none;\n",
              "      border-radius: 50%;\n",
              "      cursor: pointer;\n",
              "      display: none;\n",
              "      fill: #1967D2;\n",
              "      height: 32px;\n",
              "      padding: 0 0 0 0;\n",
              "      width: 32px;\n",
              "    }\n",
              "\n",
              "    .colab-df-convert:hover {\n",
              "      background-color: #E2EBFA;\n",
              "      box-shadow: 0px 1px 2px rgba(60, 64, 67, 0.3), 0px 1px 3px 1px rgba(60, 64, 67, 0.15);\n",
              "      fill: #174EA6;\n",
              "    }\n",
              "\n",
              "    [theme=dark] .colab-df-convert {\n",
              "      background-color: #3B4455;\n",
              "      fill: #D2E3FC;\n",
              "    }\n",
              "\n",
              "    [theme=dark] .colab-df-convert:hover {\n",
              "      background-color: #434B5C;\n",
              "      box-shadow: 0px 1px 3px 1px rgba(0, 0, 0, 0.15);\n",
              "      filter: drop-shadow(0px 1px 2px rgba(0, 0, 0, 0.3));\n",
              "      fill: #FFFFFF;\n",
              "    }\n",
              "  </style>\n",
              "\n",
              "      <script>\n",
              "        const buttonEl =\n",
              "          document.querySelector('#df-5cae7630-27fd-47c2-accc-75db344a0963 button.colab-df-convert');\n",
              "        buttonEl.style.display =\n",
              "          google.colab.kernel.accessAllowed ? 'block' : 'none';\n",
              "\n",
              "        async function convertToInteractive(key) {\n",
              "          const element = document.querySelector('#df-5cae7630-27fd-47c2-accc-75db344a0963');\n",
              "          const dataTable =\n",
              "            await google.colab.kernel.invokeFunction('convertToInteractive',\n",
              "                                                     [key], {});\n",
              "          if (!dataTable) return;\n",
              "\n",
              "          const docLinkHtml = 'Like what you see? Visit the ' +\n",
              "            '<a target=\"_blank\" href=https://colab.research.google.com/notebooks/data_table.ipynb>data table notebook</a>'\n",
              "            + ' to learn more about interactive tables.';\n",
              "          element.innerHTML = '';\n",
              "          dataTable['output_type'] = 'display_data';\n",
              "          await google.colab.output.renderOutput(dataTable, element);\n",
              "          const docLink = document.createElement('div');\n",
              "          docLink.innerHTML = docLinkHtml;\n",
              "          element.appendChild(docLink);\n",
              "        }\n",
              "      </script>\n",
              "    </div>\n",
              "  </div>\n",
              "  "
            ],
            "text/plain": [
              "            terms  counts      freq  freq_index\n",
              "0     در همه عالم       2  0.003774    0.003774\n",
              "1       تو در همه       2  0.003774    0.007547\n",
              "2        از تو در       2  0.003774    0.011321\n",
              "3        من که هر       1  0.001887    0.007547\n",
              "4  بگسلد منزل کند       1  0.001887    0.009434\n",
              "5   پرستش باد پیش       1  0.001887    0.011321\n",
              "6      باد پیش تو       1  0.001887    0.013208\n",
              "7   باد لطفش بوزد       1  0.001887    0.015094\n",
              "8      پیش تو همه       1  0.001887    0.016981\n",
              "9       پیش رخ از       1  0.001887    0.018868"
            ]
          },
          "metadata": {},
          "execution_count": 28
        }
      ]
    },
    {
      "cell_type": "code",
      "source": [
        ""
      ],
      "metadata": {
        "id": "R0CvdA1Ps3mB"
      },
      "execution_count": 28,
      "outputs": []
    },
    {
      "cell_type": "markdown",
      "source": [
        "## Question 1 (Sentence Completion)"
      ],
      "metadata": {
        "id": "L8ykLfDhjiro"
      }
    },
    {
      "cell_type": "markdown",
      "source": [
        "## Filling sentences with one blank"
      ],
      "metadata": {
        "id": "slHMzsIDcUOI"
      }
    },
    {
      "cell_type": "code",
      "source": [
        "one_blank_sent[0]"
      ],
      "metadata": {
        "colab": {
          "base_uri": "https://localhost:8080/",
          "height": 35
        },
        "id": "M3P1nKeSeAB3",
        "outputId": "d5529e68-0b4d-416b-af2c-f3e7611a5b92"
      },
      "execution_count": null,
      "outputs": [
        {
          "output_type": "execute_result",
          "data": {
            "application/vnd.google.colaboratory.intrinsic+json": {
              "type": "string"
            },
            "text/plain": [
              "'شب است و شمع و شراب و'"
            ]
          },
          "metadata": {},
          "execution_count": 79
        }
      ]
    },
    {
      "cell_type": "code",
      "source": [
        "27**(1/3)"
      ],
      "metadata": {
        "colab": {
          "base_uri": "https://localhost:8080/"
        },
        "id": "vorcLgZVeSVU",
        "outputId": "4a1c0827-3693-4d5b-dbf2-177bf6cf6ea2"
      },
      "execution_count": null,
      "outputs": [
        {
          "output_type": "execute_result",
          "data": {
            "text/plain": [
              "3.0"
            ]
          },
          "metadata": {},
          "execution_count": 80
        }
      ]
    },
    {
      "cell_type": "code",
      "source": [
        "m = 0.01\n",
        "pbg = (1/len(freq_dict))\n",
        "p= occurance_drichlet_probability(one_blank_sent[0].split(),accum_3_gram_pr_train,3,m,pbg )\n",
        "(1/p)**(1/len(one_blank_sent[0].split()))"
      ],
      "metadata": {
        "colab": {
          "base_uri": "https://localhost:8080/"
        },
        "id": "qV9bjYBpIkaY",
        "outputId": "d4b17124-1886-4bad-fa67-9afa2dbee731"
      },
      "execution_count": null,
      "outputs": [
        {
          "output_type": "execute_result",
          "data": {
            "text/plain": [
              "294.21766281040794"
            ]
          },
          "metadata": {},
          "execution_count": 81
        }
      ]
    },
    {
      "cell_type": "code",
      "source": [
        "# vocabulary is freq_dict.keys()\n",
        "best_words_one = []\n",
        "for sent in one_blank_sent:\n",
        "  s = sent.split()\n",
        "  highest_pro = 0\n",
        "  best_word = ''\n",
        "  for word in freq_dict.keys():\n",
        "    t = s + [word]\n",
        "    p = occurance_drichlet_probability(t,accum_3_gram_pr_train,3,m,pbg )\n",
        "    if p > highest_pro:\n",
        "      highest_pro = p\n",
        "      best_word = word\n",
        "  best_words_one.append(best_word)\n"
      ],
      "metadata": {
        "id": "7QcJt7iCjmPN"
      },
      "execution_count": null,
      "outputs": []
    },
    {
      "cell_type": "code",
      "source": [
        "best_words_one"
      ],
      "metadata": {
        "colab": {
          "base_uri": "https://localhost:8080/"
        },
        "id": "u2SkBHt3MmvE",
        "outputId": "d7bf636b-83e2-4431-85b7-963b4b04b1a5"
      },
      "execution_count": null,
      "outputs": [
        {
          "output_type": "execute_result",
          "data": {
            "text/plain": [
              "['کباب', 'به', 'هر', 'را']"
            ]
          },
          "metadata": {},
          "execution_count": 101
        }
      ]
    },
    {
      "cell_type": "markdown",
      "source": [
        "## Predicting two consequtive gaps"
      ],
      "metadata": {
        "id": "ekPR1sqvc1bU"
      }
    },
    {
      "cell_type": "markdown",
      "source": [
        "When we have multiple words to predict, we need a decode strategy.\n",
        "Some decoding strategies are, but not limited to:\n",
        "\n",
        "+ Greedy Search\n",
        "+ Beam Search\n",
        "+ Top-k sampling\n",
        "+ Top-p sampling \n",
        "\n",
        "Reference: Dr. Thy Tran on Generation based Conversational AI Lecture / DARMSTADT University / UKP"
      ],
      "metadata": {
        "id": "ISipis5wgdbz"
      }
    },
    {
      "cell_type": "markdown",
      "source": [
        "For the sake of simplicity, I am gonna use \"Greedy Search\""
      ],
      "metadata": {
        "id": "2TGY-iFJoPRC"
      }
    },
    {
      "cell_type": "code",
      "source": [
        "# vocabulary is freq_dict.keys()\n",
        "first_prediction = []\n",
        "for sent in two_blank_sent:\n",
        "  s = sent.split()\n",
        "  highest_pro = 0\n",
        "  best_word = ''\n",
        "  for word in freq_dict.keys():\n",
        "    t = s + [word]\n",
        "    p = occurance_drichlet_probability(t,accum_3_gram_pr_train,3,m,pbg )\n",
        "    if p > highest_pro:\n",
        "      highest_pro = p\n",
        "      best_word = word\n",
        "  first_prediction.append(best_word)"
      ],
      "metadata": {
        "id": "jEXK3De6c0M3"
      },
      "execution_count": null,
      "outputs": []
    },
    {
      "cell_type": "code",
      "source": [
        "first_prediction"
      ],
      "metadata": {
        "colab": {
          "base_uri": "https://localhost:8080/"
        },
        "id": "y_GiNTUnqJnm",
        "outputId": "7ece55a3-7828-46bc-8c2c-ef9f90842d3d"
      },
      "execution_count": null,
      "outputs": [
        {
          "output_type": "execute_result",
          "data": {
            "text/plain": [
              "['را', 'عدم']"
            ]
          },
          "metadata": {},
          "execution_count": 100
        }
      ]
    },
    {
      "cell_type": "code",
      "source": [
        "two_blank_sent[1].split() + [first_prediction[1]]"
      ],
      "metadata": {
        "colab": {
          "base_uri": "https://localhost:8080/"
        },
        "id": "DtEfYeb3qeSH",
        "outputId": "3d8d055b-70b4-4455-9714-80ae81b4b27c"
      },
      "execution_count": null,
      "outputs": [
        {
          "output_type": "execute_result",
          "data": {
            "text/plain": [
              "['دوست', 'در', 'خانه', 'و', 'ما', 'گرد', 'عدم']"
            ]
          },
          "metadata": {},
          "execution_count": 105
        }
      ]
    },
    {
      "cell_type": "code",
      "source": [
        "second_prediciton = []\n",
        "i = -1\n",
        "for sent in two_blank_sent:\n",
        "  i+=1\n",
        "  s = sent.split()\n",
        "  s = s + [first_prediction[i]]\n",
        "  highest_pro = 0\n",
        "  best_word = ''\n",
        "  for word in freq_dict.keys():\n",
        "    t = s + [word]\n",
        "    p = occurance_drichlet_probability(t,accum_3_gram_pr_train,3,m,pbg )\n",
        "    if p > highest_pro:\n",
        "      highest_pro = p\n",
        "      best_word = word\n",
        "  second_prediciton.append(best_word)"
      ],
      "metadata": {
        "id": "5VFA0ASzq1sP"
      },
      "execution_count": null,
      "outputs": []
    },
    {
      "cell_type": "code",
      "source": [
        "second_prediciton"
      ],
      "metadata": {
        "id": "dTt5NYV0rSSE",
        "outputId": "303c3b22-46f4-474b-84ed-de93126184ec",
        "colab": {
          "base_uri": "https://localhost:8080/"
        }
      },
      "execution_count": null,
      "outputs": [
        {
          "output_type": "execute_result",
          "data": {
            "text/plain": [
              "['با', 'برآمد']"
            ]
          },
          "metadata": {},
          "execution_count": 107
        }
      ]
    },
    {
      "cell_type": "markdown",
      "source": [
        "## Question 2"
      ],
      "metadata": {
        "id": "tpOhzW0QjnD2"
      }
    },
    {
      "cell_type": "code",
      "source": [
        "# tokenized&preprocessed&removed_rare of testset= processed_removed_test\n",
        "PP_sum = 0\n",
        "total= len(processed_test)\n",
        "m = 0.01\n",
        "pbg = (1/len(freq_dict))\n",
        "for sent in processed_removed_test:\n",
        "  p= occurance_drichlet_probability(sent,accum_3_gram_p_train,3,m,pbg)\n",
        "  PP = (1/p)**(1/len(sent))\n",
        "  PP_sum += PP\n",
        "\n",
        "PP_avg = PP_sum/total\n",
        "print(f'Average Perplexity on testset: {round(PP_avg,2)}')"
      ],
      "metadata": {
        "id": "M_IVqj0Hjow-",
        "colab": {
          "base_uri": "https://localhost:8080/"
        },
        "outputId": "2d3364e1-2ad3-4c30-9810-ea67bd2ba7a7"
      },
      "execution_count": null,
      "outputs": [
        {
          "output_type": "stream",
          "name": "stdout",
          "text": [
            "Average Perplexity on testset: 335349.57\n"
          ]
        }
      ]
    },
    {
      "cell_type": "markdown",
      "source": [
        "## Question 3"
      ],
      "metadata": {
        "id": "p6YYKc8gjplx"
      }
    },
    {
      "cell_type": "markdown",
      "source": [
        "### Question 3 manipulating data set to fed the model"
      ],
      "metadata": {
        "id": "4lI5j92PSkDJ"
      }
    },
    {
      "cell_type": "code",
      "source": [
        "#!pip install tensorflow-gpu"
      ],
      "metadata": {
        "id": "DtN7eEiT4WSh"
      },
      "execution_count": 4,
      "outputs": []
    },
    {
      "cell_type": "code",
      "source": [
        "import tensorflow as tf\n",
        "tf.__version__"
      ],
      "metadata": {
        "colab": {
          "base_uri": "https://localhost:8080/",
          "height": 35
        },
        "id": "vH3j6TOf4BsM",
        "outputId": "878423a6-184a-4018-f819-188b05d875b5"
      },
      "execution_count": 29,
      "outputs": [
        {
          "output_type": "execute_result",
          "data": {
            "application/vnd.google.colaboratory.intrinsic+json": {
              "type": "string"
            },
            "text/plain": [
              "'2.8.0'"
            ]
          },
          "metadata": {},
          "execution_count": 29
        }
      ]
    },
    {
      "cell_type": "code",
      "source": [
        "print(\"Num GPUs Available: \", len(tf.config.list_physical_devices('GPU')))\n",
        "with tf.compat.v1.Session() as sess:\n",
        "  devices = sess.list_devices()\n",
        "  print(devices)"
      ],
      "metadata": {
        "colab": {
          "base_uri": "https://localhost:8080/"
        },
        "id": "vuBs0Oq65eXy",
        "outputId": "aa0ce8cf-1816-4bec-95bd-8704a48e79ef"
      },
      "execution_count": 30,
      "outputs": [
        {
          "output_type": "stream",
          "name": "stdout",
          "text": [
            "Num GPUs Available:  1\n",
            "[_DeviceAttributes(/job:localhost/replica:0/task:0/device:CPU:0, CPU, 268435456, -6727070496689872601), _DeviceAttributes(/job:localhost/replica:0/task:0/device:GPU:0, GPU, 14436532224, 3262984644559965886)]\n"
          ]
        }
      ]
    },
    {
      "cell_type": "code",
      "source": [
        "gpus = tf.config.list_physical_devices('GPU')\n",
        "tf.config.set_logical_device_configuration(\n",
        "        gpus[0],\n",
        "        [tf.config.LogicalDeviceConfiguration(memory_limit=15240)])"
      ],
      "metadata": {
        "id": "Li7c1G4QBL3k"
      },
      "execution_count": 31,
      "outputs": []
    },
    {
      "cell_type": "code",
      "source": [
        "# connecting to the drive\n",
        "from google.colab import drive\n",
        "drive.mount('/content/drive')"
      ],
      "metadata": {
        "id": "FbKfdUMUjrhd",
        "colab": {
          "base_uri": "https://localhost:8080/"
        },
        "outputId": "64e63c3d-130d-458a-9c46-725dc871d730"
      },
      "execution_count": 33,
      "outputs": [
        {
          "output_type": "stream",
          "name": "stdout",
          "text": [
            "Mounted at /content/drive\n"
          ]
        }
      ]
    },
    {
      "cell_type": "code",
      "source": [
        "path = '/content/drive/MyDrive/chatBot_momtazi'"
      ],
      "metadata": {
        "id": "ifa7J6kD9wwu"
      },
      "execution_count": 34,
      "outputs": []
    },
    {
      "cell_type": "code",
      "source": [
        "# pr is an abbreviation of Preprocessed and Removed its rare words\n",
        "pr_train_sentences = pr_train_tri_grams_df['terms'].tolist()\n",
        "pr_test_senteces = pr_test_tri_grams_df['terms'].tolist()"
      ],
      "metadata": {
        "id": "SS2mlQ2TiPb6"
      },
      "execution_count": 35,
      "outputs": []
    },
    {
      "cell_type": "code",
      "source": [
        "pr_train_sentences[:3]"
      ],
      "metadata": {
        "id": "Dm8tRy-5ns70",
        "colab": {
          "base_uri": "https://localhost:8080/"
        },
        "outputId": "534abc88-7208-44f9-9386-3b162ebff001"
      },
      "execution_count": 36,
      "outputs": [
        {
          "output_type": "execute_result",
          "data": {
            "text/plain": [
              "['روز و شب', 'جان و دل', 'دل و جان']"
            ]
          },
          "metadata": {},
          "execution_count": 36
        }
      ]
    },
    {
      "cell_type": "code",
      "source": [
        "# indexing words \n",
        "from keras.preprocessing.text import Tokenizer\n",
        "tokenizer =  Tokenizer()\n",
        "tokenizer.fit_on_texts(pr_train_sentences)\n",
        "train_tokenized_sentc = tokenizer.texts_to_sequences(pr_train_sentences)\n",
        "test_tokenized_sentc = tokenizer.texts_to_sequences(pr_test_senteces)"
      ],
      "metadata": {
        "id": "grquuvXrnt5m"
      },
      "execution_count": 37,
      "outputs": []
    },
    {
      "cell_type": "code",
      "source": [
        "#tokenizer.word_index\n",
        "## note: keys are word. Farsi font make the print reverse \n",
        "# {'و': 1,\n",
        "#  'از': 2,\n",
        "#  'به': 3,\n",
        "#  'که': 4,\n",
        "#  'در': 5,\n",
        "#  'تو': 6,\n",
        "#  'را': 7,\n",
        "#  . . .   . . . "
      ],
      "metadata": {
        "id": "hqNO9cwvxKV3"
      },
      "execution_count": 38,
      "outputs": []
    },
    {
      "cell_type": "code",
      "source": [
        "# test purpose\n",
        "last_key = list(tokenizer.word_index)[-1]\n",
        "print(last_key)\n",
        "print(tokenizer.word_index[last_key])\n",
        "vocab_size = len(tokenizer.word_index) + 1\n",
        "vocab_size"
      ],
      "metadata": {
        "id": "GC9oCprUpYtf",
        "colab": {
          "base_uri": "https://localhost:8080/"
        },
        "outputId": "4bc28cce-12fc-48e9-b858-a00720d6825b"
      },
      "execution_count": 39,
      "outputs": [
        {
          "output_type": "stream",
          "name": "stdout",
          "text": [
            "نابسود\n",
            "27831\n"
          ]
        },
        {
          "output_type": "execute_result",
          "data": {
            "text/plain": [
              "27832"
            ]
          },
          "metadata": {},
          "execution_count": 39
        }
      ]
    },
    {
      "cell_type": "code",
      "source": [
        "# Manipulating data to make it suitable as our models inputs\n",
        "import numpy as np\n",
        "train_vec = np.array(train_tokenized_sentc)\n",
        "test_vec = np.array(test_tokenized_sentc)"
      ],
      "metadata": {
        "id": "a11UWMKtrNmT"
      },
      "execution_count": 40,
      "outputs": []
    },
    {
      "cell_type": "code",
      "source": [
        "print(test_vec.shape)\n",
        "train_vec.shape"
      ],
      "metadata": {
        "id": "2WwcMvL6EO32",
        "colab": {
          "base_uri": "https://localhost:8080/"
        },
        "outputId": "fec00b61-096d-4a28-fc5e-4396cf85c9e3"
      },
      "execution_count": 41,
      "outputs": [
        {
          "output_type": "stream",
          "name": "stdout",
          "text": [
            "(527, 3)\n"
          ]
        },
        {
          "output_type": "execute_result",
          "data": {
            "text/plain": [
              "(794876, 3)"
            ]
          },
          "metadata": {},
          "execution_count": 41
        }
      ]
    },
    {
      "cell_type": "code",
      "source": [
        "x_train , y_train = train_vec[:,:-1] , train_vec[:,-1] \n",
        "x_test , y_test = test_vec[:,:-1] , test_vec[:,-1] \n",
        "batch_s = 1000"
      ],
      "metadata": {
        "id": "m7vkLNxw9n7p"
      },
      "execution_count": 42,
      "outputs": []
    },
    {
      "cell_type": "code",
      "source": [
        "y_train[70000]"
      ],
      "metadata": {
        "id": "YFtGDSQRjp28",
        "colab": {
          "base_uri": "https://localhost:8080/"
        },
        "outputId": "9c4292ef-cd86-4d7c-e78b-e60e97f6fc0e"
      },
      "execution_count": 43,
      "outputs": [
        {
          "output_type": "execute_result",
          "data": {
            "text/plain": [
              "711"
            ]
          },
          "metadata": {},
          "execution_count": 43
        }
      ]
    },
    {
      "cell_type": "code",
      "source": [
        "from tensorflow.keras.utils import to_categorical\n",
        "\n",
        "def generator(x,y, batch_size):\n",
        "#Ref: http://www.jessicayung.com/using-generators-in-python-to-train-machine-learning-models/\n",
        "    num_samples = len(x)\n",
        "    while True: # Loop forever so the generator never terminates\n",
        "\n",
        "        for offset in range(0, num_samples, batch_size):\n",
        "            # Get the samples you'll use in this batch\n",
        "            x_batch_samples = x[offset:offset+batch_size]\n",
        "            y_batch_samples = y[offset:offset+batch_size]\n",
        "            y_batch_samples = to_categorical(y_batch_samples, num_classes= vocab_size)\n",
        "            # The generator-y part: yield the next training batch            \n",
        "            yield x_batch_samples, y_batch_samples\n"
      ],
      "metadata": {
        "id": "hq7P_dRramvn"
      },
      "execution_count": 44,
      "outputs": []
    },
    {
      "cell_type": "code",
      "source": [
        ""
      ],
      "metadata": {
        "id": "tdCPO6kpXike"
      },
      "execution_count": 44,
      "outputs": []
    },
    {
      "cell_type": "code",
      "source": [
        "\"\"\" DEVELOPMENT NOTE 5: \"\"\"\n",
        "train_generator=generator(x_train, y_train, batch_size=batch_s)\n",
        "#validation_generator=generator(x_test,y_test, batch_size=batch_s)"
      ],
      "metadata": {
        "id": "mf17_QLpZrjM"
      },
      "execution_count": 45,
      "outputs": []
    },
    {
      "cell_type": "code",
      "source": [
        "# generate one-hot representation of all y values\n",
        "# need this representation to make \"cross-entropy\" validation method possible\n",
        "from tensorflow.keras.utils import to_categorical\n",
        "y_test = to_categorical(y_test, num_classes= vocab_size)\n",
        "val_tuple = (x_test,y_test)"
      ],
      "metadata": {
        "id": "Nq4zbRcZ7LCX"
      },
      "execution_count": 46,
      "outputs": []
    },
    {
      "cell_type": "markdown",
      "source": [
        "### Defining the model"
      ],
      "metadata": {
        "id": "NlJkoLxXaOKl"
      }
    },
    {
      "cell_type": "code",
      "source": [
        "import keras\n",
        "import matplotlib.pyplot as plt\n",
        "#!pip install IPython\n",
        "from IPython.display import clear_output as cls\n",
        "\n",
        "class PlotLosses(keras.callbacks.Callback):\n",
        "\n",
        "  def on_train_begin(self,logs={}):\n",
        "    self.i = 0\n",
        "    self.x = []\n",
        "    self.losses= []\n",
        "    self.val_losses = []\n",
        "    self.fig = plt.figure()\n",
        "    self.logs = []\n",
        "\n",
        "  def on_epoch_end(self, epoch, logs={}):\n",
        "    self.logs.append(logs)\n",
        "    self.x.append(self.i)\n",
        "    self.losses.append(logs.get('loss'))\n",
        "    self.val_losses.append(logs.get('val_loss'))\n",
        "    self.i +=1\n",
        "\n",
        "    cls(wait=True)\n",
        "    plt.plot(self.x, self.losses, label= 'loss')\n",
        "    plt.plot(self.x, self.val_losses, label= 'val_loss')\n",
        "    plt.legend()\n",
        "    plt.show()\n",
        "\n",
        "plot_losses = PlotLosses()"
      ],
      "metadata": {
        "id": "ttGARJxjAxZ9"
      },
      "execution_count": 47,
      "outputs": []
    },
    {
      "cell_type": "code",
      "source": [
        "window_size = 2\n",
        "seq_length = window_size +1"
      ],
      "metadata": {
        "id": "FVPNgfuwpgNG"
      },
      "execution_count": 48,
      "outputs": []
    },
    {
      "cell_type": "code",
      "source": [
        "from tensorflow.keras.models import Sequential\n",
        "from tensorflow.keras.layers import Dense, Embedding, Flatten\n",
        "\n",
        "#denining the model\n",
        "model = Sequential()\n",
        "model.add(Embedding(vocab_size,50,input_length=window_size, name='Embedding-layers'))\n",
        "model.add(Flatten())\n",
        "model.add(Dense(vocab_size//2,activation='relu',name='hidden-layer'))\n",
        "model.add(Dense(vocab_size,activation='softmax',name='output-layer'))\n",
        "\n",
        "# print model structure summary\n",
        "print(model.summary())"
      ],
      "metadata": {
        "id": "zLBk6fEHdY-N",
        "colab": {
          "base_uri": "https://localhost:8080/"
        },
        "outputId": "273de89f-b947-49bb-d3e1-129c3109ebd2"
      },
      "execution_count": 49,
      "outputs": [
        {
          "output_type": "stream",
          "name": "stdout",
          "text": [
            "Model: \"sequential\"\n",
            "_________________________________________________________________\n",
            " Layer (type)                Output Shape              Param #   \n",
            "=================================================================\n",
            " Embedding-layers (Embedding  (None, 2, 50)            1391600   \n",
            " )                                                               \n",
            "                                                                 \n",
            " flatten (Flatten)           (None, 100)               0         \n",
            "                                                                 \n",
            " hidden-layer (Dense)        (None, 13916)             1405516   \n",
            "                                                                 \n",
            " output-layer (Dense)        (None, 27832)             387337944 \n",
            "                                                                 \n",
            "=================================================================\n",
            "Total params: 390,135,060\n",
            "Trainable params: 390,135,060\n",
            "Non-trainable params: 0\n",
            "_________________________________________________________________\n",
            "None\n"
          ]
        }
      ]
    },
    {
      "cell_type": "code",
      "source": [
        "train_vec.shape[0]//50"
      ],
      "metadata": {
        "id": "OIEP-TqVqAzd",
        "colab": {
          "base_uri": "https://localhost:8080/"
        },
        "outputId": "815ba6d0-2f71-4c77-8906-f4d14f74d6f3"
      },
      "execution_count": null,
      "outputs": [
        {
          "output_type": "execute_result",
          "data": {
            "text/plain": [
              "15897"
            ]
          },
          "metadata": {},
          "execution_count": 41
        }
      ]
    },
    {
      "cell_type": "code",
      "source": [
        "import logging \n",
        "logging.basicConfig(filename='trainning.log',level=logging.DEBUG,\n",
        "                    format='%(asctime)s:%(levelname)s:%(message)s')"
      ],
      "metadata": {
        "id": "k2qcJ4kJ7rnm"
      },
      "execution_count": null,
      "outputs": []
    },
    {
      "cell_type": "markdown",
      "source": [
        "### Training "
      ],
      "metadata": {
        "id": "auUqzHdAaXKT"
      }
    },
    {
      "cell_type": "code",
      "source": [
        "# trainning the model:\n",
        "from tensorflow.keras.callbacks import ModelCheckpoint\n",
        "\n",
        "# define checkpoints\n",
        "checkpoint = ModelCheckpoint('/content/drive/MyDrive/chatBot_momtazi/model2-{epoch:03d}--{val_accuracy:03f}.h5',\n",
        "                             verbose=1, monitor='val_loss',save_best_only=True,\n",
        "                             save_weights_only=True, mode='min')\n",
        "\n",
        "# complie the model\n",
        "model.compile(loss= 'categorical_crossentropy', optimizer='adam',metrics=['accuracy'])\n",
        "\n",
        "# train the model\n",
        "model.fit(train_generator,batch_size = batch_s,\n",
        "                    steps_per_epoch=(train_vec.shape[0]//batch_s),\n",
        "          epochs=10, validation_data= val_tuple, \n",
        "          callbacks= [checkpoint, plot_losses])\n",
        "# # Fit model using generator\n",
        "# model.fit_generator(train_generator, \n",
        "#                     steps_per_epoch=len(test_vec.shape[0]//batch_s), \n",
        "#                     validation_data=validation_generator,\n",
        "#                     nb_val_samples=len(validation_samples), nb_epoch=100)"
      ],
      "metadata": {
        "id": "3Q2skKwuhOur",
        "colab": {
          "base_uri": "https://localhost:8080/",
          "height": 320
        },
        "outputId": "a6918099-e282-47b9-85b0-4b8e0253fe58"
      },
      "execution_count": null,
      "outputs": [
        {
          "output_type": "display_data",
          "data": {
            "image/png": "[encoded data removed]",
            "text/plain": [
              "<Figure size 432x288 with 1 Axes>"
            ]
          },
          "metadata": {
            "needs_background": "light"
          }
        },
        {
          "output_type": "stream",
          "name": "stdout",
          "text": [
            "\b\b\b\b\b\b\b\b\b\b\b\b\b\b\b\b\b\b\b\b\b\b\b\b\b\b\b\b\b\b\b\b\b\b\b\b\b\b\b\b\b\b\b\b\b\b\b\b\b\b\b\b\b\b\b\b\b\b\b\b\b\b\b\b\b\b\b\b\b\b\b\b\b\b\b\b\b\b\b\b\b\b\b\b\r794/794 [==============================] - 670s 844ms/step - loss: 4.6088 - accuracy: 0.1791 - val_loss: 8.1200 - val_accuracy: 0.0455\n",
            "Epoch 7/10\n",
            "738/794 [==========================>...] - ETA: 47s - loss: 4.0883 - accuracy: 0.2314"
          ]
        }
      ]
    },
    {
      "cell_type": "markdown",
      "source": [
        "**  **Note: Above training process left incompleted due to google colab run time limitation**  **"
      ],
      "metadata": {
        "id": "qROTdWFFRxyr"
      }
    },
    {
      "cell_type": "markdown",
      "source": [
        "### Flush GPU\n",
        "Occasionally we need to manually free up GPU!"
      ],
      "metadata": {
        "id": "iELquVZ0uXO4"
      }
    },
    {
      "cell_type": "code",
      "source": [
        "# # flush GPU\n",
        "# # https://stackoverflow.com/questions/39758094/clearing-tensorflow-gpu-memory-after-model-execution\n",
        "# !pip install numba \n",
        "# from numba import cuda \n",
        "# device = cuda.get_current_device()\n",
        "# device.reset()"
      ],
      "metadata": {
        "id": "VJnkJvHoHMsT"
      },
      "execution_count": null,
      "outputs": []
    },
    {
      "cell_type": "markdown",
      "source": [
        "## Making Predection"
      ],
      "metadata": {
        "id": "WFxEHQFMabAi"
      }
    },
    {
      "cell_type": "code",
      "source": [
        "# Loading the model\n",
        "best_model_path = '/content/drive/MyDrive/chatBot_momtazi/model2-002--0.072106.h5'\n",
        "model.load_weights(best_model_path)"
      ],
      "metadata": {
        "id": "Z9pAtZd-afuU"
      },
      "execution_count": 51,
      "outputs": []
    },
    {
      "cell_type": "markdown",
      "source": [
        "## Predicting one gaps"
      ],
      "metadata": {
        "id": "vDlV1Xc7wHmf"
      }
    },
    {
      "cell_type": "markdown",
      "source": [
        "This part does not have any special logic.\n",
        " \n",
        "It is just plug and play!"
      ],
      "metadata": {
        "id": "4ztItMtF3xpi"
      }
    },
    {
      "cell_type": "code",
      "source": [
        "# making prediction\n",
        "one_blank_sent_tokenized =  tokenizer.texts_to_sequences(one_blank_sent)\n",
        "two_blank_sent_tokenized = tokenizer.texts_to_sequences(two_blank_sent)\n",
        "one_blank_sent_tokenized = np.array([sent[-2:] for sent in one_blank_sent_tokenized])\n",
        "one_blank_sent_tokenized"
      ],
      "metadata": {
        "id": "7-iqGOrwnJuc",
        "colab": {
          "base_uri": "https://localhost:8080/"
        },
        "outputId": "df4ac074-225c-456b-c58c-15a3f79f92db"
      },
      "execution_count": 53,
      "outputs": [
        {
          "output_type": "execute_result",
          "data": {
            "text/plain": [
              "array([[405,   1],\n",
              "       [ 42, 219],\n",
              "       [109,   2],\n",
              "       [ 34,  10]])"
            ]
          },
          "metadata": {},
          "execution_count": 53
        }
      ]
    },
    {
      "cell_type": "code",
      "source": [
        "one_blank_pridicted = model.predict(one_blank_sent_tokenized)\n",
        "one_blank_pridicted =np.argmax(one_blank_pridicted,axis=1)"
      ],
      "metadata": {
        "id": "YNmdU5xeNJlD"
      },
      "execution_count": 54,
      "outputs": []
    },
    {
      "cell_type": "code",
      "source": [
        "one_blank_pridicted"
      ],
      "metadata": {
        "id": "NkO_7eEdO-iZ",
        "colab": {
          "base_uri": "https://localhost:8080/"
        },
        "outputId": "f3325310-2265-41bb-c49b-bc839760fbee"
      },
      "execution_count": 55,
      "outputs": [
        {
          "output_type": "execute_result",
          "data": {
            "text/plain": [
              "array([ 5,  1, 10,  7])"
            ]
          },
          "metadata": {},
          "execution_count": 55
        }
      ]
    },
    {
      "cell_type": "code",
      "source": [
        "tokensIDs_to_words(one_blank_pridicted,tokenizer.word_index)"
      ],
      "metadata": {
        "id": "X7oFTKE2QIlG",
        "colab": {
          "base_uri": "https://localhost:8080/"
        },
        "outputId": "e17ac15e-01d5-4ddd-e5aa-160fc5f609d2"
      },
      "execution_count": 56,
      "outputs": [
        {
          "output_type": "execute_result",
          "data": {
            "text/plain": [
              "['در', 'و', 'آن', 'را']"
            ]
          },
          "metadata": {},
          "execution_count": 56
        }
      ]
    },
    {
      "cell_type": "code",
      "source": [
        ""
      ],
      "metadata": {
        "id": "-19g5dHkUaoC"
      },
      "execution_count": null,
      "outputs": []
    },
    {
      "cell_type": "markdown",
      "source": [
        "## Predicting two gaps"
      ],
      "metadata": {
        "id": "eF2oUTOcwOQm"
      }
    },
    {
      "cell_type": "code",
      "source": [
        "two_blank_sent_tokenized"
      ],
      "metadata": {
        "id": "9OQiTHCcUkeP",
        "colab": {
          "base_uri": "https://localhost:8080/"
        },
        "outputId": "6cf1d0b4-dd57-4110-d65c-98f994427aa9"
      },
      "execution_count": 57,
      "outputs": [
        {
          "output_type": "execute_result",
          "data": {
            "text/plain": [
              "[[12, 258, 382, 18, 49, 26, 35], [197, 5, 112, 1, 37, 133]]"
            ]
          },
          "metadata": {},
          "execution_count": 57
        }
      ]
    },
    {
      "cell_type": "code",
      "source": [
        "two_blank_sent_tokenized = np.array([sent[-2:] for sent in two_blank_sent_tokenized])\n",
        "two_blank_sent_tokenized"
      ],
      "metadata": {
        "id": "jz8WWDagV_H2",
        "colab": {
          "base_uri": "https://localhost:8080/"
        },
        "outputId": "b9ef668a-e4c2-4716-a9c8-c84d7dec0702"
      },
      "execution_count": 58,
      "outputs": [
        {
          "output_type": "execute_result",
          "data": {
            "text/plain": [
              "array([[ 26,  35],\n",
              "       [ 37, 133]])"
            ]
          },
          "metadata": {},
          "execution_count": 58
        }
      ]
    },
    {
      "cell_type": "code",
      "source": [
        "two_blank_pridicted = model.predict(two_blank_sent_tokenized)\n",
        "two_blank_pridicted =np.argmax(two_blank_pridicted,axis=1)\n",
        "two_blank_pridicted"
      ],
      "metadata": {
        "colab": {
          "base_uri": "https://localhost:8080/"
        },
        "id": "fqY8psSY4BV6",
        "outputId": "5c31a823-103d-47b1-8940-381b637670b2"
      },
      "execution_count": 59,
      "outputs": [
        {
          "output_type": "execute_result",
          "data": {
            "text/plain": [
              "array([7, 1])"
            ]
          },
          "metadata": {},
          "execution_count": 59
        }
      ]
    },
    {
      "cell_type": "code",
      "source": [
        "tokensIDs_to_words(two_blank_pridicted,tokenizer.word_index)"
      ],
      "metadata": {
        "colab": {
          "base_uri": "https://localhost:8080/"
        },
        "id": "2Czt48fQ4duv",
        "outputId": "0893a005-64f8-4346-d113-2c5b2553021e"
      },
      "execution_count": 60,
      "outputs": [
        {
          "output_type": "execute_result",
          "data": {
            "text/plain": [
              "['را', 'و']"
            ]
          },
          "metadata": {},
          "execution_count": 60
        }
      ]
    },
    {
      "cell_type": "code",
      "source": [
        ""
      ],
      "metadata": {
        "id": "zY8Vm0Ba5J3L"
      },
      "execution_count": null,
      "outputs": []
    },
    {
      "cell_type": "code",
      "source": [
        "second_gap = np.array([[35,7], [133,1]])\n",
        "second_gap"
      ],
      "metadata": {
        "colab": {
          "base_uri": "https://localhost:8080/"
        },
        "id": "l__VB2A64XPO",
        "outputId": "21af4640-d0f0-43e8-df62-fffe14d426d7"
      },
      "execution_count": 65,
      "outputs": [
        {
          "output_type": "execute_result",
          "data": {
            "text/plain": [
              "array([[ 35,   7],\n",
              "       [133,   1]])"
            ]
          },
          "metadata": {},
          "execution_count": 65
        }
      ]
    },
    {
      "cell_type": "code",
      "source": [
        "second_gap_pridicted = model.predict(second_gap)\n",
        "second_gap_pridicted =np.argmax(second_gap_pridicted,axis=1)\n",
        "second_gap_pridicted"
      ],
      "metadata": {
        "colab": {
          "base_uri": "https://localhost:8080/"
        },
        "id": "x8JP8TUx40el",
        "outputId": "7fd2c882-7da0-400b-92ef-c2e7a700d7b2"
      },
      "execution_count": 66,
      "outputs": [
        {
          "output_type": "execute_result",
          "data": {
            "text/plain": [
              "array([3, 1])"
            ]
          },
          "metadata": {},
          "execution_count": 66
        }
      ]
    },
    {
      "cell_type": "code",
      "source": [
        "tokensIDs_to_words(second_gap_pridicted,tokenizer.word_index)"
      ],
      "metadata": {
        "colab": {
          "base_uri": "https://localhost:8080/"
        },
        "id": "0lh64oL241eG",
        "outputId": "ced4130a-9c26-4074-ca20-84624afecb1b"
      },
      "execution_count": 67,
      "outputs": [
        {
          "output_type": "execute_result",
          "data": {
            "text/plain": [
              "['به', 'و']"
            ]
          },
          "metadata": {},
          "execution_count": 67
        }
      ]
    },
    {
      "cell_type": "markdown",
      "source": [
        "# Further Developments notes:\n",
        "1. tokensIDs_to_words can be optimized by bi-directional dictionary\n",
        "2. Write a general \"sentence occurence probability calculator\" function which receive smoothing name as an arg\n",
        "3. If the sentence is too long, we might encounter \"over/under flow\" or \"cancelation error\" in \"occurence_probablity\" function. (use log function to prevent this)\n",
        "4. I have used gived TEST SET for \"development\" (aka \"evaluation\") of model. Better to split train to \"train\" and \"eval\" and leave Test Set a side for final testing. Anyways, It was not the concern of this notebook. \n",
        "5. When I used the already commented generator for validation set, My model didn't get out of validation loss calculation. I Guess it was due to using infinite \"while\" loop. It seems that \"steps_per_iteration\" helps in not calling train set generator infinitly, but since we don't have such a variable for validaiton generation, our model calls validaiton generator utill it exaust, whihc in our case validation generator does not exaust (finish) at all. \n",
        "6. How to log training process and know exatcly what the hell is happening ? \n"
      ],
      "metadata": {
        "id": "mOwfFVL2WFUQ"
      }
    },
    {
      "cell_type": "markdown",
      "source": [
        "# Manage Resources"
      ],
      "metadata": {
        "id": "bmoJoEBtiga1"
      }
    },
    {
      "cell_type": "code",
      "source": [
        "whos"
      ],
      "metadata": {
        "colab": {
          "base_uri": "https://localhost:8080/"
        },
        "id": "-LQWth_s2bjK",
        "outputId": "89bd9e73-9af5-4d87-9955-cc4a9c27faaf"
      },
      "execution_count": 68,
      "outputs": [
        {
          "output_type": "stream",
          "name": "stdout",
          "text": [
            "Variable                         Type          Data/Info\n",
            "--------------------------------------------------------\n",
            "Dense                            type          <class 'keras.layers.core.dense.Dense'>\n",
            "Embedding                        type          <class 'keras.layers.embeddings.Embedding'>\n",
            "Flatten                          type          <class 'keras.layers.core.flatten.Flatten'>\n",
            "PlotLosses                       type          <class '__main__.PlotLosses'>\n",
            "Sequential                       type          <class 'keras.engine.sequential.Sequential'>\n",
            "Tokenizer                        type          <class 'keras_preprocessing.text.Tokenizer'>\n",
            "accum_3_gram_p_train             dict          n=56353\n",
            "accum_3_gram_pr_test             dict          n=435\n",
            "accum_3_gram_pr_train            dict          n=27832\n",
            "accum_ngram                      function      <function accum_ngram at 0x7f7c0f809200>\n",
            "batch_s                          int           1000\n",
            "best_model_path                  str           /content/drive/MyDrive/ch<...>i/model2-002--0.072106.h5\n",
            "cls                              function      <function clear_output at 0x7f7c2ed0fc20>\n",
            "count_finder                     function      <function count_finder at 0x7f7c0f80c9e0>\n",
            "devices                          list          n=2\n",
            "dfs                              function      <function dfs at 0x7f7c0f7e60e0>\n",
            "drive                            module        <module 'google.colab.dri<...>s/google/colab/drive.py'>\n",
            "find_freq                        function      <function find_freq at 0x7f7c0f7f34d0>\n",
            "freq_dict                        Counter       Counter({'و': 50912, 'از'<...>1, 'کاچی': 1, 'زشور': 1})\n",
            "generator                        function      <function generator at 0x7f7c0f7e7b90>\n",
            "gpus                             list          n=1\n",
            "is_there_unk                     function      <function is_there_unk at 0x7f7c0f81a290>\n",
            "keras                            module        <module 'keras' from '/us<...>kages/keras/__init__.py'>\n",
            "last_key                         str           نابسود\n",
            "load_data                        function      <function load_data at 0x7f7c0f7e7d40>\n",
            "model                            Sequential    <keras.engine.sequential.<...>object at 0x7f7b679bcdd0>\n",
            "np                               module        <module 'numpy' from '/us<...>kages/numpy/__init__.py'>\n",
            "occurance_drichlet_probability   function      <function occurance_drich<...>bility at 0x7f7c0f7e7f80>\n",
            "one_blank_pridicted              ndarray       4: 4 elems, type `int64`, 32 bytes\n",
            "one_blank_sent                   list          n=4\n",
            "one_blank_sent_tokenized         ndarray       4x2: 8 elems, type `int64`, 64 bytes\n",
            "p_train_tri_grams_df             DataFrame                     terms  co<...>[824895 rows x 4 columns]\n",
            "path                             str           /content/drive/MyDrive/chatBot_momtazi\n",
            "pd                               module        <module 'pandas' from '/u<...>ages/pandas/__init__.py'>\n",
            "plot_losses                      PlotLosses    <__main__.PlotLosses object at 0x7f7b679bc410>\n",
            "plt                              module        <module 'matplotlib.pyplo<...>es/matplotlib/pyplot.py'>\n",
            "pr_test_senteces                 list          n=527\n",
            "pr_test_tri_grams_df             DataFrame                   terms  coun<...>n\\n[527 rows x 4 columns]\n",
            "pr_train_sentences               list          n=794876\n",
            "pr_train_tri_grams_df            DataFrame                        terms <...>[794876 rows x 4 columns]\n",
            "preprocessing                    function      <function preprocessing at 0x7f7c0f7e7560>\n",
            "processed_removed_test           list          n=108\n",
            "processed_removed_train          list          n=187968\n",
            "processed_test                   list          n=108\n",
            "processed_train                  list          n=188340\n",
            "remove_rare                      function      <function remove_rare at 0x7f7c0f81a200>\n",
            "second_gap                       ndarray       2x2: 4 elems, type `int64`, 32 bytes\n",
            "second_gap_pridicted             ndarray       2: 2 elems, type `int64`, 16 bytes\n",
            "seq_length                       int           3\n",
            "sess                             Session       <tensorflow.python.client<...>object at 0x7f7b68b167d0>\n",
            "test                             list          n=109\n",
            "test_df                          DataFrame                              <...>n\\n[109 rows x 3 columns]\n",
            "test_tokenized_sentc             list          n=527\n",
            "test_vec                         ndarray       527x3: 1581 elems, type `int64`, 12648 bytes\n",
            "tf                               module        <module 'tensorflow' from<...>/tensorflow/__init__.py'>\n",
            "to_categorical                   function      <function to_categorical at 0x7f7b6804b7a0>\n",
            "tokenizer                        Tokenizer     <keras_preprocessing.text<...>object at 0x7f7b679bcb90>\n",
            "tokensIDs_to_words               function      <function tokensIDs_to_words at 0x7f7c0f7ae320>\n",
            "train                            list          n=188895\n",
            "train_df                         DataFrame                              <...>[188895 rows x 3 columns]\n",
            "train_generator                  generator     <generator object generator at 0x7f7b679b6950>\n",
            "train_tokenized_sentc            list          n=794876\n",
            "train_vec                        ndarray       794876x3: 2384628 elems, type `int64`, 19077024 bytes (18.193267822265625 Mb)\n",
            "two_blank_pridicted              ndarray       2: 2 elems, type `int64`, 16 bytes\n",
            "two_blank_sent                   list          n=2\n",
            "two_blank_sent_tokenized         ndarray       2x2: 4 elems, type `int64`, 32 bytes\n",
            "val_tuple                        tuple         n=2\n",
            "visual                           function      <function visual at 0x7f7c0f7ae710>\n",
            "vocab_size                       int           27832\n",
            "window_size                      int           2\n",
            "x_test                           ndarray       527x2: 1054 elems, type `int64`, 8432 bytes\n",
            "x_train                          ndarray       794876x2: 1589752 elems, type `int64`, 12718016 bytes (12.12884521484375 Mb)\n",
            "y_test                           ndarray       527x27832: 14667464 elems, type `float32`, 58669856 bytes (55.951934814453125 Mb)\n",
            "y_train                          ndarray       794876: 794876 elems, type `int64`, 6359008 bytes (6.064422607421875 Mb)\n"
          ]
        }
      ]
    },
    {
      "cell_type": "markdown",
      "source": [
        "# **Thanks for your time and attention. Please let me know my codes Weeknesses and ways to cover them**"
      ],
      "metadata": {
        "id": "_hibtL345az8"
      }
    },
    {
      "cell_type": "code",
      "source": [
        ""
      ],
      "metadata": {
        "id": "OWaSl46M2cUd"
      },
      "execution_count": null,
      "outputs": []
    }
  ]
}