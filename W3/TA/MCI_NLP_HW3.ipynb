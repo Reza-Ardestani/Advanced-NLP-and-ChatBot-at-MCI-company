{
 "cells": [
  {
   "cell_type": "code",
   "execution_count": null,
   "metadata": {
    "colab": {
     "base_uri": "https://localhost:8080/"
    },
    "id": "F8d2vqgbtdpk",
    "outputId": "2bd003d3-818b-456b-d792-aeab40bef7fa",
    "scrolled": true
   },
   "outputs": [
    {
     "name": "stdout",
     "output_type": "stream",
     "text": [
      "Requirement already satisfied: gensim in /usr/local/lib/python3.7/dist-packages (4.0.1)\n",
      "Requirement already satisfied: numpy>=1.11.3 in /usr/local/lib/python3.7/dist-packages (from gensim) (1.19.5)\n",
      "Requirement already satisfied: smart-open>=1.8.1 in /usr/local/lib/python3.7/dist-packages (from gensim) (5.1.0)\n",
      "Requirement already satisfied: scipy>=0.18.1 in /usr/local/lib/python3.7/dist-packages (from gensim) (1.4.1)\n",
      "Requirement already satisfied: arabic_reshaper in /usr/local/lib/python3.7/dist-packages (2.1.3)\n",
      "Requirement already satisfied: setuptools in /usr/local/lib/python3.7/dist-packages (from arabic_reshaper) (57.4.0)\n",
      "Requirement already satisfied: future in /usr/local/lib/python3.7/dist-packages (from arabic_reshaper) (0.16.0)\n",
      "Requirement already satisfied: python-bidi in /usr/local/lib/python3.7/dist-packages (0.4.2)\n",
      "Requirement already satisfied: six in /usr/local/lib/python3.7/dist-packages (from python-bidi) (1.15.0)\n"
     ]
    }
   ],
   "source": [
    "# install and upgrade required library\n",
    "\n",
    "!pip install --upgrade gensim\n",
    "!pip install arabic_reshaper\n",
    "!pip install python-bidi"
   ]
  },
  {
   "cell_type": "markdown",
   "metadata": {
    "id": "vTVAQjsFrYeV"
   },
   "source": [
    "**Preprocess**\n",
    "\n",
    "Downlaod data and clean data "
   ]
  },
  {
   "cell_type": "code",
   "execution_count": null,
   "metadata": {
    "colab": {
     "base_uri": "https://localhost:8080/"
    },
    "id": "JND82Z887WV7",
    "outputId": "3f67635d-8a49-486e-b2d6-e8e9f6efd32f"
   },
   "outputs": [
    {
     "name": "stdout",
     "output_type": "stream",
     "text": [
      "Downloading...\n",
      "From: https://drive.google.com/uc?id=1rovazK48q7pHcEM271aX70Dr594NYQ77\n",
      "To: /content/train.csv\n",
      "20.1MB [00:00, 123MB/s]\n",
      "Downloading...\n",
      "From: https://drive.google.com/uc?id=1ZCHuj6JtyOkb5ismn3qF3Rp2DRGJ1tRk\n",
      "To: /content/test.csv\n",
      "100% 2.03M/2.03M [00:00<00:00, 62.4MB/s]\n"
     ]
    }
   ],
   "source": [
    "# download dataset\n",
    "!gdown --id 1rovazK48q7pHcEM271aX70Dr594NYQ77\n",
    "!gdown --id 1ZCHuj6JtyOkb5ismn3qF3Rp2DRGJ1tRk"
   ]
  },
  {
   "cell_type": "code",
   "execution_count": null,
   "metadata": {
    "id": "Tt6cSLkuq2YA"
   },
   "outputs": [],
   "source": [
    "import pandas as pd\n",
    "\n",
    "# read dataset\n",
    "train = pd.read_csv(\"train.csv\")\n",
    "test = pd.read_csv(\"test.csv\")"
   ]
  },
  {
   "cell_type": "code",
   "execution_count": null,
   "metadata": {
    "id": "xf2omGgMvKdn"
   },
   "outputs": [],
   "source": [
    "# this function removes the punctuation marks and non-alphabetic words from given document \n",
    "# and returns an array of document words\n",
    "def clean_text(doc):\n",
    "\n",
    "  tokens = doc.split()\n",
    "  translation_table = str.maketrans('', '', \"><.،؟؛:{}\\|+ـ()*&^٪$#❊!/[]=-\")\n",
    "  tokens = [word.translate(translation_table) for word in tokens]\n",
    "  tokens = [word for word in tokens if word.isalpha()]\n",
    "\n",
    "  return tokens"
   ]
  },
  {
   "cell_type": "markdown",
   "metadata": {
    "id": "wnYqJ3nis_lT"
   },
   "source": [
    "# **Q1**"
   ]
  },
  {
   "cell_type": "code",
   "execution_count": null,
   "metadata": {
    "id": "OSHijQLrtGl-"
   },
   "outputs": [],
   "source": [
    "# prepare input for gensim word2vec model\n",
    "\n",
    "train_words = []\n",
    "for index, row in train.iterrows():\n",
    "  train_words.append([row.id, clean_text(row.article)])"
   ]
  },
  {
   "cell_type": "code",
   "execution_count": null,
   "metadata": {
    "colab": {
     "base_uri": "https://localhost:8080/"
    },
    "id": "AIbfsn4FtwV1",
    "outputId": "9c76d680-a8c0-4daa-d9c4-6d9089573274"
   },
   "outputs": [
    {
     "name": "stderr",
     "output_type": "stream",
     "text": [
      "/usr/local/lib/python3.7/dist-packages/gensim/similarities/__init__.py:15: UserWarning: The gensim.similarities.levenshtein submodule is disabled, because the optional Levenshtein package <https://pypi.org/project/python-Levenshtein/> is unavailable. Install Levenhstein (e.g. `pip install python-Levenshtein`) to suppress this warning.\n",
      "  warnings.warn(msg)\n",
      "/usr/local/lib/python3.7/dist-packages/ipykernel_launcher.py:10: VisibleDeprecationWarning: Creating an ndarray from ragged nested sequences (which is a list-or-tuple of lists-or-tuples-or ndarrays with different lengths or shapes) is deprecated. If you meant to do this, you must specify 'dtype=object' when creating the ndarray\n",
      "  # Remove the CWD from sys.path while we load stuff.\n"
     ]
    }
   ],
   "source": [
    "from gensim.models import Word2Vec\n",
    "import numpy as np\n",
    "\n",
    "# sg: Training algorithm: 1 for skip-gram; otherwise CBOW.\n",
    "# min_count: Ignores all words with total frequency lower than this.\n",
    "# window: Maximum distance between the current and predicted word within a sentence.\n",
    "# size: Dimensionality of the word vectors.\n",
    "\n",
    "# train word2ec model\n",
    "w2v_model = Word2Vec(np.array(train_words)[:, 1], min_count=5, vector_size=300, window=10, sg=1)"
   ]
  },
  {
   "cell_type": "code",
   "execution_count": null,
   "metadata": {
    "id": "clgJEOLyyYZf"
   },
   "outputs": [],
   "source": [
    "from gensim.models.doc2vec import TaggedDocument\n",
    "\n",
    "# prepare input for gensim doc2vec model\n",
    "train_docs = [TaggedDocument(doc.article.split(\" \"), [doc.id]) for index, doc in train.iterrows()]"
   ]
  },
  {
   "cell_type": "code",
   "execution_count": null,
   "metadata": {
    "id": "vq9KcFJQuaIz"
   },
   "outputs": [],
   "source": [
    "from gensim.models import Doc2Vec\n",
    "\n",
    "# train doc2vec model\n",
    "d2v_model = Doc2Vec(train_docs, min_count=5, vector_size=300, window=10)"
   ]
  },
  {
   "cell_type": "markdown",
   "metadata": {
    "id": "O5kSveshzZ5d"
   },
   "source": [
    "# **Q2**"
   ]
  },
  {
   "cell_type": "code",
   "execution_count": null,
   "metadata": {
    "id": "ONywz5EG7rsP"
   },
   "outputs": [],
   "source": [
    "# this function creates two term_doc, and doc_term dictionaries\n",
    "def create_tf_idf_dicts(docs, DIDs):\n",
    "  \n",
    "  # [key = T (term)] --> dict[key = D (doc)] --> number of times the term T appeared in doc D\n",
    "  term_doc = {}\n",
    "\n",
    "  # [key = D (doc)] --> dict[key = T (term)] --> number of times the term T appeared in doc D\n",
    "  doc_term = {}\n",
    "\n",
    "  for doc, DID in zip(docs, DIDs):\n",
    "\n",
    "    terms = clean_text(doc)\n",
    "\n",
    "    doc_term[DID] = {}\n",
    "\n",
    "    for term in terms:\n",
    "   \n",
    "  # update doc_term[DID] dictionary\n",
    "\n",
    "      # current term has appeared in document 'DID' in orevious steps:\n",
    "      if term in doc_term[DID]:\n",
    "        doc_term[DID][term] += 1\n",
    "      \n",
    "      # this is the first occurrance of the current term in document 'DID':\n",
    "      else: \n",
    "        doc_term[DID][term] = 1\n",
    "\n",
    "  # update term_doc[term] dictionary\n",
    "\n",
    "      if not term in term_doc:\n",
    "        term_doc[term] = {}\n",
    "\n",
    "      # current term has appeared in document DID in previous steps:\n",
    "      if DID in term_doc[term]:\n",
    "          term_doc[term][DID] +=1\n",
    "      \n",
    "      # this is the first time the current term appears in document DID:\n",
    "      else: \n",
    "        term_doc[term][DID] = 1     \n",
    "\n",
    "  return term_doc, doc_term"
   ]
  },
  {
   "cell_type": "code",
   "execution_count": null,
   "metadata": {
    "id": "4jqQFLTz7sky"
   },
   "outputs": [],
   "source": [
    "term_doc_train, doc_term_train = create_tf_idf_dicts(train.article, train.id)\n",
    "term_doc_test, doc_term_test = create_tf_idf_dicts(test.article, test.id)"
   ]
  },
  {
   "cell_type": "code",
   "execution_count": null,
   "metadata": {
    "id": "_HJZ4YE50mcQ"
   },
   "outputs": [],
   "source": [
    "import math\n",
    "\n",
    "# this function calculates the IDF weight of input term\n",
    "def get_idf(term, doc_term, N):\n",
    "  \n",
    "  df = 0\n",
    "  \n",
    "  for doc in doc_term:\n",
    "    if term in doc_term[doc]:\n",
    "      df += 1\n",
    "  \n",
    "  if df > 0:\n",
    "    idf = math.log((N / df), 10)\n",
    "  \n",
    "  return idf"
   ]
  },
  {
   "cell_type": "code",
   "execution_count": null,
   "metadata": {
    "id": "FWl2v8nIzZQL"
   },
   "outputs": [],
   "source": [
    "# this function calculates the TF-IDF weight of input term within the input document\n",
    "\n",
    "def get_tf_idf(term, doc, term_doc, doc_term, doc_num):\n",
    "  \n",
    "  count_t_d = 0\n",
    "  \n",
    "  if doc in term_doc[term]:\n",
    "    count_t_d = term_doc[term][doc]\n",
    "    tf = 1 + math.log(count_t_d, 10)\n",
    "  \n",
    "  idf = get_idf(term, doc_term, doc_num)\n",
    "\n",
    "  return tf * idf"
   ]
  },
  {
   "cell_type": "code",
   "execution_count": null,
   "metadata": {
    "id": "7hURnn9q5U7N"
   },
   "outputs": [],
   "source": [
    "# prepare test data to infer vectors from word2vec and doc2vec model\n",
    "\n",
    "test_words = []\n",
    "for index, row in test.iterrows():\n",
    "  test_words.append([row.id, clean_text(row.article)])"
   ]
  },
  {
   "cell_type": "code",
   "execution_count": null,
   "metadata": {
    "id": "KwvkPLBIEeFW"
   },
   "outputs": [],
   "source": [
    "# computing weighted average of w2v vectors for documents of dataset\n",
    "\n",
    "def get_weighted_w2v_vectors(doc_words, w2v_model, term_doc, doc_term, doc_num):\n",
    "\n",
    "  data_w2v_dic = {}\n",
    "\n",
    "  for doc in doc_words:\n",
    "    tf_idf_sum = 0\n",
    "    doc_vec_sum = 0\n",
    "\n",
    "    for word in doc[1]:\n",
    "      if word in w2v_model.wv.key_to_index:\n",
    "        doc_vec_sum += get_tf_idf(word, doc[0], term_doc, doc_term, doc_num) * w2v_model.wv[word]\n",
    "        tf_idf_sum += get_tf_idf(word, doc[0], term_doc, doc_term, doc_num)\n",
    "\n",
    "    data_w2v_dic[doc[0]] = doc_vec_sum / tf_idf_sum \n",
    "\n",
    "  return data_w2v_dic"
   ]
  },
  {
   "cell_type": "code",
   "execution_count": null,
   "metadata": {
    "id": "a9ySMf2NRR9R"
   },
   "outputs": [],
   "source": [
    "N_train = len(train)\n",
    "N_test = len(test)"
   ]
  },
  {
   "cell_type": "code",
   "execution_count": null,
   "metadata": {
    "id": "321KOk1QFIgF"
   },
   "outputs": [],
   "source": [
    "# get train data word2vec vectors (weighted-average with TF-IDF)\n",
    "train_w2v_dic = get_weighted_w2v_vectors(train_words, w2v_model, term_doc_train, doc_term_train, N_train)\n",
    "\n",
    "# get test data word2vec vectors (weighted-average with TF-IDF)\n",
    "test_w2v_dic = get_weighted_w2v_vectors(test_words, w2v_model, term_doc_test, doc_term_train, N_train)"
   ]
  },
  {
   "cell_type": "code",
   "execution_count": null,
   "metadata": {
    "id": "JeKo7u_9Hinl"
   },
   "outputs": [],
   "source": [
    "# get doc2vec vectors for document of dataset\n",
    "\n",
    "def get_d2v_vectors(doc_words, data_type, d2v_model):\n",
    "  data_d2v_dic = {}\n",
    "  for doc in doc_words:\n",
    "    if data_type == 'train':\n",
    "      data_d2v_dic[doc[0]] = d2v_model.dv[doc[0]]\n",
    "    else:\n",
    "      data_d2v_dic[doc[0]] = d2v_model.infer_vector(doc[1])\n",
    "  return data_d2v_dic"
   ]
  },
  {
   "cell_type": "code",
   "execution_count": null,
   "metadata": {
    "id": "zgf8Na80IZay"
   },
   "outputs": [],
   "source": [
    "# get train data doc2vec vectors\n",
    "train_d2v_dic = get_d2v_vectors(train_words, \"train\", d2v_model)\n",
    "\n",
    "# get test data doc2vec vectors\n",
    "test_d2v_dic = get_d2v_vectors(test_words, \"test\", d2v_model)"
   ]
  },
  {
   "cell_type": "markdown",
   "metadata": {
    "id": "BUghPsjJbnVH"
   },
   "source": [
    "# **Q3**"
   ]
  },
  {
   "cell_type": "code",
   "execution_count": null,
   "metadata": {
    "id": "B_46afIh-ypu"
   },
   "outputs": [],
   "source": [
    "# The ID of the documents in question.\n",
    "test_doc_ids = [\"Doc443\", \"Doc428\", \"Doc635\"]"
   ]
  },
  {
   "cell_type": "code",
   "execution_count": null,
   "metadata": {
    "id": "xI8Yjt9Lb36m"
   },
   "outputs": [],
   "source": [
    "from sklearn.metrics.pairwise import cosine_similarity\n",
    "from operator import itemgetter\n",
    "\n",
    "# find most similar train document for a specific test document\n",
    "\n",
    "def find_most_sim_doc(train, test_doc_id, train_emb_dic, test_emb_dic):\n",
    "  \n",
    "  sims = []\n",
    "\n",
    "  for index, row in train.iterrows():\n",
    "    sims.append([row.id, row.article, cosine_similarity([train_emb_dic[row.id]], [test_emb_dic[test_doc_id]])[0][0]])\n",
    "\n",
    "  sorted_sims = sorted(sims, key=itemgetter(2), reverse=True)\n",
    "\n",
    "  return sorted_sims[0]\n"
   ]
  },
  {
   "cell_type": "markdown",
   "metadata": {
    "id": "EcBK2BvVGn_F"
   },
   "source": [
    "# **Word2Vec(weighted-average with TF-IDF)**"
   ]
  },
  {
   "cell_type": "code",
   "execution_count": null,
   "metadata": {
    "colab": {
     "base_uri": "https://localhost:8080/"
    },
    "id": "RzA8z-2B-qsK",
    "outputId": "0ca12c54-4e1c-4fa6-df9b-f7f83039916f"
   },
   "outputs": [
    {
     "name": "stdout",
     "output_type": "stream",
     "text": [
      "Doc Id: Doc443\n",
      "Most similar doc: Doc595\n",
      "Cosine sim value: 0.99242\n",
      "\n",
      "Doc Id: Doc428\n",
      "Most similar doc: Doc326\n",
      "Cosine sim value: 0.97961813\n",
      "\n",
      "Doc Id: Doc635\n",
      "Most similar doc: Doc194\n",
      "Cosine sim value: 0.9907808\n",
      "\n"
     ]
    }
   ],
   "source": [
    "# get most similar document with word2vec (weighted-average with TF-IDF)\n",
    "\n",
    "for id in test_doc_ids:\n",
    "  print(\"Doc Id:\", id)\n",
    "  print(\"Most similar doc:\", find_most_sim_doc(train, id, train_w2v_dic, test_w2v_dic)[0])\n",
    "  print(\"Cosine sim value:\", find_most_sim_doc(train, id, train_w2v_dic, test_w2v_dic)[2])\n",
    "  print()"
   ]
  },
  {
   "cell_type": "markdown",
   "metadata": {
    "id": "gHMEEUOeGLaK"
   },
   "source": [
    "# **Doc2Vec**"
   ]
  },
  {
   "cell_type": "code",
   "execution_count": null,
   "metadata": {
    "colab": {
     "base_uri": "https://localhost:8080/"
    },
    "id": "lZN98T0j92lx",
    "outputId": "b61bba43-a6be-43b0-f940-f4cfbdba861a"
   },
   "outputs": [
    {
     "name": "stdout",
     "output_type": "stream",
     "text": [
      "Doc Id: Doc443\n",
      "Most similar doc: Doc378\n",
      "Cosine sim value: 0.6402279\n",
      "\n",
      "Doc Id: Doc428\n",
      "Most similar doc: Doc482\n",
      "Cosine sim value: 0.5284978\n",
      "\n",
      "Doc Id: Doc635\n",
      "Most similar doc: Doc551\n",
      "Cosine sim value: 0.63969874\n",
      "\n"
     ]
    }
   ],
   "source": [
    "# get most similar document with doc2vec representation\n",
    "\n",
    "for id in test_doc_ids:\n",
    "  print(\"Doc Id:\", id)\n",
    "  print(\"Most similar doc:\", find_most_sim_doc(train, id, train_d2v_dic, test_d2v_dic)[0])\n",
    "  print(\"Cosine sim value:\", find_most_sim_doc(train, id, train_d2v_dic, test_d2v_dic)[2])\n",
    "  print()"
   ]
  },
  {
   "cell_type": "markdown",
   "metadata": {
    "id": "LlOrdSGaYpNs"
   },
   "source": [
    "# **Question output in the asked format**"
   ]
  },
  {
   "cell_type": "code",
   "execution_count": null,
   "metadata": {
    "colab": {
     "base_uri": "https://localhost:8080/"
    },
    "id": "5bq-YzvLY7m2",
    "outputId": "fceceb18-1eec-4458-f83d-534fc4c82597"
   },
   "outputs": [
    {
     "name": "stdout",
     "output_type": "stream",
     "text": [
      "Doc443  :  (A, Doc595, 0.9924200177192688), (B, Doc378, 0.6402279138565063)\n",
      "\n",
      "Doc428  :  (A, Doc326, 0.9796181321144104), (B, Doc482, 0.5284978151321411)\n",
      "\n",
      "Doc635  :  (A, Doc194, 0.990780770778656), (B, Doc551, 0.6396987438201904)\n",
      "\n"
     ]
    }
   ],
   "source": [
    "for id in test_doc_ids:\n",
    "  print(id, \" : \", f\"(A, {find_most_sim_doc(train, id, train_w2v_dic, test_w2v_dic)[0]}, {find_most_sim_doc(train, id, train_w2v_dic, test_w2v_dic)[2]}),\",\n",
    "        f\"(B, {find_most_sim_doc(train, id, train_d2v_dic, test_d2v_dic)[0]}, {find_most_sim_doc(train, id, train_d2v_dic, test_d2v_dic)[2]})\")\n",
    "  print()"
   ]
  },
  {
   "cell_type": "markdown",
   "metadata": {
    "id": "_tYKq4ewkKQh"
   },
   "source": [
    "# **Q4**"
   ]
  },
  {
   "cell_type": "code",
   "execution_count": null,
   "metadata": {
    "id": "50r6xX2n_RWU"
   },
   "outputs": [],
   "source": [
    "selected_words = ['بهداشت', 'استقلال', 'رودخانه']"
   ]
  },
  {
   "cell_type": "code",
   "execution_count": null,
   "metadata": {
    "colab": {
     "base_uri": "https://localhost:8080/"
    },
    "id": "vEekGNva_Z7Y",
    "outputId": "6f9d6ca6-d37c-4de8-c3f0-b220d29883fd"
   },
   "outputs": [
    {
     "name": "stdout",
     "output_type": "stream",
     "text": [
      "بهداشت :\n",
      "[('بهداشتي', 0.721393883228302), ('بهورزان', 0.6823752522468567), ('باروري', 0.6751977205276489)]\n",
      "\n",
      "استقلال :\n",
      "[('پاس', 0.5748142004013062), ('مصاف', 0.5560726523399353), ('سپاسي', 0.5541200637817383)]\n",
      "\n",
      "رودخانه :\n",
      "[('رودهاي', 0.758644163608551), ('اترك', 0.7458264827728271), ('كارون', 0.7328163981437683)]\n",
      "\n"
     ]
    }
   ],
   "source": [
    "for word in selected_words:\n",
    "  print(word, \":\")\n",
    "  print(w2v_model.wv.most_similar(word, topn=3))\n",
    "  print()"
   ]
  },
  {
   "cell_type": "markdown",
   "metadata": {
    "id": "9IVO9BSIl7ub"
   },
   "source": [
    "# **Q5**"
   ]
  },
  {
   "cell_type": "code",
   "execution_count": null,
   "metadata": {
    "id": "QlXNVKrwmpxB"
   },
   "outputs": [],
   "source": [
    "import matplotlib.cm as cm\n",
    "import matplotlib.pyplot as plt\n",
    "from sklearn.manifold import TSNE\n",
    "import numpy as np\n",
    "import arabic_reshaper\n",
    "from bidi.algorithm import get_display"
   ]
  },
  {
   "cell_type": "code",
   "execution_count": null,
   "metadata": {
    "id": "vX2lz7NxmQ-v"
   },
   "outputs": [],
   "source": [
    "def get_cluster_embeddings(keys, w2v_model):\n",
    "  \n",
    "  embedding_clusters = []\n",
    "  word_clusters = []\n",
    "\n",
    "  # find closest words and add them to cluster\n",
    "  for word in keys:\n",
    "    embeddings = []\n",
    "    words = []\n",
    "    if not word in w2v_model.wv.key_to_index:\n",
    "      print('The word ', word, 'is not in the dictionary')\n",
    "      continue\n",
    "\n",
    "    for similar_word, _ in w2v_model.wv.most_similar(word, topn=10):\n",
    "      words.append(similar_word)\n",
    "      embeddings.append(w2v_model.wv[similar_word])\n",
    "    embedding_clusters.append(embeddings)\n",
    "    word_clusters.append(words)\n",
    "\n",
    "  # get embeddings for the words in clusers\n",
    "  embedding_clusters = np.array(embedding_clusters)\n",
    "  n, m, k = embedding_clusters.shape\n",
    "  tsne_model_en_2d = TSNE(perplexity=10, n_components=2, init='pca', n_iter=3500, random_state=32)\n",
    "  embeddings_en_2d = np.array(tsne_model_en_2d.fit_transform(embedding_clusters.reshape(n * m, k)))\n",
    "  embeddings_en_2d = embeddings_en_2d.reshape(n, m, 2)\n",
    "  return embeddings_en_2d, word_clusters"
   ]
  },
  {
   "cell_type": "code",
   "execution_count": null,
   "metadata": {
    "id": "gh9N_oU2mBY5"
   },
   "outputs": [],
   "source": [
    "def tsne_plot_similar_words(title, labels, embedding_clusters, word_clusters, alpha, filename=None):\n",
    "\n",
    "  plt.figure(figsize=(16, 9))\n",
    "  colors = cm.rainbow(np.linspace(0, 1, len(labels)))\n",
    "  converted_labels = [get_display(arabic_reshaper.reshape(label)) for label in labels]\n",
    "\n",
    "  for label, embeddings, words, color in zip(converted_labels, embedding_clusters, word_clusters, colors):\n",
    "    x = embeddings[:, 0]\n",
    "    y = embeddings[:, 1]\n",
    "\n",
    "    plt.scatter(x, y, color=color, alpha=alpha, label=label)\n",
    "\n",
    "    for i, word in enumerate(words):\n",
    "      plt.annotate(get_display(arabic_reshaper.reshape(word)),\n",
    "                   alpha=alpha,\n",
    "                   xy=(x[i], y[i]),\n",
    "                   xytext=(5, 2),\n",
    "                   textcoords='offset points',\n",
    "                   ha='right',\n",
    "                   va='bottom',\n",
    "                   size=10)\n",
    "      \n",
    "  plt.legend(loc=\"lower left\")\n",
    "  plt.title(title)\n",
    "  plt.grid(True)\n",
    "\n",
    "  if filename:\n",
    "    plt.savefig(filename, format='png', dpi=150, bbox_inches='tight')\n",
    "    \n",
    "  plt.show()"
   ]
  },
  {
   "cell_type": "code",
   "execution_count": null,
   "metadata": {
    "colab": {
     "base_uri": "https://localhost:8080/",
     "height": 553
    },
    "id": "IgVR2ZD0m1Fa",
    "outputId": "6051ecfb-8af0-4fe0-ae97-46680feda535"
   },
   "outputs": [
    {
     "data": {
      "image/png": "[encoded data removed]",
      "text/plain": [
       "<Figure size 1152x648 with 1 Axes>"
      ]
     },
     "metadata": {
      "needs_background": "light"
     },
     "output_type": "display_data"
    }
   ],
   "source": [
    "words = ['بهداشت', 'استقلال', 'رودخانه']\n",
    "embeddings_en_2d, word_clusters = get_cluster_embeddings(words, w2v_model)\n",
    "tsne_plot_similar_words('Similar words in Bijankhan corpus:', words, embeddings_en_2d, word_clusters, 0.7, \"sim_words.png\")"
   ]
  }
 ],
 "metadata": {
  "accelerator": "GPU",
  "colab": {
   "collapsed_sections": [],
   "name": "MCI-NLP-HW3.ipynb",
   "provenance": []
  },
  "kernelspec": {
   "display_name": "Python 3 (ipykernel)",
   "language": "python",
   "name": "python3"
  },
  "language_info": {
   "codemirror_mode": {
    "name": "ipython",
    "version": 3
   },
   "file_extension": ".py",
   "mimetype": "text/x-python",
   "name": "python",
   "nbconvert_exporter": "python",
   "pygments_lexer": "ipython3",
   "version": "3.9.5"
  }
 },
 "nbformat": 4,
 "nbformat_minor": 1
}
